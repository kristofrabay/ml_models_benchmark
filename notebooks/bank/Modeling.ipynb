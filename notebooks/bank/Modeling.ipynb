{
 "cells": [
  {
   "cell_type": "code",
   "execution_count": 2,
   "metadata": {},
   "outputs": [],
   "source": [
    "import pandas as pd\n",
    "import numpy as np\n",
    "import matplotlib.pyplot as plt\n",
    "import seaborn as sns\n",
    "\n",
    "from sklearn.model_selection import train_test_split, GridSearchCV\n",
    "from sklearn.metrics import accuracy_score, f1_score, log_loss, roc_auc_score\n",
    "from sklearn.preprocessing import StandardScaler\n",
    "from sklearn.utils import resample\n",
    "\n",
    "from sklearn.dummy import DummyClassifier\n",
    "from sklearn.linear_model import LogisticRegression\n",
    "from sklearn.neighbors import KNeighborsClassifier, RadiusNeighborsClassifier\n",
    "from sklearn.svm import SVC\n",
    "from sklearn.tree import DecisionTreeClassifier, plot_tree\n",
    "from sklearn.ensemble import AdaBoostClassifier, GradientBoostingClassifier, RandomForestClassifier\n",
    "\n",
    "import xgboost as xgb\n",
    "import lightgbm as lgb\n",
    "from catboost import CatBoostClassifier\n",
    "\n",
    "import pickle\n",
    "import time\n",
    "import warnings\n",
    "warnings.filterwarnings('ignore')"
   ]
  },
  {
   "cell_type": "code",
   "execution_count": 4,
   "metadata": {},
   "outputs": [],
   "source": [
    "def evaluate_model(model_name, model, X, y):\n",
    "    \n",
    "    predictions_probas = model.predict_proba(X)[:,1]\n",
    "    predictions = model.predict(X)\n",
    "\n",
    "    Accuracy = accuracy_score(y, predictions)\n",
    "    F1 = f1_score(y, predictions)\n",
    "    AUC = roc_auc_score(y, predictions_probas)\n",
    "    LogLoss = log_loss(y, predictions_probas)\n",
    "\n",
    "    print('Accuracy for', model_name, ': %1.3f' % Accuracy)\n",
    "    print('F score for', model_name, ': %1.3f' % F1)\n",
    "    print('AUC for', model_name, ': %1.3f' % AUC)\n",
    "    print('LogLoss for', model_name, ': %1.3f' % LogLoss)\n",
    "\n",
    "    metrics_table = pd.DataFrame({'Accuracy' : [round(Accuracy, 3)],\n",
    "                                  'F score' : [round(F1, 3)], \n",
    "                                  'AUC' : [round(AUC, 3)], \n",
    "                                  'LogLoss' : [round(LogLoss, 3)]}, index = [model_name])\n",
    "    \n",
    "    return metrics_table"
   ]
  },
  {
   "cell_type": "markdown",
   "metadata": {},
   "source": [
    "### Read in the data"
   ]
  },
  {
   "cell_type": "code",
   "execution_count": 5,
   "metadata": {},
   "outputs": [
    {
     "data": {
      "text/html": [
       "<div>\n",
       "<style scoped>\n",
       "    .dataframe tbody tr th:only-of-type {\n",
       "        vertical-align: middle;\n",
       "    }\n",
       "\n",
       "    .dataframe tbody tr th {\n",
       "        vertical-align: top;\n",
       "    }\n",
       "\n",
       "    .dataframe thead th {\n",
       "        text-align: right;\n",
       "    }\n",
       "</style>\n",
       "<table border=\"1\" class=\"dataframe\">\n",
       "  <thead>\n",
       "    <tr style=\"text-align: right;\">\n",
       "      <th></th>\n",
       "      <th>age</th>\n",
       "      <th>job</th>\n",
       "      <th>marital_status</th>\n",
       "      <th>education</th>\n",
       "      <th>housing_loan</th>\n",
       "      <th>personal_loan</th>\n",
       "      <th>subscribed</th>\n",
       "    </tr>\n",
       "  </thead>\n",
       "  <tbody>\n",
       "    <tr>\n",
       "      <th>0</th>\n",
       "      <td>56</td>\n",
       "      <td>housemaid</td>\n",
       "      <td>married</td>\n",
       "      <td>primary</td>\n",
       "      <td>0</td>\n",
       "      <td>0</td>\n",
       "      <td>0</td>\n",
       "    </tr>\n",
       "    <tr>\n",
       "      <th>1</th>\n",
       "      <td>37</td>\n",
       "      <td>services</td>\n",
       "      <td>married</td>\n",
       "      <td>secondary</td>\n",
       "      <td>1</td>\n",
       "      <td>0</td>\n",
       "      <td>0</td>\n",
       "    </tr>\n",
       "    <tr>\n",
       "      <th>2</th>\n",
       "      <td>40</td>\n",
       "      <td>admin.</td>\n",
       "      <td>married</td>\n",
       "      <td>primary</td>\n",
       "      <td>0</td>\n",
       "      <td>0</td>\n",
       "      <td>0</td>\n",
       "    </tr>\n",
       "    <tr>\n",
       "      <th>3</th>\n",
       "      <td>56</td>\n",
       "      <td>services</td>\n",
       "      <td>married</td>\n",
       "      <td>secondary</td>\n",
       "      <td>0</td>\n",
       "      <td>1</td>\n",
       "      <td>0</td>\n",
       "    </tr>\n",
       "    <tr>\n",
       "      <th>4</th>\n",
       "      <td>59</td>\n",
       "      <td>admin.</td>\n",
       "      <td>married</td>\n",
       "      <td>professional</td>\n",
       "      <td>0</td>\n",
       "      <td>0</td>\n",
       "      <td>0</td>\n",
       "    </tr>\n",
       "  </tbody>\n",
       "</table>\n",
       "</div>"
      ],
      "text/plain": [
       "   age        job marital_status     education  housing_loan  personal_loan  \\\n",
       "0   56  housemaid        married       primary             0              0   \n",
       "1   37   services        married     secondary             1              0   \n",
       "2   40     admin.        married       primary             0              0   \n",
       "3   56   services        married     secondary             0              1   \n",
       "4   59     admin.        married  professional             0              0   \n",
       "\n",
       "   subscribed  \n",
       "0           0  \n",
       "1           0  \n",
       "2           0  \n",
       "3           0  \n",
       "4           0  "
      ]
     },
     "execution_count": 5,
     "metadata": {},
     "output_type": "execute_result"
    }
   ],
   "source": [
    "data = pd.read_csv('../../data/bank/bank_cleaned.csv')\n",
    "data.head()"
   ]
  },
  {
   "cell_type": "markdown",
   "metadata": {},
   "source": [
    "### Dealing with input types\n",
    "\n",
    "CatBoost can take categorical features as is, so I won't one-hot encode the data yet, instead, for most models I will separately one-hot encode the train and test sets, for CatBoost I'll just give the Regressor the features as string"
   ]
  },
  {
   "cell_type": "code",
   "execution_count": 6,
   "metadata": {},
   "outputs": [
    {
     "name": "stdout",
     "output_type": "stream",
     "text": [
      "Shape of original data: (30390, 7)\n",
      "Shape of y: (30390,)\n",
      "Shape of X: (30390, 6)\n"
     ]
    }
   ],
   "source": [
    "y = data['subscribed'].copy()\n",
    "X = data.drop('subscribed', 1).copy()\n",
    "\n",
    "print('Shape of original data:', data.shape)\n",
    "print('Shape of y:', y.shape)\n",
    "print('Shape of X:', X.shape)"
   ]
  },
  {
   "cell_type": "markdown",
   "metadata": {},
   "source": [
    "### Train - Test split"
   ]
  },
  {
   "cell_type": "code",
   "execution_count": 7,
   "metadata": {},
   "outputs": [
    {
     "name": "stdout",
     "output_type": "stream",
     "text": [
      "Shape of X train: (24312, 6)\n",
      "Shape of X test: (6078, 6)\n",
      "Shape of y train: (24312,)\n",
      "Shape of y test: (6078,)\n"
     ]
    }
   ],
   "source": [
    "X_train, X_test, y_train, y_test = train_test_split(X, y, train_size = 0.8, random_state = 20202020)\n",
    "\n",
    "print('Shape of X train:', X_train.shape)\n",
    "print('Shape of X test:', X_test.shape)\n",
    "print('Shape of y train:', y_train.shape)\n",
    "print('Shape of y test:', y_test.shape)"
   ]
  },
  {
   "cell_type": "markdown",
   "metadata": {},
   "source": [
    "### Dealing with unbalanced classes"
   ]
  },
  {
   "cell_type": "markdown",
   "metadata": {},
   "source": [
    "1. Oversample 1\n",
    "2. Undersample 0\n",
    "3. Synthetic samples (SMOTE)\n",
    "\n",
    "Will **undersample** majority class. Needs to be done on the train set"
   ]
  },
  {
   "cell_type": "code",
   "execution_count": 8,
   "metadata": {},
   "outputs": [
    {
     "data": {
      "text/plain": [
       "0    21211\n",
       "1     3101\n",
       "Name: subscribed, dtype: int64"
      ]
     },
     "execution_count": 8,
     "metadata": {},
     "output_type": "execute_result"
    }
   ],
   "source": [
    "train = pd.concat([X_train, y_train], 1)\n",
    "\n",
    "train['subscribed'].value_counts()"
   ]
  },
  {
   "cell_type": "code",
   "execution_count": 9,
   "metadata": {},
   "outputs": [
    {
     "data": {
      "text/plain": [
       "1    3101\n",
       "0    3101\n",
       "Name: subscribed, dtype: int64"
      ]
     },
     "execution_count": 9,
     "metadata": {},
     "output_type": "execute_result"
    }
   ],
   "source": [
    "majority = train[train['subscribed'] == 0]\n",
    "minority = train[train['subscribed'] == 1]\n",
    "\n",
    "majority_downsampled = resample(majority, replace = False, n_samples = minority.shape[0], random_state = 2020)\n",
    "\n",
    "train_downsampled = pd.concat([majority_downsampled, minority])\n",
    "\n",
    "train_downsampled['subscribed'].value_counts()"
   ]
  },
  {
   "cell_type": "code",
   "execution_count": 10,
   "metadata": {},
   "outputs": [
    {
     "name": "stdout",
     "output_type": "stream",
     "text": [
      "Shape of X train: (6202, 6)\n",
      "Shape of X test: (6078, 6)\n",
      "Shape of y train: (6202,)\n",
      "Shape of y test: (6078,)\n"
     ]
    }
   ],
   "source": [
    "y_train = train_downsampled['subscribed'].copy()\n",
    "X_train = train_downsampled.drop('subscribed', 1).copy()\n",
    "\n",
    "print('Shape of X train:', X_train.shape)\n",
    "print('Shape of X test:', X_test.shape)\n",
    "print('Shape of y train:', y_train.shape)\n",
    "print('Shape of y test:', y_test.shape)"
   ]
  },
  {
   "cell_type": "markdown",
   "metadata": {},
   "source": [
    "#### Check to have all categories in train as well as in test"
   ]
  },
  {
   "cell_type": "code",
   "execution_count": 11,
   "metadata": {},
   "outputs": [
    {
     "name": "stdout",
     "output_type": "stream",
     "text": [
      "TRAIN\n",
      "admin.           0.305869\n",
      "technician       0.174137\n",
      "blue-collar      0.159948\n",
      "services         0.079007\n",
      "management       0.075943\n",
      "retired          0.058530\n",
      "student          0.033538\n",
      "entrepreneur     0.032248\n",
      "self-employed    0.031764\n",
      "unemployed       0.024992\n",
      "housemaid        0.024025\n",
      "Name: job, dtype: float64 \n",
      "\n",
      "married     0.564334\n",
      "single      0.327475\n",
      "divorced    0.108191\n",
      "Name: marital_status, dtype: float64 \n",
      "\n",
      "tertiary        0.372138\n",
      "secondary       0.365850\n",
      "professional    0.139632\n",
      "primary         0.122380\n",
      "Name: education, dtype: float64 \n",
      "\n",
      "TEST\n",
      "admin.           0.287101\n",
      "blue-collar      0.189207\n",
      "technician       0.182297\n",
      "services         0.094933\n",
      "management       0.071899\n",
      "self-employed    0.039980\n",
      "retired          0.035373\n",
      "entrepreneur     0.034386\n",
      "unemployed       0.025008\n",
      "housemaid        0.020895\n",
      "student          0.018921\n",
      "Name: job, dtype: float64 \n",
      "\n",
      "married     0.573215\n",
      "single      0.312767\n",
      "divorced    0.114018\n",
      "Name: marital_status, dtype: float64 \n",
      "\n",
      "secondary       0.396512\n",
      "tertiary        0.337940\n",
      "professional    0.145607\n",
      "primary         0.119941\n",
      "Name: education, dtype: float64 \n",
      "\n"
     ]
    }
   ],
   "source": [
    "categoricals = ['job', 'marital_status', 'education']\n",
    "\n",
    "print('TRAIN')\n",
    "\n",
    "for i in categoricals:\n",
    "    print(X_train[i].value_counts(normalize = True), '\\n')\n",
    "    \n",
    "print('TEST')\n",
    "    \n",
    "for i in categoricals:\n",
    "    print(X_test[i].value_counts(normalize = True), '\\n')"
   ]
  },
  {
   "cell_type": "code",
   "execution_count": null,
   "metadata": {},
   "outputs": [],
   "source": []
  },
  {
   "cell_type": "markdown",
   "metadata": {},
   "source": [
    "### One-hot encode categoricals"
   ]
  },
  {
   "cell_type": "code",
   "execution_count": 12,
   "metadata": {},
   "outputs": [],
   "source": [
    "# Need original data for CatBoost\n",
    "\n",
    "X_train_original = X_train.copy()\n",
    "X_test_original = X_test.copy()\n",
    "\n",
    "# One hot encode for other models\n",
    "\n",
    "X_train = pd.get_dummies(X_train, columns = ['job', 'marital_status', 'education'], prefix_sep = ' = ')\n",
    "X_test = pd.get_dummies(X_test, columns = ['job', 'marital_status', 'education'], prefix_sep = ' = ')"
   ]
  },
  {
   "cell_type": "code",
   "execution_count": 13,
   "metadata": {},
   "outputs": [
    {
     "name": "stdout",
     "output_type": "stream",
     "text": [
      "Original amount of Xs: 6\n",
      "Column # with one-hot encoding: 21\n"
     ]
    }
   ],
   "source": [
    "print('Original amount of Xs:', X_train_original.shape[1])\n",
    "print('Column # with one-hot encoding:', X_train.shape[1])"
   ]
  },
  {
   "cell_type": "code",
   "execution_count": null,
   "metadata": {},
   "outputs": [],
   "source": []
  },
  {
   "cell_type": "code",
   "execution_count": null,
   "metadata": {},
   "outputs": [],
   "source": []
  },
  {
   "cell_type": "markdown",
   "metadata": {},
   "source": [
    "### Scale X train and transform X test"
   ]
  },
  {
   "cell_type": "markdown",
   "metadata": {},
   "source": [
    "For distance-based ML models data should be scaled for faster convergence, therefore I will use the StandardScaler() function to transform my features into variables with E(x) = 0 and Std(x) = 1. This will also speed up linreg for example, but won't have an effect on performance"
   ]
  },
  {
   "cell_type": "code",
   "execution_count": 14,
   "metadata": {},
   "outputs": [],
   "source": [
    "SS = StandardScaler()\n",
    "\n",
    "X_train_scaled = SS.fit_transform(X_train)\n",
    "X_test_scaled = SS.transform(X_test)\n",
    "\n",
    "X_train_scaled = pd.DataFrame(X_train_scaled, columns = X_train.columns)\n",
    "X_test_scaled = pd.DataFrame(X_test_scaled, columns = X_test.columns)"
   ]
  },
  {
   "cell_type": "code",
   "execution_count": null,
   "metadata": {},
   "outputs": [],
   "source": []
  },
  {
   "cell_type": "markdown",
   "metadata": {},
   "source": [
    "# Applying the different ML models"
   ]
  },
  {
   "cell_type": "markdown",
   "metadata": {},
   "source": [
    "### 1. DummyClassifier to compare results against"
   ]
  },
  {
   "cell_type": "markdown",
   "metadata": {},
   "source": [
    "Stratified method"
   ]
  },
  {
   "cell_type": "code",
   "execution_count": 15,
   "metadata": {},
   "outputs": [
    {
     "data": {
      "text/plain": [
       "DummyClassifier(constant=None, random_state=2020, strategy='stratified')"
      ]
     },
     "execution_count": 15,
     "metadata": {},
     "output_type": "execute_result"
    }
   ],
   "source": [
    "dummy = DummyClassifier(strategy = 'stratified', random_state = 2020)\n",
    "dummy.fit(X_train_scaled, y_train)"
   ]
  },
  {
   "cell_type": "code",
   "execution_count": 16,
   "metadata": {},
   "outputs": [
    {
     "name": "stdout",
     "output_type": "stream",
     "text": [
      "Accuracy for DummyClassifierStratified : 0.492\n",
      "F score for DummyClassifierStratified : 0.176\n",
      "AUC for DummyClassifierStratified : 0.479\n",
      "LogLoss for DummyClassifierStratified : 17.560\n"
     ]
    }
   ],
   "source": [
    "dummy_strat = evaluate_model('DummyClassifierStratified', dummy, X_test_scaled, y_test)"
   ]
  },
  {
   "cell_type": "markdown",
   "metadata": {},
   "source": [
    "Most frequent value method"
   ]
  },
  {
   "cell_type": "code",
   "execution_count": 17,
   "metadata": {},
   "outputs": [
    {
     "data": {
      "text/plain": [
       "DummyClassifier(constant=None, random_state=2020, strategy='most_frequent')"
      ]
     },
     "execution_count": 17,
     "metadata": {},
     "output_type": "execute_result"
    }
   ],
   "source": [
    "dummy = DummyClassifier(strategy = 'most_frequent', random_state = 2020)\n",
    "dummy.fit(X_train_scaled, y_train)"
   ]
  },
  {
   "cell_type": "code",
   "execution_count": 18,
   "metadata": {},
   "outputs": [
    {
     "name": "stdout",
     "output_type": "stream",
     "text": [
      "Accuracy for DummyClassifierMostFrequent : 0.882\n",
      "F score for DummyClassifierMostFrequent : 0.000\n",
      "AUC for DummyClassifierMostFrequent : 0.500\n",
      "LogLoss for DummyClassifierMostFrequent : 4.063\n"
     ]
    }
   ],
   "source": [
    "dummy_freq = evaluate_model('DummyClassifierMostFrequent', dummy, X_test_scaled, y_test)"
   ]
  },
  {
   "cell_type": "markdown",
   "metadata": {},
   "source": [
    "Concat results"
   ]
  },
  {
   "cell_type": "code",
   "execution_count": 19,
   "metadata": {},
   "outputs": [
    {
     "data": {
      "text/html": [
       "<div>\n",
       "<style scoped>\n",
       "    .dataframe tbody tr th:only-of-type {\n",
       "        vertical-align: middle;\n",
       "    }\n",
       "\n",
       "    .dataframe tbody tr th {\n",
       "        vertical-align: top;\n",
       "    }\n",
       "\n",
       "    .dataframe thead th {\n",
       "        text-align: right;\n",
       "    }\n",
       "</style>\n",
       "<table border=\"1\" class=\"dataframe\">\n",
       "  <thead>\n",
       "    <tr style=\"text-align: right;\">\n",
       "      <th></th>\n",
       "      <th>Accuracy</th>\n",
       "      <th>F score</th>\n",
       "      <th>AUC</th>\n",
       "      <th>LogLoss</th>\n",
       "    </tr>\n",
       "  </thead>\n",
       "  <tbody>\n",
       "    <tr>\n",
       "      <th>DummyClassifierStratified</th>\n",
       "      <td>0.492</td>\n",
       "      <td>0.176</td>\n",
       "      <td>0.479</td>\n",
       "      <td>17.560</td>\n",
       "    </tr>\n",
       "    <tr>\n",
       "      <th>DummyClassifierMostFrequent</th>\n",
       "      <td>0.882</td>\n",
       "      <td>0.000</td>\n",
       "      <td>0.500</td>\n",
       "      <td>4.063</td>\n",
       "    </tr>\n",
       "  </tbody>\n",
       "</table>\n",
       "</div>"
      ],
      "text/plain": [
       "                             Accuracy  F score    AUC  LogLoss\n",
       "DummyClassifierStratified       0.492    0.176  0.479   17.560\n",
       "DummyClassifierMostFrequent     0.882    0.000  0.500    4.063"
      ]
     },
     "execution_count": 19,
     "metadata": {},
     "output_type": "execute_result"
    }
   ],
   "source": [
    "model_comparison = pd.concat([dummy_strat, dummy_freq], 0)\n",
    "model_comparison.head()"
   ]
  },
  {
   "cell_type": "code",
   "execution_count": null,
   "metadata": {},
   "outputs": [],
   "source": []
  },
  {
   "cell_type": "markdown",
   "metadata": {},
   "source": [
    "### 2. Simple logistic regression"
   ]
  },
  {
   "cell_type": "code",
   "execution_count": 20,
   "metadata": {},
   "outputs": [
    {
     "data": {
      "text/plain": [
       "LogisticRegression(C=1.0, class_weight=None, dual=False, fit_intercept=True,\n",
       "                   intercept_scaling=1, l1_ratio=None, max_iter=100,\n",
       "                   multi_class='auto', n_jobs=None, penalty='none',\n",
       "                   random_state=None, solver='lbfgs', tol=0.0001, verbose=0,\n",
       "                   warm_start=False)"
      ]
     },
     "execution_count": 20,
     "metadata": {},
     "output_type": "execute_result"
    }
   ],
   "source": [
    "lr = LogisticRegression(penalty = 'none')\n",
    "lr.fit(X_train_scaled, y_train)"
   ]
  },
  {
   "cell_type": "code",
   "execution_count": 21,
   "metadata": {},
   "outputs": [
    {
     "name": "stdout",
     "output_type": "stream",
     "text": [
      "Accuracy for LogisticRegression : 0.607\n",
      "F score for LogisticRegression : 0.254\n",
      "AUC for LogisticRegression : 0.623\n",
      "LogLoss for LogisticRegression : 0.667\n"
     ]
    }
   ],
   "source": [
    "logreg = evaluate_model('LogisticRegression', lr, X_test_scaled, y_test)"
   ]
  },
  {
   "cell_type": "code",
   "execution_count": 22,
   "metadata": {},
   "outputs": [
    {
     "data": {
      "text/html": [
       "<div>\n",
       "<style scoped>\n",
       "    .dataframe tbody tr th:only-of-type {\n",
       "        vertical-align: middle;\n",
       "    }\n",
       "\n",
       "    .dataframe tbody tr th {\n",
       "        vertical-align: top;\n",
       "    }\n",
       "\n",
       "    .dataframe thead th {\n",
       "        text-align: right;\n",
       "    }\n",
       "</style>\n",
       "<table border=\"1\" class=\"dataframe\">\n",
       "  <thead>\n",
       "    <tr style=\"text-align: right;\">\n",
       "      <th></th>\n",
       "      <th>Accuracy</th>\n",
       "      <th>F score</th>\n",
       "      <th>AUC</th>\n",
       "      <th>LogLoss</th>\n",
       "    </tr>\n",
       "  </thead>\n",
       "  <tbody>\n",
       "    <tr>\n",
       "      <th>DummyClassifierStratified</th>\n",
       "      <td>0.492</td>\n",
       "      <td>0.176</td>\n",
       "      <td>0.479</td>\n",
       "      <td>17.560</td>\n",
       "    </tr>\n",
       "    <tr>\n",
       "      <th>DummyClassifierMostFrequent</th>\n",
       "      <td>0.882</td>\n",
       "      <td>0.000</td>\n",
       "      <td>0.500</td>\n",
       "      <td>4.063</td>\n",
       "    </tr>\n",
       "    <tr>\n",
       "      <th>LogisticRegression</th>\n",
       "      <td>0.607</td>\n",
       "      <td>0.254</td>\n",
       "      <td>0.623</td>\n",
       "      <td>0.667</td>\n",
       "    </tr>\n",
       "  </tbody>\n",
       "</table>\n",
       "</div>"
      ],
      "text/plain": [
       "                             Accuracy  F score    AUC  LogLoss\n",
       "DummyClassifierStratified       0.492    0.176  0.479   17.560\n",
       "DummyClassifierMostFrequent     0.882    0.000  0.500    4.063\n",
       "LogisticRegression              0.607    0.254  0.623    0.667"
      ]
     },
     "execution_count": 22,
     "metadata": {},
     "output_type": "execute_result"
    }
   ],
   "source": [
    "model_comparison = pd.concat([model_comparison, logreg], 0)\n",
    "model_comparison.head()"
   ]
  },
  {
   "cell_type": "code",
   "execution_count": null,
   "metadata": {},
   "outputs": [],
   "source": []
  },
  {
   "cell_type": "markdown",
   "metadata": {},
   "source": [
    "### 3. Penalized logistic regression"
   ]
  },
  {
   "cell_type": "code",
   "execution_count": 23,
   "metadata": {},
   "outputs": [
    {
     "data": {
      "text/plain": [
       "GridSearchCV(cv=5, error_score=nan,\n",
       "             estimator=LogisticRegression(C=1.0, class_weight=None, dual=False,\n",
       "                                          fit_intercept=True,\n",
       "                                          intercept_scaling=1, l1_ratio=None,\n",
       "                                          max_iter=100, multi_class='auto',\n",
       "                                          n_jobs=None, penalty='l2',\n",
       "                                          random_state=20202020, solver='lbfgs',\n",
       "                                          tol=0.0001, verbose=0,\n",
       "                                          warm_start=False),\n",
       "             iid='deprecated', n_jobs=-1,\n",
       "             param_grid={'C': [0.1],\n",
       "                         'l1_ratio': array([0. , 0.1, 0.2, 0.3, 0.4, 0.5, 0.6, 0.7, 0.8, 0.9, 1. ]),\n",
       "                         'penalty': ['l1', 'l2', 'elasticnet']},\n",
       "             pre_dispatch='2*n_jobs', refit=True, return_train_score=False,\n",
       "             scoring='roc_auc', verbose=0)"
      ]
     },
     "execution_count": 23,
     "metadata": {},
     "output_type": "execute_result"
    }
   ],
   "source": [
    "reg_logit = {'C' : [0.1], \n",
    "             'penalty' : ['l1', 'l2', 'elasticnet'], \n",
    "             'l1_ratio' : np.linspace(0, 1, 11)}\n",
    "\n",
    "logit = LogisticRegression(random_state = 20202020)\n",
    "\n",
    "GRID_logit = GridSearchCV(logit, param_grid = reg_logit, cv = 5, scoring = 'roc_auc', n_jobs = -1)\n",
    "\n",
    "GRID_logit.fit(X_train_scaled, y_train)"
   ]
  },
  {
   "cell_type": "code",
   "execution_count": 24,
   "metadata": {},
   "outputs": [
    {
     "data": {
      "text/plain": [
       "{'C': 0.1, 'l1_ratio': 0.0, 'penalty': 'l2'}"
      ]
     },
     "execution_count": 24,
     "metadata": {},
     "output_type": "execute_result"
    }
   ],
   "source": [
    "GRID_logit.best_params_"
   ]
  },
  {
   "cell_type": "code",
   "execution_count": 25,
   "metadata": {},
   "outputs": [
    {
     "name": "stdout",
     "output_type": "stream",
     "text": [
      "Accuracy for RegularizedLogit : 0.608\n",
      "F score for RegularizedLogit : 0.254\n",
      "AUC for RegularizedLogit : 0.623\n",
      "LogLoss for RegularizedLogit : 0.667\n"
     ]
    }
   ],
   "source": [
    "reglogit = evaluate_model('RegularizedLogit', GRID_logit.best_estimator_, X_test_scaled, y_test)"
   ]
  },
  {
   "cell_type": "code",
   "execution_count": 26,
   "metadata": {},
   "outputs": [
    {
     "data": {
      "text/html": [
       "<div>\n",
       "<style scoped>\n",
       "    .dataframe tbody tr th:only-of-type {\n",
       "        vertical-align: middle;\n",
       "    }\n",
       "\n",
       "    .dataframe tbody tr th {\n",
       "        vertical-align: top;\n",
       "    }\n",
       "\n",
       "    .dataframe thead th {\n",
       "        text-align: right;\n",
       "    }\n",
       "</style>\n",
       "<table border=\"1\" class=\"dataframe\">\n",
       "  <thead>\n",
       "    <tr style=\"text-align: right;\">\n",
       "      <th></th>\n",
       "      <th>Accuracy</th>\n",
       "      <th>F score</th>\n",
       "      <th>AUC</th>\n",
       "      <th>LogLoss</th>\n",
       "    </tr>\n",
       "  </thead>\n",
       "  <tbody>\n",
       "    <tr>\n",
       "      <th>DummyClassifierStratified</th>\n",
       "      <td>0.492</td>\n",
       "      <td>0.176</td>\n",
       "      <td>0.479</td>\n",
       "      <td>17.560</td>\n",
       "    </tr>\n",
       "    <tr>\n",
       "      <th>DummyClassifierMostFrequent</th>\n",
       "      <td>0.882</td>\n",
       "      <td>0.000</td>\n",
       "      <td>0.500</td>\n",
       "      <td>4.063</td>\n",
       "    </tr>\n",
       "    <tr>\n",
       "      <th>LogisticRegression</th>\n",
       "      <td>0.607</td>\n",
       "      <td>0.254</td>\n",
       "      <td>0.623</td>\n",
       "      <td>0.667</td>\n",
       "    </tr>\n",
       "    <tr>\n",
       "      <th>RegularizedLogit</th>\n",
       "      <td>0.608</td>\n",
       "      <td>0.254</td>\n",
       "      <td>0.623</td>\n",
       "      <td>0.667</td>\n",
       "    </tr>\n",
       "  </tbody>\n",
       "</table>\n",
       "</div>"
      ],
      "text/plain": [
       "                             Accuracy  F score    AUC  LogLoss\n",
       "DummyClassifierStratified       0.492    0.176  0.479   17.560\n",
       "DummyClassifierMostFrequent     0.882    0.000  0.500    4.063\n",
       "LogisticRegression              0.607    0.254  0.623    0.667\n",
       "RegularizedLogit                0.608    0.254  0.623    0.667"
      ]
     },
     "execution_count": 26,
     "metadata": {},
     "output_type": "execute_result"
    }
   ],
   "source": [
    "model_comparison = pd.concat([model_comparison, reglogit], 0)\n",
    "model_comparison.head()"
   ]
  },
  {
   "cell_type": "code",
   "execution_count": null,
   "metadata": {},
   "outputs": [],
   "source": []
  },
  {
   "cell_type": "markdown",
   "metadata": {},
   "source": [
    "### 4. Nearest neighbors methods"
   ]
  },
  {
   "cell_type": "markdown",
   "metadata": {},
   "source": [
    "#### 1. k-nearest neighbors"
   ]
  },
  {
   "cell_type": "code",
   "execution_count": 27,
   "metadata": {},
   "outputs": [
    {
     "data": {
      "text/plain": [
       "GridSearchCV(cv=5, error_score=nan,\n",
       "             estimator=KNeighborsClassifier(algorithm='auto', leaf_size=30,\n",
       "                                            metric='minkowski',\n",
       "                                            metric_params=None, n_jobs=None,\n",
       "                                            n_neighbors=5, p=2,\n",
       "                                            weights='uniform'),\n",
       "             iid='deprecated', n_jobs=-1,\n",
       "             param_grid={'algorithm': ['ball_tree', 'kd_tree'],\n",
       "                         'n_neighbors': [160], 'p': [1, 2],\n",
       "                         'weights': ['uniform']},\n",
       "             pre_dispatch='2*n_jobs', refit=True, return_train_score=False,\n",
       "             scoring='roc_auc', verbose=0)"
      ]
     },
     "execution_count": 27,
     "metadata": {},
     "output_type": "execute_result"
    }
   ],
   "source": [
    "knn_params = {'p' : [1, 2], # manhattan / euclidean\n",
    "              'weights' : ['uniform'],\n",
    "              'algorithm' : ['ball_tree', 'kd_tree'],\n",
    "              'n_neighbors' : [160]}\n",
    "\n",
    "KNN = KNeighborsClassifier()\n",
    "\n",
    "GRID_KNN = GridSearchCV(KNN, param_grid = knn_params, cv = 5, scoring = 'roc_auc', n_jobs = -1)\n",
    "\n",
    "GRID_KNN.fit(X_train_scaled, y_train)"
   ]
  },
  {
   "cell_type": "code",
   "execution_count": 28,
   "metadata": {},
   "outputs": [
    {
     "data": {
      "text/plain": [
       "{'algorithm': 'kd_tree', 'n_neighbors': 160, 'p': 2, 'weights': 'uniform'}"
      ]
     },
     "execution_count": 28,
     "metadata": {},
     "output_type": "execute_result"
    }
   ],
   "source": [
    "GRID_KNN.best_params_"
   ]
  },
  {
   "cell_type": "code",
   "execution_count": 29,
   "metadata": {},
   "outputs": [
    {
     "name": "stdout",
     "output_type": "stream",
     "text": [
      "Accuracy for KNN : 0.602\n",
      "F score for KNN : 0.252\n",
      "AUC for KNN : 0.622\n",
      "LogLoss for KNN : 0.666\n"
     ]
    }
   ],
   "source": [
    "knn = evaluate_model('KNN', GRID_KNN.best_estimator_, X_test_scaled, y_test)"
   ]
  },
  {
   "cell_type": "code",
   "execution_count": 30,
   "metadata": {},
   "outputs": [
    {
     "data": {
      "text/html": [
       "<div>\n",
       "<style scoped>\n",
       "    .dataframe tbody tr th:only-of-type {\n",
       "        vertical-align: middle;\n",
       "    }\n",
       "\n",
       "    .dataframe tbody tr th {\n",
       "        vertical-align: top;\n",
       "    }\n",
       "\n",
       "    .dataframe thead th {\n",
       "        text-align: right;\n",
       "    }\n",
       "</style>\n",
       "<table border=\"1\" class=\"dataframe\">\n",
       "  <thead>\n",
       "    <tr style=\"text-align: right;\">\n",
       "      <th></th>\n",
       "      <th>Accuracy</th>\n",
       "      <th>F score</th>\n",
       "      <th>AUC</th>\n",
       "      <th>LogLoss</th>\n",
       "    </tr>\n",
       "  </thead>\n",
       "  <tbody>\n",
       "    <tr>\n",
       "      <th>DummyClassifierStratified</th>\n",
       "      <td>0.492</td>\n",
       "      <td>0.176</td>\n",
       "      <td>0.479</td>\n",
       "      <td>17.560</td>\n",
       "    </tr>\n",
       "    <tr>\n",
       "      <th>DummyClassifierMostFrequent</th>\n",
       "      <td>0.882</td>\n",
       "      <td>0.000</td>\n",
       "      <td>0.500</td>\n",
       "      <td>4.063</td>\n",
       "    </tr>\n",
       "    <tr>\n",
       "      <th>LogisticRegression</th>\n",
       "      <td>0.607</td>\n",
       "      <td>0.254</td>\n",
       "      <td>0.623</td>\n",
       "      <td>0.667</td>\n",
       "    </tr>\n",
       "    <tr>\n",
       "      <th>RegularizedLogit</th>\n",
       "      <td>0.608</td>\n",
       "      <td>0.254</td>\n",
       "      <td>0.623</td>\n",
       "      <td>0.667</td>\n",
       "    </tr>\n",
       "    <tr>\n",
       "      <th>KNN</th>\n",
       "      <td>0.602</td>\n",
       "      <td>0.252</td>\n",
       "      <td>0.622</td>\n",
       "      <td>0.666</td>\n",
       "    </tr>\n",
       "  </tbody>\n",
       "</table>\n",
       "</div>"
      ],
      "text/plain": [
       "                             Accuracy  F score    AUC  LogLoss\n",
       "DummyClassifierStratified       0.492    0.176  0.479   17.560\n",
       "DummyClassifierMostFrequent     0.882    0.000  0.500    4.063\n",
       "LogisticRegression              0.607    0.254  0.623    0.667\n",
       "RegularizedLogit                0.608    0.254  0.623    0.667\n",
       "KNN                             0.602    0.252  0.622    0.666"
      ]
     },
     "execution_count": 30,
     "metadata": {},
     "output_type": "execute_result"
    }
   ],
   "source": [
    "model_comparison = pd.concat([model_comparison, knn], 0)\n",
    "model_comparison"
   ]
  },
  {
   "cell_type": "code",
   "execution_count": null,
   "metadata": {},
   "outputs": [],
   "source": []
  },
  {
   "cell_type": "markdown",
   "metadata": {},
   "source": [
    "#### 2. Radius neighbors"
   ]
  },
  {
   "cell_type": "code",
   "execution_count": 31,
   "metadata": {
    "scrolled": true
   },
   "outputs": [
    {
     "data": {
      "text/plain": [
       "GridSearchCV(cv=5, error_score=nan,\n",
       "             estimator=RadiusNeighborsClassifier(algorithm='auto', leaf_size=30,\n",
       "                                                 metric='minkowski',\n",
       "                                                 metric_params=None,\n",
       "                                                 n_jobs=None,\n",
       "                                                 outlier_label=None, p=2,\n",
       "                                                 radius=1.0,\n",
       "                                                 weights='uniform'),\n",
       "             iid='deprecated', n_jobs=-1,\n",
       "             param_grid={'p': [1, 2], 'radius': [45],\n",
       "                         'weights': ['distance', 'uniform']},\n",
       "             pre_dispatch='2*n_jobs', refit=True, return_train_score=False,\n",
       "             scoring='roc_auc', verbose=0)"
      ]
     },
     "execution_count": 31,
     "metadata": {},
     "output_type": "execute_result"
    }
   ],
   "source": [
    "rnn_params = {'p' : [1, 2], # manhattan / euclidean\n",
    "              'weights' : ['distance', 'uniform'], # uniform / distance\n",
    "              'radius' : [45]}\n",
    "\n",
    "RNN = RadiusNeighborsClassifier()\n",
    "\n",
    "GRID_RNN = GridSearchCV(RNN, param_grid = rnn_params, cv = 5, scoring = 'roc_auc', n_jobs = -1)\n",
    "\n",
    "GRID_RNN.fit(X_train_scaled, y_train)"
   ]
  },
  {
   "cell_type": "code",
   "execution_count": 32,
   "metadata": {},
   "outputs": [
    {
     "data": {
      "text/plain": [
       "{'p': 1, 'radius': 45, 'weights': 'distance'}"
      ]
     },
     "execution_count": 32,
     "metadata": {},
     "output_type": "execute_result"
    }
   ],
   "source": [
    "GRID_RNN.best_params_"
   ]
  },
  {
   "cell_type": "code",
   "execution_count": 33,
   "metadata": {},
   "outputs": [
    {
     "name": "stdout",
     "output_type": "stream",
     "text": [
      "Accuracy for RadiusNN : 0.627\n",
      "F score for RadiusNN : 0.241\n",
      "AUC for RadiusNN : 0.580\n",
      "LogLoss for RadiusNN : 4.438\n"
     ]
    }
   ],
   "source": [
    "rnn = evaluate_model('RadiusNN', GRID_RNN.best_estimator_, X_test_scaled, y_test)"
   ]
  },
  {
   "cell_type": "code",
   "execution_count": 34,
   "metadata": {},
   "outputs": [
    {
     "data": {
      "text/html": [
       "<div>\n",
       "<style scoped>\n",
       "    .dataframe tbody tr th:only-of-type {\n",
       "        vertical-align: middle;\n",
       "    }\n",
       "\n",
       "    .dataframe tbody tr th {\n",
       "        vertical-align: top;\n",
       "    }\n",
       "\n",
       "    .dataframe thead th {\n",
       "        text-align: right;\n",
       "    }\n",
       "</style>\n",
       "<table border=\"1\" class=\"dataframe\">\n",
       "  <thead>\n",
       "    <tr style=\"text-align: right;\">\n",
       "      <th></th>\n",
       "      <th>Accuracy</th>\n",
       "      <th>F score</th>\n",
       "      <th>AUC</th>\n",
       "      <th>LogLoss</th>\n",
       "    </tr>\n",
       "  </thead>\n",
       "  <tbody>\n",
       "    <tr>\n",
       "      <th>DummyClassifierStratified</th>\n",
       "      <td>0.492</td>\n",
       "      <td>0.176</td>\n",
       "      <td>0.479</td>\n",
       "      <td>17.560</td>\n",
       "    </tr>\n",
       "    <tr>\n",
       "      <th>DummyClassifierMostFrequent</th>\n",
       "      <td>0.882</td>\n",
       "      <td>0.000</td>\n",
       "      <td>0.500</td>\n",
       "      <td>4.063</td>\n",
       "    </tr>\n",
       "    <tr>\n",
       "      <th>LogisticRegression</th>\n",
       "      <td>0.607</td>\n",
       "      <td>0.254</td>\n",
       "      <td>0.623</td>\n",
       "      <td>0.667</td>\n",
       "    </tr>\n",
       "    <tr>\n",
       "      <th>RegularizedLogit</th>\n",
       "      <td>0.608</td>\n",
       "      <td>0.254</td>\n",
       "      <td>0.623</td>\n",
       "      <td>0.667</td>\n",
       "    </tr>\n",
       "    <tr>\n",
       "      <th>KNN</th>\n",
       "      <td>0.602</td>\n",
       "      <td>0.252</td>\n",
       "      <td>0.622</td>\n",
       "      <td>0.666</td>\n",
       "    </tr>\n",
       "    <tr>\n",
       "      <th>RadiusNN</th>\n",
       "      <td>0.627</td>\n",
       "      <td>0.241</td>\n",
       "      <td>0.580</td>\n",
       "      <td>4.438</td>\n",
       "    </tr>\n",
       "  </tbody>\n",
       "</table>\n",
       "</div>"
      ],
      "text/plain": [
       "                             Accuracy  F score    AUC  LogLoss\n",
       "DummyClassifierStratified       0.492    0.176  0.479   17.560\n",
       "DummyClassifierMostFrequent     0.882    0.000  0.500    4.063\n",
       "LogisticRegression              0.607    0.254  0.623    0.667\n",
       "RegularizedLogit                0.608    0.254  0.623    0.667\n",
       "KNN                             0.602    0.252  0.622    0.666\n",
       "RadiusNN                        0.627    0.241  0.580    4.438"
      ]
     },
     "execution_count": 34,
     "metadata": {},
     "output_type": "execute_result"
    }
   ],
   "source": [
    "model_comparison = pd.concat([model_comparison, rnn], 0)\n",
    "model_comparison"
   ]
  },
  {
   "cell_type": "code",
   "execution_count": null,
   "metadata": {},
   "outputs": [],
   "source": []
  },
  {
   "cell_type": "markdown",
   "metadata": {},
   "source": [
    "### 5. Support Vector Machines"
   ]
  },
  {
   "cell_type": "markdown",
   "metadata": {},
   "source": [
    "#### 1. Linear kernel"
   ]
  },
  {
   "cell_type": "code",
   "execution_count": 42,
   "metadata": {},
   "outputs": [
    {
     "data": {
      "text/plain": [
       "GridSearchCV(cv=3, error_score=nan,\n",
       "             estimator=SVC(C=1.0, break_ties=False, cache_size=200,\n",
       "                           class_weight=None, coef0=0.0,\n",
       "                           decision_function_shape='ovr', degree=3,\n",
       "                           gamma='scale', kernel='linear', max_iter=-1,\n",
       "                           probability=True, random_state=None, shrinking=True,\n",
       "                           tol=0.001, verbose=False),\n",
       "             iid='deprecated', n_jobs=-1, param_grid={'C': [50]},\n",
       "             pre_dispatch='2*n_jobs', refit=True, return_train_score=False,\n",
       "             scoring='roc_auc', verbose=0)"
      ]
     },
     "execution_count": 42,
     "metadata": {},
     "output_type": "execute_result"
    }
   ],
   "source": [
    "svc_lin_params = {'C' : [50]}\n",
    "\n",
    "svc = SVC(kernel = 'linear', probability = True)\n",
    "\n",
    "GRID_SVC = GridSearchCV(svc, param_grid = svc_lin_params, cv = 3, scoring = 'roc_auc', n_jobs = -1)\n",
    "\n",
    "GRID_SVC.fit(X_train_scaled, y_train)"
   ]
  },
  {
   "cell_type": "code",
   "execution_count": 43,
   "metadata": {},
   "outputs": [
    {
     "data": {
      "text/plain": [
       "{'C': 50}"
      ]
     },
     "execution_count": 43,
     "metadata": {},
     "output_type": "execute_result"
    }
   ],
   "source": [
    "GRID_SVC.best_params_"
   ]
  },
  {
   "cell_type": "code",
   "execution_count": 44,
   "metadata": {},
   "outputs": [
    {
     "name": "stdout",
     "output_type": "stream",
     "text": [
      "Accuracy for SVCLinear : 0.611\n",
      "F score for SVCLinear : 0.243\n",
      "AUC for SVCLinear : 0.615\n",
      "LogLoss for SVCLinear : 0.676\n"
     ]
    }
   ],
   "source": [
    "svclin = evaluate_model('SVCLinear', GRID_SVC.best_estimator_, X_test_scaled, y_test)"
   ]
  },
  {
   "cell_type": "code",
   "execution_count": 45,
   "metadata": {},
   "outputs": [
    {
     "data": {
      "text/html": [
       "<div>\n",
       "<style scoped>\n",
       "    .dataframe tbody tr th:only-of-type {\n",
       "        vertical-align: middle;\n",
       "    }\n",
       "\n",
       "    .dataframe tbody tr th {\n",
       "        vertical-align: top;\n",
       "    }\n",
       "\n",
       "    .dataframe thead th {\n",
       "        text-align: right;\n",
       "    }\n",
       "</style>\n",
       "<table border=\"1\" class=\"dataframe\">\n",
       "  <thead>\n",
       "    <tr style=\"text-align: right;\">\n",
       "      <th></th>\n",
       "      <th>Accuracy</th>\n",
       "      <th>F score</th>\n",
       "      <th>AUC</th>\n",
       "      <th>LogLoss</th>\n",
       "    </tr>\n",
       "  </thead>\n",
       "  <tbody>\n",
       "    <tr>\n",
       "      <th>DummyClassifierStratified</th>\n",
       "      <td>0.492</td>\n",
       "      <td>0.176</td>\n",
       "      <td>0.479</td>\n",
       "      <td>17.560</td>\n",
       "    </tr>\n",
       "    <tr>\n",
       "      <th>DummyClassifierMostFrequent</th>\n",
       "      <td>0.882</td>\n",
       "      <td>0.000</td>\n",
       "      <td>0.500</td>\n",
       "      <td>4.063</td>\n",
       "    </tr>\n",
       "    <tr>\n",
       "      <th>LogisticRegression</th>\n",
       "      <td>0.607</td>\n",
       "      <td>0.254</td>\n",
       "      <td>0.623</td>\n",
       "      <td>0.667</td>\n",
       "    </tr>\n",
       "    <tr>\n",
       "      <th>RegularizedLogit</th>\n",
       "      <td>0.608</td>\n",
       "      <td>0.254</td>\n",
       "      <td>0.623</td>\n",
       "      <td>0.667</td>\n",
       "    </tr>\n",
       "    <tr>\n",
       "      <th>KNN</th>\n",
       "      <td>0.602</td>\n",
       "      <td>0.252</td>\n",
       "      <td>0.622</td>\n",
       "      <td>0.666</td>\n",
       "    </tr>\n",
       "    <tr>\n",
       "      <th>RadiusNN</th>\n",
       "      <td>0.627</td>\n",
       "      <td>0.241</td>\n",
       "      <td>0.580</td>\n",
       "      <td>4.438</td>\n",
       "    </tr>\n",
       "    <tr>\n",
       "      <th>SVCLinear</th>\n",
       "      <td>0.611</td>\n",
       "      <td>0.243</td>\n",
       "      <td>0.615</td>\n",
       "      <td>0.676</td>\n",
       "    </tr>\n",
       "  </tbody>\n",
       "</table>\n",
       "</div>"
      ],
      "text/plain": [
       "                             Accuracy  F score    AUC  LogLoss\n",
       "DummyClassifierStratified       0.492    0.176  0.479   17.560\n",
       "DummyClassifierMostFrequent     0.882    0.000  0.500    4.063\n",
       "LogisticRegression              0.607    0.254  0.623    0.667\n",
       "RegularizedLogit                0.608    0.254  0.623    0.667\n",
       "KNN                             0.602    0.252  0.622    0.666\n",
       "RadiusNN                        0.627    0.241  0.580    4.438\n",
       "SVCLinear                       0.611    0.243  0.615    0.676"
      ]
     },
     "execution_count": 45,
     "metadata": {},
     "output_type": "execute_result"
    }
   ],
   "source": [
    "model_comparison = pd.concat([model_comparison, svclin], 0)\n",
    "model_comparison"
   ]
  },
  {
   "cell_type": "markdown",
   "metadata": {},
   "source": [
    "#### 2. Polynomial kernel"
   ]
  },
  {
   "cell_type": "code",
   "execution_count": 61,
   "metadata": {},
   "outputs": [
    {
     "data": {
      "text/plain": [
       "GridSearchCV(cv=3, error_score=nan,\n",
       "             estimator=SVC(C=1.0, break_ties=False, cache_size=200,\n",
       "                           class_weight=None, coef0=0.0,\n",
       "                           decision_function_shape='ovr', degree=3,\n",
       "                           gamma='scale', kernel='poly', max_iter=-1,\n",
       "                           probability=True, random_state=None, shrinking=True,\n",
       "                           tol=0.001, verbose=False),\n",
       "             iid='deprecated', n_jobs=-1,\n",
       "             param_grid={'C': [0.01], 'degree': [2, 3]},\n",
       "             pre_dispatch='2*n_jobs', refit=True, return_train_score=False,\n",
       "             scoring='roc_auc', verbose=0)"
      ]
     },
     "execution_count": 61,
     "metadata": {},
     "output_type": "execute_result"
    }
   ],
   "source": [
    "svc_poly_params = {'C' : [0.01],\n",
    "                   'degree' : [2, 3]}\n",
    "\n",
    "svc = SVC(kernel = 'poly', probability = True)\n",
    "\n",
    "GRID_SVC = GridSearchCV(svc, param_grid = svc_poly_params, cv = 3, scoring = 'roc_auc', n_jobs = -1)\n",
    "\n",
    "GRID_SVC.fit(X_train_scaled, y_train)"
   ]
  },
  {
   "cell_type": "code",
   "execution_count": 62,
   "metadata": {},
   "outputs": [
    {
     "data": {
      "text/plain": [
       "{'C': 0.01, 'degree': 2}"
      ]
     },
     "execution_count": 62,
     "metadata": {},
     "output_type": "execute_result"
    }
   ],
   "source": [
    "GRID_SVC.best_params_"
   ]
  },
  {
   "cell_type": "code",
   "execution_count": 63,
   "metadata": {},
   "outputs": [
    {
     "name": "stdout",
     "output_type": "stream",
     "text": [
      "Accuracy for SVCPolynomial : 0.847\n",
      "F score for SVCPolynomial : 0.220\n",
      "AUC for SVCPolynomial : 0.620\n",
      "LogLoss for SVCPolynomial : 0.670\n"
     ]
    }
   ],
   "source": [
    "svcpoly = evaluate_model('SVCPolynomial', GRID_SVC.best_estimator_, X_test_scaled, y_test)"
   ]
  },
  {
   "cell_type": "code",
   "execution_count": 64,
   "metadata": {},
   "outputs": [
    {
     "data": {
      "text/html": [
       "<div>\n",
       "<style scoped>\n",
       "    .dataframe tbody tr th:only-of-type {\n",
       "        vertical-align: middle;\n",
       "    }\n",
       "\n",
       "    .dataframe tbody tr th {\n",
       "        vertical-align: top;\n",
       "    }\n",
       "\n",
       "    .dataframe thead th {\n",
       "        text-align: right;\n",
       "    }\n",
       "</style>\n",
       "<table border=\"1\" class=\"dataframe\">\n",
       "  <thead>\n",
       "    <tr style=\"text-align: right;\">\n",
       "      <th></th>\n",
       "      <th>Accuracy</th>\n",
       "      <th>F score</th>\n",
       "      <th>AUC</th>\n",
       "      <th>LogLoss</th>\n",
       "    </tr>\n",
       "  </thead>\n",
       "  <tbody>\n",
       "    <tr>\n",
       "      <th>DummyClassifierStratified</th>\n",
       "      <td>0.492</td>\n",
       "      <td>0.176</td>\n",
       "      <td>0.479</td>\n",
       "      <td>17.560</td>\n",
       "    </tr>\n",
       "    <tr>\n",
       "      <th>DummyClassifierMostFrequent</th>\n",
       "      <td>0.882</td>\n",
       "      <td>0.000</td>\n",
       "      <td>0.500</td>\n",
       "      <td>4.063</td>\n",
       "    </tr>\n",
       "    <tr>\n",
       "      <th>LogisticRegression</th>\n",
       "      <td>0.607</td>\n",
       "      <td>0.254</td>\n",
       "      <td>0.623</td>\n",
       "      <td>0.667</td>\n",
       "    </tr>\n",
       "    <tr>\n",
       "      <th>RegularizedLogit</th>\n",
       "      <td>0.608</td>\n",
       "      <td>0.254</td>\n",
       "      <td>0.623</td>\n",
       "      <td>0.667</td>\n",
       "    </tr>\n",
       "    <tr>\n",
       "      <th>KNN</th>\n",
       "      <td>0.602</td>\n",
       "      <td>0.252</td>\n",
       "      <td>0.622</td>\n",
       "      <td>0.666</td>\n",
       "    </tr>\n",
       "    <tr>\n",
       "      <th>RadiusNN</th>\n",
       "      <td>0.627</td>\n",
       "      <td>0.241</td>\n",
       "      <td>0.580</td>\n",
       "      <td>4.438</td>\n",
       "    </tr>\n",
       "    <tr>\n",
       "      <th>SVCLinear</th>\n",
       "      <td>0.611</td>\n",
       "      <td>0.243</td>\n",
       "      <td>0.615</td>\n",
       "      <td>0.676</td>\n",
       "    </tr>\n",
       "    <tr>\n",
       "      <th>SVCPolynomial</th>\n",
       "      <td>0.847</td>\n",
       "      <td>0.220</td>\n",
       "      <td>0.620</td>\n",
       "      <td>0.670</td>\n",
       "    </tr>\n",
       "  </tbody>\n",
       "</table>\n",
       "</div>"
      ],
      "text/plain": [
       "                             Accuracy  F score    AUC  LogLoss\n",
       "DummyClassifierStratified       0.492    0.176  0.479   17.560\n",
       "DummyClassifierMostFrequent     0.882    0.000  0.500    4.063\n",
       "LogisticRegression              0.607    0.254  0.623    0.667\n",
       "RegularizedLogit                0.608    0.254  0.623    0.667\n",
       "KNN                             0.602    0.252  0.622    0.666\n",
       "RadiusNN                        0.627    0.241  0.580    4.438\n",
       "SVCLinear                       0.611    0.243  0.615    0.676\n",
       "SVCPolynomial                   0.847    0.220  0.620    0.670"
      ]
     },
     "execution_count": 64,
     "metadata": {},
     "output_type": "execute_result"
    }
   ],
   "source": [
    "model_comparison = pd.concat([model_comparison, svcpoly], 0)\n",
    "model_comparison"
   ]
  },
  {
   "cell_type": "markdown",
   "metadata": {},
   "source": [
    "#### 3. Radial Basis Function kernel"
   ]
  },
  {
   "cell_type": "code",
   "execution_count": 71,
   "metadata": {},
   "outputs": [
    {
     "data": {
      "text/plain": [
       "GridSearchCV(cv=3, error_score=nan,\n",
       "             estimator=SVC(C=1.0, break_ties=False, cache_size=200,\n",
       "                           class_weight=None, coef0=0.0,\n",
       "                           decision_function_shape='ovr', degree=3,\n",
       "                           gamma='scale', kernel='rbf', max_iter=-1,\n",
       "                           probability=True, random_state=None, shrinking=True,\n",
       "                           tol=0.001, verbose=False),\n",
       "             iid='deprecated', n_jobs=-1,\n",
       "             param_grid={'C': [0.125, 0.15, 0.175], 'gamma': [0.01, 0.05]},\n",
       "             pre_dispatch='2*n_jobs', refit=True, return_train_score=False,\n",
       "             scoring='roc_auc', verbose=0)"
      ]
     },
     "execution_count": 71,
     "metadata": {},
     "output_type": "execute_result"
    }
   ],
   "source": [
    "svc_rbf_params = {'C' : [0.125, 0.15, 0.175],\n",
    "                  'gamma' : [0.01, 0.05]}\n",
    "\n",
    "svc = SVC(kernel = 'rbf', probability = True)\n",
    "\n",
    "GRID_SVC = GridSearchCV(svc, param_grid = svc_rbf_params, cv = 3, scoring = 'roc_auc', n_jobs = -1)\n",
    "\n",
    "GRID_SVC.fit(X_train_scaled, y_train)"
   ]
  },
  {
   "cell_type": "code",
   "execution_count": 72,
   "metadata": {},
   "outputs": [
    {
     "data": {
      "text/plain": [
       "{'C': 0.15, 'gamma': 0.01}"
      ]
     },
     "execution_count": 72,
     "metadata": {},
     "output_type": "execute_result"
    }
   ],
   "source": [
    "GRID_SVC.best_params_"
   ]
  },
  {
   "cell_type": "code",
   "execution_count": 73,
   "metadata": {},
   "outputs": [
    {
     "name": "stdout",
     "output_type": "stream",
     "text": [
      "Accuracy for SVCRadialBasis : 0.615\n",
      "F score for SVCRadialBasis : 0.255\n",
      "AUC for SVCRadialBasis : 0.610\n",
      "LogLoss for SVCRadialBasis : 0.677\n"
     ]
    }
   ],
   "source": [
    "svcrbf = evaluate_model('SVCRadialBasis', GRID_SVC.best_estimator_, X_test_scaled, y_test)"
   ]
  },
  {
   "cell_type": "code",
   "execution_count": 74,
   "metadata": {},
   "outputs": [
    {
     "data": {
      "text/html": [
       "<div>\n",
       "<style scoped>\n",
       "    .dataframe tbody tr th:only-of-type {\n",
       "        vertical-align: middle;\n",
       "    }\n",
       "\n",
       "    .dataframe tbody tr th {\n",
       "        vertical-align: top;\n",
       "    }\n",
       "\n",
       "    .dataframe thead th {\n",
       "        text-align: right;\n",
       "    }\n",
       "</style>\n",
       "<table border=\"1\" class=\"dataframe\">\n",
       "  <thead>\n",
       "    <tr style=\"text-align: right;\">\n",
       "      <th></th>\n",
       "      <th>Accuracy</th>\n",
       "      <th>F score</th>\n",
       "      <th>AUC</th>\n",
       "      <th>LogLoss</th>\n",
       "    </tr>\n",
       "  </thead>\n",
       "  <tbody>\n",
       "    <tr>\n",
       "      <th>DummyClassifierStratified</th>\n",
       "      <td>0.492</td>\n",
       "      <td>0.176</td>\n",
       "      <td>0.479</td>\n",
       "      <td>17.560</td>\n",
       "    </tr>\n",
       "    <tr>\n",
       "      <th>DummyClassifierMostFrequent</th>\n",
       "      <td>0.882</td>\n",
       "      <td>0.000</td>\n",
       "      <td>0.500</td>\n",
       "      <td>4.063</td>\n",
       "    </tr>\n",
       "    <tr>\n",
       "      <th>LogisticRegression</th>\n",
       "      <td>0.607</td>\n",
       "      <td>0.254</td>\n",
       "      <td>0.623</td>\n",
       "      <td>0.667</td>\n",
       "    </tr>\n",
       "    <tr>\n",
       "      <th>RegularizedLogit</th>\n",
       "      <td>0.608</td>\n",
       "      <td>0.254</td>\n",
       "      <td>0.623</td>\n",
       "      <td>0.667</td>\n",
       "    </tr>\n",
       "    <tr>\n",
       "      <th>KNN</th>\n",
       "      <td>0.602</td>\n",
       "      <td>0.252</td>\n",
       "      <td>0.622</td>\n",
       "      <td>0.666</td>\n",
       "    </tr>\n",
       "    <tr>\n",
       "      <th>RadiusNN</th>\n",
       "      <td>0.627</td>\n",
       "      <td>0.241</td>\n",
       "      <td>0.580</td>\n",
       "      <td>4.438</td>\n",
       "    </tr>\n",
       "    <tr>\n",
       "      <th>SVCLinear</th>\n",
       "      <td>0.611</td>\n",
       "      <td>0.243</td>\n",
       "      <td>0.615</td>\n",
       "      <td>0.676</td>\n",
       "    </tr>\n",
       "    <tr>\n",
       "      <th>SVCPolynomial</th>\n",
       "      <td>0.847</td>\n",
       "      <td>0.220</td>\n",
       "      <td>0.620</td>\n",
       "      <td>0.670</td>\n",
       "    </tr>\n",
       "    <tr>\n",
       "      <th>SVCRadialBasis</th>\n",
       "      <td>0.615</td>\n",
       "      <td>0.255</td>\n",
       "      <td>0.610</td>\n",
       "      <td>0.677</td>\n",
       "    </tr>\n",
       "  </tbody>\n",
       "</table>\n",
       "</div>"
      ],
      "text/plain": [
       "                             Accuracy  F score    AUC  LogLoss\n",
       "DummyClassifierStratified       0.492    0.176  0.479   17.560\n",
       "DummyClassifierMostFrequent     0.882    0.000  0.500    4.063\n",
       "LogisticRegression              0.607    0.254  0.623    0.667\n",
       "RegularizedLogit                0.608    0.254  0.623    0.667\n",
       "KNN                             0.602    0.252  0.622    0.666\n",
       "RadiusNN                        0.627    0.241  0.580    4.438\n",
       "SVCLinear                       0.611    0.243  0.615    0.676\n",
       "SVCPolynomial                   0.847    0.220  0.620    0.670\n",
       "SVCRadialBasis                  0.615    0.255  0.610    0.677"
      ]
     },
     "execution_count": 74,
     "metadata": {},
     "output_type": "execute_result"
    }
   ],
   "source": [
    "model_comparison = pd.concat([model_comparison, svcrbf], 0)\n",
    "model_comparison"
   ]
  },
  {
   "cell_type": "code",
   "execution_count": null,
   "metadata": {},
   "outputs": [],
   "source": []
  },
  {
   "cell_type": "markdown",
   "metadata": {},
   "source": [
    "### 6. Decision Tree"
   ]
  },
  {
   "cell_type": "code",
   "execution_count": 78,
   "metadata": {},
   "outputs": [
    {
     "data": {
      "text/plain": [
       "GridSearchCV(cv=3, error_score=nan,\n",
       "             estimator=DecisionTreeClassifier(ccp_alpha=0.0, class_weight=None,\n",
       "                                              criterion='gini', max_depth=None,\n",
       "                                              max_features=None,\n",
       "                                              max_leaf_nodes=None,\n",
       "                                              min_impurity_decrease=0.0,\n",
       "                                              min_impurity_split=None,\n",
       "                                              min_samples_leaf=1,\n",
       "                                              min_samples_split=2,\n",
       "                                              min_weight_fraction_leaf=0.0,\n",
       "                                              presort='deprecated',\n",
       "                                              random_state=20202020,\n",
       "                                              splitter='best'),\n",
       "             iid='deprecated', n_jobs=-1,\n",
       "             param_grid={'criterion': ['gini', 'entropy'],\n",
       "                         'max_depth': [5, 7, 9],\n",
       "                         'max_features': [0.5, 0.3333333333333333],\n",
       "                         'min_samples_leaf': [3, 5, 7],\n",
       "                         'min_samples_split': [9, 11, 13]},\n",
       "             pre_dispatch='2*n_jobs', refit=True, return_train_score=False,\n",
       "             scoring='roc_auc', verbose=0)"
      ]
     },
     "execution_count": 78,
     "metadata": {},
     "output_type": "execute_result"
    }
   ],
   "source": [
    "DT_params = {'criterion' : ['gini', 'entropy'], \n",
    "             'max_depth' : [5, 7, 9],\n",
    "             'min_samples_split' : [9, 11, 13],\n",
    "             'min_samples_leaf' : [3, 5, 7],\n",
    "             'max_features' : [1/2, 1/3]}\n",
    "\n",
    "DT = DecisionTreeClassifier(random_state = 20202020)\n",
    "\n",
    "GRID_DT = GridSearchCV(DT, param_grid = DT_params, cv = 3, scoring = 'roc_auc', n_jobs = -1)\n",
    "\n",
    "GRID_DT.fit(X_train, y_train)"
   ]
  },
  {
   "cell_type": "code",
   "execution_count": 79,
   "metadata": {},
   "outputs": [
    {
     "data": {
      "text/plain": [
       "{'criterion': 'gini',\n",
       " 'max_depth': 7,\n",
       " 'max_features': 0.5,\n",
       " 'min_samples_leaf': 5,\n",
       " 'min_samples_split': 11}"
      ]
     },
     "execution_count": 79,
     "metadata": {},
     "output_type": "execute_result"
    }
   ],
   "source": [
    "GRID_DT.best_params_"
   ]
  },
  {
   "cell_type": "code",
   "execution_count": 80,
   "metadata": {},
   "outputs": [
    {
     "name": "stdout",
     "output_type": "stream",
     "text": [
      "Accuracy for DecisionTree : 0.608\n",
      "F score for DecisionTree : 0.250\n",
      "AUC for DecisionTree : 0.620\n",
      "LogLoss for DecisionTree : 0.753\n"
     ]
    }
   ],
   "source": [
    "dt = evaluate_model('DecisionTree', GRID_DT.best_estimator_, X_test, y_test)"
   ]
  },
  {
   "cell_type": "code",
   "execution_count": 81,
   "metadata": {},
   "outputs": [
    {
     "data": {
      "text/html": [
       "<div>\n",
       "<style scoped>\n",
       "    .dataframe tbody tr th:only-of-type {\n",
       "        vertical-align: middle;\n",
       "    }\n",
       "\n",
       "    .dataframe tbody tr th {\n",
       "        vertical-align: top;\n",
       "    }\n",
       "\n",
       "    .dataframe thead th {\n",
       "        text-align: right;\n",
       "    }\n",
       "</style>\n",
       "<table border=\"1\" class=\"dataframe\">\n",
       "  <thead>\n",
       "    <tr style=\"text-align: right;\">\n",
       "      <th></th>\n",
       "      <th>Accuracy</th>\n",
       "      <th>F score</th>\n",
       "      <th>AUC</th>\n",
       "      <th>LogLoss</th>\n",
       "    </tr>\n",
       "  </thead>\n",
       "  <tbody>\n",
       "    <tr>\n",
       "      <th>DummyClassifierStratified</th>\n",
       "      <td>0.492</td>\n",
       "      <td>0.176</td>\n",
       "      <td>0.479</td>\n",
       "      <td>17.560</td>\n",
       "    </tr>\n",
       "    <tr>\n",
       "      <th>DummyClassifierMostFrequent</th>\n",
       "      <td>0.882</td>\n",
       "      <td>0.000</td>\n",
       "      <td>0.500</td>\n",
       "      <td>4.063</td>\n",
       "    </tr>\n",
       "    <tr>\n",
       "      <th>LogisticRegression</th>\n",
       "      <td>0.607</td>\n",
       "      <td>0.254</td>\n",
       "      <td>0.623</td>\n",
       "      <td>0.667</td>\n",
       "    </tr>\n",
       "    <tr>\n",
       "      <th>RegularizedLogit</th>\n",
       "      <td>0.608</td>\n",
       "      <td>0.254</td>\n",
       "      <td>0.623</td>\n",
       "      <td>0.667</td>\n",
       "    </tr>\n",
       "    <tr>\n",
       "      <th>KNN</th>\n",
       "      <td>0.602</td>\n",
       "      <td>0.252</td>\n",
       "      <td>0.622</td>\n",
       "      <td>0.666</td>\n",
       "    </tr>\n",
       "    <tr>\n",
       "      <th>RadiusNN</th>\n",
       "      <td>0.627</td>\n",
       "      <td>0.241</td>\n",
       "      <td>0.580</td>\n",
       "      <td>4.438</td>\n",
       "    </tr>\n",
       "    <tr>\n",
       "      <th>SVCLinear</th>\n",
       "      <td>0.611</td>\n",
       "      <td>0.243</td>\n",
       "      <td>0.615</td>\n",
       "      <td>0.676</td>\n",
       "    </tr>\n",
       "    <tr>\n",
       "      <th>SVCPolynomial</th>\n",
       "      <td>0.847</td>\n",
       "      <td>0.220</td>\n",
       "      <td>0.620</td>\n",
       "      <td>0.670</td>\n",
       "    </tr>\n",
       "    <tr>\n",
       "      <th>SVCRadialBasis</th>\n",
       "      <td>0.615</td>\n",
       "      <td>0.255</td>\n",
       "      <td>0.610</td>\n",
       "      <td>0.677</td>\n",
       "    </tr>\n",
       "    <tr>\n",
       "      <th>DecisionTree</th>\n",
       "      <td>0.608</td>\n",
       "      <td>0.250</td>\n",
       "      <td>0.620</td>\n",
       "      <td>0.753</td>\n",
       "    </tr>\n",
       "  </tbody>\n",
       "</table>\n",
       "</div>"
      ],
      "text/plain": [
       "                             Accuracy  F score    AUC  LogLoss\n",
       "DummyClassifierStratified       0.492    0.176  0.479   17.560\n",
       "DummyClassifierMostFrequent     0.882    0.000  0.500    4.063\n",
       "LogisticRegression              0.607    0.254  0.623    0.667\n",
       "RegularizedLogit                0.608    0.254  0.623    0.667\n",
       "KNN                             0.602    0.252  0.622    0.666\n",
       "RadiusNN                        0.627    0.241  0.580    4.438\n",
       "SVCLinear                       0.611    0.243  0.615    0.676\n",
       "SVCPolynomial                   0.847    0.220  0.620    0.670\n",
       "SVCRadialBasis                  0.615    0.255  0.610    0.677\n",
       "DecisionTree                    0.608    0.250  0.620    0.753"
      ]
     },
     "execution_count": 81,
     "metadata": {},
     "output_type": "execute_result"
    }
   ],
   "source": [
    "model_comparison = pd.concat([model_comparison, dt], 0)\n",
    "model_comparison"
   ]
  },
  {
   "cell_type": "markdown",
   "metadata": {},
   "source": [
    "We can actually visualize our decision tree"
   ]
  },
  {
   "cell_type": "code",
   "execution_count": 82,
   "metadata": {},
   "outputs": [
    {
     "data": {
      "image/png": "[encoded data removed]",
      "text/plain": [
       "<Figure size 1440x864 with 1 Axes>"
      ]
     },
     "metadata": {
      "needs_background": "light"
     },
     "output_type": "display_data"
    }
   ],
   "source": [
    "plt.figure(figsize = (20, 12))\n",
    "plot_tree(GRID_DT.best_estimator_, feature_names = X_train.columns, class_names = ['no', 'yes'],\n",
    "          filled = True, fontsize = 10, max_depth = 2)\n",
    "plt.show()"
   ]
  },
  {
   "cell_type": "markdown",
   "metadata": {},
   "source": [
    "### 7. Simple Trees Ensembles"
   ]
  },
  {
   "cell_type": "markdown",
   "metadata": {},
   "source": [
    "#### 1. Random Forest"
   ]
  },
  {
   "cell_type": "code",
   "execution_count": 113,
   "metadata": {},
   "outputs": [
    {
     "name": "stdout",
     "output_type": "stream",
     "text": [
      "Started at Sat Dec  5 10:22:29 2020\n",
      "Ended at Sat Dec  5 10:22:34 2020\n",
      "5.049137353897095\n"
     ]
    }
   ],
   "source": [
    "start = time.time()\n",
    "print(\"Started at\", str(time.ctime(int(start))))\n",
    "\n",
    "RF_params = {'criterion' : ['gini', 'entropy'],\n",
    "             'max_depth' : [9],\n",
    "             'min_samples_split' : [5],\n",
    "             'min_samples_leaf' : [20],\n",
    "             'max_features' : [0.4],\n",
    "             'n_estimators' : [150, 175]}\n",
    "\n",
    "RF = RandomForestClassifier(random_state = 20202020)\n",
    "\n",
    "GRID_RF = GridSearchCV(RF, param_grid = RF_params, cv = 3, scoring = 'roc_auc', n_jobs = -1)\n",
    "\n",
    "GRID_RF.fit(X_train, y_train)\n",
    "\n",
    "print(\"Ended at\", str(time.ctime(int(time.time()))))\n",
    "print(time.time() - start)"
   ]
  },
  {
   "cell_type": "code",
   "execution_count": 115,
   "metadata": {},
   "outputs": [
    {
     "name": "stdout",
     "output_type": "stream",
     "text": [
      "Accuracy for RandomForest : 0.604\n",
      "F score for RandomForest : 0.252\n",
      "AUC for RandomForest : 0.633\n",
      "LogLoss for RandomForest : 0.659\n"
     ]
    }
   ],
   "source": [
    "rfreg = evaluate_model('RandomForest', GRID_RF.best_estimator_, X_test, y_test)"
   ]
  },
  {
   "cell_type": "code",
   "execution_count": 116,
   "metadata": {},
   "outputs": [
    {
     "data": {
      "text/html": [
       "<div>\n",
       "<style scoped>\n",
       "    .dataframe tbody tr th:only-of-type {\n",
       "        vertical-align: middle;\n",
       "    }\n",
       "\n",
       "    .dataframe tbody tr th {\n",
       "        vertical-align: top;\n",
       "    }\n",
       "\n",
       "    .dataframe thead th {\n",
       "        text-align: right;\n",
       "    }\n",
       "</style>\n",
       "<table border=\"1\" class=\"dataframe\">\n",
       "  <thead>\n",
       "    <tr style=\"text-align: right;\">\n",
       "      <th></th>\n",
       "      <th>Accuracy</th>\n",
       "      <th>F score</th>\n",
       "      <th>AUC</th>\n",
       "      <th>LogLoss</th>\n",
       "    </tr>\n",
       "  </thead>\n",
       "  <tbody>\n",
       "    <tr>\n",
       "      <th>DummyClassifierStratified</th>\n",
       "      <td>0.492</td>\n",
       "      <td>0.176</td>\n",
       "      <td>0.479</td>\n",
       "      <td>17.560</td>\n",
       "    </tr>\n",
       "    <tr>\n",
       "      <th>DummyClassifierMostFrequent</th>\n",
       "      <td>0.882</td>\n",
       "      <td>0.000</td>\n",
       "      <td>0.500</td>\n",
       "      <td>4.063</td>\n",
       "    </tr>\n",
       "    <tr>\n",
       "      <th>LogisticRegression</th>\n",
       "      <td>0.607</td>\n",
       "      <td>0.254</td>\n",
       "      <td>0.623</td>\n",
       "      <td>0.667</td>\n",
       "    </tr>\n",
       "    <tr>\n",
       "      <th>RegularizedLogit</th>\n",
       "      <td>0.608</td>\n",
       "      <td>0.254</td>\n",
       "      <td>0.623</td>\n",
       "      <td>0.667</td>\n",
       "    </tr>\n",
       "    <tr>\n",
       "      <th>KNN</th>\n",
       "      <td>0.602</td>\n",
       "      <td>0.252</td>\n",
       "      <td>0.622</td>\n",
       "      <td>0.666</td>\n",
       "    </tr>\n",
       "    <tr>\n",
       "      <th>RadiusNN</th>\n",
       "      <td>0.627</td>\n",
       "      <td>0.241</td>\n",
       "      <td>0.580</td>\n",
       "      <td>4.438</td>\n",
       "    </tr>\n",
       "    <tr>\n",
       "      <th>SVCLinear</th>\n",
       "      <td>0.611</td>\n",
       "      <td>0.243</td>\n",
       "      <td>0.615</td>\n",
       "      <td>0.676</td>\n",
       "    </tr>\n",
       "    <tr>\n",
       "      <th>SVCPolynomial</th>\n",
       "      <td>0.847</td>\n",
       "      <td>0.220</td>\n",
       "      <td>0.620</td>\n",
       "      <td>0.670</td>\n",
       "    </tr>\n",
       "    <tr>\n",
       "      <th>SVCRadialBasis</th>\n",
       "      <td>0.615</td>\n",
       "      <td>0.255</td>\n",
       "      <td>0.610</td>\n",
       "      <td>0.677</td>\n",
       "    </tr>\n",
       "    <tr>\n",
       "      <th>DecisionTree</th>\n",
       "      <td>0.608</td>\n",
       "      <td>0.250</td>\n",
       "      <td>0.620</td>\n",
       "      <td>0.753</td>\n",
       "    </tr>\n",
       "    <tr>\n",
       "      <th>RandomForest</th>\n",
       "      <td>0.604</td>\n",
       "      <td>0.252</td>\n",
       "      <td>0.633</td>\n",
       "      <td>0.659</td>\n",
       "    </tr>\n",
       "  </tbody>\n",
       "</table>\n",
       "</div>"
      ],
      "text/plain": [
       "                             Accuracy  F score    AUC  LogLoss\n",
       "DummyClassifierStratified       0.492    0.176  0.479   17.560\n",
       "DummyClassifierMostFrequent     0.882    0.000  0.500    4.063\n",
       "LogisticRegression              0.607    0.254  0.623    0.667\n",
       "RegularizedLogit                0.608    0.254  0.623    0.667\n",
       "KNN                             0.602    0.252  0.622    0.666\n",
       "RadiusNN                        0.627    0.241  0.580    4.438\n",
       "SVCLinear                       0.611    0.243  0.615    0.676\n",
       "SVCPolynomial                   0.847    0.220  0.620    0.670\n",
       "SVCRadialBasis                  0.615    0.255  0.610    0.677\n",
       "DecisionTree                    0.608    0.250  0.620    0.753\n",
       "RandomForest                    0.604    0.252  0.633    0.659"
      ]
     },
     "execution_count": 116,
     "metadata": {},
     "output_type": "execute_result"
    }
   ],
   "source": [
    "model_comparison = pd.concat([model_comparison, rfreg], 0)\n",
    "model_comparison"
   ]
  },
  {
   "cell_type": "code",
   "execution_count": null,
   "metadata": {},
   "outputs": [],
   "source": []
  },
  {
   "cell_type": "markdown",
   "metadata": {},
   "source": [
    "#### 2. AdaBoost"
   ]
  },
  {
   "cell_type": "code",
   "execution_count": 120,
   "metadata": {},
   "outputs": [
    {
     "data": {
      "text/plain": [
       "GridSearchCV(cv=3, error_score=nan,\n",
       "             estimator=AdaBoostClassifier(algorithm='SAMME.R',\n",
       "                                          base_estimator=None,\n",
       "                                          learning_rate=1.0, n_estimators=50,\n",
       "                                          random_state=20202020),\n",
       "             iid='deprecated', n_jobs=-1,\n",
       "             param_grid={'learning_rate': [0.175, 0.2, 0.25],\n",
       "                         'n_estimators': [90, 100, 110]},\n",
       "             pre_dispatch='2*n_jobs', refit=True, return_train_score=False,\n",
       "             scoring='roc_auc', verbose=0)"
      ]
     },
     "execution_count": 120,
     "metadata": {},
     "output_type": "execute_result"
    }
   ],
   "source": [
    "Ada_params = {'learning_rate' : [0.175, 0.2, 0.25],\n",
    "              'n_estimators' : [90, 100, 110]}\n",
    "\n",
    "Ada = AdaBoostClassifier(random_state = 20202020)\n",
    "\n",
    "GRID_Ada = GridSearchCV(Ada, param_grid = Ada_params, cv = 3, scoring = 'roc_auc', n_jobs = -1)\n",
    "\n",
    "GRID_Ada.fit(X_train, y_train)"
   ]
  },
  {
   "cell_type": "code",
   "execution_count": 121,
   "metadata": {},
   "outputs": [
    {
     "data": {
      "text/plain": [
       "{'learning_rate': 0.2, 'n_estimators': 100}"
      ]
     },
     "execution_count": 121,
     "metadata": {},
     "output_type": "execute_result"
    }
   ],
   "source": [
    "GRID_Ada.best_params_"
   ]
  },
  {
   "cell_type": "code",
   "execution_count": 122,
   "metadata": {},
   "outputs": [
    {
     "name": "stdout",
     "output_type": "stream",
     "text": [
      "Accuracy for AdaBoost : 0.652\n",
      "F score for AdaBoost : 0.258\n",
      "AUC for AdaBoost : 0.632\n",
      "LogLoss for AdaBoost : 0.690\n"
     ]
    }
   ],
   "source": [
    "adaboost = evaluate_model('AdaBoost', GRID_Ada.best_estimator_, X_test, y_test)"
   ]
  },
  {
   "cell_type": "code",
   "execution_count": 123,
   "metadata": {},
   "outputs": [
    {
     "data": {
      "text/html": [
       "<div>\n",
       "<style scoped>\n",
       "    .dataframe tbody tr th:only-of-type {\n",
       "        vertical-align: middle;\n",
       "    }\n",
       "\n",
       "    .dataframe tbody tr th {\n",
       "        vertical-align: top;\n",
       "    }\n",
       "\n",
       "    .dataframe thead th {\n",
       "        text-align: right;\n",
       "    }\n",
       "</style>\n",
       "<table border=\"1\" class=\"dataframe\">\n",
       "  <thead>\n",
       "    <tr style=\"text-align: right;\">\n",
       "      <th></th>\n",
       "      <th>Accuracy</th>\n",
       "      <th>F score</th>\n",
       "      <th>AUC</th>\n",
       "      <th>LogLoss</th>\n",
       "    </tr>\n",
       "  </thead>\n",
       "  <tbody>\n",
       "    <tr>\n",
       "      <th>DummyClassifierStratified</th>\n",
       "      <td>0.492</td>\n",
       "      <td>0.176</td>\n",
       "      <td>0.479</td>\n",
       "      <td>17.560</td>\n",
       "    </tr>\n",
       "    <tr>\n",
       "      <th>DummyClassifierMostFrequent</th>\n",
       "      <td>0.882</td>\n",
       "      <td>0.000</td>\n",
       "      <td>0.500</td>\n",
       "      <td>4.063</td>\n",
       "    </tr>\n",
       "    <tr>\n",
       "      <th>LogisticRegression</th>\n",
       "      <td>0.607</td>\n",
       "      <td>0.254</td>\n",
       "      <td>0.623</td>\n",
       "      <td>0.667</td>\n",
       "    </tr>\n",
       "    <tr>\n",
       "      <th>RegularizedLogit</th>\n",
       "      <td>0.608</td>\n",
       "      <td>0.254</td>\n",
       "      <td>0.623</td>\n",
       "      <td>0.667</td>\n",
       "    </tr>\n",
       "    <tr>\n",
       "      <th>KNN</th>\n",
       "      <td>0.602</td>\n",
       "      <td>0.252</td>\n",
       "      <td>0.622</td>\n",
       "      <td>0.666</td>\n",
       "    </tr>\n",
       "    <tr>\n",
       "      <th>RadiusNN</th>\n",
       "      <td>0.627</td>\n",
       "      <td>0.241</td>\n",
       "      <td>0.580</td>\n",
       "      <td>4.438</td>\n",
       "    </tr>\n",
       "    <tr>\n",
       "      <th>SVCLinear</th>\n",
       "      <td>0.611</td>\n",
       "      <td>0.243</td>\n",
       "      <td>0.615</td>\n",
       "      <td>0.676</td>\n",
       "    </tr>\n",
       "    <tr>\n",
       "      <th>SVCPolynomial</th>\n",
       "      <td>0.847</td>\n",
       "      <td>0.220</td>\n",
       "      <td>0.620</td>\n",
       "      <td>0.670</td>\n",
       "    </tr>\n",
       "    <tr>\n",
       "      <th>SVCRadialBasis</th>\n",
       "      <td>0.615</td>\n",
       "      <td>0.255</td>\n",
       "      <td>0.610</td>\n",
       "      <td>0.677</td>\n",
       "    </tr>\n",
       "    <tr>\n",
       "      <th>DecisionTree</th>\n",
       "      <td>0.608</td>\n",
       "      <td>0.250</td>\n",
       "      <td>0.620</td>\n",
       "      <td>0.753</td>\n",
       "    </tr>\n",
       "    <tr>\n",
       "      <th>RandomForest</th>\n",
       "      <td>0.604</td>\n",
       "      <td>0.252</td>\n",
       "      <td>0.633</td>\n",
       "      <td>0.659</td>\n",
       "    </tr>\n",
       "    <tr>\n",
       "      <th>AdaBoost</th>\n",
       "      <td>0.652</td>\n",
       "      <td>0.258</td>\n",
       "      <td>0.632</td>\n",
       "      <td>0.690</td>\n",
       "    </tr>\n",
       "  </tbody>\n",
       "</table>\n",
       "</div>"
      ],
      "text/plain": [
       "                             Accuracy  F score    AUC  LogLoss\n",
       "DummyClassifierStratified       0.492    0.176  0.479   17.560\n",
       "DummyClassifierMostFrequent     0.882    0.000  0.500    4.063\n",
       "LogisticRegression              0.607    0.254  0.623    0.667\n",
       "RegularizedLogit                0.608    0.254  0.623    0.667\n",
       "KNN                             0.602    0.252  0.622    0.666\n",
       "RadiusNN                        0.627    0.241  0.580    4.438\n",
       "SVCLinear                       0.611    0.243  0.615    0.676\n",
       "SVCPolynomial                   0.847    0.220  0.620    0.670\n",
       "SVCRadialBasis                  0.615    0.255  0.610    0.677\n",
       "DecisionTree                    0.608    0.250  0.620    0.753\n",
       "RandomForest                    0.604    0.252  0.633    0.659\n",
       "AdaBoost                        0.652    0.258  0.632    0.690"
      ]
     },
     "execution_count": 123,
     "metadata": {},
     "output_type": "execute_result"
    }
   ],
   "source": [
    "model_comparison = pd.concat([model_comparison, adaboost], 0)\n",
    "model_comparison"
   ]
  },
  {
   "cell_type": "code",
   "execution_count": null,
   "metadata": {},
   "outputs": [],
   "source": []
  },
  {
   "cell_type": "markdown",
   "metadata": {},
   "source": [
    "#### 3. Gradient Boosting Machine"
   ]
  },
  {
   "cell_type": "code",
   "execution_count": 202,
   "metadata": {},
   "outputs": [
    {
     "name": "stdout",
     "output_type": "stream",
     "text": [
      "Started at Sat Dec  5 11:11:33 2020\n",
      "Ended at Sat Dec  5 11:11:34 2020\n",
      "1.2313148975372314\n"
     ]
    }
   ],
   "source": [
    "start = time.time()\n",
    "print(\"Started at\", str(time.ctime(int(start))))\n",
    "\n",
    "GBM_params = {'loss' : ['deviance'],\n",
    "              'learning_rate' : [0.01],\n",
    "              'subsample' : [0.8],\n",
    "              'max_features' : [1/3],\n",
    "              'max_depth' : [9],\n",
    "              'min_samples_split' : [15],\n",
    "              'min_samples_leaf' : [5],\n",
    "              'n_estimators' : [50]}\n",
    "\n",
    "GBM = GradientBoostingClassifier(random_state = 20202020)\n",
    "\n",
    "GRID_GBM = GridSearchCV(GBM, param_grid = GBM_params, cv = 3, scoring = 'roc_auc', n_jobs = -1)\n",
    "\n",
    "GRID_GBM.fit(X_train, y_train)\n",
    "\n",
    "print(\"Ended at\", str(time.ctime(int(time.time()))))\n",
    "print(time.time() - start)"
   ]
  },
  {
   "cell_type": "code",
   "execution_count": 203,
   "metadata": {},
   "outputs": [
    {
     "data": {
      "text/plain": [
       "{'learning_rate': 0.01,\n",
       " 'loss': 'deviance',\n",
       " 'max_depth': 9,\n",
       " 'max_features': 0.3333333333333333,\n",
       " 'min_samples_leaf': 5,\n",
       " 'min_samples_split': 15,\n",
       " 'n_estimators': 50,\n",
       " 'subsample': 0.8}"
      ]
     },
     "execution_count": 203,
     "metadata": {},
     "output_type": "execute_result"
    }
   ],
   "source": [
    "GRID_GBM.best_params_"
   ]
  },
  {
   "cell_type": "code",
   "execution_count": 204,
   "metadata": {},
   "outputs": [
    {
     "name": "stdout",
     "output_type": "stream",
     "text": [
      "Accuracy for GradientBoosting : 0.614\n",
      "F score for GradientBoosting : 0.249\n",
      "AUC for GradientBoosting : 0.635\n",
      "LogLoss for GradientBoosting : 0.672\n"
     ]
    }
   ],
   "source": [
    "gradboost = evaluate_model('GradientBoosting', GRID_GBM.best_estimator_, X_test, y_test)"
   ]
  },
  {
   "cell_type": "code",
   "execution_count": 205,
   "metadata": {},
   "outputs": [
    {
     "data": {
      "text/html": [
       "<div>\n",
       "<style scoped>\n",
       "    .dataframe tbody tr th:only-of-type {\n",
       "        vertical-align: middle;\n",
       "    }\n",
       "\n",
       "    .dataframe tbody tr th {\n",
       "        vertical-align: top;\n",
       "    }\n",
       "\n",
       "    .dataframe thead th {\n",
       "        text-align: right;\n",
       "    }\n",
       "</style>\n",
       "<table border=\"1\" class=\"dataframe\">\n",
       "  <thead>\n",
       "    <tr style=\"text-align: right;\">\n",
       "      <th></th>\n",
       "      <th>Accuracy</th>\n",
       "      <th>F score</th>\n",
       "      <th>AUC</th>\n",
       "      <th>LogLoss</th>\n",
       "    </tr>\n",
       "  </thead>\n",
       "  <tbody>\n",
       "    <tr>\n",
       "      <th>DummyClassifierStratified</th>\n",
       "      <td>0.492</td>\n",
       "      <td>0.176</td>\n",
       "      <td>0.479</td>\n",
       "      <td>17.560</td>\n",
       "    </tr>\n",
       "    <tr>\n",
       "      <th>DummyClassifierMostFrequent</th>\n",
       "      <td>0.882</td>\n",
       "      <td>0.000</td>\n",
       "      <td>0.500</td>\n",
       "      <td>4.063</td>\n",
       "    </tr>\n",
       "    <tr>\n",
       "      <th>LogisticRegression</th>\n",
       "      <td>0.607</td>\n",
       "      <td>0.254</td>\n",
       "      <td>0.623</td>\n",
       "      <td>0.667</td>\n",
       "    </tr>\n",
       "    <tr>\n",
       "      <th>RegularizedLogit</th>\n",
       "      <td>0.608</td>\n",
       "      <td>0.254</td>\n",
       "      <td>0.623</td>\n",
       "      <td>0.667</td>\n",
       "    </tr>\n",
       "    <tr>\n",
       "      <th>KNN</th>\n",
       "      <td>0.602</td>\n",
       "      <td>0.252</td>\n",
       "      <td>0.622</td>\n",
       "      <td>0.666</td>\n",
       "    </tr>\n",
       "    <tr>\n",
       "      <th>RadiusNN</th>\n",
       "      <td>0.627</td>\n",
       "      <td>0.241</td>\n",
       "      <td>0.580</td>\n",
       "      <td>4.438</td>\n",
       "    </tr>\n",
       "    <tr>\n",
       "      <th>SVCLinear</th>\n",
       "      <td>0.611</td>\n",
       "      <td>0.243</td>\n",
       "      <td>0.615</td>\n",
       "      <td>0.676</td>\n",
       "    </tr>\n",
       "    <tr>\n",
       "      <th>SVCPolynomial</th>\n",
       "      <td>0.847</td>\n",
       "      <td>0.220</td>\n",
       "      <td>0.620</td>\n",
       "      <td>0.670</td>\n",
       "    </tr>\n",
       "    <tr>\n",
       "      <th>SVCRadialBasis</th>\n",
       "      <td>0.615</td>\n",
       "      <td>0.255</td>\n",
       "      <td>0.610</td>\n",
       "      <td>0.677</td>\n",
       "    </tr>\n",
       "    <tr>\n",
       "      <th>DecisionTree</th>\n",
       "      <td>0.608</td>\n",
       "      <td>0.250</td>\n",
       "      <td>0.620</td>\n",
       "      <td>0.753</td>\n",
       "    </tr>\n",
       "    <tr>\n",
       "      <th>RandomForest</th>\n",
       "      <td>0.604</td>\n",
       "      <td>0.252</td>\n",
       "      <td>0.633</td>\n",
       "      <td>0.659</td>\n",
       "    </tr>\n",
       "    <tr>\n",
       "      <th>AdaBoost</th>\n",
       "      <td>0.652</td>\n",
       "      <td>0.258</td>\n",
       "      <td>0.632</td>\n",
       "      <td>0.690</td>\n",
       "    </tr>\n",
       "    <tr>\n",
       "      <th>GradientBoosting</th>\n",
       "      <td>0.614</td>\n",
       "      <td>0.249</td>\n",
       "      <td>0.635</td>\n",
       "      <td>0.672</td>\n",
       "    </tr>\n",
       "  </tbody>\n",
       "</table>\n",
       "</div>"
      ],
      "text/plain": [
       "                             Accuracy  F score    AUC  LogLoss\n",
       "DummyClassifierStratified       0.492    0.176  0.479   17.560\n",
       "DummyClassifierMostFrequent     0.882    0.000  0.500    4.063\n",
       "LogisticRegression              0.607    0.254  0.623    0.667\n",
       "RegularizedLogit                0.608    0.254  0.623    0.667\n",
       "KNN                             0.602    0.252  0.622    0.666\n",
       "RadiusNN                        0.627    0.241  0.580    4.438\n",
       "SVCLinear                       0.611    0.243  0.615    0.676\n",
       "SVCPolynomial                   0.847    0.220  0.620    0.670\n",
       "SVCRadialBasis                  0.615    0.255  0.610    0.677\n",
       "DecisionTree                    0.608    0.250  0.620    0.753\n",
       "RandomForest                    0.604    0.252  0.633    0.659\n",
       "AdaBoost                        0.652    0.258  0.632    0.690\n",
       "GradientBoosting                0.614    0.249  0.635    0.672"
      ]
     },
     "execution_count": 205,
     "metadata": {},
     "output_type": "execute_result"
    }
   ],
   "source": [
    "model_comparison = pd.concat([model_comparison, gradboost], 0)\n",
    "model_comparison"
   ]
  },
  {
   "cell_type": "markdown",
   "metadata": {},
   "source": [
    "### 8. eXtreme Gradient Boosting Machine"
   ]
  },
  {
   "cell_type": "code",
   "execution_count": 291,
   "metadata": {},
   "outputs": [
    {
     "name": "stdout",
     "output_type": "stream",
     "text": [
      "Started at Sat Dec  5 12:07:28 2020\n",
      "Ended at Sat Dec  5 12:07:35 2020\n",
      "7.099944591522217\n"
     ]
    }
   ],
   "source": [
    "start = time.time()\n",
    "print(\"Started at\", str(time.ctime(int(start))))\n",
    "\n",
    "XGB_params = {'eta' : [0.01],\n",
    "              'gamma' : [1.2],\n",
    "              'subsample' : [1/2],\n",
    "              'colsample_bytree' : [1/2],\n",
    "              'colsample_bynode' : [1/2],\n",
    "              'max_depth' : [5],\n",
    "              'min_child_weight' : [1],\n",
    "              'n_estimators' : [425]}\n",
    "\n",
    "XGB = xgb.XGBClassifier(random_state = 20202020, verbosity = 0,\n",
    "                       objective = 'binary:logistic', eval_metric = 'auc')\n",
    "\n",
    "GRID_XGB = GridSearchCV(XGB, param_grid = XGB_params, cv = 3, scoring = 'roc_auc')\n",
    "\n",
    "GRID_XGB.fit(X_train, y_train)\n",
    "\n",
    "print(\"Ended at\", str(time.ctime(int(time.time()))))\n",
    "print(time.time() - start)"
   ]
  },
  {
   "cell_type": "code",
   "execution_count": 292,
   "metadata": {},
   "outputs": [
    {
     "data": {
      "text/plain": [
       "{'colsample_bynode': 0.5,\n",
       " 'colsample_bytree': 0.5,\n",
       " 'eta': 0.01,\n",
       " 'gamma': 1.2,\n",
       " 'max_depth': 5,\n",
       " 'min_child_weight': 1,\n",
       " 'n_estimators': 425,\n",
       " 'subsample': 0.5}"
      ]
     },
     "execution_count": 292,
     "metadata": {},
     "output_type": "execute_result"
    }
   ],
   "source": [
    "GRID_XGB.best_params_"
   ]
  },
  {
   "cell_type": "code",
   "execution_count": 293,
   "metadata": {},
   "outputs": [
    {
     "name": "stdout",
     "output_type": "stream",
     "text": [
      "Accuracy for xgBoost : 0.602\n",
      "F score for xgBoost : 0.250\n",
      "AUC for xgBoost : 0.634\n",
      "LogLoss for xgBoost : 0.656\n"
     ]
    }
   ],
   "source": [
    "xgboost = evaluate_model('xgBoost', GRID_XGB.best_estimator_, X_test, y_test)"
   ]
  },
  {
   "cell_type": "code",
   "execution_count": 294,
   "metadata": {},
   "outputs": [
    {
     "data": {
      "text/html": [
       "<div>\n",
       "<style scoped>\n",
       "    .dataframe tbody tr th:only-of-type {\n",
       "        vertical-align: middle;\n",
       "    }\n",
       "\n",
       "    .dataframe tbody tr th {\n",
       "        vertical-align: top;\n",
       "    }\n",
       "\n",
       "    .dataframe thead th {\n",
       "        text-align: right;\n",
       "    }\n",
       "</style>\n",
       "<table border=\"1\" class=\"dataframe\">\n",
       "  <thead>\n",
       "    <tr style=\"text-align: right;\">\n",
       "      <th></th>\n",
       "      <th>Accuracy</th>\n",
       "      <th>F score</th>\n",
       "      <th>AUC</th>\n",
       "      <th>LogLoss</th>\n",
       "    </tr>\n",
       "  </thead>\n",
       "  <tbody>\n",
       "    <tr>\n",
       "      <th>DummyClassifierStratified</th>\n",
       "      <td>0.492</td>\n",
       "      <td>0.176</td>\n",
       "      <td>0.479</td>\n",
       "      <td>17.560</td>\n",
       "    </tr>\n",
       "    <tr>\n",
       "      <th>DummyClassifierMostFrequent</th>\n",
       "      <td>0.882</td>\n",
       "      <td>0.000</td>\n",
       "      <td>0.500</td>\n",
       "      <td>4.063</td>\n",
       "    </tr>\n",
       "    <tr>\n",
       "      <th>LogisticRegression</th>\n",
       "      <td>0.607</td>\n",
       "      <td>0.254</td>\n",
       "      <td>0.623</td>\n",
       "      <td>0.667</td>\n",
       "    </tr>\n",
       "    <tr>\n",
       "      <th>RegularizedLogit</th>\n",
       "      <td>0.608</td>\n",
       "      <td>0.254</td>\n",
       "      <td>0.623</td>\n",
       "      <td>0.667</td>\n",
       "    </tr>\n",
       "    <tr>\n",
       "      <th>KNN</th>\n",
       "      <td>0.602</td>\n",
       "      <td>0.252</td>\n",
       "      <td>0.622</td>\n",
       "      <td>0.666</td>\n",
       "    </tr>\n",
       "    <tr>\n",
       "      <th>RadiusNN</th>\n",
       "      <td>0.627</td>\n",
       "      <td>0.241</td>\n",
       "      <td>0.580</td>\n",
       "      <td>4.438</td>\n",
       "    </tr>\n",
       "    <tr>\n",
       "      <th>SVCLinear</th>\n",
       "      <td>0.611</td>\n",
       "      <td>0.243</td>\n",
       "      <td>0.615</td>\n",
       "      <td>0.676</td>\n",
       "    </tr>\n",
       "    <tr>\n",
       "      <th>SVCPolynomial</th>\n",
       "      <td>0.847</td>\n",
       "      <td>0.220</td>\n",
       "      <td>0.620</td>\n",
       "      <td>0.670</td>\n",
       "    </tr>\n",
       "    <tr>\n",
       "      <th>SVCRadialBasis</th>\n",
       "      <td>0.615</td>\n",
       "      <td>0.255</td>\n",
       "      <td>0.610</td>\n",
       "      <td>0.677</td>\n",
       "    </tr>\n",
       "    <tr>\n",
       "      <th>DecisionTree</th>\n",
       "      <td>0.608</td>\n",
       "      <td>0.250</td>\n",
       "      <td>0.620</td>\n",
       "      <td>0.753</td>\n",
       "    </tr>\n",
       "    <tr>\n",
       "      <th>RandomForest</th>\n",
       "      <td>0.604</td>\n",
       "      <td>0.252</td>\n",
       "      <td>0.633</td>\n",
       "      <td>0.659</td>\n",
       "    </tr>\n",
       "    <tr>\n",
       "      <th>AdaBoost</th>\n",
       "      <td>0.652</td>\n",
       "      <td>0.258</td>\n",
       "      <td>0.632</td>\n",
       "      <td>0.690</td>\n",
       "    </tr>\n",
       "    <tr>\n",
       "      <th>GradientBoosting</th>\n",
       "      <td>0.614</td>\n",
       "      <td>0.249</td>\n",
       "      <td>0.635</td>\n",
       "      <td>0.672</td>\n",
       "    </tr>\n",
       "    <tr>\n",
       "      <th>xgBoost</th>\n",
       "      <td>0.602</td>\n",
       "      <td>0.250</td>\n",
       "      <td>0.634</td>\n",
       "      <td>0.656</td>\n",
       "    </tr>\n",
       "  </tbody>\n",
       "</table>\n",
       "</div>"
      ],
      "text/plain": [
       "                             Accuracy  F score    AUC  LogLoss\n",
       "DummyClassifierStratified       0.492    0.176  0.479   17.560\n",
       "DummyClassifierMostFrequent     0.882    0.000  0.500    4.063\n",
       "LogisticRegression              0.607    0.254  0.623    0.667\n",
       "RegularizedLogit                0.608    0.254  0.623    0.667\n",
       "KNN                             0.602    0.252  0.622    0.666\n",
       "RadiusNN                        0.627    0.241  0.580    4.438\n",
       "SVCLinear                       0.611    0.243  0.615    0.676\n",
       "SVCPolynomial                   0.847    0.220  0.620    0.670\n",
       "SVCRadialBasis                  0.615    0.255  0.610    0.677\n",
       "DecisionTree                    0.608    0.250  0.620    0.753\n",
       "RandomForest                    0.604    0.252  0.633    0.659\n",
       "AdaBoost                        0.652    0.258  0.632    0.690\n",
       "GradientBoosting                0.614    0.249  0.635    0.672\n",
       "xgBoost                         0.602    0.250  0.634    0.656"
      ]
     },
     "execution_count": 294,
     "metadata": {},
     "output_type": "execute_result"
    }
   ],
   "source": [
    "model_comparison = pd.concat([model_comparison, xgboost], 0)\n",
    "model_comparison"
   ]
  },
  {
   "cell_type": "markdown",
   "metadata": {},
   "source": [
    "### 9. Light Gradient Boosting Machine\n",
    "\n",
    "https://lightgbm.readthedocs.io/en/latest/pythonapi/lightgbm.LGBMRegressor.html#lightgbm.LGBMRegressor"
   ]
  },
  {
   "cell_type": "code",
   "execution_count": 341,
   "metadata": {},
   "outputs": [
    {
     "name": "stdout",
     "output_type": "stream",
     "text": [
      "Started at Sat Dec  5 12:26:32 2020\n",
      "Ended at Sat Dec  5 12:26:33 2020\n",
      "0.654625654220581\n"
     ]
    }
   ],
   "source": [
    "start = time.time()\n",
    "print(\"Started at\", str(time.ctime(int(start))))\n",
    "\n",
    "LGB_params = {'boosting_type' : ['dart'],\n",
    "              'learning_rate' : [0.1],\n",
    "              'num_leaves' : [9],\n",
    "              'min_child_samples' : [5],\n",
    "              'max_depth' : [5],\n",
    "              'subsample' : [1/3],\n",
    "              'colsample_bytree' : [1/3],\n",
    "              'n_estimators' : [145]}\n",
    "\n",
    "LGB = lgb.LGBMClassifier(random_state = 20202020,\n",
    "                        objective = 'binary', metric = 'auc')\n",
    "\n",
    "GRID_LGB = GridSearchCV(LGB, param_grid = LGB_params, cv = 3, scoring = 'roc_auc', n_jobs = -1)\n",
    "\n",
    "GRID_LGB.fit(X_train, y_train)\n",
    "\n",
    "print(\"Ended at\", str(time.ctime(int(time.time()))))\n",
    "print(time.time() - start)"
   ]
  },
  {
   "cell_type": "code",
   "execution_count": 342,
   "metadata": {},
   "outputs": [
    {
     "data": {
      "text/plain": [
       "{'boosting_type': 'dart',\n",
       " 'colsample_bytree': 0.3333333333333333,\n",
       " 'learning_rate': 0.1,\n",
       " 'max_depth': 5,\n",
       " 'min_child_samples': 5,\n",
       " 'n_estimators': 145,\n",
       " 'num_leaves': 9,\n",
       " 'subsample': 0.3333333333333333}"
      ]
     },
     "execution_count": 342,
     "metadata": {},
     "output_type": "execute_result"
    }
   ],
   "source": [
    "GRID_LGB.best_params_"
   ]
  },
  {
   "cell_type": "code",
   "execution_count": 343,
   "metadata": {},
   "outputs": [
    {
     "name": "stdout",
     "output_type": "stream",
     "text": [
      "Accuracy for LightGBM : 0.599\n",
      "F score for LightGBM : 0.250\n",
      "AUC for LightGBM : 0.632\n",
      "LogLoss for LightGBM : 0.659\n"
     ]
    }
   ],
   "source": [
    "lightgbm = evaluate_model('LightGBM', GRID_LGB.best_estimator_, X_test, y_test)"
   ]
  },
  {
   "cell_type": "code",
   "execution_count": 344,
   "metadata": {},
   "outputs": [
    {
     "data": {
      "text/html": [
       "<div>\n",
       "<style scoped>\n",
       "    .dataframe tbody tr th:only-of-type {\n",
       "        vertical-align: middle;\n",
       "    }\n",
       "\n",
       "    .dataframe tbody tr th {\n",
       "        vertical-align: top;\n",
       "    }\n",
       "\n",
       "    .dataframe thead th {\n",
       "        text-align: right;\n",
       "    }\n",
       "</style>\n",
       "<table border=\"1\" class=\"dataframe\">\n",
       "  <thead>\n",
       "    <tr style=\"text-align: right;\">\n",
       "      <th></th>\n",
       "      <th>Accuracy</th>\n",
       "      <th>F score</th>\n",
       "      <th>AUC</th>\n",
       "      <th>LogLoss</th>\n",
       "    </tr>\n",
       "  </thead>\n",
       "  <tbody>\n",
       "    <tr>\n",
       "      <th>DummyClassifierStratified</th>\n",
       "      <td>0.492</td>\n",
       "      <td>0.176</td>\n",
       "      <td>0.479</td>\n",
       "      <td>17.560</td>\n",
       "    </tr>\n",
       "    <tr>\n",
       "      <th>DummyClassifierMostFrequent</th>\n",
       "      <td>0.882</td>\n",
       "      <td>0.000</td>\n",
       "      <td>0.500</td>\n",
       "      <td>4.063</td>\n",
       "    </tr>\n",
       "    <tr>\n",
       "      <th>LogisticRegression</th>\n",
       "      <td>0.607</td>\n",
       "      <td>0.254</td>\n",
       "      <td>0.623</td>\n",
       "      <td>0.667</td>\n",
       "    </tr>\n",
       "    <tr>\n",
       "      <th>RegularizedLogit</th>\n",
       "      <td>0.608</td>\n",
       "      <td>0.254</td>\n",
       "      <td>0.623</td>\n",
       "      <td>0.667</td>\n",
       "    </tr>\n",
       "    <tr>\n",
       "      <th>KNN</th>\n",
       "      <td>0.602</td>\n",
       "      <td>0.252</td>\n",
       "      <td>0.622</td>\n",
       "      <td>0.666</td>\n",
       "    </tr>\n",
       "    <tr>\n",
       "      <th>RadiusNN</th>\n",
       "      <td>0.627</td>\n",
       "      <td>0.241</td>\n",
       "      <td>0.580</td>\n",
       "      <td>4.438</td>\n",
       "    </tr>\n",
       "    <tr>\n",
       "      <th>SVCLinear</th>\n",
       "      <td>0.611</td>\n",
       "      <td>0.243</td>\n",
       "      <td>0.615</td>\n",
       "      <td>0.676</td>\n",
       "    </tr>\n",
       "    <tr>\n",
       "      <th>SVCPolynomial</th>\n",
       "      <td>0.847</td>\n",
       "      <td>0.220</td>\n",
       "      <td>0.620</td>\n",
       "      <td>0.670</td>\n",
       "    </tr>\n",
       "    <tr>\n",
       "      <th>SVCRadialBasis</th>\n",
       "      <td>0.615</td>\n",
       "      <td>0.255</td>\n",
       "      <td>0.610</td>\n",
       "      <td>0.677</td>\n",
       "    </tr>\n",
       "    <tr>\n",
       "      <th>DecisionTree</th>\n",
       "      <td>0.608</td>\n",
       "      <td>0.250</td>\n",
       "      <td>0.620</td>\n",
       "      <td>0.753</td>\n",
       "    </tr>\n",
       "    <tr>\n",
       "      <th>RandomForest</th>\n",
       "      <td>0.604</td>\n",
       "      <td>0.252</td>\n",
       "      <td>0.633</td>\n",
       "      <td>0.659</td>\n",
       "    </tr>\n",
       "    <tr>\n",
       "      <th>AdaBoost</th>\n",
       "      <td>0.652</td>\n",
       "      <td>0.258</td>\n",
       "      <td>0.632</td>\n",
       "      <td>0.690</td>\n",
       "    </tr>\n",
       "    <tr>\n",
       "      <th>GradientBoosting</th>\n",
       "      <td>0.614</td>\n",
       "      <td>0.249</td>\n",
       "      <td>0.635</td>\n",
       "      <td>0.672</td>\n",
       "    </tr>\n",
       "    <tr>\n",
       "      <th>xgBoost</th>\n",
       "      <td>0.602</td>\n",
       "      <td>0.250</td>\n",
       "      <td>0.634</td>\n",
       "      <td>0.656</td>\n",
       "    </tr>\n",
       "    <tr>\n",
       "      <th>LightGBM</th>\n",
       "      <td>0.599</td>\n",
       "      <td>0.250</td>\n",
       "      <td>0.632</td>\n",
       "      <td>0.659</td>\n",
       "    </tr>\n",
       "  </tbody>\n",
       "</table>\n",
       "</div>"
      ],
      "text/plain": [
       "                             Accuracy  F score    AUC  LogLoss\n",
       "DummyClassifierStratified       0.492    0.176  0.479   17.560\n",
       "DummyClassifierMostFrequent     0.882    0.000  0.500    4.063\n",
       "LogisticRegression              0.607    0.254  0.623    0.667\n",
       "RegularizedLogit                0.608    0.254  0.623    0.667\n",
       "KNN                             0.602    0.252  0.622    0.666\n",
       "RadiusNN                        0.627    0.241  0.580    4.438\n",
       "SVCLinear                       0.611    0.243  0.615    0.676\n",
       "SVCPolynomial                   0.847    0.220  0.620    0.670\n",
       "SVCRadialBasis                  0.615    0.255  0.610    0.677\n",
       "DecisionTree                    0.608    0.250  0.620    0.753\n",
       "RandomForest                    0.604    0.252  0.633    0.659\n",
       "AdaBoost                        0.652    0.258  0.632    0.690\n",
       "GradientBoosting                0.614    0.249  0.635    0.672\n",
       "xgBoost                         0.602    0.250  0.634    0.656\n",
       "LightGBM                        0.599    0.250  0.632    0.659"
      ]
     },
     "execution_count": 344,
     "metadata": {},
     "output_type": "execute_result"
    }
   ],
   "source": [
    "model_comparison = pd.concat([model_comparison, lightgbm], 0)\n",
    "model_comparison"
   ]
  },
  {
   "cell_type": "markdown",
   "metadata": {},
   "source": [
    "### 10. CatBoost - Categorical Boosting Machine\n",
    "\n",
    "https://catboost.ai/docs/concepts/python-reference_parameters-list.html"
   ]
  },
  {
   "cell_type": "code",
   "execution_count": 639,
   "metadata": {},
   "outputs": [
    {
     "name": "stdout",
     "output_type": "stream",
     "text": [
      "Started at Sat Dec  5 20:39:44 2020\n",
      "Ended at Sat Dec  5 20:39:47 2020\n",
      "3.2371268272399902\n"
     ]
    }
   ],
   "source": [
    "start = time.time()\n",
    "print(\"Started at\", str(time.ctime(int(start))))\n",
    "\n",
    "cat_params = {'learning_rate': [0.005],\n",
    "              'l2_leaf_reg': [0.45],\n",
    "              'subsample': [0.75],\n",
    "              'rsm' : [0.5],\n",
    "              'max_depth': [9], # up to 16 (8 on gpu)\n",
    "              'grow_policy': ['Lossguide'],\n",
    "              'min_data_in_leaf' : [13], \n",
    "              'max_leaves' : [10],\n",
    "              'bagging_temperature' : [10],\n",
    "              'iterations' : [180]} \n",
    "\n",
    "cat = CatBoostClassifier(random_state = 20202020, verbose = 0,\n",
    "                         eval_metric = 'AUC:hints=skip_train~false', objective = 'Logloss',\n",
    "                         cat_features = ['job', 'marital_status', 'education', 'housing_loan', 'personal_loan'])\n",
    "\n",
    "GRID_cat = GridSearchCV(cat, param_grid = cat_params, cv = 3, scoring = 'roc_auc', n_jobs = -1)\n",
    "\n",
    "GRID_cat.fit(X_train_original, y_train)\n",
    "\n",
    "print(\"Ended at\", str(time.ctime(int(time.time()))))\n",
    "print(time.time() - start)"
   ]
  },
  {
   "cell_type": "code",
   "execution_count": 640,
   "metadata": {},
   "outputs": [
    {
     "data": {
      "text/plain": [
       "{'bagging_temperature': 10,\n",
       " 'grow_policy': 'Lossguide',\n",
       " 'iterations': 180,\n",
       " 'l2_leaf_reg': 0.45,\n",
       " 'learning_rate': 0.005,\n",
       " 'max_depth': 9,\n",
       " 'max_leaves': 10,\n",
       " 'min_data_in_leaf': 13,\n",
       " 'rsm': 0.5,\n",
       " 'subsample': 0.75}"
      ]
     },
     "execution_count": 640,
     "metadata": {},
     "output_type": "execute_result"
    }
   ],
   "source": [
    "GRID_cat.best_params_"
   ]
  },
  {
   "cell_type": "code",
   "execution_count": 641,
   "metadata": {},
   "outputs": [
    {
     "name": "stdout",
     "output_type": "stream",
     "text": [
      "Accuracy for CatBoost : 0.589\n",
      "F score for CatBoost : 0.241\n",
      "AUC for CatBoost : 0.631\n",
      "LogLoss for CatBoost : 0.676\n"
     ]
    }
   ],
   "source": [
    "catboost = evaluate_model('CatBoost', GRID_cat.best_estimator_, X_test_original, y_test)"
   ]
  },
  {
   "cell_type": "code",
   "execution_count": 642,
   "metadata": {},
   "outputs": [
    {
     "data": {
      "text/html": [
       "<div>\n",
       "<style scoped>\n",
       "    .dataframe tbody tr th:only-of-type {\n",
       "        vertical-align: middle;\n",
       "    }\n",
       "\n",
       "    .dataframe tbody tr th {\n",
       "        vertical-align: top;\n",
       "    }\n",
       "\n",
       "    .dataframe thead th {\n",
       "        text-align: right;\n",
       "    }\n",
       "</style>\n",
       "<table border=\"1\" class=\"dataframe\">\n",
       "  <thead>\n",
       "    <tr style=\"text-align: right;\">\n",
       "      <th></th>\n",
       "      <th>Accuracy</th>\n",
       "      <th>F score</th>\n",
       "      <th>AUC</th>\n",
       "      <th>LogLoss</th>\n",
       "    </tr>\n",
       "  </thead>\n",
       "  <tbody>\n",
       "    <tr>\n",
       "      <th>DummyClassifierStratified</th>\n",
       "      <td>0.492</td>\n",
       "      <td>0.176</td>\n",
       "      <td>0.479</td>\n",
       "      <td>17.560</td>\n",
       "    </tr>\n",
       "    <tr>\n",
       "      <th>DummyClassifierMostFrequent</th>\n",
       "      <td>0.882</td>\n",
       "      <td>0.000</td>\n",
       "      <td>0.500</td>\n",
       "      <td>4.063</td>\n",
       "    </tr>\n",
       "    <tr>\n",
       "      <th>LogisticRegression</th>\n",
       "      <td>0.607</td>\n",
       "      <td>0.254</td>\n",
       "      <td>0.623</td>\n",
       "      <td>0.667</td>\n",
       "    </tr>\n",
       "    <tr>\n",
       "      <th>RegularizedLogit</th>\n",
       "      <td>0.608</td>\n",
       "      <td>0.254</td>\n",
       "      <td>0.623</td>\n",
       "      <td>0.667</td>\n",
       "    </tr>\n",
       "    <tr>\n",
       "      <th>KNN</th>\n",
       "      <td>0.602</td>\n",
       "      <td>0.252</td>\n",
       "      <td>0.622</td>\n",
       "      <td>0.666</td>\n",
       "    </tr>\n",
       "    <tr>\n",
       "      <th>RadiusNN</th>\n",
       "      <td>0.627</td>\n",
       "      <td>0.241</td>\n",
       "      <td>0.580</td>\n",
       "      <td>4.438</td>\n",
       "    </tr>\n",
       "    <tr>\n",
       "      <th>SVCLinear</th>\n",
       "      <td>0.611</td>\n",
       "      <td>0.243</td>\n",
       "      <td>0.615</td>\n",
       "      <td>0.676</td>\n",
       "    </tr>\n",
       "    <tr>\n",
       "      <th>SVCPolynomial</th>\n",
       "      <td>0.847</td>\n",
       "      <td>0.220</td>\n",
       "      <td>0.620</td>\n",
       "      <td>0.670</td>\n",
       "    </tr>\n",
       "    <tr>\n",
       "      <th>SVCRadialBasis</th>\n",
       "      <td>0.615</td>\n",
       "      <td>0.255</td>\n",
       "      <td>0.610</td>\n",
       "      <td>0.677</td>\n",
       "    </tr>\n",
       "    <tr>\n",
       "      <th>DecisionTree</th>\n",
       "      <td>0.608</td>\n",
       "      <td>0.250</td>\n",
       "      <td>0.620</td>\n",
       "      <td>0.753</td>\n",
       "    </tr>\n",
       "    <tr>\n",
       "      <th>RandomForest</th>\n",
       "      <td>0.604</td>\n",
       "      <td>0.252</td>\n",
       "      <td>0.633</td>\n",
       "      <td>0.659</td>\n",
       "    </tr>\n",
       "    <tr>\n",
       "      <th>AdaBoost</th>\n",
       "      <td>0.652</td>\n",
       "      <td>0.258</td>\n",
       "      <td>0.632</td>\n",
       "      <td>0.690</td>\n",
       "    </tr>\n",
       "    <tr>\n",
       "      <th>GradientBoosting</th>\n",
       "      <td>0.614</td>\n",
       "      <td>0.249</td>\n",
       "      <td>0.635</td>\n",
       "      <td>0.672</td>\n",
       "    </tr>\n",
       "    <tr>\n",
       "      <th>xgBoost</th>\n",
       "      <td>0.602</td>\n",
       "      <td>0.250</td>\n",
       "      <td>0.634</td>\n",
       "      <td>0.656</td>\n",
       "    </tr>\n",
       "    <tr>\n",
       "      <th>LightGBM</th>\n",
       "      <td>0.599</td>\n",
       "      <td>0.250</td>\n",
       "      <td>0.632</td>\n",
       "      <td>0.659</td>\n",
       "    </tr>\n",
       "    <tr>\n",
       "      <th>CatBoost</th>\n",
       "      <td>0.589</td>\n",
       "      <td>0.241</td>\n",
       "      <td>0.631</td>\n",
       "      <td>0.676</td>\n",
       "    </tr>\n",
       "  </tbody>\n",
       "</table>\n",
       "</div>"
      ],
      "text/plain": [
       "                             Accuracy  F score    AUC  LogLoss\n",
       "DummyClassifierStratified       0.492    0.176  0.479   17.560\n",
       "DummyClassifierMostFrequent     0.882    0.000  0.500    4.063\n",
       "LogisticRegression              0.607    0.254  0.623    0.667\n",
       "RegularizedLogit                0.608    0.254  0.623    0.667\n",
       "KNN                             0.602    0.252  0.622    0.666\n",
       "RadiusNN                        0.627    0.241  0.580    4.438\n",
       "SVCLinear                       0.611    0.243  0.615    0.676\n",
       "SVCPolynomial                   0.847    0.220  0.620    0.670\n",
       "SVCRadialBasis                  0.615    0.255  0.610    0.677\n",
       "DecisionTree                    0.608    0.250  0.620    0.753\n",
       "RandomForest                    0.604    0.252  0.633    0.659\n",
       "AdaBoost                        0.652    0.258  0.632    0.690\n",
       "GradientBoosting                0.614    0.249  0.635    0.672\n",
       "xgBoost                         0.602    0.250  0.634    0.656\n",
       "LightGBM                        0.599    0.250  0.632    0.659\n",
       "CatBoost                        0.589    0.241  0.631    0.676"
      ]
     },
     "execution_count": 642,
     "metadata": {},
     "output_type": "execute_result"
    }
   ],
   "source": [
    "model_comparison = pd.concat([model_comparison, catboost], 0)\n",
    "model_comparison"
   ]
  },
  {
   "cell_type": "code",
   "execution_count": null,
   "metadata": {},
   "outputs": [],
   "source": []
  },
  {
   "cell_type": "code",
   "execution_count": 643,
   "metadata": {},
   "outputs": [],
   "source": [
    "pkl_filename = \"GBM.pkl\"\n",
    "\n",
    "with open(pkl_filename, 'wb') as file:\n",
    "    pickle.dump(GRID_GBM.best_estimator_, file)"
   ]
  },
  {
   "cell_type": "code",
   "execution_count": null,
   "metadata": {},
   "outputs": [],
   "source": []
  },
  {
   "cell_type": "markdown",
   "metadata": {},
   "source": [
    "### Save datasets for evaluation"
   ]
  },
  {
   "cell_type": "code",
   "execution_count": 644,
   "metadata": {},
   "outputs": [],
   "source": [
    "X_train_original.to_csv('../../data/bank/X_train_original.csv', index = False)\n",
    "X_test_original.to_csv('../../data/bank/X_test_original.csv', index = False)\n",
    "X_train.to_csv('../../data/bank/X_train.csv', index = False)\n",
    "X_test.to_csv('../../data/bank/X_test.csv', index = False)\n",
    "y_train.to_csv('../../data/bank/y_train.csv', index = False)\n",
    "y_test.to_csv('../../data/bank/y_test.csv', index = False)"
   ]
  },
  {
   "cell_type": "code",
   "execution_count": 645,
   "metadata": {},
   "outputs": [],
   "source": [
    "#model_comparison = pd.read_csv('../../data/laptops/model_comparison.csv', index_col=0)\n",
    "model_comparison.to_csv('../../data/bank/model_comparison.csv')"
   ]
  },
  {
   "cell_type": "code",
   "execution_count": null,
   "metadata": {},
   "outputs": [],
   "source": []
  }
 ],
 "metadata": {
  "kernelspec": {
   "display_name": "Python 3",
   "language": "python",
   "name": "python3"
  },
  "language_info": {
   "codemirror_mode": {
    "name": "ipython",
    "version": 3
   },
   "file_extension": ".py",
   "mimetype": "text/x-python",
   "name": "python",
   "nbconvert_exporter": "python",
   "pygments_lexer": "ipython3",
   "version": "3.7.3"
  }
 },
 "nbformat": 4,
 "nbformat_minor": 4
}
