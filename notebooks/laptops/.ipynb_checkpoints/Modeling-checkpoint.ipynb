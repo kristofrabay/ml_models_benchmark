{
 "cells": [
  {
   "cell_type": "code",
   "execution_count": 2,
   "metadata": {},
   "outputs": [],
   "source": [
    "import pandas as pd\n",
    "import numpy as np\n",
    "\n",
    "import matplotlib.pyplot as plt\n",
    "from mpl_toolkits.mplot3d import Axes3D\n",
    "import seaborn as sns\n",
    "\n",
    "from sklearn.model_selection import train_test_split, GridSearchCV\n",
    "from sklearn.metrics import mean_absolute_error, mean_squared_error\n",
    "from sklearn.preprocessing import StandardScaler\n",
    "\n",
    "from sklearn.dummy import DummyRegressor\n",
    "from sklearn.linear_model import LinearRegression, Lasso, Ridge, ElasticNet\n",
    "from sklearn.neighbors import KNeighborsRegressor, RadiusNeighborsRegressor\n",
    "from sklearn.svm import SVR\n",
    "from sklearn.tree import DecisionTreeRegressor, plot_tree\n",
    "from sklearn.ensemble import AdaBoostRegressor, GradientBoostingRegressor, RandomForestRegressor\n",
    "\n",
    "import xgboost as xgb\n",
    "import lightgbm as lgb\n",
    "from catboost import CatBoostRegressor\n",
    "\n",
    "import pickle\n",
    "import time\n",
    "import warnings\n",
    "warnings.filterwarnings('ignore')"
   ]
  },
  {
   "cell_type": "code",
   "execution_count": 3,
   "metadata": {},
   "outputs": [],
   "source": [
    "def mean_absolute_percentage_error(actual, pred): \n",
    "    return np.mean(np.abs((actual - pred) / actual)) * 100\n",
    "\n",
    "def evaluate_model(model_name, model, X, y):\n",
    "    \n",
    "    predictions = model.predict(X)\n",
    "\n",
    "    MAE = mean_absolute_error(y, predictions)\n",
    "    MAPE = mean_absolute_percentage_error(y, predictions)\n",
    "    RMSE = mean_squared_error(y, predictions, squared = False)\n",
    "\n",
    "    print('MAE for', model_name, ': %1.3f' % MAE)\n",
    "    print('MAPE for', model_name, ': %1.3f' % MAPE)\n",
    "    print('RMSE for', model_name, ': %1.3f' % RMSE)\n",
    "\n",
    "    metrics_table = pd.DataFrame({'MAE' : [round(MAE, 3)], 'MAPE' : [round(MAPE, 3)], 'RMSE' : [round(RMSE, 3)]}, index = [model_name])\n",
    "    \n",
    "    return metrics_table"
   ]
  },
  {
   "cell_type": "markdown",
   "metadata": {},
   "source": [
    "### Read in the data"
   ]
  },
  {
   "cell_type": "code",
   "execution_count": 4,
   "metadata": {},
   "outputs": [
    {
     "data": {
      "text/html": [
       "<div>\n",
       "<style scoped>\n",
       "    .dataframe tbody tr th:only-of-type {\n",
       "        vertical-align: middle;\n",
       "    }\n",
       "\n",
       "    .dataframe tbody tr th {\n",
       "        vertical-align: top;\n",
       "    }\n",
       "\n",
       "    .dataframe thead th {\n",
       "        text-align: right;\n",
       "    }\n",
       "</style>\n",
       "<table border=\"1\" class=\"dataframe\">\n",
       "  <thead>\n",
       "    <tr style=\"text-align: right;\">\n",
       "      <th></th>\n",
       "      <th>company</th>\n",
       "      <th>type</th>\n",
       "      <th>inches</th>\n",
       "      <th>cpu</th>\n",
       "      <th>gpu</th>\n",
       "      <th>op_sys</th>\n",
       "      <th>price_EUR</th>\n",
       "      <th>touch_screen</th>\n",
       "      <th>hd_category</th>\n",
       "      <th>ram</th>\n",
       "      <th>memory_SSD</th>\n",
       "      <th>memory_HDD</th>\n",
       "      <th>weight</th>\n",
       "    </tr>\n",
       "  </thead>\n",
       "  <tbody>\n",
       "    <tr>\n",
       "      <th>0</th>\n",
       "      <td>Apple</td>\n",
       "      <td>Ultrabook</td>\n",
       "      <td>13.3</td>\n",
       "      <td>Intel Core i5</td>\n",
       "      <td>Other</td>\n",
       "      <td>Other</td>\n",
       "      <td>1339.69</td>\n",
       "      <td>0</td>\n",
       "      <td>QuadHD</td>\n",
       "      <td>8</td>\n",
       "      <td>128</td>\n",
       "      <td>0</td>\n",
       "      <td>1.37</td>\n",
       "    </tr>\n",
       "    <tr>\n",
       "      <th>1</th>\n",
       "      <td>Apple</td>\n",
       "      <td>Ultrabook</td>\n",
       "      <td>13.3</td>\n",
       "      <td>Intel Core i5</td>\n",
       "      <td>Intel HD</td>\n",
       "      <td>Other</td>\n",
       "      <td>898.94</td>\n",
       "      <td>0</td>\n",
       "      <td>HD</td>\n",
       "      <td>8</td>\n",
       "      <td>0</td>\n",
       "      <td>0</td>\n",
       "      <td>1.34</td>\n",
       "    </tr>\n",
       "    <tr>\n",
       "      <th>2</th>\n",
       "      <td>HP</td>\n",
       "      <td>Notebook</td>\n",
       "      <td>15.6</td>\n",
       "      <td>Intel Core i5</td>\n",
       "      <td>Intel HD</td>\n",
       "      <td>No OS</td>\n",
       "      <td>575.00</td>\n",
       "      <td>0</td>\n",
       "      <td>FullHD</td>\n",
       "      <td>8</td>\n",
       "      <td>256</td>\n",
       "      <td>0</td>\n",
       "      <td>1.86</td>\n",
       "    </tr>\n",
       "    <tr>\n",
       "      <th>3</th>\n",
       "      <td>Apple</td>\n",
       "      <td>Ultrabook</td>\n",
       "      <td>15.4</td>\n",
       "      <td>Intel Core i7</td>\n",
       "      <td>Other</td>\n",
       "      <td>Other</td>\n",
       "      <td>2537.45</td>\n",
       "      <td>0</td>\n",
       "      <td>QuadHD</td>\n",
       "      <td>16</td>\n",
       "      <td>512</td>\n",
       "      <td>0</td>\n",
       "      <td>1.83</td>\n",
       "    </tr>\n",
       "    <tr>\n",
       "      <th>4</th>\n",
       "      <td>Apple</td>\n",
       "      <td>Ultrabook</td>\n",
       "      <td>13.3</td>\n",
       "      <td>Intel Core i5</td>\n",
       "      <td>Other</td>\n",
       "      <td>Other</td>\n",
       "      <td>1803.60</td>\n",
       "      <td>0</td>\n",
       "      <td>QuadHD</td>\n",
       "      <td>8</td>\n",
       "      <td>256</td>\n",
       "      <td>0</td>\n",
       "      <td>1.37</td>\n",
       "    </tr>\n",
       "  </tbody>\n",
       "</table>\n",
       "</div>"
      ],
      "text/plain": [
       "  company       type  inches            cpu       gpu op_sys  price_EUR  \\\n",
       "0   Apple  Ultrabook    13.3  Intel Core i5     Other  Other    1339.69   \n",
       "1   Apple  Ultrabook    13.3  Intel Core i5  Intel HD  Other     898.94   \n",
       "2      HP   Notebook    15.6  Intel Core i5  Intel HD  No OS     575.00   \n",
       "3   Apple  Ultrabook    15.4  Intel Core i7     Other  Other    2537.45   \n",
       "4   Apple  Ultrabook    13.3  Intel Core i5     Other  Other    1803.60   \n",
       "\n",
       "   touch_screen hd_category  ram  memory_SSD  memory_HDD  weight  \n",
       "0             0      QuadHD    8         128           0    1.37  \n",
       "1             0          HD    8           0           0    1.34  \n",
       "2             0      FullHD    8         256           0    1.86  \n",
       "3             0      QuadHD   16         512           0    1.83  \n",
       "4             0      QuadHD    8         256           0    1.37  "
      ]
     },
     "execution_count": 4,
     "metadata": {},
     "output_type": "execute_result"
    }
   ],
   "source": [
    "data = pd.read_csv('../../data/laptops/laptops_cleaned.csv')\n",
    "data.head()"
   ]
  },
  {
   "cell_type": "markdown",
   "metadata": {},
   "source": [
    "### Dealing with input types\n",
    "\n",
    "CatBoost can take categorical features as is, so I won't one-hot encode the data yet, instead, for most models I will separately one-hot encode the train and test sets, for CatBoost I'll just give the Regressor the features as string"
   ]
  },
  {
   "cell_type": "code",
   "execution_count": 5,
   "metadata": {},
   "outputs": [
    {
     "name": "stdout",
     "output_type": "stream",
     "text": [
      "Shape of original data: (1298, 13)\n",
      "Shape of y: (1298,)\n",
      "Shape of X: (1298, 12)\n"
     ]
    }
   ],
   "source": [
    "y = data['price_EUR'].copy()\n",
    "X = data.drop('price_EUR', 1).copy()\n",
    "\n",
    "print('Shape of original data:', data.shape)\n",
    "print('Shape of y:', y.shape)\n",
    "print('Shape of X:', X.shape)"
   ]
  },
  {
   "cell_type": "markdown",
   "metadata": {},
   "source": [
    "### Train - Test split"
   ]
  },
  {
   "cell_type": "code",
   "execution_count": 6,
   "metadata": {},
   "outputs": [
    {
     "name": "stdout",
     "output_type": "stream",
     "text": [
      "Shape of X train: (973, 12)\n",
      "Shape of X test: (325, 12)\n",
      "Shape of y train: (973,)\n",
      "Shape of y test: (325,)\n"
     ]
    }
   ],
   "source": [
    "X_train, X_test, y_train, y_test = train_test_split(X, y, train_size = 0.75, random_state = 20202020)\n",
    "\n",
    "print('Shape of X train:', X_train.shape)\n",
    "print('Shape of X test:', X_test.shape)\n",
    "print('Shape of y train:', y_train.shape)\n",
    "print('Shape of y test:', y_test.shape)"
   ]
  },
  {
   "cell_type": "markdown",
   "metadata": {},
   "source": [
    "### One-hot encode categoricals"
   ]
  },
  {
   "cell_type": "code",
   "execution_count": 7,
   "metadata": {},
   "outputs": [],
   "source": [
    "# Need original data for CatBoost\n",
    "\n",
    "X_train_original = X_train.copy()\n",
    "X_test_original = X_test.copy()\n",
    "\n",
    "# One hot encode for other models\n",
    "\n",
    "X_train = pd.get_dummies(X_train, columns = ['company', 'type', 'cpu', 'gpu', 'op_sys', 'hd_category'], prefix_sep = ' = ')\n",
    "X_test = pd.get_dummies(X_test, columns = ['company', 'type', 'cpu', 'gpu', 'op_sys', 'hd_category'], prefix_sep = ' = ')"
   ]
  },
  {
   "cell_type": "code",
   "execution_count": 8,
   "metadata": {},
   "outputs": [
    {
     "name": "stdout",
     "output_type": "stream",
     "text": [
      "Original amount of Xs: 12\n",
      "Column # with one-hot encoding: 44\n"
     ]
    }
   ],
   "source": [
    "print('Original amount of Xs:', X_train_original.shape[1])\n",
    "print('Column # with one-hot encoding:', X_train.shape[1])"
   ]
  },
  {
   "cell_type": "markdown",
   "metadata": {},
   "source": [
    "### Scale X train and transform X test"
   ]
  },
  {
   "cell_type": "markdown",
   "metadata": {},
   "source": [
    "For distance-based ML models data should be scaled for faster convergence, therefore I will use the StandardScaler() function to transform my features into variables with E(x) = 0 and Std(x) = 1. This will also speed up linreg for example, but won't have an effect on performance"
   ]
  },
  {
   "cell_type": "code",
   "execution_count": 9,
   "metadata": {},
   "outputs": [],
   "source": [
    "SS = StandardScaler()\n",
    "\n",
    "X_train_scaled = SS.fit_transform(X_train)\n",
    "X_test_scaled = SS.transform(X_test)\n",
    "\n",
    "X_train_scaled = pd.DataFrame(X_train_scaled, columns = X_train.columns)\n",
    "X_test_scaled = pd.DataFrame(X_test_scaled, columns = X_test.columns)"
   ]
  },
  {
   "cell_type": "markdown",
   "metadata": {},
   "source": [
    "# Applying the different ML models"
   ]
  },
  {
   "cell_type": "markdown",
   "metadata": {},
   "source": [
    "### 1. DummyRegressor to compare results against"
   ]
  },
  {
   "cell_type": "markdown",
   "metadata": {},
   "source": [
    "Predicting the median"
   ]
  },
  {
   "cell_type": "code",
   "execution_count": 10,
   "metadata": {},
   "outputs": [
    {
     "data": {
      "text/plain": [
       "DummyRegressor(strategy='median')"
      ]
     },
     "execution_count": 10,
     "metadata": {},
     "output_type": "execute_result"
    }
   ],
   "source": [
    "dummy = DummyRegressor(strategy = 'median')\n",
    "dummy.fit(X_train_scaled, y_train)"
   ]
  },
  {
   "cell_type": "code",
   "execution_count": 11,
   "metadata": {},
   "outputs": [
    {
     "name": "stdout",
     "output_type": "stream",
     "text": [
      "MAE for DummyRegressorMedian : 490.824\n",
      "MAPE for DummyRegressorMedian : 58.169\n",
      "RMSE for DummyRegressorMedian : 667.912\n"
     ]
    }
   ],
   "source": [
    "dummy_median = evaluate_model('DummyRegressorMedian', dummy, X_test_scaled, y_test)"
   ]
  },
  {
   "cell_type": "markdown",
   "metadata": {},
   "source": [
    "Predicting the 25% percentile"
   ]
  },
  {
   "cell_type": "code",
   "execution_count": 12,
   "metadata": {},
   "outputs": [
    {
     "data": {
      "text/plain": [
       "DummyRegressor(quantile=0.25, strategy='quantile')"
      ]
     },
     "execution_count": 12,
     "metadata": {},
     "output_type": "execute_result"
    }
   ],
   "source": [
    "dummy = DummyRegressor(strategy = 'quantile', quantile = 0.25)\n",
    "dummy.fit(X_train_scaled, y_train)"
   ]
  },
  {
   "cell_type": "code",
   "execution_count": 13,
   "metadata": {},
   "outputs": [
    {
     "name": "stdout",
     "output_type": "stream",
     "text": [
      "MAE for DummyRegressorQuantile : 579.728\n",
      "MAPE for DummyRegressorQuantile : 46.463\n",
      "RMSE for DummyRegressorQuantile : 826.321\n"
     ]
    }
   ],
   "source": [
    "dummy_quantile = evaluate_model('DummyRegressorQuantile', dummy, X_test_scaled, y_test)"
   ]
  },
  {
   "cell_type": "markdown",
   "metadata": {},
   "source": [
    "Concat results"
   ]
  },
  {
   "cell_type": "code",
   "execution_count": 14,
   "metadata": {},
   "outputs": [
    {
     "data": {
      "text/html": [
       "<div>\n",
       "<style scoped>\n",
       "    .dataframe tbody tr th:only-of-type {\n",
       "        vertical-align: middle;\n",
       "    }\n",
       "\n",
       "    .dataframe tbody tr th {\n",
       "        vertical-align: top;\n",
       "    }\n",
       "\n",
       "    .dataframe thead th {\n",
       "        text-align: right;\n",
       "    }\n",
       "</style>\n",
       "<table border=\"1\" class=\"dataframe\">\n",
       "  <thead>\n",
       "    <tr style=\"text-align: right;\">\n",
       "      <th></th>\n",
       "      <th>MAE</th>\n",
       "      <th>MAPE</th>\n",
       "      <th>RMSE</th>\n",
       "    </tr>\n",
       "  </thead>\n",
       "  <tbody>\n",
       "    <tr>\n",
       "      <th>DummyRegressorMedian</th>\n",
       "      <td>490.824</td>\n",
       "      <td>58.169</td>\n",
       "      <td>667.912</td>\n",
       "    </tr>\n",
       "    <tr>\n",
       "      <th>DummyRegressorQuantile</th>\n",
       "      <td>579.728</td>\n",
       "      <td>46.463</td>\n",
       "      <td>826.321</td>\n",
       "    </tr>\n",
       "  </tbody>\n",
       "</table>\n",
       "</div>"
      ],
      "text/plain": [
       "                            MAE    MAPE     RMSE\n",
       "DummyRegressorMedian    490.824  58.169  667.912\n",
       "DummyRegressorQuantile  579.728  46.463  826.321"
      ]
     },
     "execution_count": 14,
     "metadata": {},
     "output_type": "execute_result"
    }
   ],
   "source": [
    "model_comparison = pd.concat([dummy_median, dummy_quantile], 0)\n",
    "model_comparison.head()"
   ]
  },
  {
   "cell_type": "markdown",
   "metadata": {},
   "source": [
    "### 2. Simple linear regression"
   ]
  },
  {
   "cell_type": "code",
   "execution_count": 15,
   "metadata": {},
   "outputs": [
    {
     "data": {
      "text/plain": [
       "LinearRegression()"
      ]
     },
     "execution_count": 15,
     "metadata": {},
     "output_type": "execute_result"
    }
   ],
   "source": [
    "lr = LinearRegression()\n",
    "lr.fit(X_train_scaled, y_train)"
   ]
  },
  {
   "cell_type": "code",
   "execution_count": 16,
   "metadata": {},
   "outputs": [
    {
     "name": "stdout",
     "output_type": "stream",
     "text": [
      "MAE for LinearRegression : 209.576\n",
      "MAPE for LinearRegression : 21.972\n",
      "RMSE for LinearRegression : 285.577\n"
     ]
    }
   ],
   "source": [
    "linreg = evaluate_model('LinearRegression', lr, X_test_scaled, y_test)"
   ]
  },
  {
   "cell_type": "code",
   "execution_count": 17,
   "metadata": {},
   "outputs": [
    {
     "data": {
      "text/html": [
       "<div>\n",
       "<style scoped>\n",
       "    .dataframe tbody tr th:only-of-type {\n",
       "        vertical-align: middle;\n",
       "    }\n",
       "\n",
       "    .dataframe tbody tr th {\n",
       "        vertical-align: top;\n",
       "    }\n",
       "\n",
       "    .dataframe thead th {\n",
       "        text-align: right;\n",
       "    }\n",
       "</style>\n",
       "<table border=\"1\" class=\"dataframe\">\n",
       "  <thead>\n",
       "    <tr style=\"text-align: right;\">\n",
       "      <th></th>\n",
       "      <th>MAE</th>\n",
       "      <th>MAPE</th>\n",
       "      <th>RMSE</th>\n",
       "    </tr>\n",
       "  </thead>\n",
       "  <tbody>\n",
       "    <tr>\n",
       "      <th>DummyRegressorMedian</th>\n",
       "      <td>490.824</td>\n",
       "      <td>58.169</td>\n",
       "      <td>667.912</td>\n",
       "    </tr>\n",
       "    <tr>\n",
       "      <th>DummyRegressorQuantile</th>\n",
       "      <td>579.728</td>\n",
       "      <td>46.463</td>\n",
       "      <td>826.321</td>\n",
       "    </tr>\n",
       "    <tr>\n",
       "      <th>LinearRegression</th>\n",
       "      <td>209.576</td>\n",
       "      <td>21.972</td>\n",
       "      <td>285.577</td>\n",
       "    </tr>\n",
       "  </tbody>\n",
       "</table>\n",
       "</div>"
      ],
      "text/plain": [
       "                            MAE    MAPE     RMSE\n",
       "DummyRegressorMedian    490.824  58.169  667.912\n",
       "DummyRegressorQuantile  579.728  46.463  826.321\n",
       "LinearRegression        209.576  21.972  285.577"
      ]
     },
     "execution_count": 17,
     "metadata": {},
     "output_type": "execute_result"
    }
   ],
   "source": [
    "model_comparison = pd.concat([model_comparison, linreg], 0)\n",
    "model_comparison.head()"
   ]
  },
  {
   "cell_type": "markdown",
   "metadata": {},
   "source": [
    "### 3. Regularized / penalized regressions\n",
    "#### 1. Ridge Regression"
   ]
  },
  {
   "cell_type": "code",
   "execution_count": 18,
   "metadata": {},
   "outputs": [
    {
     "data": {
      "text/plain": [
       "GridSearchCV(cv=5, estimator=Ridge(random_state=20202020), n_jobs=-1,\n",
       "             param_grid={'alpha': array([46.        , 46.13333333, 46.26666667, 46.4       , 46.53333333,\n",
       "       46.66666667, 46.8       , 46.93333333, 47.06666667, 47.2       ,\n",
       "       47.33333333, 47.46666667, 47.6       , 47.73333333, 47.86666667,\n",
       "       48.        , 48.13333333, 48.26666667, 48.4       , 48.53333333,\n",
       "       48.66666667, 48.8       , 48.93333333, 49.06666667, 49.2       ,\n",
       "       49.33333333, 49.46666667, 49.6       , 49.73333333, 49.86666667,\n",
       "       50.        ])},\n",
       "             scoring='neg_root_mean_squared_error')"
      ]
     },
     "execution_count": 18,
     "metadata": {},
     "output_type": "execute_result"
    }
   ],
   "source": [
    "ridge_params = {'alpha' : np.linspace(46, 50, 31)}\n",
    "\n",
    "ridge = Ridge(random_state = 20202020)\n",
    "\n",
    "GRID_RIDGE = GridSearchCV(ridge, param_grid = ridge_params, cv = 5, scoring = 'neg_root_mean_squared_error', n_jobs = -1)\n",
    "\n",
    "GRID_RIDGE.fit(X_train_scaled, y_train)"
   ]
  },
  {
   "cell_type": "code",
   "execution_count": 19,
   "metadata": {},
   "outputs": [
    {
     "data": {
      "text/plain": [
       "{'alpha': 47.733333333333334}"
      ]
     },
     "execution_count": 19,
     "metadata": {},
     "output_type": "execute_result"
    }
   ],
   "source": [
    "GRID_RIDGE.best_params_"
   ]
  },
  {
   "cell_type": "code",
   "execution_count": 20,
   "metadata": {},
   "outputs": [
    {
     "name": "stdout",
     "output_type": "stream",
     "text": [
      "MAE for RidgeRegression : 209.445\n",
      "MAPE for RidgeRegression : 21.830\n",
      "RMSE for RidgeRegression : 285.552\n"
     ]
    }
   ],
   "source": [
    "ridgereg = evaluate_model('RidgeRegression', GRID_RIDGE.best_estimator_, X_test_scaled, y_test)"
   ]
  },
  {
   "cell_type": "code",
   "execution_count": 21,
   "metadata": {},
   "outputs": [
    {
     "data": {
      "text/html": [
       "<div>\n",
       "<style scoped>\n",
       "    .dataframe tbody tr th:only-of-type {\n",
       "        vertical-align: middle;\n",
       "    }\n",
       "\n",
       "    .dataframe tbody tr th {\n",
       "        vertical-align: top;\n",
       "    }\n",
       "\n",
       "    .dataframe thead th {\n",
       "        text-align: right;\n",
       "    }\n",
       "</style>\n",
       "<table border=\"1\" class=\"dataframe\">\n",
       "  <thead>\n",
       "    <tr style=\"text-align: right;\">\n",
       "      <th></th>\n",
       "      <th>MAE</th>\n",
       "      <th>MAPE</th>\n",
       "      <th>RMSE</th>\n",
       "    </tr>\n",
       "  </thead>\n",
       "  <tbody>\n",
       "    <tr>\n",
       "      <th>DummyRegressorMedian</th>\n",
       "      <td>490.824</td>\n",
       "      <td>58.169</td>\n",
       "      <td>667.912</td>\n",
       "    </tr>\n",
       "    <tr>\n",
       "      <th>DummyRegressorQuantile</th>\n",
       "      <td>579.728</td>\n",
       "      <td>46.463</td>\n",
       "      <td>826.321</td>\n",
       "    </tr>\n",
       "    <tr>\n",
       "      <th>LinearRegression</th>\n",
       "      <td>209.576</td>\n",
       "      <td>21.972</td>\n",
       "      <td>285.577</td>\n",
       "    </tr>\n",
       "    <tr>\n",
       "      <th>RidgeRegression</th>\n",
       "      <td>209.445</td>\n",
       "      <td>21.830</td>\n",
       "      <td>285.552</td>\n",
       "    </tr>\n",
       "  </tbody>\n",
       "</table>\n",
       "</div>"
      ],
      "text/plain": [
       "                            MAE    MAPE     RMSE\n",
       "DummyRegressorMedian    490.824  58.169  667.912\n",
       "DummyRegressorQuantile  579.728  46.463  826.321\n",
       "LinearRegression        209.576  21.972  285.577\n",
       "RidgeRegression         209.445  21.830  285.552"
      ]
     },
     "execution_count": 21,
     "metadata": {},
     "output_type": "execute_result"
    }
   ],
   "source": [
    "model_comparison = pd.concat([model_comparison, ridgereg], 0)\n",
    "model_comparison.head()"
   ]
  },
  {
   "cell_type": "markdown",
   "metadata": {},
   "source": [
    "#### 2. LASSO Regression"
   ]
  },
  {
   "cell_type": "code",
   "execution_count": 22,
   "metadata": {},
   "outputs": [
    {
     "data": {
      "text/plain": [
       "GridSearchCV(cv=5, estimator=Lasso(random_state=20202020), n_jobs=-1,\n",
       "             param_grid={'alpha': array([1.8 , 1.81, 1.82, 1.83, 1.84, 1.85, 1.86, 1.87, 1.88, 1.89, 1.9 ,\n",
       "       1.91, 1.92, 1.93, 1.94, 1.95, 1.96, 1.97, 1.98, 1.99, 2.  ])},\n",
       "             scoring='neg_root_mean_squared_error')"
      ]
     },
     "execution_count": 22,
     "metadata": {},
     "output_type": "execute_result"
    }
   ],
   "source": [
    "LASSO_params = {'alpha' : np.linspace(1.8, 2, 21)}\n",
    "\n",
    "lasso = Lasso(random_state = 20202020)\n",
    "\n",
    "GRID_LASSO = GridSearchCV(lasso, param_grid = LASSO_params, cv = 5, scoring = 'neg_root_mean_squared_error', n_jobs = -1)\n",
    "\n",
    "GRID_LASSO.fit(X_train_scaled, y_train)"
   ]
  },
  {
   "cell_type": "code",
   "execution_count": 23,
   "metadata": {},
   "outputs": [
    {
     "data": {
      "text/plain": [
       "{'alpha': 1.9100000000000001}"
      ]
     },
     "execution_count": 23,
     "metadata": {},
     "output_type": "execute_result"
    }
   ],
   "source": [
    "GRID_LASSO.best_params_"
   ]
  },
  {
   "cell_type": "code",
   "execution_count": 24,
   "metadata": {},
   "outputs": [
    {
     "name": "stdout",
     "output_type": "stream",
     "text": [
      "MAE for LassoRegression : 209.255\n",
      "MAPE for LassoRegression : 21.883\n",
      "RMSE for LassoRegression : 284.870\n"
     ]
    }
   ],
   "source": [
    "lassoreg = evaluate_model('LassoRegression', GRID_LASSO.best_estimator_, X_test_scaled, y_test)"
   ]
  },
  {
   "cell_type": "code",
   "execution_count": 25,
   "metadata": {},
   "outputs": [
    {
     "data": {
      "text/html": [
       "<div>\n",
       "<style scoped>\n",
       "    .dataframe tbody tr th:only-of-type {\n",
       "        vertical-align: middle;\n",
       "    }\n",
       "\n",
       "    .dataframe tbody tr th {\n",
       "        vertical-align: top;\n",
       "    }\n",
       "\n",
       "    .dataframe thead th {\n",
       "        text-align: right;\n",
       "    }\n",
       "</style>\n",
       "<table border=\"1\" class=\"dataframe\">\n",
       "  <thead>\n",
       "    <tr style=\"text-align: right;\">\n",
       "      <th></th>\n",
       "      <th>MAE</th>\n",
       "      <th>MAPE</th>\n",
       "      <th>RMSE</th>\n",
       "    </tr>\n",
       "  </thead>\n",
       "  <tbody>\n",
       "    <tr>\n",
       "      <th>DummyRegressorMedian</th>\n",
       "      <td>490.824</td>\n",
       "      <td>58.169</td>\n",
       "      <td>667.912</td>\n",
       "    </tr>\n",
       "    <tr>\n",
       "      <th>DummyRegressorQuantile</th>\n",
       "      <td>579.728</td>\n",
       "      <td>46.463</td>\n",
       "      <td>826.321</td>\n",
       "    </tr>\n",
       "    <tr>\n",
       "      <th>LinearRegression</th>\n",
       "      <td>209.576</td>\n",
       "      <td>21.972</td>\n",
       "      <td>285.577</td>\n",
       "    </tr>\n",
       "    <tr>\n",
       "      <th>RidgeRegression</th>\n",
       "      <td>209.445</td>\n",
       "      <td>21.830</td>\n",
       "      <td>285.552</td>\n",
       "    </tr>\n",
       "    <tr>\n",
       "      <th>LassoRegression</th>\n",
       "      <td>209.255</td>\n",
       "      <td>21.883</td>\n",
       "      <td>284.870</td>\n",
       "    </tr>\n",
       "  </tbody>\n",
       "</table>\n",
       "</div>"
      ],
      "text/plain": [
       "                            MAE    MAPE     RMSE\n",
       "DummyRegressorMedian    490.824  58.169  667.912\n",
       "DummyRegressorQuantile  579.728  46.463  826.321\n",
       "LinearRegression        209.576  21.972  285.577\n",
       "RidgeRegression         209.445  21.830  285.552\n",
       "LassoRegression         209.255  21.883  284.870"
      ]
     },
     "execution_count": 25,
     "metadata": {},
     "output_type": "execute_result"
    }
   ],
   "source": [
    "model_comparison = pd.concat([model_comparison, lassoreg], 0)\n",
    "model_comparison.head()"
   ]
  },
  {
   "cell_type": "markdown",
   "metadata": {},
   "source": [
    "#### 3. Elastic Net Regression"
   ]
  },
  {
   "cell_type": "code",
   "execution_count": 26,
   "metadata": {},
   "outputs": [
    {
     "data": {
      "text/plain": [
       "GridSearchCV(cv=5, estimator=ElasticNet(random_state=20202020), n_jobs=-1,\n",
       "             param_grid={'alpha': array([1.3 , 1.31, 1.32, 1.33, 1.34, 1.35, 1.36, 1.37, 1.38, 1.39, 1.4 ,\n",
       "       1.41, 1.42, 1.43, 1.44, 1.45, 1.46, 1.47, 1.48, 1.49, 1.5 ]),\n",
       "                         'l1_ratio': array([0.95  , 0.9525, 0.955 , 0.9575, 0.96  , 0.9625, 0.965 , 0.9675,\n",
       "       0.97  , 0.9725, 0.975 , 0.9775, 0.98  , 0.9825, 0.985 , 0.9875,\n",
       "       0.99  , 0.9925, 0.995 , 0.9975, 1.    ])},\n",
       "             scoring='neg_root_mean_squared_error')"
      ]
     },
     "execution_count": 26,
     "metadata": {},
     "output_type": "execute_result"
    }
   ],
   "source": [
    "ElasticNet_params = {'alpha' : np.linspace(1.3, 1.5, 21),\n",
    "                     'l1_ratio' : np.linspace(0.95, 1, 21)} \n",
    "\n",
    "elasticnet = ElasticNet(random_state = 20202020)\n",
    "\n",
    "GRID_EN = GridSearchCV(elasticnet, param_grid = ElasticNet_params, cv = 5, scoring = 'neg_root_mean_squared_error', n_jobs = -1)\n",
    "\n",
    "GRID_EN.fit(X_train_scaled, y_train)"
   ]
  },
  {
   "cell_type": "code",
   "execution_count": 27,
   "metadata": {},
   "outputs": [
    {
     "data": {
      "text/plain": [
       "{'alpha': 1.4100000000000001, 'l1_ratio': 0.975}"
      ]
     },
     "execution_count": 27,
     "metadata": {},
     "output_type": "execute_result"
    }
   ],
   "source": [
    "GRID_EN.best_params_"
   ]
  },
  {
   "cell_type": "code",
   "execution_count": 28,
   "metadata": {},
   "outputs": [
    {
     "name": "stdout",
     "output_type": "stream",
     "text": [
      "MAE for ElasticNetRegression : 209.729\n",
      "MAPE for ElasticNetRegression : 21.880\n",
      "RMSE for ElasticNetRegression : 285.417\n"
     ]
    }
   ],
   "source": [
    "elasticnetreg = evaluate_model('ElasticNetRegression', GRID_EN.best_estimator_, X_test_scaled, y_test)"
   ]
  },
  {
   "cell_type": "code",
   "execution_count": 29,
   "metadata": {},
   "outputs": [
    {
     "data": {
      "text/html": [
       "<div>\n",
       "<style scoped>\n",
       "    .dataframe tbody tr th:only-of-type {\n",
       "        vertical-align: middle;\n",
       "    }\n",
       "\n",
       "    .dataframe tbody tr th {\n",
       "        vertical-align: top;\n",
       "    }\n",
       "\n",
       "    .dataframe thead th {\n",
       "        text-align: right;\n",
       "    }\n",
       "</style>\n",
       "<table border=\"1\" class=\"dataframe\">\n",
       "  <thead>\n",
       "    <tr style=\"text-align: right;\">\n",
       "      <th></th>\n",
       "      <th>MAE</th>\n",
       "      <th>MAPE</th>\n",
       "      <th>RMSE</th>\n",
       "    </tr>\n",
       "  </thead>\n",
       "  <tbody>\n",
       "    <tr>\n",
       "      <th>DummyRegressorMedian</th>\n",
       "      <td>490.824</td>\n",
       "      <td>58.169</td>\n",
       "      <td>667.912</td>\n",
       "    </tr>\n",
       "    <tr>\n",
       "      <th>DummyRegressorQuantile</th>\n",
       "      <td>579.728</td>\n",
       "      <td>46.463</td>\n",
       "      <td>826.321</td>\n",
       "    </tr>\n",
       "    <tr>\n",
       "      <th>LinearRegression</th>\n",
       "      <td>209.576</td>\n",
       "      <td>21.972</td>\n",
       "      <td>285.577</td>\n",
       "    </tr>\n",
       "    <tr>\n",
       "      <th>RidgeRegression</th>\n",
       "      <td>209.445</td>\n",
       "      <td>21.830</td>\n",
       "      <td>285.552</td>\n",
       "    </tr>\n",
       "    <tr>\n",
       "      <th>LassoRegression</th>\n",
       "      <td>209.255</td>\n",
       "      <td>21.883</td>\n",
       "      <td>284.870</td>\n",
       "    </tr>\n",
       "    <tr>\n",
       "      <th>ElasticNetRegression</th>\n",
       "      <td>209.729</td>\n",
       "      <td>21.880</td>\n",
       "      <td>285.417</td>\n",
       "    </tr>\n",
       "  </tbody>\n",
       "</table>\n",
       "</div>"
      ],
      "text/plain": [
       "                            MAE    MAPE     RMSE\n",
       "DummyRegressorMedian    490.824  58.169  667.912\n",
       "DummyRegressorQuantile  579.728  46.463  826.321\n",
       "LinearRegression        209.576  21.972  285.577\n",
       "RidgeRegression         209.445  21.830  285.552\n",
       "LassoRegression         209.255  21.883  284.870\n",
       "ElasticNetRegression    209.729  21.880  285.417"
      ]
     },
     "execution_count": 29,
     "metadata": {},
     "output_type": "execute_result"
    }
   ],
   "source": [
    "model_comparison = pd.concat([model_comparison, elasticnetreg], 0)\n",
    "model_comparison"
   ]
  },
  {
   "cell_type": "markdown",
   "metadata": {},
   "source": [
    "### 4. Nearest neighbors methods"
   ]
  },
  {
   "cell_type": "markdown",
   "metadata": {},
   "source": [
    "#### 1. k-nearest neighbors"
   ]
  },
  {
   "cell_type": "code",
   "execution_count": 30,
   "metadata": {},
   "outputs": [
    {
     "data": {
      "text/plain": [
       "GridSearchCV(cv=5, estimator=KNeighborsRegressor(), n_jobs=-1,\n",
       "             param_grid={'algorithm': ['ball_tree', 'kd_tree', 'auto'],\n",
       "                         'n_neighbors': [7, 8, 9, 10, 11, 12], 'p': [1, 2],\n",
       "                         'weights': ['uniform', 'distance']},\n",
       "             scoring='neg_root_mean_squared_error')"
      ]
     },
     "execution_count": 30,
     "metadata": {},
     "output_type": "execute_result"
    }
   ],
   "source": [
    "knn_params = {'p' : [1, 2], # manhattan / euclidean\n",
    "              'weights' : ['uniform', 'distance'],\n",
    "              'algorithm' : ['ball_tree', 'kd_tree', 'auto'],\n",
    "              'n_neighbors' : [7, 8, 9, 10, 11, 12]}\n",
    "\n",
    "KNN = KNeighborsRegressor()\n",
    "\n",
    "GRID_KNN = GridSearchCV(KNN, param_grid = knn_params, cv = 5, scoring = 'neg_root_mean_squared_error', n_jobs = -1)\n",
    "\n",
    "GRID_KNN.fit(X_train_scaled, y_train)"
   ]
  },
  {
   "cell_type": "code",
   "execution_count": 31,
   "metadata": {},
   "outputs": [
    {
     "data": {
      "text/plain": [
       "{'algorithm': 'kd_tree', 'n_neighbors': 11, 'p': 1, 'weights': 'distance'}"
      ]
     },
     "execution_count": 31,
     "metadata": {},
     "output_type": "execute_result"
    }
   ],
   "source": [
    "GRID_KNN.best_params_"
   ]
  },
  {
   "cell_type": "code",
   "execution_count": 32,
   "metadata": {},
   "outputs": [
    {
     "name": "stdout",
     "output_type": "stream",
     "text": [
      "MAE for KNN : 206.903\n",
      "MAPE for KNN : 19.981\n",
      "RMSE for KNN : 300.964\n"
     ]
    }
   ],
   "source": [
    "knnreg = evaluate_model('KNN', GRID_KNN.best_estimator_, X_test_scaled, y_test)"
   ]
  },
  {
   "cell_type": "code",
   "execution_count": 33,
   "metadata": {},
   "outputs": [
    {
     "data": {
      "text/html": [
       "<div>\n",
       "<style scoped>\n",
       "    .dataframe tbody tr th:only-of-type {\n",
       "        vertical-align: middle;\n",
       "    }\n",
       "\n",
       "    .dataframe tbody tr th {\n",
       "        vertical-align: top;\n",
       "    }\n",
       "\n",
       "    .dataframe thead th {\n",
       "        text-align: right;\n",
       "    }\n",
       "</style>\n",
       "<table border=\"1\" class=\"dataframe\">\n",
       "  <thead>\n",
       "    <tr style=\"text-align: right;\">\n",
       "      <th></th>\n",
       "      <th>MAE</th>\n",
       "      <th>MAPE</th>\n",
       "      <th>RMSE</th>\n",
       "    </tr>\n",
       "  </thead>\n",
       "  <tbody>\n",
       "    <tr>\n",
       "      <th>DummyRegressorMedian</th>\n",
       "      <td>490.824</td>\n",
       "      <td>58.169</td>\n",
       "      <td>667.912</td>\n",
       "    </tr>\n",
       "    <tr>\n",
       "      <th>DummyRegressorQuantile</th>\n",
       "      <td>579.728</td>\n",
       "      <td>46.463</td>\n",
       "      <td>826.321</td>\n",
       "    </tr>\n",
       "    <tr>\n",
       "      <th>LinearRegression</th>\n",
       "      <td>209.576</td>\n",
       "      <td>21.972</td>\n",
       "      <td>285.577</td>\n",
       "    </tr>\n",
       "    <tr>\n",
       "      <th>RidgeRegression</th>\n",
       "      <td>209.445</td>\n",
       "      <td>21.830</td>\n",
       "      <td>285.552</td>\n",
       "    </tr>\n",
       "    <tr>\n",
       "      <th>LassoRegression</th>\n",
       "      <td>209.255</td>\n",
       "      <td>21.883</td>\n",
       "      <td>284.870</td>\n",
       "    </tr>\n",
       "    <tr>\n",
       "      <th>ElasticNetRegression</th>\n",
       "      <td>209.729</td>\n",
       "      <td>21.880</td>\n",
       "      <td>285.417</td>\n",
       "    </tr>\n",
       "    <tr>\n",
       "      <th>KNN</th>\n",
       "      <td>206.903</td>\n",
       "      <td>19.981</td>\n",
       "      <td>300.964</td>\n",
       "    </tr>\n",
       "  </tbody>\n",
       "</table>\n",
       "</div>"
      ],
      "text/plain": [
       "                            MAE    MAPE     RMSE\n",
       "DummyRegressorMedian    490.824  58.169  667.912\n",
       "DummyRegressorQuantile  579.728  46.463  826.321\n",
       "LinearRegression        209.576  21.972  285.577\n",
       "RidgeRegression         209.445  21.830  285.552\n",
       "LassoRegression         209.255  21.883  284.870\n",
       "ElasticNetRegression    209.729  21.880  285.417\n",
       "KNN                     206.903  19.981  300.964"
      ]
     },
     "execution_count": 33,
     "metadata": {},
     "output_type": "execute_result"
    }
   ],
   "source": [
    "model_comparison = pd.concat([model_comparison, knnreg], 0)\n",
    "model_comparison"
   ]
  },
  {
   "cell_type": "markdown",
   "metadata": {},
   "source": [
    "#### 2. Radius neighbors"
   ]
  },
  {
   "cell_type": "code",
   "execution_count": 34,
   "metadata": {
    "scrolled": true
   },
   "outputs": [
    {
     "data": {
      "text/plain": [
       "GridSearchCV(cv=5, estimator=RadiusNeighborsRegressor(), n_jobs=-1,\n",
       "             param_grid={'p': [2], 'radius': [20, 21, 22],\n",
       "                         'weights': ['distance', 'uniform']},\n",
       "             scoring='neg_root_mean_squared_error')"
      ]
     },
     "execution_count": 34,
     "metadata": {},
     "output_type": "execute_result"
    }
   ],
   "source": [
    "rnn_params = {'p' : [2], # manhattan / euclidean\n",
    "              'weights' : ['distance', 'uniform'], # uniform / distance\n",
    "              'radius' : [20, 21, 22]}\n",
    "\n",
    "RNN = RadiusNeighborsRegressor()\n",
    "\n",
    "GRID_RNN = GridSearchCV(RNN, param_grid = rnn_params, cv = 5, scoring = 'neg_root_mean_squared_error', n_jobs = -1)\n",
    "\n",
    "GRID_RNN.fit(X_train_scaled, y_train)"
   ]
  },
  {
   "cell_type": "code",
   "execution_count": 35,
   "metadata": {},
   "outputs": [
    {
     "data": {
      "text/plain": [
       "{'p': 2, 'radius': 21, 'weights': 'distance'}"
      ]
     },
     "execution_count": 35,
     "metadata": {},
     "output_type": "execute_result"
    }
   ],
   "source": [
    "GRID_RNN.best_params_"
   ]
  },
  {
   "cell_type": "code",
   "execution_count": 36,
   "metadata": {},
   "outputs": [
    {
     "name": "stdout",
     "output_type": "stream",
     "text": [
      "MAE for RadiusNN : 428.827\n",
      "MAPE for RadiusNN : 55.660\n",
      "RMSE for RadiusNN : 591.425\n"
     ]
    }
   ],
   "source": [
    "rnnreg = evaluate_model('RadiusNN', GRID_RNN.best_estimator_, X_test_scaled, y_test)"
   ]
  },
  {
   "cell_type": "code",
   "execution_count": 37,
   "metadata": {},
   "outputs": [
    {
     "data": {
      "text/html": [
       "<div>\n",
       "<style scoped>\n",
       "    .dataframe tbody tr th:only-of-type {\n",
       "        vertical-align: middle;\n",
       "    }\n",
       "\n",
       "    .dataframe tbody tr th {\n",
       "        vertical-align: top;\n",
       "    }\n",
       "\n",
       "    .dataframe thead th {\n",
       "        text-align: right;\n",
       "    }\n",
       "</style>\n",
       "<table border=\"1\" class=\"dataframe\">\n",
       "  <thead>\n",
       "    <tr style=\"text-align: right;\">\n",
       "      <th></th>\n",
       "      <th>MAE</th>\n",
       "      <th>MAPE</th>\n",
       "      <th>RMSE</th>\n",
       "    </tr>\n",
       "  </thead>\n",
       "  <tbody>\n",
       "    <tr>\n",
       "      <th>DummyRegressorMedian</th>\n",
       "      <td>490.824</td>\n",
       "      <td>58.169</td>\n",
       "      <td>667.912</td>\n",
       "    </tr>\n",
       "    <tr>\n",
       "      <th>DummyRegressorQuantile</th>\n",
       "      <td>579.728</td>\n",
       "      <td>46.463</td>\n",
       "      <td>826.321</td>\n",
       "    </tr>\n",
       "    <tr>\n",
       "      <th>LinearRegression</th>\n",
       "      <td>209.576</td>\n",
       "      <td>21.972</td>\n",
       "      <td>285.577</td>\n",
       "    </tr>\n",
       "    <tr>\n",
       "      <th>RidgeRegression</th>\n",
       "      <td>209.445</td>\n",
       "      <td>21.830</td>\n",
       "      <td>285.552</td>\n",
       "    </tr>\n",
       "    <tr>\n",
       "      <th>LassoRegression</th>\n",
       "      <td>209.255</td>\n",
       "      <td>21.883</td>\n",
       "      <td>284.870</td>\n",
       "    </tr>\n",
       "    <tr>\n",
       "      <th>ElasticNetRegression</th>\n",
       "      <td>209.729</td>\n",
       "      <td>21.880</td>\n",
       "      <td>285.417</td>\n",
       "    </tr>\n",
       "    <tr>\n",
       "      <th>KNN</th>\n",
       "      <td>206.903</td>\n",
       "      <td>19.981</td>\n",
       "      <td>300.964</td>\n",
       "    </tr>\n",
       "    <tr>\n",
       "      <th>RadiusNN</th>\n",
       "      <td>428.827</td>\n",
       "      <td>55.660</td>\n",
       "      <td>591.425</td>\n",
       "    </tr>\n",
       "  </tbody>\n",
       "</table>\n",
       "</div>"
      ],
      "text/plain": [
       "                            MAE    MAPE     RMSE\n",
       "DummyRegressorMedian    490.824  58.169  667.912\n",
       "DummyRegressorQuantile  579.728  46.463  826.321\n",
       "LinearRegression        209.576  21.972  285.577\n",
       "RidgeRegression         209.445  21.830  285.552\n",
       "LassoRegression         209.255  21.883  284.870\n",
       "ElasticNetRegression    209.729  21.880  285.417\n",
       "KNN                     206.903  19.981  300.964\n",
       "RadiusNN                428.827  55.660  591.425"
      ]
     },
     "execution_count": 37,
     "metadata": {},
     "output_type": "execute_result"
    }
   ],
   "source": [
    "model_comparison = pd.concat([model_comparison, rnnreg], 0)\n",
    "model_comparison"
   ]
  },
  {
   "cell_type": "markdown",
   "metadata": {},
   "source": [
    "### 5. Support Vector Machines"
   ]
  },
  {
   "cell_type": "markdown",
   "metadata": {},
   "source": [
    "#### 1. Linear kernel"
   ]
  },
  {
   "cell_type": "code",
   "execution_count": 38,
   "metadata": {},
   "outputs": [
    {
     "data": {
      "text/plain": [
       "GridSearchCV(cv=3, estimator=SVR(kernel='linear'), n_jobs=-1,\n",
       "             param_grid={'C': [840, 850, 860]},\n",
       "             scoring='neg_root_mean_squared_error')"
      ]
     },
     "execution_count": 38,
     "metadata": {},
     "output_type": "execute_result"
    }
   ],
   "source": [
    "svr_lin_params = {'C' : [840, 850, 860]}\n",
    "\n",
    "svr = SVR(kernel = 'linear')\n",
    "\n",
    "GRID_SVM = GridSearchCV(svr, param_grid = svr_lin_params, cv = 3, scoring = 'neg_root_mean_squared_error', n_jobs = -1)\n",
    "\n",
    "GRID_SVM.fit(X_train_scaled, y_train)"
   ]
  },
  {
   "cell_type": "code",
   "execution_count": 39,
   "metadata": {},
   "outputs": [
    {
     "data": {
      "text/plain": [
       "{'C': 850}"
      ]
     },
     "execution_count": 39,
     "metadata": {},
     "output_type": "execute_result"
    }
   ],
   "source": [
    "GRID_SVM.best_params_"
   ]
  },
  {
   "cell_type": "code",
   "execution_count": 40,
   "metadata": {},
   "outputs": [
    {
     "name": "stdout",
     "output_type": "stream",
     "text": [
      "MAE for SVMLinear : 206.003\n",
      "MAPE for SVMLinear : 20.424\n",
      "RMSE for SVMLinear : 288.413\n"
     ]
    }
   ],
   "source": [
    "svmlin = evaluate_model('SVMLinear', GRID_SVM.best_estimator_, X_test_scaled, y_test)"
   ]
  },
  {
   "cell_type": "code",
   "execution_count": 41,
   "metadata": {},
   "outputs": [
    {
     "data": {
      "text/html": [
       "<div>\n",
       "<style scoped>\n",
       "    .dataframe tbody tr th:only-of-type {\n",
       "        vertical-align: middle;\n",
       "    }\n",
       "\n",
       "    .dataframe tbody tr th {\n",
       "        vertical-align: top;\n",
       "    }\n",
       "\n",
       "    .dataframe thead th {\n",
       "        text-align: right;\n",
       "    }\n",
       "</style>\n",
       "<table border=\"1\" class=\"dataframe\">\n",
       "  <thead>\n",
       "    <tr style=\"text-align: right;\">\n",
       "      <th></th>\n",
       "      <th>MAE</th>\n",
       "      <th>MAPE</th>\n",
       "      <th>RMSE</th>\n",
       "    </tr>\n",
       "  </thead>\n",
       "  <tbody>\n",
       "    <tr>\n",
       "      <th>DummyRegressorMedian</th>\n",
       "      <td>490.824</td>\n",
       "      <td>58.169</td>\n",
       "      <td>667.912</td>\n",
       "    </tr>\n",
       "    <tr>\n",
       "      <th>DummyRegressorQuantile</th>\n",
       "      <td>579.728</td>\n",
       "      <td>46.463</td>\n",
       "      <td>826.321</td>\n",
       "    </tr>\n",
       "    <tr>\n",
       "      <th>LinearRegression</th>\n",
       "      <td>209.576</td>\n",
       "      <td>21.972</td>\n",
       "      <td>285.577</td>\n",
       "    </tr>\n",
       "    <tr>\n",
       "      <th>RidgeRegression</th>\n",
       "      <td>209.445</td>\n",
       "      <td>21.830</td>\n",
       "      <td>285.552</td>\n",
       "    </tr>\n",
       "    <tr>\n",
       "      <th>LassoRegression</th>\n",
       "      <td>209.255</td>\n",
       "      <td>21.883</td>\n",
       "      <td>284.870</td>\n",
       "    </tr>\n",
       "    <tr>\n",
       "      <th>ElasticNetRegression</th>\n",
       "      <td>209.729</td>\n",
       "      <td>21.880</td>\n",
       "      <td>285.417</td>\n",
       "    </tr>\n",
       "    <tr>\n",
       "      <th>KNN</th>\n",
       "      <td>206.903</td>\n",
       "      <td>19.981</td>\n",
       "      <td>300.964</td>\n",
       "    </tr>\n",
       "    <tr>\n",
       "      <th>RadiusNN</th>\n",
       "      <td>428.827</td>\n",
       "      <td>55.660</td>\n",
       "      <td>591.425</td>\n",
       "    </tr>\n",
       "    <tr>\n",
       "      <th>SVMLinear</th>\n",
       "      <td>206.003</td>\n",
       "      <td>20.424</td>\n",
       "      <td>288.413</td>\n",
       "    </tr>\n",
       "  </tbody>\n",
       "</table>\n",
       "</div>"
      ],
      "text/plain": [
       "                            MAE    MAPE     RMSE\n",
       "DummyRegressorMedian    490.824  58.169  667.912\n",
       "DummyRegressorQuantile  579.728  46.463  826.321\n",
       "LinearRegression        209.576  21.972  285.577\n",
       "RidgeRegression         209.445  21.830  285.552\n",
       "LassoRegression         209.255  21.883  284.870\n",
       "ElasticNetRegression    209.729  21.880  285.417\n",
       "KNN                     206.903  19.981  300.964\n",
       "RadiusNN                428.827  55.660  591.425\n",
       "SVMLinear               206.003  20.424  288.413"
      ]
     },
     "execution_count": 41,
     "metadata": {},
     "output_type": "execute_result"
    }
   ],
   "source": [
    "model_comparison = pd.concat([model_comparison, svmlin], 0)\n",
    "model_comparison"
   ]
  },
  {
   "cell_type": "markdown",
   "metadata": {},
   "source": [
    "#### 2. Polynomial kernel"
   ]
  },
  {
   "cell_type": "code",
   "execution_count": 42,
   "metadata": {},
   "outputs": [
    {
     "data": {
      "text/plain": [
       "GridSearchCV(cv=3, estimator=SVR(kernel='poly'), n_jobs=-1,\n",
       "             param_grid={'C': [775, 780, 785], 'degree': [2, 3, 4, 5]},\n",
       "             scoring='neg_root_mean_squared_error')"
      ]
     },
     "execution_count": 42,
     "metadata": {},
     "output_type": "execute_result"
    }
   ],
   "source": [
    "svr_poly_params = {'C' : [775, 780, 785],\n",
    "                   'degree' : [2, 3, 4, 5]}\n",
    "\n",
    "svr = SVR(kernel = 'poly')\n",
    "\n",
    "GRID_SVM = GridSearchCV(svr, param_grid = svr_poly_params, cv = 3, scoring = 'neg_root_mean_squared_error', n_jobs = -1)\n",
    "\n",
    "GRID_SVM.fit(X_train_scaled, y_train)"
   ]
  },
  {
   "cell_type": "code",
   "execution_count": 43,
   "metadata": {},
   "outputs": [
    {
     "data": {
      "text/plain": [
       "{'C': 780, 'degree': 3}"
      ]
     },
     "execution_count": 43,
     "metadata": {},
     "output_type": "execute_result"
    }
   ],
   "source": [
    "GRID_SVM.best_params_"
   ]
  },
  {
   "cell_type": "code",
   "execution_count": 44,
   "metadata": {},
   "outputs": [
    {
     "name": "stdout",
     "output_type": "stream",
     "text": [
      "MAE for SVMPolynomial : 198.942\n",
      "MAPE for SVMPolynomial : 19.103\n",
      "RMSE for SVMPolynomial : 299.185\n"
     ]
    }
   ],
   "source": [
    "svmpoly = evaluate_model('SVMPolynomial', GRID_SVM.best_estimator_, X_test_scaled, y_test)"
   ]
  },
  {
   "cell_type": "code",
   "execution_count": 45,
   "metadata": {},
   "outputs": [
    {
     "data": {
      "text/html": [
       "<div>\n",
       "<style scoped>\n",
       "    .dataframe tbody tr th:only-of-type {\n",
       "        vertical-align: middle;\n",
       "    }\n",
       "\n",
       "    .dataframe tbody tr th {\n",
       "        vertical-align: top;\n",
       "    }\n",
       "\n",
       "    .dataframe thead th {\n",
       "        text-align: right;\n",
       "    }\n",
       "</style>\n",
       "<table border=\"1\" class=\"dataframe\">\n",
       "  <thead>\n",
       "    <tr style=\"text-align: right;\">\n",
       "      <th></th>\n",
       "      <th>MAE</th>\n",
       "      <th>MAPE</th>\n",
       "      <th>RMSE</th>\n",
       "    </tr>\n",
       "  </thead>\n",
       "  <tbody>\n",
       "    <tr>\n",
       "      <th>DummyRegressorMedian</th>\n",
       "      <td>490.824</td>\n",
       "      <td>58.169</td>\n",
       "      <td>667.912</td>\n",
       "    </tr>\n",
       "    <tr>\n",
       "      <th>DummyRegressorQuantile</th>\n",
       "      <td>579.728</td>\n",
       "      <td>46.463</td>\n",
       "      <td>826.321</td>\n",
       "    </tr>\n",
       "    <tr>\n",
       "      <th>LinearRegression</th>\n",
       "      <td>209.576</td>\n",
       "      <td>21.972</td>\n",
       "      <td>285.577</td>\n",
       "    </tr>\n",
       "    <tr>\n",
       "      <th>RidgeRegression</th>\n",
       "      <td>209.445</td>\n",
       "      <td>21.830</td>\n",
       "      <td>285.552</td>\n",
       "    </tr>\n",
       "    <tr>\n",
       "      <th>LassoRegression</th>\n",
       "      <td>209.255</td>\n",
       "      <td>21.883</td>\n",
       "      <td>284.870</td>\n",
       "    </tr>\n",
       "    <tr>\n",
       "      <th>ElasticNetRegression</th>\n",
       "      <td>209.729</td>\n",
       "      <td>21.880</td>\n",
       "      <td>285.417</td>\n",
       "    </tr>\n",
       "    <tr>\n",
       "      <th>KNN</th>\n",
       "      <td>206.903</td>\n",
       "      <td>19.981</td>\n",
       "      <td>300.964</td>\n",
       "    </tr>\n",
       "    <tr>\n",
       "      <th>RadiusNN</th>\n",
       "      <td>428.827</td>\n",
       "      <td>55.660</td>\n",
       "      <td>591.425</td>\n",
       "    </tr>\n",
       "    <tr>\n",
       "      <th>SVMLinear</th>\n",
       "      <td>206.003</td>\n",
       "      <td>20.424</td>\n",
       "      <td>288.413</td>\n",
       "    </tr>\n",
       "    <tr>\n",
       "      <th>SVMPolynomial</th>\n",
       "      <td>198.942</td>\n",
       "      <td>19.103</td>\n",
       "      <td>299.185</td>\n",
       "    </tr>\n",
       "  </tbody>\n",
       "</table>\n",
       "</div>"
      ],
      "text/plain": [
       "                            MAE    MAPE     RMSE\n",
       "DummyRegressorMedian    490.824  58.169  667.912\n",
       "DummyRegressorQuantile  579.728  46.463  826.321\n",
       "LinearRegression        209.576  21.972  285.577\n",
       "RidgeRegression         209.445  21.830  285.552\n",
       "LassoRegression         209.255  21.883  284.870\n",
       "ElasticNetRegression    209.729  21.880  285.417\n",
       "KNN                     206.903  19.981  300.964\n",
       "RadiusNN                428.827  55.660  591.425\n",
       "SVMLinear               206.003  20.424  288.413\n",
       "SVMPolynomial           198.942  19.103  299.185"
      ]
     },
     "execution_count": 45,
     "metadata": {},
     "output_type": "execute_result"
    }
   ],
   "source": [
    "model_comparison = pd.concat([model_comparison, svmpoly], 0)\n",
    "model_comparison"
   ]
  },
  {
   "cell_type": "markdown",
   "metadata": {},
   "source": [
    "#### 3. Radial Basis Function kernel"
   ]
  },
  {
   "cell_type": "code",
   "execution_count": 46,
   "metadata": {},
   "outputs": [
    {
     "data": {
      "text/plain": [
       "GridSearchCV(cv=3, estimator=SVR(), n_jobs=-1,\n",
       "             param_grid={'C': [5000],\n",
       "                         'gamma': array([0.0045    , 0.00461111, 0.00472222, 0.00483333, 0.00494444,\n",
       "       0.00505556, 0.00516667, 0.00527778, 0.00538889, 0.0055    ])},\n",
       "             scoring='neg_root_mean_squared_error')"
      ]
     },
     "execution_count": 46,
     "metadata": {},
     "output_type": "execute_result"
    }
   ],
   "source": [
    "svr_rbf_params = {'C' : [5000],\n",
    "                  'gamma' : np.linspace(0.0045, 0.0055, 10)}\n",
    "\n",
    "svr = SVR(kernel = 'rbf')\n",
    "\n",
    "GRID_SVM = GridSearchCV(svr, param_grid = svr_rbf_params, cv = 3, scoring = 'neg_root_mean_squared_error', n_jobs = -1)\n",
    "\n",
    "GRID_SVM.fit(X_train_scaled, y_train)"
   ]
  },
  {
   "cell_type": "code",
   "execution_count": 47,
   "metadata": {},
   "outputs": [
    {
     "data": {
      "text/plain": [
       "{'C': 5000, 'gamma': 0.005166666666666667}"
      ]
     },
     "execution_count": 47,
     "metadata": {},
     "output_type": "execute_result"
    }
   ],
   "source": [
    "GRID_SVM.best_params_"
   ]
  },
  {
   "cell_type": "code",
   "execution_count": 48,
   "metadata": {},
   "outputs": [
    {
     "name": "stdout",
     "output_type": "stream",
     "text": [
      "MAE for SVMRadialBasis : 177.794\n",
      "MAPE for SVMRadialBasis : 16.373\n",
      "RMSE for SVMRadialBasis : 263.030\n"
     ]
    }
   ],
   "source": [
    "svmrbf = evaluate_model('SVMRadialBasis', GRID_SVM.best_estimator_, X_test_scaled, y_test)"
   ]
  },
  {
   "cell_type": "code",
   "execution_count": 49,
   "metadata": {},
   "outputs": [
    {
     "data": {
      "text/html": [
       "<div>\n",
       "<style scoped>\n",
       "    .dataframe tbody tr th:only-of-type {\n",
       "        vertical-align: middle;\n",
       "    }\n",
       "\n",
       "    .dataframe tbody tr th {\n",
       "        vertical-align: top;\n",
       "    }\n",
       "\n",
       "    .dataframe thead th {\n",
       "        text-align: right;\n",
       "    }\n",
       "</style>\n",
       "<table border=\"1\" class=\"dataframe\">\n",
       "  <thead>\n",
       "    <tr style=\"text-align: right;\">\n",
       "      <th></th>\n",
       "      <th>MAE</th>\n",
       "      <th>MAPE</th>\n",
       "      <th>RMSE</th>\n",
       "    </tr>\n",
       "  </thead>\n",
       "  <tbody>\n",
       "    <tr>\n",
       "      <th>DummyRegressorMedian</th>\n",
       "      <td>490.824</td>\n",
       "      <td>58.169</td>\n",
       "      <td>667.912</td>\n",
       "    </tr>\n",
       "    <tr>\n",
       "      <th>DummyRegressorQuantile</th>\n",
       "      <td>579.728</td>\n",
       "      <td>46.463</td>\n",
       "      <td>826.321</td>\n",
       "    </tr>\n",
       "    <tr>\n",
       "      <th>LinearRegression</th>\n",
       "      <td>209.576</td>\n",
       "      <td>21.972</td>\n",
       "      <td>285.577</td>\n",
       "    </tr>\n",
       "    <tr>\n",
       "      <th>RidgeRegression</th>\n",
       "      <td>209.445</td>\n",
       "      <td>21.830</td>\n",
       "      <td>285.552</td>\n",
       "    </tr>\n",
       "    <tr>\n",
       "      <th>LassoRegression</th>\n",
       "      <td>209.255</td>\n",
       "      <td>21.883</td>\n",
       "      <td>284.870</td>\n",
       "    </tr>\n",
       "    <tr>\n",
       "      <th>ElasticNetRegression</th>\n",
       "      <td>209.729</td>\n",
       "      <td>21.880</td>\n",
       "      <td>285.417</td>\n",
       "    </tr>\n",
       "    <tr>\n",
       "      <th>KNN</th>\n",
       "      <td>206.903</td>\n",
       "      <td>19.981</td>\n",
       "      <td>300.964</td>\n",
       "    </tr>\n",
       "    <tr>\n",
       "      <th>RadiusNN</th>\n",
       "      <td>428.827</td>\n",
       "      <td>55.660</td>\n",
       "      <td>591.425</td>\n",
       "    </tr>\n",
       "    <tr>\n",
       "      <th>SVMLinear</th>\n",
       "      <td>206.003</td>\n",
       "      <td>20.424</td>\n",
       "      <td>288.413</td>\n",
       "    </tr>\n",
       "    <tr>\n",
       "      <th>SVMPolynomial</th>\n",
       "      <td>198.942</td>\n",
       "      <td>19.103</td>\n",
       "      <td>299.185</td>\n",
       "    </tr>\n",
       "    <tr>\n",
       "      <th>SVMRadialBasis</th>\n",
       "      <td>177.794</td>\n",
       "      <td>16.373</td>\n",
       "      <td>263.030</td>\n",
       "    </tr>\n",
       "  </tbody>\n",
       "</table>\n",
       "</div>"
      ],
      "text/plain": [
       "                            MAE    MAPE     RMSE\n",
       "DummyRegressorMedian    490.824  58.169  667.912\n",
       "DummyRegressorQuantile  579.728  46.463  826.321\n",
       "LinearRegression        209.576  21.972  285.577\n",
       "RidgeRegression         209.445  21.830  285.552\n",
       "LassoRegression         209.255  21.883  284.870\n",
       "ElasticNetRegression    209.729  21.880  285.417\n",
       "KNN                     206.903  19.981  300.964\n",
       "RadiusNN                428.827  55.660  591.425\n",
       "SVMLinear               206.003  20.424  288.413\n",
       "SVMPolynomial           198.942  19.103  299.185\n",
       "SVMRadialBasis          177.794  16.373  263.030"
      ]
     },
     "execution_count": 49,
     "metadata": {},
     "output_type": "execute_result"
    }
   ],
   "source": [
    "model_comparison = pd.concat([model_comparison, svmrbf], 0)\n",
    "model_comparison"
   ]
  },
  {
   "cell_type": "markdown",
   "metadata": {},
   "source": [
    "### 6. Decision Tree"
   ]
  },
  {
   "cell_type": "code",
   "execution_count": 50,
   "metadata": {},
   "outputs": [
    {
     "data": {
      "text/plain": [
       "GridSearchCV(cv=3, estimator=DecisionTreeRegressor(random_state=20202020),\n",
       "             n_jobs=-1,\n",
       "             param_grid={'max_depth': [7, 9, 11],\n",
       "                         'max_features': [0.3333333333333333, 0.5,\n",
       "                                          0.6666666666666666, 1],\n",
       "                         'min_samples_leaf': [3, 4],\n",
       "                         'min_samples_split': [25]},\n",
       "             scoring='neg_root_mean_squared_error')"
      ]
     },
     "execution_count": 50,
     "metadata": {},
     "output_type": "execute_result"
    }
   ],
   "source": [
    "DT_params = {'max_depth' : [7, 9, 11],\n",
    "             'min_samples_split' : [25],\n",
    "             'min_samples_leaf' : [3, 4],\n",
    "             'max_features' : [1/3, 1/2, 2/3, 1]}\n",
    "\n",
    "DT = DecisionTreeRegressor(random_state = 20202020)\n",
    "\n",
    "GRID_DT = GridSearchCV(DT, param_grid = DT_params, cv = 3, scoring = 'neg_root_mean_squared_error', n_jobs = -1)\n",
    "\n",
    "GRID_DT.fit(X_train, y_train)"
   ]
  },
  {
   "cell_type": "code",
   "execution_count": 51,
   "metadata": {},
   "outputs": [
    {
     "data": {
      "text/plain": [
       "{'max_depth': 9,\n",
       " 'max_features': 0.5,\n",
       " 'min_samples_leaf': 3,\n",
       " 'min_samples_split': 25}"
      ]
     },
     "execution_count": 51,
     "metadata": {},
     "output_type": "execute_result"
    }
   ],
   "source": [
    "GRID_DT.best_params_"
   ]
  },
  {
   "cell_type": "code",
   "execution_count": 52,
   "metadata": {},
   "outputs": [
    {
     "name": "stdout",
     "output_type": "stream",
     "text": [
      "MAE for DecisionTree : 209.231\n",
      "MAPE for DecisionTree : 20.130\n",
      "RMSE for DecisionTree : 292.816\n"
     ]
    }
   ],
   "source": [
    "dtreg = evaluate_model('DecisionTree', GRID_DT.best_estimator_, X_test, y_test)"
   ]
  },
  {
   "cell_type": "code",
   "execution_count": 53,
   "metadata": {},
   "outputs": [
    {
     "data": {
      "text/html": [
       "<div>\n",
       "<style scoped>\n",
       "    .dataframe tbody tr th:only-of-type {\n",
       "        vertical-align: middle;\n",
       "    }\n",
       "\n",
       "    .dataframe tbody tr th {\n",
       "        vertical-align: top;\n",
       "    }\n",
       "\n",
       "    .dataframe thead th {\n",
       "        text-align: right;\n",
       "    }\n",
       "</style>\n",
       "<table border=\"1\" class=\"dataframe\">\n",
       "  <thead>\n",
       "    <tr style=\"text-align: right;\">\n",
       "      <th></th>\n",
       "      <th>MAE</th>\n",
       "      <th>MAPE</th>\n",
       "      <th>RMSE</th>\n",
       "    </tr>\n",
       "  </thead>\n",
       "  <tbody>\n",
       "    <tr>\n",
       "      <th>DummyRegressorMedian</th>\n",
       "      <td>490.824</td>\n",
       "      <td>58.169</td>\n",
       "      <td>667.912</td>\n",
       "    </tr>\n",
       "    <tr>\n",
       "      <th>DummyRegressorQuantile</th>\n",
       "      <td>579.728</td>\n",
       "      <td>46.463</td>\n",
       "      <td>826.321</td>\n",
       "    </tr>\n",
       "    <tr>\n",
       "      <th>LinearRegression</th>\n",
       "      <td>209.576</td>\n",
       "      <td>21.972</td>\n",
       "      <td>285.577</td>\n",
       "    </tr>\n",
       "    <tr>\n",
       "      <th>RidgeRegression</th>\n",
       "      <td>209.445</td>\n",
       "      <td>21.830</td>\n",
       "      <td>285.552</td>\n",
       "    </tr>\n",
       "    <tr>\n",
       "      <th>LassoRegression</th>\n",
       "      <td>209.255</td>\n",
       "      <td>21.883</td>\n",
       "      <td>284.870</td>\n",
       "    </tr>\n",
       "    <tr>\n",
       "      <th>ElasticNetRegression</th>\n",
       "      <td>209.729</td>\n",
       "      <td>21.880</td>\n",
       "      <td>285.417</td>\n",
       "    </tr>\n",
       "    <tr>\n",
       "      <th>KNN</th>\n",
       "      <td>206.903</td>\n",
       "      <td>19.981</td>\n",
       "      <td>300.964</td>\n",
       "    </tr>\n",
       "    <tr>\n",
       "      <th>RadiusNN</th>\n",
       "      <td>428.827</td>\n",
       "      <td>55.660</td>\n",
       "      <td>591.425</td>\n",
       "    </tr>\n",
       "    <tr>\n",
       "      <th>SVMLinear</th>\n",
       "      <td>206.003</td>\n",
       "      <td>20.424</td>\n",
       "      <td>288.413</td>\n",
       "    </tr>\n",
       "    <tr>\n",
       "      <th>SVMPolynomial</th>\n",
       "      <td>198.942</td>\n",
       "      <td>19.103</td>\n",
       "      <td>299.185</td>\n",
       "    </tr>\n",
       "    <tr>\n",
       "      <th>SVMRadialBasis</th>\n",
       "      <td>177.794</td>\n",
       "      <td>16.373</td>\n",
       "      <td>263.030</td>\n",
       "    </tr>\n",
       "    <tr>\n",
       "      <th>DecisionTree</th>\n",
       "      <td>209.231</td>\n",
       "      <td>20.130</td>\n",
       "      <td>292.816</td>\n",
       "    </tr>\n",
       "  </tbody>\n",
       "</table>\n",
       "</div>"
      ],
      "text/plain": [
       "                            MAE    MAPE     RMSE\n",
       "DummyRegressorMedian    490.824  58.169  667.912\n",
       "DummyRegressorQuantile  579.728  46.463  826.321\n",
       "LinearRegression        209.576  21.972  285.577\n",
       "RidgeRegression         209.445  21.830  285.552\n",
       "LassoRegression         209.255  21.883  284.870\n",
       "ElasticNetRegression    209.729  21.880  285.417\n",
       "KNN                     206.903  19.981  300.964\n",
       "RadiusNN                428.827  55.660  591.425\n",
       "SVMLinear               206.003  20.424  288.413\n",
       "SVMPolynomial           198.942  19.103  299.185\n",
       "SVMRadialBasis          177.794  16.373  263.030\n",
       "DecisionTree            209.231  20.130  292.816"
      ]
     },
     "execution_count": 53,
     "metadata": {},
     "output_type": "execute_result"
    }
   ],
   "source": [
    "model_comparison = pd.concat([model_comparison, dtreg], 0)\n",
    "model_comparison"
   ]
  },
  {
   "cell_type": "markdown",
   "metadata": {},
   "source": [
    "We can actually visualize our decision tree"
   ]
  },
  {
   "cell_type": "code",
   "execution_count": 54,
   "metadata": {},
   "outputs": [
    {
     "data": {
      "image/png": "[encoded data removed]",
      "text/plain": [
       "<Figure size 1440x864 with 1 Axes>"
      ]
     },
     "metadata": {
      "needs_background": "light"
     },
     "output_type": "display_data"
    }
   ],
   "source": [
    "plt.figure(figsize = (20, 12))\n",
    "plot_tree(GRID_DT.best_estimator_, feature_names = X_train_scaled.columns, \n",
    "          filled = True, fontsize = 10, max_depth = 2)\n",
    "plt.show()"
   ]
  },
  {
   "cell_type": "markdown",
   "metadata": {},
   "source": [
    "### 7. Simple Trees Ensembles"
   ]
  },
  {
   "cell_type": "markdown",
   "metadata": {},
   "source": [
    "#### 1. Random Forest"
   ]
  },
  {
   "cell_type": "code",
   "execution_count": 72,
   "metadata": {},
   "outputs": [
    {
     "name": "stdout",
     "output_type": "stream",
     "text": [
      "Started at Wed Dec  2 22:55:45 2020\n",
      "Ended at Wed Dec  2 22:55:56 2020\n",
      "10.753439903259277\n"
     ]
    }
   ],
   "source": [
    "start = time.time()\n",
    "print(\"Started at\", str(time.ctime(int(start))))\n",
    "\n",
    "RF_params = {'max_depth' : [13, 15],\n",
    "             'min_samples_split' : [5],\n",
    "             'min_samples_leaf' : [1],\n",
    "             'max_features' : [0.5],\n",
    "             'n_estimators' : [200, 300, 400, 500]}\n",
    "\n",
    "RF = RandomForestRegressor(random_state = 20202020)\n",
    "\n",
    "GRID_RF = GridSearchCV(RF, param_grid = RF_params, cv = 3, scoring = 'neg_root_mean_squared_error', n_jobs = -1)\n",
    "\n",
    "GRID_RF.fit(X_train, y_train)\n",
    "\n",
    "print(\"Ended at\", str(time.ctime(int(time.time()))))\n",
    "print(time.time() - start)"
   ]
  },
  {
   "cell_type": "code",
   "execution_count": 73,
   "metadata": {},
   "outputs": [
    {
     "data": {
      "text/plain": [
       "{'max_depth': 13,\n",
       " 'max_features': 0.5,\n",
       " 'min_samples_leaf': 1,\n",
       " 'min_samples_split': 5,\n",
       " 'n_estimators': 400}"
      ]
     },
     "execution_count": 73,
     "metadata": {},
     "output_type": "execute_result"
    }
   ],
   "source": [
    "GRID_RF.best_params_"
   ]
  },
  {
   "cell_type": "code",
   "execution_count": 75,
   "metadata": {},
   "outputs": [
    {
     "name": "stdout",
     "output_type": "stream",
     "text": [
      "MAE for RandomForest : 171.656\n",
      "MAPE for RandomForest : 16.408\n",
      "RMSE for RandomForest : 251.145\n"
     ]
    }
   ],
   "source": [
    "rfreg = evaluate_model('RandomForest', GRID_RF.best_estimator_, X_test, y_test)"
   ]
  },
  {
   "cell_type": "code",
   "execution_count": 76,
   "metadata": {},
   "outputs": [
    {
     "data": {
      "text/html": [
       "<div>\n",
       "<style scoped>\n",
       "    .dataframe tbody tr th:only-of-type {\n",
       "        vertical-align: middle;\n",
       "    }\n",
       "\n",
       "    .dataframe tbody tr th {\n",
       "        vertical-align: top;\n",
       "    }\n",
       "\n",
       "    .dataframe thead th {\n",
       "        text-align: right;\n",
       "    }\n",
       "</style>\n",
       "<table border=\"1\" class=\"dataframe\">\n",
       "  <thead>\n",
       "    <tr style=\"text-align: right;\">\n",
       "      <th></th>\n",
       "      <th>MAE</th>\n",
       "      <th>MAPE</th>\n",
       "      <th>RMSE</th>\n",
       "    </tr>\n",
       "  </thead>\n",
       "  <tbody>\n",
       "    <tr>\n",
       "      <th>DummyRegressorMedian</th>\n",
       "      <td>490.824</td>\n",
       "      <td>58.169</td>\n",
       "      <td>667.912</td>\n",
       "    </tr>\n",
       "    <tr>\n",
       "      <th>DummyRegressorQuantile</th>\n",
       "      <td>579.728</td>\n",
       "      <td>46.463</td>\n",
       "      <td>826.321</td>\n",
       "    </tr>\n",
       "    <tr>\n",
       "      <th>LinearRegression</th>\n",
       "      <td>209.576</td>\n",
       "      <td>21.972</td>\n",
       "      <td>285.577</td>\n",
       "    </tr>\n",
       "    <tr>\n",
       "      <th>RidgeRegression</th>\n",
       "      <td>209.445</td>\n",
       "      <td>21.830</td>\n",
       "      <td>285.552</td>\n",
       "    </tr>\n",
       "    <tr>\n",
       "      <th>LassoRegression</th>\n",
       "      <td>209.255</td>\n",
       "      <td>21.883</td>\n",
       "      <td>284.870</td>\n",
       "    </tr>\n",
       "    <tr>\n",
       "      <th>ElasticNetRegression</th>\n",
       "      <td>209.729</td>\n",
       "      <td>21.880</td>\n",
       "      <td>285.417</td>\n",
       "    </tr>\n",
       "    <tr>\n",
       "      <th>KNN</th>\n",
       "      <td>206.903</td>\n",
       "      <td>19.981</td>\n",
       "      <td>300.964</td>\n",
       "    </tr>\n",
       "    <tr>\n",
       "      <th>RadiusNN</th>\n",
       "      <td>428.827</td>\n",
       "      <td>55.660</td>\n",
       "      <td>591.425</td>\n",
       "    </tr>\n",
       "    <tr>\n",
       "      <th>SVMLinear</th>\n",
       "      <td>206.003</td>\n",
       "      <td>20.424</td>\n",
       "      <td>288.413</td>\n",
       "    </tr>\n",
       "    <tr>\n",
       "      <th>SVMPolynomial</th>\n",
       "      <td>198.942</td>\n",
       "      <td>19.103</td>\n",
       "      <td>299.185</td>\n",
       "    </tr>\n",
       "    <tr>\n",
       "      <th>SVMRadialBasis</th>\n",
       "      <td>177.794</td>\n",
       "      <td>16.373</td>\n",
       "      <td>263.030</td>\n",
       "    </tr>\n",
       "    <tr>\n",
       "      <th>DecisionTree</th>\n",
       "      <td>209.231</td>\n",
       "      <td>20.130</td>\n",
       "      <td>292.816</td>\n",
       "    </tr>\n",
       "    <tr>\n",
       "      <th>RandomForest</th>\n",
       "      <td>171.656</td>\n",
       "      <td>16.408</td>\n",
       "      <td>251.145</td>\n",
       "    </tr>\n",
       "  </tbody>\n",
       "</table>\n",
       "</div>"
      ],
      "text/plain": [
       "                            MAE    MAPE     RMSE\n",
       "DummyRegressorMedian    490.824  58.169  667.912\n",
       "DummyRegressorQuantile  579.728  46.463  826.321\n",
       "LinearRegression        209.576  21.972  285.577\n",
       "RidgeRegression         209.445  21.830  285.552\n",
       "LassoRegression         209.255  21.883  284.870\n",
       "ElasticNetRegression    209.729  21.880  285.417\n",
       "KNN                     206.903  19.981  300.964\n",
       "RadiusNN                428.827  55.660  591.425\n",
       "SVMLinear               206.003  20.424  288.413\n",
       "SVMPolynomial           198.942  19.103  299.185\n",
       "SVMRadialBasis          177.794  16.373  263.030\n",
       "DecisionTree            209.231  20.130  292.816\n",
       "RandomForest            171.656  16.408  251.145"
      ]
     },
     "execution_count": 76,
     "metadata": {},
     "output_type": "execute_result"
    }
   ],
   "source": [
    "model_comparison = pd.concat([model_comparison, rfreg], 0)\n",
    "model_comparison"
   ]
  },
  {
   "cell_type": "code",
   "execution_count": null,
   "metadata": {},
   "outputs": [],
   "source": []
  },
  {
   "cell_type": "markdown",
   "metadata": {},
   "source": [
    "#### 2. AdaBoost"
   ]
  },
  {
   "cell_type": "code",
   "execution_count": 86,
   "metadata": {},
   "outputs": [
    {
     "data": {
      "text/plain": [
       "GridSearchCV(cv=3, estimator=AdaBoostRegressor(random_state=20202020),\n",
       "             n_jobs=-1,\n",
       "             param_grid={'learning_rate': [0.025, 0.05, 0.075],\n",
       "                         'loss': ['square', 'linear'],\n",
       "                         'n_estimators': [80, 90, 100]},\n",
       "             scoring='neg_root_mean_squared_error')"
      ]
     },
     "execution_count": 86,
     "metadata": {},
     "output_type": "execute_result"
    }
   ],
   "source": [
    "Ada_params = {'learning_rate' : [0.025, 0.05, 0.075],\n",
    "              'loss' : ['square', 'linear'], #'linear'\n",
    "              'n_estimators' : [80, 90, 100]}\n",
    "\n",
    "Ada = AdaBoostRegressor(random_state = 20202020)\n",
    "\n",
    "GRID_Ada = GridSearchCV(Ada, param_grid = Ada_params, cv = 3, scoring = 'neg_root_mean_squared_error', n_jobs = -1)\n",
    "\n",
    "GRID_Ada.fit(X_train, y_train)"
   ]
  },
  {
   "cell_type": "code",
   "execution_count": 87,
   "metadata": {},
   "outputs": [
    {
     "data": {
      "text/plain": [
       "{'learning_rate': 0.05, 'loss': 'linear', 'n_estimators': 90}"
      ]
     },
     "execution_count": 87,
     "metadata": {},
     "output_type": "execute_result"
    }
   ],
   "source": [
    "GRID_Ada.best_params_"
   ]
  },
  {
   "cell_type": "code",
   "execution_count": 88,
   "metadata": {},
   "outputs": [
    {
     "name": "stdout",
     "output_type": "stream",
     "text": [
      "MAE for AdaBoost : 260.559\n",
      "MAPE for AdaBoost : 29.305\n",
      "RMSE for AdaBoost : 336.241\n"
     ]
    }
   ],
   "source": [
    "adaboost = evaluate_model('AdaBoost', GRID_Ada.best_estimator_, X_test, y_test)"
   ]
  },
  {
   "cell_type": "code",
   "execution_count": 89,
   "metadata": {},
   "outputs": [
    {
     "data": {
      "text/html": [
       "<div>\n",
       "<style scoped>\n",
       "    .dataframe tbody tr th:only-of-type {\n",
       "        vertical-align: middle;\n",
       "    }\n",
       "\n",
       "    .dataframe tbody tr th {\n",
       "        vertical-align: top;\n",
       "    }\n",
       "\n",
       "    .dataframe thead th {\n",
       "        text-align: right;\n",
       "    }\n",
       "</style>\n",
       "<table border=\"1\" class=\"dataframe\">\n",
       "  <thead>\n",
       "    <tr style=\"text-align: right;\">\n",
       "      <th></th>\n",
       "      <th>MAE</th>\n",
       "      <th>MAPE</th>\n",
       "      <th>RMSE</th>\n",
       "    </tr>\n",
       "  </thead>\n",
       "  <tbody>\n",
       "    <tr>\n",
       "      <th>DummyRegressorMedian</th>\n",
       "      <td>490.824</td>\n",
       "      <td>58.169</td>\n",
       "      <td>667.912</td>\n",
       "    </tr>\n",
       "    <tr>\n",
       "      <th>DummyRegressorQuantile</th>\n",
       "      <td>579.728</td>\n",
       "      <td>46.463</td>\n",
       "      <td>826.321</td>\n",
       "    </tr>\n",
       "    <tr>\n",
       "      <th>LinearRegression</th>\n",
       "      <td>209.576</td>\n",
       "      <td>21.972</td>\n",
       "      <td>285.577</td>\n",
       "    </tr>\n",
       "    <tr>\n",
       "      <th>RidgeRegression</th>\n",
       "      <td>209.445</td>\n",
       "      <td>21.830</td>\n",
       "      <td>285.552</td>\n",
       "    </tr>\n",
       "    <tr>\n",
       "      <th>LassoRegression</th>\n",
       "      <td>209.255</td>\n",
       "      <td>21.883</td>\n",
       "      <td>284.870</td>\n",
       "    </tr>\n",
       "    <tr>\n",
       "      <th>ElasticNetRegression</th>\n",
       "      <td>209.729</td>\n",
       "      <td>21.880</td>\n",
       "      <td>285.417</td>\n",
       "    </tr>\n",
       "    <tr>\n",
       "      <th>KNN</th>\n",
       "      <td>206.903</td>\n",
       "      <td>19.981</td>\n",
       "      <td>300.964</td>\n",
       "    </tr>\n",
       "    <tr>\n",
       "      <th>RadiusNN</th>\n",
       "      <td>428.827</td>\n",
       "      <td>55.660</td>\n",
       "      <td>591.425</td>\n",
       "    </tr>\n",
       "    <tr>\n",
       "      <th>SVMLinear</th>\n",
       "      <td>206.003</td>\n",
       "      <td>20.424</td>\n",
       "      <td>288.413</td>\n",
       "    </tr>\n",
       "    <tr>\n",
       "      <th>SVMPolynomial</th>\n",
       "      <td>198.942</td>\n",
       "      <td>19.103</td>\n",
       "      <td>299.185</td>\n",
       "    </tr>\n",
       "    <tr>\n",
       "      <th>SVMRadialBasis</th>\n",
       "      <td>177.794</td>\n",
       "      <td>16.373</td>\n",
       "      <td>263.030</td>\n",
       "    </tr>\n",
       "    <tr>\n",
       "      <th>DecisionTree</th>\n",
       "      <td>209.231</td>\n",
       "      <td>20.130</td>\n",
       "      <td>292.816</td>\n",
       "    </tr>\n",
       "    <tr>\n",
       "      <th>RandomForest</th>\n",
       "      <td>171.656</td>\n",
       "      <td>16.408</td>\n",
       "      <td>251.145</td>\n",
       "    </tr>\n",
       "    <tr>\n",
       "      <th>AdaBoost</th>\n",
       "      <td>260.559</td>\n",
       "      <td>29.305</td>\n",
       "      <td>336.241</td>\n",
       "    </tr>\n",
       "  </tbody>\n",
       "</table>\n",
       "</div>"
      ],
      "text/plain": [
       "                            MAE    MAPE     RMSE\n",
       "DummyRegressorMedian    490.824  58.169  667.912\n",
       "DummyRegressorQuantile  579.728  46.463  826.321\n",
       "LinearRegression        209.576  21.972  285.577\n",
       "RidgeRegression         209.445  21.830  285.552\n",
       "LassoRegression         209.255  21.883  284.870\n",
       "ElasticNetRegression    209.729  21.880  285.417\n",
       "KNN                     206.903  19.981  300.964\n",
       "RadiusNN                428.827  55.660  591.425\n",
       "SVMLinear               206.003  20.424  288.413\n",
       "SVMPolynomial           198.942  19.103  299.185\n",
       "SVMRadialBasis          177.794  16.373  263.030\n",
       "DecisionTree            209.231  20.130  292.816\n",
       "RandomForest            171.656  16.408  251.145\n",
       "AdaBoost                260.559  29.305  336.241"
      ]
     },
     "execution_count": 89,
     "metadata": {},
     "output_type": "execute_result"
    }
   ],
   "source": [
    "model_comparison = pd.concat([model_comparison, adaboost], 0)\n",
    "model_comparison"
   ]
  },
  {
   "cell_type": "code",
   "execution_count": null,
   "metadata": {},
   "outputs": [],
   "source": []
  },
  {
   "cell_type": "markdown",
   "metadata": {},
   "source": [
    "#### 3. Gradient Boosting Machine"
   ]
  },
  {
   "cell_type": "code",
   "execution_count": 98,
   "metadata": {},
   "outputs": [
    {
     "name": "stdout",
     "output_type": "stream",
     "text": [
      "Started at Wed Dec  2 23:11:32 2020\n",
      "Ended at Wed Dec  2 23:14:08 2020\n",
      "155.52432584762573\n"
     ]
    }
   ],
   "source": [
    "start = time.time()\n",
    "print(\"Started at\", str(time.ctime(int(start))))\n",
    "\n",
    "GBM_params = {'learning_rate' : [0.025, 0.05, 0.075],\n",
    "              'subsample' : [0.5, 2/3],\n",
    "              'max_features' : [0.5, 0.6],\n",
    "              'max_depth' : [6, 7, 8],\n",
    "              'min_samples_split' : [13, 15, 17],\n",
    "              'min_samples_leaf' : [2, 3, 4],\n",
    "              'n_estimators' : [180, 200, 220]}\n",
    "\n",
    "GBM = GradientBoostingRegressor(random_state = 20202020)\n",
    "\n",
    "GRID_GBM = GridSearchCV(GBM, param_grid = GBM_params, cv = 3, scoring = 'neg_root_mean_squared_error', n_jobs = -1)\n",
    "\n",
    "GRID_GBM.fit(X_train, y_train)\n",
    "\n",
    "print(\"Ended at\", str(time.ctime(int(time.time()))))\n",
    "print(time.time() - start)"
   ]
  },
  {
   "cell_type": "code",
   "execution_count": 101,
   "metadata": {},
   "outputs": [
    {
     "name": "stdout",
     "output_type": "stream",
     "text": [
      "MAE for GradientBoosting : 161.806\n",
      "MAPE for GradientBoosting : 15.307\n",
      "RMSE for GradientBoosting : 245.672\n"
     ]
    }
   ],
   "source": [
    "gradboost = evaluate_model('GradientBoosting', GRID_GBM.best_estimator_, X_test, y_test)"
   ]
  },
  {
   "cell_type": "code",
   "execution_count": 102,
   "metadata": {},
   "outputs": [
    {
     "data": {
      "text/html": [
       "<div>\n",
       "<style scoped>\n",
       "    .dataframe tbody tr th:only-of-type {\n",
       "        vertical-align: middle;\n",
       "    }\n",
       "\n",
       "    .dataframe tbody tr th {\n",
       "        vertical-align: top;\n",
       "    }\n",
       "\n",
       "    .dataframe thead th {\n",
       "        text-align: right;\n",
       "    }\n",
       "</style>\n",
       "<table border=\"1\" class=\"dataframe\">\n",
       "  <thead>\n",
       "    <tr style=\"text-align: right;\">\n",
       "      <th></th>\n",
       "      <th>MAE</th>\n",
       "      <th>MAPE</th>\n",
       "      <th>RMSE</th>\n",
       "    </tr>\n",
       "  </thead>\n",
       "  <tbody>\n",
       "    <tr>\n",
       "      <th>DummyRegressorMedian</th>\n",
       "      <td>490.824</td>\n",
       "      <td>58.169</td>\n",
       "      <td>667.912</td>\n",
       "    </tr>\n",
       "    <tr>\n",
       "      <th>DummyRegressorQuantile</th>\n",
       "      <td>579.728</td>\n",
       "      <td>46.463</td>\n",
       "      <td>826.321</td>\n",
       "    </tr>\n",
       "    <tr>\n",
       "      <th>LinearRegression</th>\n",
       "      <td>209.576</td>\n",
       "      <td>21.972</td>\n",
       "      <td>285.577</td>\n",
       "    </tr>\n",
       "    <tr>\n",
       "      <th>RidgeRegression</th>\n",
       "      <td>209.445</td>\n",
       "      <td>21.830</td>\n",
       "      <td>285.552</td>\n",
       "    </tr>\n",
       "    <tr>\n",
       "      <th>LassoRegression</th>\n",
       "      <td>209.255</td>\n",
       "      <td>21.883</td>\n",
       "      <td>284.870</td>\n",
       "    </tr>\n",
       "    <tr>\n",
       "      <th>ElasticNetRegression</th>\n",
       "      <td>209.729</td>\n",
       "      <td>21.880</td>\n",
       "      <td>285.417</td>\n",
       "    </tr>\n",
       "    <tr>\n",
       "      <th>KNN</th>\n",
       "      <td>206.903</td>\n",
       "      <td>19.981</td>\n",
       "      <td>300.964</td>\n",
       "    </tr>\n",
       "    <tr>\n",
       "      <th>RadiusNN</th>\n",
       "      <td>428.827</td>\n",
       "      <td>55.660</td>\n",
       "      <td>591.425</td>\n",
       "    </tr>\n",
       "    <tr>\n",
       "      <th>SVMLinear</th>\n",
       "      <td>206.003</td>\n",
       "      <td>20.424</td>\n",
       "      <td>288.413</td>\n",
       "    </tr>\n",
       "    <tr>\n",
       "      <th>SVMPolynomial</th>\n",
       "      <td>198.942</td>\n",
       "      <td>19.103</td>\n",
       "      <td>299.185</td>\n",
       "    </tr>\n",
       "    <tr>\n",
       "      <th>SVMRadialBasis</th>\n",
       "      <td>177.794</td>\n",
       "      <td>16.373</td>\n",
       "      <td>263.030</td>\n",
       "    </tr>\n",
       "    <tr>\n",
       "      <th>DecisionTree</th>\n",
       "      <td>209.231</td>\n",
       "      <td>20.130</td>\n",
       "      <td>292.816</td>\n",
       "    </tr>\n",
       "    <tr>\n",
       "      <th>RandomForest</th>\n",
       "      <td>171.656</td>\n",
       "      <td>16.408</td>\n",
       "      <td>251.145</td>\n",
       "    </tr>\n",
       "    <tr>\n",
       "      <th>AdaBoost</th>\n",
       "      <td>260.559</td>\n",
       "      <td>29.305</td>\n",
       "      <td>336.241</td>\n",
       "    </tr>\n",
       "    <tr>\n",
       "      <th>GradientBoosting</th>\n",
       "      <td>161.806</td>\n",
       "      <td>15.307</td>\n",
       "      <td>245.672</td>\n",
       "    </tr>\n",
       "  </tbody>\n",
       "</table>\n",
       "</div>"
      ],
      "text/plain": [
       "                            MAE    MAPE     RMSE\n",
       "DummyRegressorMedian    490.824  58.169  667.912\n",
       "DummyRegressorQuantile  579.728  46.463  826.321\n",
       "LinearRegression        209.576  21.972  285.577\n",
       "RidgeRegression         209.445  21.830  285.552\n",
       "LassoRegression         209.255  21.883  284.870\n",
       "ElasticNetRegression    209.729  21.880  285.417\n",
       "KNN                     206.903  19.981  300.964\n",
       "RadiusNN                428.827  55.660  591.425\n",
       "SVMLinear               206.003  20.424  288.413\n",
       "SVMPolynomial           198.942  19.103  299.185\n",
       "SVMRadialBasis          177.794  16.373  263.030\n",
       "DecisionTree            209.231  20.130  292.816\n",
       "RandomForest            171.656  16.408  251.145\n",
       "AdaBoost                260.559  29.305  336.241\n",
       "GradientBoosting        161.806  15.307  245.672"
      ]
     },
     "execution_count": 102,
     "metadata": {},
     "output_type": "execute_result"
    }
   ],
   "source": [
    "model_comparison = pd.concat([model_comparison, gradboost], 0)\n",
    "model_comparison"
   ]
  },
  {
   "cell_type": "markdown",
   "metadata": {},
   "source": [
    "### 8. eXtreme Gradient Boosting Machine"
   ]
  },
  {
   "cell_type": "code",
   "execution_count": 50,
   "metadata": {},
   "outputs": [
    {
     "name": "stdout",
     "output_type": "stream",
     "text": [
      "Started at Thu Dec  3 20:30:10 2020\n",
      "Ended at Thu Dec  3 20:30:27 2020\n",
      "16.997985363006592\n"
     ]
    }
   ],
   "source": [
    "start = time.time()\n",
    "print(\"Started at\", str(time.ctime(int(start))))\n",
    "\n",
    "XGB_params = {'eta' : [0.1],\n",
    "              'gamma' : np.linspace(0.1, 0.2, 11),\n",
    "              'subsample' : [1/2],\n",
    "              'colsample_bytree' : [1/2],\n",
    "              'colsample_bynode' : [1],\n",
    "              'max_depth' : [8],\n",
    "              'min_child_weight' : [3],\n",
    "              'n_estimators' : [90]}\n",
    "\n",
    "XGB = xgb.XGBRegressor(random_state = 20202020, verbosity = 0,\n",
    "                       objective = 'reg:squarederror', eval_metric = 'rmse')\n",
    "\n",
    "GRID_XGB = GridSearchCV(XGB, param_grid = XGB_params, cv = 3, scoring = 'neg_root_mean_squared_error')\n",
    "\n",
    "GRID_XGB.fit(X_train, y_train)\n",
    "\n",
    "print(\"Ended at\", str(time.ctime(int(time.time()))))\n",
    "print(time.time() - start)"
   ]
  },
  {
   "cell_type": "code",
   "execution_count": 51,
   "metadata": {},
   "outputs": [
    {
     "data": {
      "text/plain": [
       "{'colsample_bynode': 1,\n",
       " 'colsample_bytree': 0.5,\n",
       " 'eta': 0.1,\n",
       " 'gamma': 0.1,\n",
       " 'max_depth': 8,\n",
       " 'min_child_weight': 3,\n",
       " 'n_estimators': 90,\n",
       " 'subsample': 0.5}"
      ]
     },
     "execution_count": 51,
     "metadata": {},
     "output_type": "execute_result"
    }
   ],
   "source": [
    "GRID_XGB.best_params_"
   ]
  },
  {
   "cell_type": "code",
   "execution_count": 52,
   "metadata": {},
   "outputs": [
    {
     "name": "stdout",
     "output_type": "stream",
     "text": [
      "MAE for xgBoost : 157.270\n",
      "MAPE for xgBoost : 15.073\n",
      "RMSE for xgBoost : 234.011\n"
     ]
    }
   ],
   "source": [
    "xgboost = evaluate_model('xgBoost', GRID_XGB.best_estimator_, X_test, y_test)"
   ]
  },
  {
   "cell_type": "code",
   "execution_count": 117,
   "metadata": {},
   "outputs": [
    {
     "data": {
      "text/html": [
       "<div>\n",
       "<style scoped>\n",
       "    .dataframe tbody tr th:only-of-type {\n",
       "        vertical-align: middle;\n",
       "    }\n",
       "\n",
       "    .dataframe tbody tr th {\n",
       "        vertical-align: top;\n",
       "    }\n",
       "\n",
       "    .dataframe thead th {\n",
       "        text-align: right;\n",
       "    }\n",
       "</style>\n",
       "<table border=\"1\" class=\"dataframe\">\n",
       "  <thead>\n",
       "    <tr style=\"text-align: right;\">\n",
       "      <th></th>\n",
       "      <th>MAE</th>\n",
       "      <th>MAPE</th>\n",
       "      <th>RMSE</th>\n",
       "    </tr>\n",
       "  </thead>\n",
       "  <tbody>\n",
       "    <tr>\n",
       "      <th>DummyRegressorMedian</th>\n",
       "      <td>490.824</td>\n",
       "      <td>58.169</td>\n",
       "      <td>667.912</td>\n",
       "    </tr>\n",
       "    <tr>\n",
       "      <th>DummyRegressorQuantile</th>\n",
       "      <td>579.728</td>\n",
       "      <td>46.463</td>\n",
       "      <td>826.321</td>\n",
       "    </tr>\n",
       "    <tr>\n",
       "      <th>LinearRegression</th>\n",
       "      <td>209.576</td>\n",
       "      <td>21.972</td>\n",
       "      <td>285.577</td>\n",
       "    </tr>\n",
       "    <tr>\n",
       "      <th>RidgeRegression</th>\n",
       "      <td>209.445</td>\n",
       "      <td>21.830</td>\n",
       "      <td>285.552</td>\n",
       "    </tr>\n",
       "    <tr>\n",
       "      <th>LassoRegression</th>\n",
       "      <td>209.255</td>\n",
       "      <td>21.883</td>\n",
       "      <td>284.870</td>\n",
       "    </tr>\n",
       "    <tr>\n",
       "      <th>ElasticNetRegression</th>\n",
       "      <td>209.729</td>\n",
       "      <td>21.880</td>\n",
       "      <td>285.417</td>\n",
       "    </tr>\n",
       "    <tr>\n",
       "      <th>KNN</th>\n",
       "      <td>206.903</td>\n",
       "      <td>19.981</td>\n",
       "      <td>300.964</td>\n",
       "    </tr>\n",
       "    <tr>\n",
       "      <th>RadiusNN</th>\n",
       "      <td>428.827</td>\n",
       "      <td>55.660</td>\n",
       "      <td>591.425</td>\n",
       "    </tr>\n",
       "    <tr>\n",
       "      <th>SVMLinear</th>\n",
       "      <td>206.003</td>\n",
       "      <td>20.424</td>\n",
       "      <td>288.413</td>\n",
       "    </tr>\n",
       "    <tr>\n",
       "      <th>SVMPolynomial</th>\n",
       "      <td>198.942</td>\n",
       "      <td>19.103</td>\n",
       "      <td>299.185</td>\n",
       "    </tr>\n",
       "    <tr>\n",
       "      <th>SVMRadialBasis</th>\n",
       "      <td>177.794</td>\n",
       "      <td>16.373</td>\n",
       "      <td>263.030</td>\n",
       "    </tr>\n",
       "    <tr>\n",
       "      <th>DecisionTree</th>\n",
       "      <td>209.231</td>\n",
       "      <td>20.130</td>\n",
       "      <td>292.816</td>\n",
       "    </tr>\n",
       "    <tr>\n",
       "      <th>RandomForest</th>\n",
       "      <td>171.656</td>\n",
       "      <td>16.408</td>\n",
       "      <td>251.145</td>\n",
       "    </tr>\n",
       "    <tr>\n",
       "      <th>AdaBoost</th>\n",
       "      <td>260.559</td>\n",
       "      <td>29.305</td>\n",
       "      <td>336.241</td>\n",
       "    </tr>\n",
       "    <tr>\n",
       "      <th>GradientBoosting</th>\n",
       "      <td>161.806</td>\n",
       "      <td>15.307</td>\n",
       "      <td>245.672</td>\n",
       "    </tr>\n",
       "    <tr>\n",
       "      <th>xgBoost</th>\n",
       "      <td>157.270</td>\n",
       "      <td>15.073</td>\n",
       "      <td>234.011</td>\n",
       "    </tr>\n",
       "  </tbody>\n",
       "</table>\n",
       "</div>"
      ],
      "text/plain": [
       "                            MAE    MAPE     RMSE\n",
       "DummyRegressorMedian    490.824  58.169  667.912\n",
       "DummyRegressorQuantile  579.728  46.463  826.321\n",
       "LinearRegression        209.576  21.972  285.577\n",
       "RidgeRegression         209.445  21.830  285.552\n",
       "LassoRegression         209.255  21.883  284.870\n",
       "ElasticNetRegression    209.729  21.880  285.417\n",
       "KNN                     206.903  19.981  300.964\n",
       "RadiusNN                428.827  55.660  591.425\n",
       "SVMLinear               206.003  20.424  288.413\n",
       "SVMPolynomial           198.942  19.103  299.185\n",
       "SVMRadialBasis          177.794  16.373  263.030\n",
       "DecisionTree            209.231  20.130  292.816\n",
       "RandomForest            171.656  16.408  251.145\n",
       "AdaBoost                260.559  29.305  336.241\n",
       "GradientBoosting        161.806  15.307  245.672\n",
       "xgBoost                 157.270  15.073  234.011"
      ]
     },
     "execution_count": 117,
     "metadata": {},
     "output_type": "execute_result"
    }
   ],
   "source": [
    "model_comparison = pd.concat([model_comparison, xgboost], 0)\n",
    "model_comparison"
   ]
  },
  {
   "cell_type": "markdown",
   "metadata": {},
   "source": [
    "### 9. Light Gradient Boosting Machine\n",
    "\n",
    "https://lightgbm.readthedocs.io/en/latest/pythonapi/lightgbm.LGBMRegressor.html#lightgbm.LGBMRegressor"
   ]
  },
  {
   "cell_type": "code",
   "execution_count": 12,
   "metadata": {},
   "outputs": [
    {
     "name": "stdout",
     "output_type": "stream",
     "text": [
      "Started at Thu Dec  3 12:13:55 2020\n",
      "Ended at Thu Dec  3 12:13:58 2020\n",
      "2.592132091522217\n"
     ]
    }
   ],
   "source": [
    "start = time.time()\n",
    "print(\"Started at\", str(time.ctime(int(start))))\n",
    "\n",
    "LGB_params = {'boosting_type' : ['goss', 'gbdt', 'rf', 'dart'], #,\n",
    "              'learning_rate' : [0.125],\n",
    "              'num_leaves' : [10],\n",
    "              'min_child_samples' : [3],\n",
    "              'max_depth' : [-1],\n",
    "              'subsample' : [1/3],\n",
    "              'colsample_bytree' : [1/2],\n",
    "              'n_estimators' : [87, 88, 89, 90, 91, 92, 93]}\n",
    "\n",
    "LGB = lgb.LGBMRegressor(random_state = 20202020,\n",
    "                        objective = 'regression', application = 'root_mean_squared_error', metric = 'rmse')\n",
    "\n",
    "GRID_LGB = GridSearchCV(LGB, param_grid = LGB_params, cv = 3, scoring = 'neg_root_mean_squared_error', n_jobs = -1)\n",
    "\n",
    "GRID_LGB.fit(X_train, y_train)\n",
    "\n",
    "print(\"Ended at\", str(time.ctime(int(time.time()))))\n",
    "print(time.time() - start)"
   ]
  },
  {
   "cell_type": "code",
   "execution_count": 13,
   "metadata": {},
   "outputs": [
    {
     "data": {
      "text/plain": [
       "{'boosting_type': 'goss',\n",
       " 'colsample_bytree': 0.5,\n",
       " 'learning_rate': 0.125,\n",
       " 'max_depth': -1,\n",
       " 'min_child_samples': 3,\n",
       " 'n_estimators': 90,\n",
       " 'num_leaves': 10,\n",
       " 'subsample': 0.3333333333333333}"
      ]
     },
     "execution_count": 13,
     "metadata": {},
     "output_type": "execute_result"
    }
   ],
   "source": [
    "GRID_LGB.best_params_"
   ]
  },
  {
   "cell_type": "code",
   "execution_count": 14,
   "metadata": {},
   "outputs": [
    {
     "name": "stdout",
     "output_type": "stream",
     "text": [
      "MAE for LightGBM : 169.228\n",
      "MAPE for LightGBM : 16.779\n",
      "RMSE for LightGBM : 238.278\n"
     ]
    }
   ],
   "source": [
    "lightgbm = evaluate_model('LightGBM', GRID_LGB.best_estimator_, X_test, y_test)"
   ]
  },
  {
   "cell_type": "code",
   "execution_count": 15,
   "metadata": {},
   "outputs": [
    {
     "data": {
      "text/html": [
       "<div>\n",
       "<style scoped>\n",
       "    .dataframe tbody tr th:only-of-type {\n",
       "        vertical-align: middle;\n",
       "    }\n",
       "\n",
       "    .dataframe tbody tr th {\n",
       "        vertical-align: top;\n",
       "    }\n",
       "\n",
       "    .dataframe thead th {\n",
       "        text-align: right;\n",
       "    }\n",
       "</style>\n",
       "<table border=\"1\" class=\"dataframe\">\n",
       "  <thead>\n",
       "    <tr style=\"text-align: right;\">\n",
       "      <th></th>\n",
       "      <th>MAE</th>\n",
       "      <th>MAPE</th>\n",
       "      <th>RMSE</th>\n",
       "    </tr>\n",
       "  </thead>\n",
       "  <tbody>\n",
       "    <tr>\n",
       "      <th>DummyRegressorMedian</th>\n",
       "      <td>490.824</td>\n",
       "      <td>58.169</td>\n",
       "      <td>667.912</td>\n",
       "    </tr>\n",
       "    <tr>\n",
       "      <th>DummyRegressorQuantile</th>\n",
       "      <td>579.728</td>\n",
       "      <td>46.463</td>\n",
       "      <td>826.321</td>\n",
       "    </tr>\n",
       "    <tr>\n",
       "      <th>LinearRegression</th>\n",
       "      <td>209.576</td>\n",
       "      <td>21.972</td>\n",
       "      <td>285.577</td>\n",
       "    </tr>\n",
       "    <tr>\n",
       "      <th>RidgeRegression</th>\n",
       "      <td>209.445</td>\n",
       "      <td>21.830</td>\n",
       "      <td>285.552</td>\n",
       "    </tr>\n",
       "    <tr>\n",
       "      <th>LassoRegression</th>\n",
       "      <td>209.255</td>\n",
       "      <td>21.883</td>\n",
       "      <td>284.870</td>\n",
       "    </tr>\n",
       "    <tr>\n",
       "      <th>ElasticNetRegression</th>\n",
       "      <td>209.729</td>\n",
       "      <td>21.880</td>\n",
       "      <td>285.417</td>\n",
       "    </tr>\n",
       "    <tr>\n",
       "      <th>KNN</th>\n",
       "      <td>206.903</td>\n",
       "      <td>19.981</td>\n",
       "      <td>300.964</td>\n",
       "    </tr>\n",
       "    <tr>\n",
       "      <th>RadiusNN</th>\n",
       "      <td>428.827</td>\n",
       "      <td>55.660</td>\n",
       "      <td>591.425</td>\n",
       "    </tr>\n",
       "    <tr>\n",
       "      <th>SVMLinear</th>\n",
       "      <td>206.003</td>\n",
       "      <td>20.424</td>\n",
       "      <td>288.413</td>\n",
       "    </tr>\n",
       "    <tr>\n",
       "      <th>SVMPolynomial</th>\n",
       "      <td>198.942</td>\n",
       "      <td>19.103</td>\n",
       "      <td>299.185</td>\n",
       "    </tr>\n",
       "    <tr>\n",
       "      <th>SVMRadialBasis</th>\n",
       "      <td>177.794</td>\n",
       "      <td>16.373</td>\n",
       "      <td>263.030</td>\n",
       "    </tr>\n",
       "    <tr>\n",
       "      <th>DecisionTree</th>\n",
       "      <td>209.231</td>\n",
       "      <td>20.130</td>\n",
       "      <td>292.816</td>\n",
       "    </tr>\n",
       "    <tr>\n",
       "      <th>RandomForest</th>\n",
       "      <td>171.656</td>\n",
       "      <td>16.408</td>\n",
       "      <td>251.145</td>\n",
       "    </tr>\n",
       "    <tr>\n",
       "      <th>AdaBoost</th>\n",
       "      <td>260.559</td>\n",
       "      <td>29.305</td>\n",
       "      <td>336.241</td>\n",
       "    </tr>\n",
       "    <tr>\n",
       "      <th>GradientBoosting</th>\n",
       "      <td>161.806</td>\n",
       "      <td>15.307</td>\n",
       "      <td>245.672</td>\n",
       "    </tr>\n",
       "    <tr>\n",
       "      <th>xgBoost</th>\n",
       "      <td>157.270</td>\n",
       "      <td>15.073</td>\n",
       "      <td>234.011</td>\n",
       "    </tr>\n",
       "    <tr>\n",
       "      <th>LightGBM</th>\n",
       "      <td>169.228</td>\n",
       "      <td>16.779</td>\n",
       "      <td>238.278</td>\n",
       "    </tr>\n",
       "  </tbody>\n",
       "</table>\n",
       "</div>"
      ],
      "text/plain": [
       "                            MAE    MAPE     RMSE\n",
       "DummyRegressorMedian    490.824  58.169  667.912\n",
       "DummyRegressorQuantile  579.728  46.463  826.321\n",
       "LinearRegression        209.576  21.972  285.577\n",
       "RidgeRegression         209.445  21.830  285.552\n",
       "LassoRegression         209.255  21.883  284.870\n",
       "ElasticNetRegression    209.729  21.880  285.417\n",
       "KNN                     206.903  19.981  300.964\n",
       "RadiusNN                428.827  55.660  591.425\n",
       "SVMLinear               206.003  20.424  288.413\n",
       "SVMPolynomial           198.942  19.103  299.185\n",
       "SVMRadialBasis          177.794  16.373  263.030\n",
       "DecisionTree            209.231  20.130  292.816\n",
       "RandomForest            171.656  16.408  251.145\n",
       "AdaBoost                260.559  29.305  336.241\n",
       "GradientBoosting        161.806  15.307  245.672\n",
       "xgBoost                 157.270  15.073  234.011\n",
       "LightGBM                169.228  16.779  238.278"
      ]
     },
     "execution_count": 15,
     "metadata": {},
     "output_type": "execute_result"
    }
   ],
   "source": [
    "model_comparison = pd.concat([model_comparison, lightgbm], 0)\n",
    "model_comparison"
   ]
  },
  {
   "cell_type": "markdown",
   "metadata": {},
   "source": [
    "### 10. CatBoost - Categorical Boosting Machine\n",
    "\n",
    "https://catboost.ai/docs/concepts/python-reference_parameters-list.html"
   ]
  },
  {
   "cell_type": "code",
   "execution_count": 45,
   "metadata": {},
   "outputs": [],
   "source": [
    "X_train_original['touch_screen'] = X_train_original['touch_screen'].astype('O')\n",
    "X_test_original['touch_screen'] = X_test_original['touch_screen'].astype('O')"
   ]
  },
  {
   "cell_type": "code",
   "execution_count": 46,
   "metadata": {},
   "outputs": [
    {
     "name": "stdout",
     "output_type": "stream",
     "text": [
      "Started at Thu Dec  3 20:12:35 2020\n",
      "Ended at Thu Dec  3 20:13:35 2020\n",
      "60.183279275894165\n"
     ]
    }
   ],
   "source": [
    "start = time.time()\n",
    "print(\"Started at\", str(time.ctime(int(start))))\n",
    "\n",
    "cat_params = {'learning_rate': [0.1],\n",
    "              'l2_leaf_reg': [0.1],\n",
    "              'subsample': [0.8],\n",
    "              'rsm' : [2/3],\n",
    "              'max_depth': [10], # up to 16 (8 on gpu)\n",
    "              'grow_policy': ['Lossguide'], #Depthwise\n",
    "              'min_data_in_leaf' : [7], \n",
    "              'max_leaves' : [30],\n",
    "              'iterations' : [225]} \n",
    "\n",
    "cat = CatBoostRegressor(random_state = 20202020, verbose = 0,\n",
    "                        eval_metric = 'RMSE', custom_metric = 'RMSE', objective = 'RMSE',\n",
    "                        cat_features = ['company', 'type', 'cpu', 'gpu', 'op_sys', 'hd_category', 'touch_screen'])\n",
    "\n",
    "GRID_cat = GridSearchCV(cat, param_grid = cat_params, cv = 3, scoring = 'neg_root_mean_squared_error', n_jobs = -1)\n",
    "\n",
    "GRID_cat.fit(X_train_original, y_train)\n",
    "\n",
    "print(\"Ended at\", str(time.ctime(int(time.time()))))\n",
    "print(time.time() - start)"
   ]
  },
  {
   "cell_type": "code",
   "execution_count": 47,
   "metadata": {},
   "outputs": [
    {
     "data": {
      "text/plain": [
       "{'grow_policy': 'Lossguide',\n",
       " 'iterations': 225,\n",
       " 'l2_leaf_reg': 0.1,\n",
       " 'learning_rate': 0.1,\n",
       " 'max_depth': 10,\n",
       " 'max_leaves': 30,\n",
       " 'min_data_in_leaf': 7,\n",
       " 'rsm': 0.6666666666666666,\n",
       " 'subsample': 0.8}"
      ]
     },
     "execution_count": 47,
     "metadata": {},
     "output_type": "execute_result"
    }
   ],
   "source": [
    "GRID_cat.best_params_"
   ]
  },
  {
   "cell_type": "code",
   "execution_count": 48,
   "metadata": {},
   "outputs": [
    {
     "name": "stdout",
     "output_type": "stream",
     "text": [
      "MAE for CatBoost : 156.860\n",
      "MAPE for CatBoost : 15.013\n",
      "RMSE for CatBoost : 236.617\n"
     ]
    }
   ],
   "source": [
    "catboost = evaluate_model('CatBoost', GRID_cat.best_estimator_, X_test_original, y_test)"
   ]
  },
  {
   "cell_type": "code",
   "execution_count": 49,
   "metadata": {},
   "outputs": [
    {
     "data": {
      "text/html": [
       "<div>\n",
       "<style scoped>\n",
       "    .dataframe tbody tr th:only-of-type {\n",
       "        vertical-align: middle;\n",
       "    }\n",
       "\n",
       "    .dataframe tbody tr th {\n",
       "        vertical-align: top;\n",
       "    }\n",
       "\n",
       "    .dataframe thead th {\n",
       "        text-align: right;\n",
       "    }\n",
       "</style>\n",
       "<table border=\"1\" class=\"dataframe\">\n",
       "  <thead>\n",
       "    <tr style=\"text-align: right;\">\n",
       "      <th></th>\n",
       "      <th>MAE</th>\n",
       "      <th>MAPE</th>\n",
       "      <th>RMSE</th>\n",
       "    </tr>\n",
       "  </thead>\n",
       "  <tbody>\n",
       "    <tr>\n",
       "      <th>DummyRegressorMedian</th>\n",
       "      <td>490.824</td>\n",
       "      <td>58.169</td>\n",
       "      <td>667.912</td>\n",
       "    </tr>\n",
       "    <tr>\n",
       "      <th>DummyRegressorQuantile</th>\n",
       "      <td>579.728</td>\n",
       "      <td>46.463</td>\n",
       "      <td>826.321</td>\n",
       "    </tr>\n",
       "    <tr>\n",
       "      <th>LinearRegression</th>\n",
       "      <td>209.576</td>\n",
       "      <td>21.972</td>\n",
       "      <td>285.577</td>\n",
       "    </tr>\n",
       "    <tr>\n",
       "      <th>RidgeRegression</th>\n",
       "      <td>209.445</td>\n",
       "      <td>21.830</td>\n",
       "      <td>285.552</td>\n",
       "    </tr>\n",
       "    <tr>\n",
       "      <th>LassoRegression</th>\n",
       "      <td>209.255</td>\n",
       "      <td>21.883</td>\n",
       "      <td>284.870</td>\n",
       "    </tr>\n",
       "    <tr>\n",
       "      <th>ElasticNetRegression</th>\n",
       "      <td>209.729</td>\n",
       "      <td>21.880</td>\n",
       "      <td>285.417</td>\n",
       "    </tr>\n",
       "    <tr>\n",
       "      <th>KNN</th>\n",
       "      <td>206.903</td>\n",
       "      <td>19.981</td>\n",
       "      <td>300.964</td>\n",
       "    </tr>\n",
       "    <tr>\n",
       "      <th>RadiusNN</th>\n",
       "      <td>428.827</td>\n",
       "      <td>55.660</td>\n",
       "      <td>591.425</td>\n",
       "    </tr>\n",
       "    <tr>\n",
       "      <th>SVMLinear</th>\n",
       "      <td>206.003</td>\n",
       "      <td>20.424</td>\n",
       "      <td>288.413</td>\n",
       "    </tr>\n",
       "    <tr>\n",
       "      <th>SVMPolynomial</th>\n",
       "      <td>198.942</td>\n",
       "      <td>19.103</td>\n",
       "      <td>299.185</td>\n",
       "    </tr>\n",
       "    <tr>\n",
       "      <th>SVMRadialBasis</th>\n",
       "      <td>177.794</td>\n",
       "      <td>16.373</td>\n",
       "      <td>263.030</td>\n",
       "    </tr>\n",
       "    <tr>\n",
       "      <th>DecisionTree</th>\n",
       "      <td>209.231</td>\n",
       "      <td>20.130</td>\n",
       "      <td>292.816</td>\n",
       "    </tr>\n",
       "    <tr>\n",
       "      <th>RandomForest</th>\n",
       "      <td>171.656</td>\n",
       "      <td>16.408</td>\n",
       "      <td>251.145</td>\n",
       "    </tr>\n",
       "    <tr>\n",
       "      <th>AdaBoost</th>\n",
       "      <td>260.559</td>\n",
       "      <td>29.305</td>\n",
       "      <td>336.241</td>\n",
       "    </tr>\n",
       "    <tr>\n",
       "      <th>GradientBoosting</th>\n",
       "      <td>161.806</td>\n",
       "      <td>15.307</td>\n",
       "      <td>245.672</td>\n",
       "    </tr>\n",
       "    <tr>\n",
       "      <th>xgBoost</th>\n",
       "      <td>157.270</td>\n",
       "      <td>15.073</td>\n",
       "      <td>234.011</td>\n",
       "    </tr>\n",
       "    <tr>\n",
       "      <th>LightGBM</th>\n",
       "      <td>169.228</td>\n",
       "      <td>16.779</td>\n",
       "      <td>238.278</td>\n",
       "    </tr>\n",
       "    <tr>\n",
       "      <th>CatBoost</th>\n",
       "      <td>156.860</td>\n",
       "      <td>15.013</td>\n",
       "      <td>236.617</td>\n",
       "    </tr>\n",
       "  </tbody>\n",
       "</table>\n",
       "</div>"
      ],
      "text/plain": [
       "                            MAE    MAPE     RMSE\n",
       "DummyRegressorMedian    490.824  58.169  667.912\n",
       "DummyRegressorQuantile  579.728  46.463  826.321\n",
       "LinearRegression        209.576  21.972  285.577\n",
       "RidgeRegression         209.445  21.830  285.552\n",
       "LassoRegression         209.255  21.883  284.870\n",
       "ElasticNetRegression    209.729  21.880  285.417\n",
       "KNN                     206.903  19.981  300.964\n",
       "RadiusNN                428.827  55.660  591.425\n",
       "SVMLinear               206.003  20.424  288.413\n",
       "SVMPolynomial           198.942  19.103  299.185\n",
       "SVMRadialBasis          177.794  16.373  263.030\n",
       "DecisionTree            209.231  20.130  292.816\n",
       "RandomForest            171.656  16.408  251.145\n",
       "AdaBoost                260.559  29.305  336.241\n",
       "GradientBoosting        161.806  15.307  245.672\n",
       "xgBoost                 157.270  15.073  234.011\n",
       "LightGBM                169.228  16.779  238.278\n",
       "CatBoost                156.860  15.013  236.617"
      ]
     },
     "execution_count": 49,
     "metadata": {},
     "output_type": "execute_result"
    }
   ],
   "source": [
    "model_comparison = pd.concat([model_comparison, catboost], 0)\n",
    "model_comparison"
   ]
  },
  {
   "cell_type": "code",
   "execution_count": 53,
   "metadata": {},
   "outputs": [],
   "source": [
    "pkl_filename = \"XGBoost.pkl\"\n",
    "\n",
    "with open(pkl_filename, 'wb') as file:\n",
    "    pickle.dump(GRID_XGB.best_estimator_, file)"
   ]
  },
  {
   "cell_type": "code",
   "execution_count": null,
   "metadata": {},
   "outputs": [],
   "source": []
  },
  {
   "cell_type": "markdown",
   "metadata": {},
   "source": [
    "### Save datasets for evaluation"
   ]
  },
  {
   "cell_type": "code",
   "execution_count": 54,
   "metadata": {},
   "outputs": [],
   "source": [
    "X_train_original.to_csv('../../data/laptops/X_train_original.csv', index = False)\n",
    "X_test_original.to_csv('../../data/laptops/X_test_original.csv', index = False)\n",
    "X_train.to_csv('../../data/laptops/X_train.csv', index = False)\n",
    "X_test.to_csv('../../data/laptops/X_test.csv', index = False)\n",
    "y_train.to_csv('../../data/laptops/y_train.csv', index = False)\n",
    "y_test.to_csv('../../data/laptops/y_test.csv', index = False)"
   ]
  },
  {
   "cell_type": "code",
   "execution_count": 55,
   "metadata": {},
   "outputs": [],
   "source": [
    "#model_comparison = pd.read_csv('../../data/laptops/model_comparison.csv', index_col=0)\n",
    "model_comparison.to_csv('../../data/laptops/model_comparison.csv')"
   ]
  },
  {
   "cell_type": "code",
   "execution_count": null,
   "metadata": {},
   "outputs": [],
   "source": []
  }
 ],
 "metadata": {
  "kernelspec": {
   "display_name": "Python 3",
   "language": "python",
   "name": "python3"
  }
 },
 "nbformat": 4,
 "nbformat_minor": 4
}
