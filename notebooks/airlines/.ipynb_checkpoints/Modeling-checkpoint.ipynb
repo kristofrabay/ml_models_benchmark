{
 "cells": [
  {
   "cell_type": "code",
   "execution_count": 610,
   "metadata": {},
   "outputs": [],
   "source": [
    "import pandas as pd\n",
    "import numpy as np\n",
    "import matplotlib.pyplot as plt\n",
    "import seaborn as sns\n",
    "\n",
    "from sklearn.model_selection import train_test_split, GridSearchCV\n",
    "from sklearn.metrics import accuracy_score, f1_score, log_loss, roc_auc_score\n",
    "from sklearn.preprocessing import StandardScaler\n",
    "from sklearn.utils import resample\n",
    "\n",
    "from sklearn.dummy import DummyClassifier\n",
    "from sklearn.linear_model import LogisticRegression\n",
    "from sklearn.neighbors import KNeighborsClassifier, RadiusNeighborsClassifier\n",
    "from sklearn.svm import SVC\n",
    "from sklearn.tree import DecisionTreeClassifier, plot_tree\n",
    "from sklearn.ensemble import AdaBoostClassifier, GradientBoostingClassifier, RandomForestClassifier\n",
    "\n",
    "import xgboost as xgb\n",
    "import lightgbm as lgb\n",
    "from catboost import CatBoostClassifier\n",
    "\n",
    "import pickle\n",
    "import time\n",
    "import warnings\n",
    "warnings.filterwarnings('ignore')"
   ]
  },
  {
   "cell_type": "code",
   "execution_count": 611,
   "metadata": {},
   "outputs": [],
   "source": [
    "def evaluate_model(model_name, model, X, y):\n",
    "    \n",
    "    predictions_probas = model.predict_proba(X)[:,1]\n",
    "    predictions = model.predict(X)\n",
    "\n",
    "    Accuracy = accuracy_score(y, predictions)\n",
    "    F1 = f1_score(y, predictions)\n",
    "    AUC = roc_auc_score(y, predictions_probas)\n",
    "    LogLoss = log_loss(y, predictions_probas)\n",
    "\n",
    "    print('Accuracy for', model_name, ': %1.3f' % Accuracy)\n",
    "    print('F score for', model_name, ': %1.3f' % F1)\n",
    "    print('AUC for', model_name, ': %1.4f' % AUC)\n",
    "    print('LogLoss for', model_name, ': %1.3f' % LogLoss)\n",
    "\n",
    "    metrics_table = pd.DataFrame({'Accuracy' : [round(Accuracy, 3)],\n",
    "                                  'F score' : [round(F1, 3)], \n",
    "                                  'AUC' : [round(AUC, 4)], \n",
    "                                  'LogLoss' : [round(LogLoss, 3)]}, index = [model_name])\n",
    "    \n",
    "    return metrics_table"
   ]
  },
  {
   "cell_type": "markdown",
   "metadata": {},
   "source": [
    "### Read in the data"
   ]
  },
  {
   "cell_type": "code",
   "execution_count": 612,
   "metadata": {},
   "outputs": [],
   "source": [
    "train = pd.read_csv('../../data/airlines/train_cleaned.csv')\n",
    "test = pd.read_csv('../../data/airlines/test_cleaned.csv')"
   ]
  },
  {
   "cell_type": "code",
   "execution_count": 613,
   "metadata": {},
   "outputs": [
    {
     "data": {
      "text/html": [
       "<div>\n",
       "<style scoped>\n",
       "    .dataframe tbody tr th:only-of-type {\n",
       "        vertical-align: middle;\n",
       "    }\n",
       "\n",
       "    .dataframe tbody tr th {\n",
       "        vertical-align: top;\n",
       "    }\n",
       "\n",
       "    .dataframe thead th {\n",
       "        text-align: right;\n",
       "    }\n",
       "</style>\n",
       "<table border=\"1\" class=\"dataframe\">\n",
       "  <thead>\n",
       "    <tr style=\"text-align: right;\">\n",
       "      <th></th>\n",
       "      <th>is_male</th>\n",
       "      <th>is_loyal_customer</th>\n",
       "      <th>age</th>\n",
       "      <th>is_business_travel</th>\n",
       "      <th>class</th>\n",
       "      <th>flight distance</th>\n",
       "      <th>inflight wifi service</th>\n",
       "      <th>departure/arrival time convenient</th>\n",
       "      <th>ease of online booking</th>\n",
       "      <th>gate location</th>\n",
       "      <th>...</th>\n",
       "      <th>inflight entertainment</th>\n",
       "      <th>on-board service</th>\n",
       "      <th>leg room service</th>\n",
       "      <th>baggage handling</th>\n",
       "      <th>checkin service</th>\n",
       "      <th>inflight service</th>\n",
       "      <th>cleanliness</th>\n",
       "      <th>departure delay in minutes</th>\n",
       "      <th>arrival delay in minutes</th>\n",
       "      <th>satisfied</th>\n",
       "    </tr>\n",
       "  </thead>\n",
       "  <tbody>\n",
       "    <tr>\n",
       "      <th>0</th>\n",
       "      <td>1</td>\n",
       "      <td>1</td>\n",
       "      <td>13</td>\n",
       "      <td>0</td>\n",
       "      <td>Eco Plus</td>\n",
       "      <td>460</td>\n",
       "      <td>3</td>\n",
       "      <td>4</td>\n",
       "      <td>3</td>\n",
       "      <td>1</td>\n",
       "      <td>...</td>\n",
       "      <td>5</td>\n",
       "      <td>4</td>\n",
       "      <td>3</td>\n",
       "      <td>4</td>\n",
       "      <td>4</td>\n",
       "      <td>5</td>\n",
       "      <td>5</td>\n",
       "      <td>25</td>\n",
       "      <td>18.0</td>\n",
       "      <td>0</td>\n",
       "    </tr>\n",
       "    <tr>\n",
       "      <th>1</th>\n",
       "      <td>1</td>\n",
       "      <td>0</td>\n",
       "      <td>25</td>\n",
       "      <td>1</td>\n",
       "      <td>Business</td>\n",
       "      <td>235</td>\n",
       "      <td>3</td>\n",
       "      <td>2</td>\n",
       "      <td>3</td>\n",
       "      <td>3</td>\n",
       "      <td>...</td>\n",
       "      <td>1</td>\n",
       "      <td>1</td>\n",
       "      <td>5</td>\n",
       "      <td>3</td>\n",
       "      <td>1</td>\n",
       "      <td>4</td>\n",
       "      <td>1</td>\n",
       "      <td>1</td>\n",
       "      <td>6.0</td>\n",
       "      <td>0</td>\n",
       "    </tr>\n",
       "    <tr>\n",
       "      <th>2</th>\n",
       "      <td>0</td>\n",
       "      <td>1</td>\n",
       "      <td>26</td>\n",
       "      <td>1</td>\n",
       "      <td>Business</td>\n",
       "      <td>1142</td>\n",
       "      <td>2</td>\n",
       "      <td>2</td>\n",
       "      <td>2</td>\n",
       "      <td>2</td>\n",
       "      <td>...</td>\n",
       "      <td>5</td>\n",
       "      <td>4</td>\n",
       "      <td>3</td>\n",
       "      <td>4</td>\n",
       "      <td>4</td>\n",
       "      <td>4</td>\n",
       "      <td>5</td>\n",
       "      <td>0</td>\n",
       "      <td>0.0</td>\n",
       "      <td>1</td>\n",
       "    </tr>\n",
       "    <tr>\n",
       "      <th>3</th>\n",
       "      <td>0</td>\n",
       "      <td>1</td>\n",
       "      <td>25</td>\n",
       "      <td>1</td>\n",
       "      <td>Business</td>\n",
       "      <td>562</td>\n",
       "      <td>2</td>\n",
       "      <td>5</td>\n",
       "      <td>5</td>\n",
       "      <td>5</td>\n",
       "      <td>...</td>\n",
       "      <td>2</td>\n",
       "      <td>2</td>\n",
       "      <td>5</td>\n",
       "      <td>3</td>\n",
       "      <td>1</td>\n",
       "      <td>4</td>\n",
       "      <td>2</td>\n",
       "      <td>11</td>\n",
       "      <td>9.0</td>\n",
       "      <td>0</td>\n",
       "    </tr>\n",
       "    <tr>\n",
       "      <th>4</th>\n",
       "      <td>1</td>\n",
       "      <td>1</td>\n",
       "      <td>61</td>\n",
       "      <td>1</td>\n",
       "      <td>Business</td>\n",
       "      <td>214</td>\n",
       "      <td>3</td>\n",
       "      <td>3</td>\n",
       "      <td>3</td>\n",
       "      <td>3</td>\n",
       "      <td>...</td>\n",
       "      <td>3</td>\n",
       "      <td>3</td>\n",
       "      <td>4</td>\n",
       "      <td>4</td>\n",
       "      <td>3</td>\n",
       "      <td>3</td>\n",
       "      <td>3</td>\n",
       "      <td>0</td>\n",
       "      <td>0.0</td>\n",
       "      <td>1</td>\n",
       "    </tr>\n",
       "  </tbody>\n",
       "</table>\n",
       "<p>5 rows × 23 columns</p>\n",
       "</div>"
      ],
      "text/plain": [
       "   is_male  is_loyal_customer  age  is_business_travel     class  \\\n",
       "0        1                  1   13                   0  Eco Plus   \n",
       "1        1                  0   25                   1  Business   \n",
       "2        0                  1   26                   1  Business   \n",
       "3        0                  1   25                   1  Business   \n",
       "4        1                  1   61                   1  Business   \n",
       "\n",
       "   flight distance  inflight wifi service  departure/arrival time convenient  \\\n",
       "0              460                      3                                  4   \n",
       "1              235                      3                                  2   \n",
       "2             1142                      2                                  2   \n",
       "3              562                      2                                  5   \n",
       "4              214                      3                                  3   \n",
       "\n",
       "   ease of online booking  gate location  ...  inflight entertainment  \\\n",
       "0                       3              1  ...                       5   \n",
       "1                       3              3  ...                       1   \n",
       "2                       2              2  ...                       5   \n",
       "3                       5              5  ...                       2   \n",
       "4                       3              3  ...                       3   \n",
       "\n",
       "   on-board service  leg room service  baggage handling  checkin service  \\\n",
       "0                 4                 3                 4                4   \n",
       "1                 1                 5                 3                1   \n",
       "2                 4                 3                 4                4   \n",
       "3                 2                 5                 3                1   \n",
       "4                 3                 4                 4                3   \n",
       "\n",
       "   inflight service  cleanliness  departure delay in minutes  \\\n",
       "0                 5            5                          25   \n",
       "1                 4            1                           1   \n",
       "2                 4            5                           0   \n",
       "3                 4            2                          11   \n",
       "4                 3            3                           0   \n",
       "\n",
       "   arrival delay in minutes  satisfied  \n",
       "0                      18.0          0  \n",
       "1                       6.0          0  \n",
       "2                       0.0          1  \n",
       "3                       9.0          0  \n",
       "4                       0.0          1  \n",
       "\n",
       "[5 rows x 23 columns]"
      ]
     },
     "execution_count": 613,
     "metadata": {},
     "output_type": "execute_result"
    }
   ],
   "source": [
    "train.head()"
   ]
  },
  {
   "cell_type": "markdown",
   "metadata": {},
   "source": [
    "### Dealing with input types\n",
    "\n",
    "CatBoost can take categorical features as is, so I won't one-hot encode the data yet, instead, for most models I will separately one-hot encode the train and test sets, for CatBoost I'll just give the Regressor the features as string"
   ]
  },
  {
   "cell_type": "code",
   "execution_count": 614,
   "metadata": {},
   "outputs": [
    {
     "name": "stdout",
     "output_type": "stream",
     "text": [
      "Shape of X train: (102737, 22)\n",
      "Shape of X test: (25690, 22)\n",
      "Shape of y train: (102737,)\n",
      "Shape of y test: (25690,)\n"
     ]
    }
   ],
   "source": [
    "X_train = train.drop('satisfied', 1).copy()\n",
    "y_train = train['satisfied'].copy()\n",
    "X_test = test.drop('satisfied', 1).copy()\n",
    "y_test = test['satisfied'].copy()\n",
    "\n",
    "print('Shape of X train:', X_train.shape)\n",
    "print('Shape of X test:', X_test.shape)\n",
    "print('Shape of y train:', y_train.shape)\n",
    "print('Shape of y test:', y_test.shape)"
   ]
  },
  {
   "cell_type": "markdown",
   "metadata": {},
   "source": [
    "#### Too many datapoints will make this benchmarking way too long, so I'll limit my train set to 10k, my eval set to around 3k"
   ]
  },
  {
   "cell_type": "code",
   "execution_count": 615,
   "metadata": {},
   "outputs": [],
   "source": [
    "X_train = X_train.sample(10000, random_state = 20202020)\n",
    "X_test = X_test.sample(3000, random_state = 20202020)\n",
    "y_train = y_train.sample(10000, random_state = 20202020)\n",
    "y_test = y_test.sample(3000, random_state = 20202020)"
   ]
  },
  {
   "cell_type": "code",
   "execution_count": 616,
   "metadata": {},
   "outputs": [
    {
     "data": {
      "text/plain": [
       "0    0.5679\n",
       "1    0.4321\n",
       "Name: satisfied, dtype: float64"
      ]
     },
     "execution_count": 616,
     "metadata": {},
     "output_type": "execute_result"
    }
   ],
   "source": [
    "y_train.value_counts(normalize=True)"
   ]
  },
  {
   "cell_type": "code",
   "execution_count": 617,
   "metadata": {},
   "outputs": [
    {
     "data": {
      "text/plain": [
       "0    0.557333\n",
       "1    0.442667\n",
       "Name: satisfied, dtype: float64"
      ]
     },
     "execution_count": 617,
     "metadata": {},
     "output_type": "execute_result"
    }
   ],
   "source": [
    "y_test.value_counts(normalize=True)"
   ]
  },
  {
   "cell_type": "markdown",
   "metadata": {},
   "source": [
    "### One-hot encode categoricals for everything except CatBoost"
   ]
  },
  {
   "cell_type": "code",
   "execution_count": 618,
   "metadata": {},
   "outputs": [],
   "source": [
    "# Need original data for CatBoost\n",
    "\n",
    "X_train_original = X_train.copy()\n",
    "X_test_original = X_test.copy()\n",
    "\n",
    "# One hot encode for other models\n",
    "\n",
    "X_train = pd.get_dummies(X_train, columns = ['class'], prefix_sep = ' = ')\n",
    "X_test = pd.get_dummies(X_test, columns = ['class'], prefix_sep = ' = ')"
   ]
  },
  {
   "cell_type": "code",
   "execution_count": 619,
   "metadata": {},
   "outputs": [
    {
     "name": "stdout",
     "output_type": "stream",
     "text": [
      "Original amount of Xs: 22\n",
      "Column # with one-hot encoding: 24\n"
     ]
    }
   ],
   "source": [
    "print('Original amount of Xs:', X_train_original.shape[1])\n",
    "print('Column # with one-hot encoding:', X_train.shape[1])"
   ]
  },
  {
   "cell_type": "code",
   "execution_count": null,
   "metadata": {},
   "outputs": [],
   "source": []
  },
  {
   "cell_type": "markdown",
   "metadata": {},
   "source": [
    "### Scale X train and transform X test"
   ]
  },
  {
   "cell_type": "markdown",
   "metadata": {},
   "source": [
    "For distance-based ML models data should be scaled for faster convergence, therefore I will use the StandardScaler() function to transform my features into variables with E(x) = 0 and Std(x) = 1. This will also speed up linreg for example, but won't have an effect on performance"
   ]
  },
  {
   "cell_type": "code",
   "execution_count": 620,
   "metadata": {},
   "outputs": [],
   "source": [
    "SS = StandardScaler()\n",
    "\n",
    "X_train_scaled = SS.fit_transform(X_train)\n",
    "X_test_scaled = SS.transform(X_test)\n",
    "\n",
    "X_train_scaled = pd.DataFrame(X_train_scaled, columns = X_train.columns)\n",
    "X_test_scaled = pd.DataFrame(X_test_scaled, columns = X_test.columns)"
   ]
  },
  {
   "cell_type": "markdown",
   "metadata": {},
   "source": [
    "# Applying the different ML models"
   ]
  },
  {
   "cell_type": "markdown",
   "metadata": {},
   "source": [
    "### 1. DummyClassifier to compare results against"
   ]
  },
  {
   "cell_type": "markdown",
   "metadata": {},
   "source": [
    "Stratified method"
   ]
  },
  {
   "cell_type": "code",
   "execution_count": 621,
   "metadata": {},
   "outputs": [
    {
     "data": {
      "text/plain": [
       "DummyClassifier(constant=None, random_state=2020, strategy='stratified')"
      ]
     },
     "execution_count": 621,
     "metadata": {},
     "output_type": "execute_result"
    }
   ],
   "source": [
    "dummy = DummyClassifier(strategy = 'stratified', random_state = 2020)\n",
    "dummy.fit(X_train_scaled, y_train)"
   ]
  },
  {
   "cell_type": "code",
   "execution_count": 622,
   "metadata": {},
   "outputs": [
    {
     "name": "stdout",
     "output_type": "stream",
     "text": [
      "Accuracy for DummyClassifierStratified : 0.518\n",
      "F score for DummyClassifierStratified : 0.446\n",
      "AUC for DummyClassifierStratified : 0.5100\n",
      "LogLoss for DummyClassifierStratified : 16.636\n"
     ]
    }
   ],
   "source": [
    "dummy_strat = evaluate_model('DummyClassifierStratified', dummy, X_test_scaled, y_test)"
   ]
  },
  {
   "cell_type": "markdown",
   "metadata": {},
   "source": [
    "Most frequent value method"
   ]
  },
  {
   "cell_type": "code",
   "execution_count": 623,
   "metadata": {},
   "outputs": [
    {
     "data": {
      "text/plain": [
       "DummyClassifier(constant=None, random_state=2020, strategy='most_frequent')"
      ]
     },
     "execution_count": 623,
     "metadata": {},
     "output_type": "execute_result"
    }
   ],
   "source": [
    "dummy = DummyClassifier(strategy = 'most_frequent', random_state = 2020)\n",
    "dummy.fit(X_train_scaled, y_train)"
   ]
  },
  {
   "cell_type": "code",
   "execution_count": 624,
   "metadata": {},
   "outputs": [
    {
     "name": "stdout",
     "output_type": "stream",
     "text": [
      "Accuracy for DummyClassifierMostFrequent : 0.557\n",
      "F score for DummyClassifierMostFrequent : 0.000\n",
      "AUC for DummyClassifierMostFrequent : 0.5000\n",
      "LogLoss for DummyClassifierMostFrequent : 15.289\n"
     ]
    }
   ],
   "source": [
    "dummy_freq = evaluate_model('DummyClassifierMostFrequent', dummy, X_test_scaled, y_test)"
   ]
  },
  {
   "cell_type": "markdown",
   "metadata": {},
   "source": [
    "Concat results"
   ]
  },
  {
   "cell_type": "code",
   "execution_count": 625,
   "metadata": {},
   "outputs": [
    {
     "data": {
      "text/html": [
       "<div>\n",
       "<style scoped>\n",
       "    .dataframe tbody tr th:only-of-type {\n",
       "        vertical-align: middle;\n",
       "    }\n",
       "\n",
       "    .dataframe tbody tr th {\n",
       "        vertical-align: top;\n",
       "    }\n",
       "\n",
       "    .dataframe thead th {\n",
       "        text-align: right;\n",
       "    }\n",
       "</style>\n",
       "<table border=\"1\" class=\"dataframe\">\n",
       "  <thead>\n",
       "    <tr style=\"text-align: right;\">\n",
       "      <th></th>\n",
       "      <th>Accuracy</th>\n",
       "      <th>F score</th>\n",
       "      <th>AUC</th>\n",
       "      <th>LogLoss</th>\n",
       "    </tr>\n",
       "  </thead>\n",
       "  <tbody>\n",
       "    <tr>\n",
       "      <th>DummyClassifierStratified</th>\n",
       "      <td>0.518</td>\n",
       "      <td>0.446</td>\n",
       "      <td>0.51</td>\n",
       "      <td>16.636</td>\n",
       "    </tr>\n",
       "    <tr>\n",
       "      <th>DummyClassifierMostFrequent</th>\n",
       "      <td>0.557</td>\n",
       "      <td>0.000</td>\n",
       "      <td>0.50</td>\n",
       "      <td>15.289</td>\n",
       "    </tr>\n",
       "  </tbody>\n",
       "</table>\n",
       "</div>"
      ],
      "text/plain": [
       "                             Accuracy  F score   AUC  LogLoss\n",
       "DummyClassifierStratified       0.518    0.446  0.51   16.636\n",
       "DummyClassifierMostFrequent     0.557    0.000  0.50   15.289"
      ]
     },
     "execution_count": 625,
     "metadata": {},
     "output_type": "execute_result"
    }
   ],
   "source": [
    "model_comparison = pd.concat([dummy_strat, dummy_freq], 0)\n",
    "model_comparison.head()"
   ]
  },
  {
   "cell_type": "code",
   "execution_count": null,
   "metadata": {},
   "outputs": [],
   "source": []
  },
  {
   "cell_type": "markdown",
   "metadata": {},
   "source": [
    "### 2. Simple logistic regression"
   ]
  },
  {
   "cell_type": "code",
   "execution_count": 626,
   "metadata": {},
   "outputs": [
    {
     "data": {
      "text/plain": [
       "LogisticRegression(C=1.0, class_weight=None, dual=False, fit_intercept=True,\n",
       "                   intercept_scaling=1, l1_ratio=None, max_iter=100,\n",
       "                   multi_class='auto', n_jobs=None, penalty='none',\n",
       "                   random_state=None, solver='lbfgs', tol=0.0001, verbose=0,\n",
       "                   warm_start=False)"
      ]
     },
     "execution_count": 626,
     "metadata": {},
     "output_type": "execute_result"
    }
   ],
   "source": [
    "lr = LogisticRegression(penalty = 'none')\n",
    "lr.fit(X_train_scaled, y_train)"
   ]
  },
  {
   "cell_type": "code",
   "execution_count": 627,
   "metadata": {},
   "outputs": [
    {
     "name": "stdout",
     "output_type": "stream",
     "text": [
      "Accuracy for LogisticRegression : 0.876\n",
      "F score for LogisticRegression : 0.858\n",
      "AUC for LogisticRegression : 0.9270\n",
      "LogLoss for LogisticRegression : 0.335\n"
     ]
    }
   ],
   "source": [
    "logreg = evaluate_model('LogisticRegression', lr, X_test_scaled, y_test)"
   ]
  },
  {
   "cell_type": "code",
   "execution_count": 628,
   "metadata": {},
   "outputs": [
    {
     "data": {
      "text/html": [
       "<div>\n",
       "<style scoped>\n",
       "    .dataframe tbody tr th:only-of-type {\n",
       "        vertical-align: middle;\n",
       "    }\n",
       "\n",
       "    .dataframe tbody tr th {\n",
       "        vertical-align: top;\n",
       "    }\n",
       "\n",
       "    .dataframe thead th {\n",
       "        text-align: right;\n",
       "    }\n",
       "</style>\n",
       "<table border=\"1\" class=\"dataframe\">\n",
       "  <thead>\n",
       "    <tr style=\"text-align: right;\">\n",
       "      <th></th>\n",
       "      <th>Accuracy</th>\n",
       "      <th>F score</th>\n",
       "      <th>AUC</th>\n",
       "      <th>LogLoss</th>\n",
       "    </tr>\n",
       "  </thead>\n",
       "  <tbody>\n",
       "    <tr>\n",
       "      <th>DummyClassifierStratified</th>\n",
       "      <td>0.518</td>\n",
       "      <td>0.446</td>\n",
       "      <td>0.510</td>\n",
       "      <td>16.636</td>\n",
       "    </tr>\n",
       "    <tr>\n",
       "      <th>DummyClassifierMostFrequent</th>\n",
       "      <td>0.557</td>\n",
       "      <td>0.000</td>\n",
       "      <td>0.500</td>\n",
       "      <td>15.289</td>\n",
       "    </tr>\n",
       "    <tr>\n",
       "      <th>LogisticRegression</th>\n",
       "      <td>0.876</td>\n",
       "      <td>0.858</td>\n",
       "      <td>0.927</td>\n",
       "      <td>0.335</td>\n",
       "    </tr>\n",
       "  </tbody>\n",
       "</table>\n",
       "</div>"
      ],
      "text/plain": [
       "                             Accuracy  F score    AUC  LogLoss\n",
       "DummyClassifierStratified       0.518    0.446  0.510   16.636\n",
       "DummyClassifierMostFrequent     0.557    0.000  0.500   15.289\n",
       "LogisticRegression              0.876    0.858  0.927    0.335"
      ]
     },
     "execution_count": 628,
     "metadata": {},
     "output_type": "execute_result"
    }
   ],
   "source": [
    "model_comparison = pd.concat([model_comparison, logreg], 0)\n",
    "model_comparison.head()"
   ]
  },
  {
   "cell_type": "code",
   "execution_count": null,
   "metadata": {},
   "outputs": [],
   "source": []
  },
  {
   "cell_type": "markdown",
   "metadata": {},
   "source": [
    "### 3. Penalized logistic regression"
   ]
  },
  {
   "cell_type": "code",
   "execution_count": 629,
   "metadata": {},
   "outputs": [
    {
     "data": {
      "text/plain": [
       "GridSearchCV(cv=5, error_score=nan,\n",
       "             estimator=LogisticRegression(C=1.0, class_weight=None, dual=False,\n",
       "                                          fit_intercept=True,\n",
       "                                          intercept_scaling=1, l1_ratio=None,\n",
       "                                          max_iter=100, multi_class='auto',\n",
       "                                          n_jobs=None, penalty='l2',\n",
       "                                          random_state=20202020, solver='lbfgs',\n",
       "                                          tol=0.0001, verbose=0,\n",
       "                                          warm_start=False),\n",
       "             iid='deprecated', n_jobs=-1,\n",
       "             param_grid={'C': [0.6666666666666666, 0.75],\n",
       "                         'l1_ratio': array([0. , 0.1, 0.2, 0.3, 0.4, 0.5, 0.6, 0.7, 0.8, 0.9, 1. ]),\n",
       "                         'penalty': ['l1', 'l2', 'elasticnet']},\n",
       "             pre_dispatch='2*n_jobs', refit=True, return_train_score=False,\n",
       "             scoring='roc_auc', verbose=0)"
      ]
     },
     "execution_count": 629,
     "metadata": {},
     "output_type": "execute_result"
    }
   ],
   "source": [
    "reg_logit = {'C' : [2/3, 3/4], \n",
    "             'penalty' : ['l1', 'l2', 'elasticnet'], \n",
    "             'l1_ratio' : np.linspace(0, 1, 11)}\n",
    "\n",
    "logit = LogisticRegression(random_state = 20202020)\n",
    "\n",
    "GRID_logit = GridSearchCV(logit, param_grid = reg_logit, cv = 5, scoring = 'roc_auc', n_jobs = -1)\n",
    "\n",
    "GRID_logit.fit(X_train_scaled, y_train)"
   ]
  },
  {
   "cell_type": "code",
   "execution_count": 630,
   "metadata": {},
   "outputs": [
    {
     "data": {
      "text/plain": [
       "{'C': 0.6666666666666666, 'l1_ratio': 0.0, 'penalty': 'l2'}"
      ]
     },
     "execution_count": 630,
     "metadata": {},
     "output_type": "execute_result"
    }
   ],
   "source": [
    "GRID_logit.best_params_"
   ]
  },
  {
   "cell_type": "code",
   "execution_count": 631,
   "metadata": {},
   "outputs": [
    {
     "name": "stdout",
     "output_type": "stream",
     "text": [
      "Accuracy for RegularizedLogit : 0.876\n",
      "F score for RegularizedLogit : 0.858\n",
      "AUC for RegularizedLogit : 0.9270\n",
      "LogLoss for RegularizedLogit : 0.335\n"
     ]
    }
   ],
   "source": [
    "reglogit = evaluate_model('RegularizedLogit', GRID_logit.best_estimator_, X_test_scaled, y_test)"
   ]
  },
  {
   "cell_type": "code",
   "execution_count": 632,
   "metadata": {},
   "outputs": [
    {
     "data": {
      "text/html": [
       "<div>\n",
       "<style scoped>\n",
       "    .dataframe tbody tr th:only-of-type {\n",
       "        vertical-align: middle;\n",
       "    }\n",
       "\n",
       "    .dataframe tbody tr th {\n",
       "        vertical-align: top;\n",
       "    }\n",
       "\n",
       "    .dataframe thead th {\n",
       "        text-align: right;\n",
       "    }\n",
       "</style>\n",
       "<table border=\"1\" class=\"dataframe\">\n",
       "  <thead>\n",
       "    <tr style=\"text-align: right;\">\n",
       "      <th></th>\n",
       "      <th>Accuracy</th>\n",
       "      <th>F score</th>\n",
       "      <th>AUC</th>\n",
       "      <th>LogLoss</th>\n",
       "    </tr>\n",
       "  </thead>\n",
       "  <tbody>\n",
       "    <tr>\n",
       "      <th>DummyClassifierStratified</th>\n",
       "      <td>0.518</td>\n",
       "      <td>0.446</td>\n",
       "      <td>0.510</td>\n",
       "      <td>16.636</td>\n",
       "    </tr>\n",
       "    <tr>\n",
       "      <th>DummyClassifierMostFrequent</th>\n",
       "      <td>0.557</td>\n",
       "      <td>0.000</td>\n",
       "      <td>0.500</td>\n",
       "      <td>15.289</td>\n",
       "    </tr>\n",
       "    <tr>\n",
       "      <th>LogisticRegression</th>\n",
       "      <td>0.876</td>\n",
       "      <td>0.858</td>\n",
       "      <td>0.927</td>\n",
       "      <td>0.335</td>\n",
       "    </tr>\n",
       "    <tr>\n",
       "      <th>RegularizedLogit</th>\n",
       "      <td>0.876</td>\n",
       "      <td>0.858</td>\n",
       "      <td>0.927</td>\n",
       "      <td>0.335</td>\n",
       "    </tr>\n",
       "  </tbody>\n",
       "</table>\n",
       "</div>"
      ],
      "text/plain": [
       "                             Accuracy  F score    AUC  LogLoss\n",
       "DummyClassifierStratified       0.518    0.446  0.510   16.636\n",
       "DummyClassifierMostFrequent     0.557    0.000  0.500   15.289\n",
       "LogisticRegression              0.876    0.858  0.927    0.335\n",
       "RegularizedLogit                0.876    0.858  0.927    0.335"
      ]
     },
     "execution_count": 632,
     "metadata": {},
     "output_type": "execute_result"
    }
   ],
   "source": [
    "model_comparison = pd.concat([model_comparison, reglogit], 0)\n",
    "model_comparison.head()"
   ]
  },
  {
   "cell_type": "code",
   "execution_count": null,
   "metadata": {},
   "outputs": [],
   "source": []
  },
  {
   "cell_type": "markdown",
   "metadata": {},
   "source": [
    "### 4. Nearest neighbors methods"
   ]
  },
  {
   "cell_type": "markdown",
   "metadata": {},
   "source": [
    "#### 1. k-nearest neighbors"
   ]
  },
  {
   "cell_type": "code",
   "execution_count": 633,
   "metadata": {},
   "outputs": [
    {
     "data": {
      "text/plain": [
       "GridSearchCV(cv=5, error_score=nan,\n",
       "             estimator=KNeighborsClassifier(algorithm='auto', leaf_size=30,\n",
       "                                            metric='minkowski',\n",
       "                                            metric_params=None, n_jobs=None,\n",
       "                                            n_neighbors=5, p=2,\n",
       "                                            weights='uniform'),\n",
       "             iid='deprecated', n_jobs=-1,\n",
       "             param_grid={'algorithm': ['ball_tree'], 'n_neighbors': [155],\n",
       "                         'p': [1], 'weights': ['distance']},\n",
       "             pre_dispatch='2*n_jobs', refit=True, return_train_score=False,\n",
       "             scoring='roc_auc', verbose=0)"
      ]
     },
     "execution_count": 633,
     "metadata": {},
     "output_type": "execute_result"
    }
   ],
   "source": [
    "knn_params = {'p' : [1], # manhattan / euclidean\n",
    "              'weights' : ['distance'],\n",
    "              'algorithm' : ['ball_tree'],\n",
    "              'n_neighbors' : [155]}\n",
    "\n",
    "KNN = KNeighborsClassifier()\n",
    "\n",
    "GRID_KNN = GridSearchCV(KNN, param_grid = knn_params, cv = 5, scoring = 'roc_auc', n_jobs = -1)\n",
    "\n",
    "GRID_KNN.fit(X_train_scaled, y_train)"
   ]
  },
  {
   "cell_type": "code",
   "execution_count": 634,
   "metadata": {},
   "outputs": [
    {
     "data": {
      "text/plain": [
       "{'algorithm': 'ball_tree', 'n_neighbors': 155, 'p': 1, 'weights': 'distance'}"
      ]
     },
     "execution_count": 634,
     "metadata": {},
     "output_type": "execute_result"
    }
   ],
   "source": [
    "GRID_KNN.best_params_"
   ]
  },
  {
   "cell_type": "code",
   "execution_count": 635,
   "metadata": {},
   "outputs": [
    {
     "name": "stdout",
     "output_type": "stream",
     "text": [
      "Accuracy for KNN : 0.896\n",
      "F score for KNN : 0.877\n",
      "AUC for KNN : 0.9630\n",
      "LogLoss for KNN : 0.248\n"
     ]
    }
   ],
   "source": [
    "knn = evaluate_model('KNN', GRID_KNN.best_estimator_, X_test_scaled, y_test)"
   ]
  },
  {
   "cell_type": "code",
   "execution_count": 636,
   "metadata": {},
   "outputs": [
    {
     "data": {
      "text/html": [
       "<div>\n",
       "<style scoped>\n",
       "    .dataframe tbody tr th:only-of-type {\n",
       "        vertical-align: middle;\n",
       "    }\n",
       "\n",
       "    .dataframe tbody tr th {\n",
       "        vertical-align: top;\n",
       "    }\n",
       "\n",
       "    .dataframe thead th {\n",
       "        text-align: right;\n",
       "    }\n",
       "</style>\n",
       "<table border=\"1\" class=\"dataframe\">\n",
       "  <thead>\n",
       "    <tr style=\"text-align: right;\">\n",
       "      <th></th>\n",
       "      <th>Accuracy</th>\n",
       "      <th>F score</th>\n",
       "      <th>AUC</th>\n",
       "      <th>LogLoss</th>\n",
       "    </tr>\n",
       "  </thead>\n",
       "  <tbody>\n",
       "    <tr>\n",
       "      <th>DummyClassifierStratified</th>\n",
       "      <td>0.518</td>\n",
       "      <td>0.446</td>\n",
       "      <td>0.510</td>\n",
       "      <td>16.636</td>\n",
       "    </tr>\n",
       "    <tr>\n",
       "      <th>DummyClassifierMostFrequent</th>\n",
       "      <td>0.557</td>\n",
       "      <td>0.000</td>\n",
       "      <td>0.500</td>\n",
       "      <td>15.289</td>\n",
       "    </tr>\n",
       "    <tr>\n",
       "      <th>LogisticRegression</th>\n",
       "      <td>0.876</td>\n",
       "      <td>0.858</td>\n",
       "      <td>0.927</td>\n",
       "      <td>0.335</td>\n",
       "    </tr>\n",
       "    <tr>\n",
       "      <th>RegularizedLogit</th>\n",
       "      <td>0.876</td>\n",
       "      <td>0.858</td>\n",
       "      <td>0.927</td>\n",
       "      <td>0.335</td>\n",
       "    </tr>\n",
       "    <tr>\n",
       "      <th>KNN</th>\n",
       "      <td>0.896</td>\n",
       "      <td>0.877</td>\n",
       "      <td>0.963</td>\n",
       "      <td>0.248</td>\n",
       "    </tr>\n",
       "  </tbody>\n",
       "</table>\n",
       "</div>"
      ],
      "text/plain": [
       "                             Accuracy  F score    AUC  LogLoss\n",
       "DummyClassifierStratified       0.518    0.446  0.510   16.636\n",
       "DummyClassifierMostFrequent     0.557    0.000  0.500   15.289\n",
       "LogisticRegression              0.876    0.858  0.927    0.335\n",
       "RegularizedLogit                0.876    0.858  0.927    0.335\n",
       "KNN                             0.896    0.877  0.963    0.248"
      ]
     },
     "execution_count": 636,
     "metadata": {},
     "output_type": "execute_result"
    }
   ],
   "source": [
    "model_comparison = pd.concat([model_comparison, knn], 0)\n",
    "model_comparison"
   ]
  },
  {
   "cell_type": "code",
   "execution_count": null,
   "metadata": {},
   "outputs": [],
   "source": []
  },
  {
   "cell_type": "markdown",
   "metadata": {},
   "source": [
    "#### 2. Radius neighbors"
   ]
  },
  {
   "cell_type": "code",
   "execution_count": 637,
   "metadata": {
    "scrolled": true
   },
   "outputs": [
    {
     "data": {
      "text/plain": [
       "GridSearchCV(cv=5, error_score=nan,\n",
       "             estimator=RadiusNeighborsClassifier(algorithm='auto', leaf_size=30,\n",
       "                                                 metric='minkowski',\n",
       "                                                 metric_params=None,\n",
       "                                                 n_jobs=None,\n",
       "                                                 outlier_label=None, p=2,\n",
       "                                                 radius=1.0,\n",
       "                                                 weights='uniform'),\n",
       "             iid='deprecated', n_jobs=-1,\n",
       "             param_grid={'p': [1], 'radius': [20], 'weights': ['distance']},\n",
       "             pre_dispatch='2*n_jobs', refit=True, return_train_score=False,\n",
       "             scoring='roc_auc', verbose=0)"
      ]
     },
     "execution_count": 637,
     "metadata": {},
     "output_type": "execute_result"
    }
   ],
   "source": [
    "rnn_params = {'p' : [1], # manhattan / euclidean\n",
    "              'weights' : ['distance'], # uniform / distance\n",
    "              'radius' : [20]}\n",
    "\n",
    "RNN = RadiusNeighborsClassifier()\n",
    "\n",
    "GRID_RNN = GridSearchCV(RNN, param_grid = rnn_params, cv = 5, scoring = 'roc_auc', n_jobs = -1)\n",
    "\n",
    "GRID_RNN.fit(X_train_scaled, y_train)"
   ]
  },
  {
   "cell_type": "code",
   "execution_count": 638,
   "metadata": {},
   "outputs": [
    {
     "data": {
      "text/plain": [
       "{'p': 1, 'radius': 20, 'weights': 'distance'}"
      ]
     },
     "execution_count": 638,
     "metadata": {},
     "output_type": "execute_result"
    }
   ],
   "source": [
    "GRID_RNN.best_params_"
   ]
  },
  {
   "cell_type": "code",
   "execution_count": 639,
   "metadata": {},
   "outputs": [
    {
     "name": "stdout",
     "output_type": "stream",
     "text": [
      "Accuracy for RadiusNN : 0.857\n",
      "F score for RadiusNN : 0.837\n",
      "AUC for RadiusNN : 0.9232\n",
      "LogLoss for RadiusNN : 0.382\n"
     ]
    }
   ],
   "source": [
    "rnn = evaluate_model('RadiusNN', GRID_RNN.best_estimator_, X_test_scaled, y_test)"
   ]
  },
  {
   "cell_type": "code",
   "execution_count": 640,
   "metadata": {},
   "outputs": [
    {
     "data": {
      "text/html": [
       "<div>\n",
       "<style scoped>\n",
       "    .dataframe tbody tr th:only-of-type {\n",
       "        vertical-align: middle;\n",
       "    }\n",
       "\n",
       "    .dataframe tbody tr th {\n",
       "        vertical-align: top;\n",
       "    }\n",
       "\n",
       "    .dataframe thead th {\n",
       "        text-align: right;\n",
       "    }\n",
       "</style>\n",
       "<table border=\"1\" class=\"dataframe\">\n",
       "  <thead>\n",
       "    <tr style=\"text-align: right;\">\n",
       "      <th></th>\n",
       "      <th>Accuracy</th>\n",
       "      <th>F score</th>\n",
       "      <th>AUC</th>\n",
       "      <th>LogLoss</th>\n",
       "    </tr>\n",
       "  </thead>\n",
       "  <tbody>\n",
       "    <tr>\n",
       "      <th>DummyClassifierStratified</th>\n",
       "      <td>0.518</td>\n",
       "      <td>0.446</td>\n",
       "      <td>0.5100</td>\n",
       "      <td>16.636</td>\n",
       "    </tr>\n",
       "    <tr>\n",
       "      <th>DummyClassifierMostFrequent</th>\n",
       "      <td>0.557</td>\n",
       "      <td>0.000</td>\n",
       "      <td>0.5000</td>\n",
       "      <td>15.289</td>\n",
       "    </tr>\n",
       "    <tr>\n",
       "      <th>LogisticRegression</th>\n",
       "      <td>0.876</td>\n",
       "      <td>0.858</td>\n",
       "      <td>0.9270</td>\n",
       "      <td>0.335</td>\n",
       "    </tr>\n",
       "    <tr>\n",
       "      <th>RegularizedLogit</th>\n",
       "      <td>0.876</td>\n",
       "      <td>0.858</td>\n",
       "      <td>0.9270</td>\n",
       "      <td>0.335</td>\n",
       "    </tr>\n",
       "    <tr>\n",
       "      <th>KNN</th>\n",
       "      <td>0.896</td>\n",
       "      <td>0.877</td>\n",
       "      <td>0.9630</td>\n",
       "      <td>0.248</td>\n",
       "    </tr>\n",
       "    <tr>\n",
       "      <th>RadiusNN</th>\n",
       "      <td>0.857</td>\n",
       "      <td>0.837</td>\n",
       "      <td>0.9232</td>\n",
       "      <td>0.382</td>\n",
       "    </tr>\n",
       "  </tbody>\n",
       "</table>\n",
       "</div>"
      ],
      "text/plain": [
       "                             Accuracy  F score     AUC  LogLoss\n",
       "DummyClassifierStratified       0.518    0.446  0.5100   16.636\n",
       "DummyClassifierMostFrequent     0.557    0.000  0.5000   15.289\n",
       "LogisticRegression              0.876    0.858  0.9270    0.335\n",
       "RegularizedLogit                0.876    0.858  0.9270    0.335\n",
       "KNN                             0.896    0.877  0.9630    0.248\n",
       "RadiusNN                        0.857    0.837  0.9232    0.382"
      ]
     },
     "execution_count": 640,
     "metadata": {},
     "output_type": "execute_result"
    }
   ],
   "source": [
    "model_comparison = pd.concat([model_comparison, rnn], 0)\n",
    "model_comparison"
   ]
  },
  {
   "cell_type": "code",
   "execution_count": null,
   "metadata": {},
   "outputs": [],
   "source": []
  },
  {
   "cell_type": "markdown",
   "metadata": {},
   "source": [
    "### 5. Support Vector Machines"
   ]
  },
  {
   "cell_type": "markdown",
   "metadata": {},
   "source": [
    "#### 1. Linear kernel"
   ]
  },
  {
   "cell_type": "code",
   "execution_count": 78,
   "metadata": {},
   "outputs": [
    {
     "data": {
      "text/plain": [
       "GridSearchCV(cv=3, error_score=nan,\n",
       "             estimator=SVC(C=1.0, break_ties=False, cache_size=200,\n",
       "                           class_weight=None, coef0=0.0,\n",
       "                           decision_function_shape='ovr', degree=3,\n",
       "                           gamma='scale', kernel='linear', max_iter=-1,\n",
       "                           probability=True, random_state=None, shrinking=True,\n",
       "                           tol=0.001, verbose=False),\n",
       "             iid='deprecated', n_jobs=-1, param_grid={'C': [50]},\n",
       "             pre_dispatch='2*n_jobs', refit=True, return_train_score=False,\n",
       "             scoring='roc_auc', verbose=0)"
      ]
     },
     "execution_count": 78,
     "metadata": {},
     "output_type": "execute_result"
    }
   ],
   "source": [
    "svc_lin_params = {'C' : [50]}\n",
    "\n",
    "svc = SVC(kernel = 'linear', probability = True)\n",
    "\n",
    "GRID_SVC = GridSearchCV(svc, param_grid = svc_lin_params, cv = 3, scoring = 'roc_auc', n_jobs = -1)\n",
    "\n",
    "GRID_SVC.fit(X_train_scaled, y_train)"
   ]
  },
  {
   "cell_type": "code",
   "execution_count": 79,
   "metadata": {},
   "outputs": [
    {
     "data": {
      "text/plain": [
       "{'C': 50}"
      ]
     },
     "execution_count": 79,
     "metadata": {},
     "output_type": "execute_result"
    }
   ],
   "source": [
    "GRID_SVC.best_params_"
   ]
  },
  {
   "cell_type": "code",
   "execution_count": 80,
   "metadata": {},
   "outputs": [
    {
     "name": "stdout",
     "output_type": "stream",
     "text": [
      "Accuracy for SVCLinear : 0.880\n",
      "F score for SVCLinear : 0.860\n",
      "AUC for SVCLinear : 0.928\n",
      "LogLoss for SVCLinear : 0.335\n"
     ]
    }
   ],
   "source": [
    "svclin = evaluate_model('SVCLinear', GRID_SVC.best_estimator_, X_test_scaled, y_test)"
   ]
  },
  {
   "cell_type": "code",
   "execution_count": 642,
   "metadata": {},
   "outputs": [
    {
     "data": {
      "text/html": [
       "<div>\n",
       "<style scoped>\n",
       "    .dataframe tbody tr th:only-of-type {\n",
       "        vertical-align: middle;\n",
       "    }\n",
       "\n",
       "    .dataframe tbody tr th {\n",
       "        vertical-align: top;\n",
       "    }\n",
       "\n",
       "    .dataframe thead th {\n",
       "        text-align: right;\n",
       "    }\n",
       "</style>\n",
       "<table border=\"1\" class=\"dataframe\">\n",
       "  <thead>\n",
       "    <tr style=\"text-align: right;\">\n",
       "      <th></th>\n",
       "      <th>Accuracy</th>\n",
       "      <th>F score</th>\n",
       "      <th>AUC</th>\n",
       "      <th>LogLoss</th>\n",
       "    </tr>\n",
       "  </thead>\n",
       "  <tbody>\n",
       "    <tr>\n",
       "      <th>DummyClassifierStratified</th>\n",
       "      <td>0.518</td>\n",
       "      <td>0.446</td>\n",
       "      <td>0.5100</td>\n",
       "      <td>16.636</td>\n",
       "    </tr>\n",
       "    <tr>\n",
       "      <th>DummyClassifierMostFrequent</th>\n",
       "      <td>0.557</td>\n",
       "      <td>0.000</td>\n",
       "      <td>0.5000</td>\n",
       "      <td>15.289</td>\n",
       "    </tr>\n",
       "    <tr>\n",
       "      <th>LogisticRegression</th>\n",
       "      <td>0.876</td>\n",
       "      <td>0.858</td>\n",
       "      <td>0.9270</td>\n",
       "      <td>0.335</td>\n",
       "    </tr>\n",
       "    <tr>\n",
       "      <th>RegularizedLogit</th>\n",
       "      <td>0.876</td>\n",
       "      <td>0.858</td>\n",
       "      <td>0.9270</td>\n",
       "      <td>0.335</td>\n",
       "    </tr>\n",
       "    <tr>\n",
       "      <th>KNN</th>\n",
       "      <td>0.896</td>\n",
       "      <td>0.877</td>\n",
       "      <td>0.9630</td>\n",
       "      <td>0.248</td>\n",
       "    </tr>\n",
       "    <tr>\n",
       "      <th>RadiusNN</th>\n",
       "      <td>0.857</td>\n",
       "      <td>0.837</td>\n",
       "      <td>0.9232</td>\n",
       "      <td>0.382</td>\n",
       "    </tr>\n",
       "    <tr>\n",
       "      <th>SVCLinear</th>\n",
       "      <td>0.880</td>\n",
       "      <td>0.860</td>\n",
       "      <td>0.9280</td>\n",
       "      <td>0.335</td>\n",
       "    </tr>\n",
       "  </tbody>\n",
       "</table>\n",
       "</div>"
      ],
      "text/plain": [
       "                             Accuracy  F score     AUC  LogLoss\n",
       "DummyClassifierStratified       0.518    0.446  0.5100   16.636\n",
       "DummyClassifierMostFrequent     0.557    0.000  0.5000   15.289\n",
       "LogisticRegression              0.876    0.858  0.9270    0.335\n",
       "RegularizedLogit                0.876    0.858  0.9270    0.335\n",
       "KNN                             0.896    0.877  0.9630    0.248\n",
       "RadiusNN                        0.857    0.837  0.9232    0.382\n",
       "SVCLinear                       0.880    0.860  0.9280    0.335"
      ]
     },
     "execution_count": 642,
     "metadata": {},
     "output_type": "execute_result"
    }
   ],
   "source": [
    "model_comparison = pd.concat([model_comparison, svclin], 0)\n",
    "model_comparison"
   ]
  },
  {
   "cell_type": "markdown",
   "metadata": {},
   "source": [
    "#### 2. Polynomial kernel"
   ]
  },
  {
   "cell_type": "code",
   "execution_count": 643,
   "metadata": {},
   "outputs": [
    {
     "data": {
      "text/plain": [
       "GridSearchCV(cv=3, error_score=nan,\n",
       "             estimator=SVC(C=1.0, break_ties=False, cache_size=200,\n",
       "                           class_weight=None, coef0=0.0,\n",
       "                           decision_function_shape='ovr', degree=3,\n",
       "                           gamma='scale', kernel='poly', max_iter=-1,\n",
       "                           probability=True, random_state=None, shrinking=True,\n",
       "                           tol=0.001, verbose=False),\n",
       "             iid='deprecated', n_jobs=-1,\n",
       "             param_grid={'C': [1, 2], 'degree': [3, 4, 5]},\n",
       "             pre_dispatch='2*n_jobs', refit=True, return_train_score=False,\n",
       "             scoring='roc_auc', verbose=0)"
      ]
     },
     "execution_count": 643,
     "metadata": {},
     "output_type": "execute_result"
    }
   ],
   "source": [
    "svc_poly_params = {'C' : [1, 2],\n",
    "                   'degree' : [3, 4, 5]}\n",
    "\n",
    "svc = SVC(kernel = 'poly', probability = True)\n",
    "\n",
    "GRID_SVC = GridSearchCV(svc, param_grid = svc_poly_params, cv = 3, scoring = 'roc_auc', n_jobs = -1)\n",
    "\n",
    "GRID_SVC.fit(X_train_scaled, y_train)"
   ]
  },
  {
   "cell_type": "code",
   "execution_count": 644,
   "metadata": {},
   "outputs": [
    {
     "data": {
      "text/plain": [
       "{'C': 2, 'degree': 4}"
      ]
     },
     "execution_count": 644,
     "metadata": {},
     "output_type": "execute_result"
    }
   ],
   "source": [
    "GRID_SVC.best_params_"
   ]
  },
  {
   "cell_type": "code",
   "execution_count": 645,
   "metadata": {},
   "outputs": [
    {
     "name": "stdout",
     "output_type": "stream",
     "text": [
      "Accuracy for SVCPolynomial : 0.934\n",
      "F score for SVCPolynomial : 0.924\n",
      "AUC for SVCPolynomial : 0.9727\n",
      "LogLoss for SVCPolynomial : 0.216\n"
     ]
    }
   ],
   "source": [
    "svcpoly = evaluate_model('SVCPolynomial', GRID_SVC.best_estimator_, X_test_scaled, y_test)"
   ]
  },
  {
   "cell_type": "code",
   "execution_count": 646,
   "metadata": {},
   "outputs": [
    {
     "data": {
      "text/html": [
       "<div>\n",
       "<style scoped>\n",
       "    .dataframe tbody tr th:only-of-type {\n",
       "        vertical-align: middle;\n",
       "    }\n",
       "\n",
       "    .dataframe tbody tr th {\n",
       "        vertical-align: top;\n",
       "    }\n",
       "\n",
       "    .dataframe thead th {\n",
       "        text-align: right;\n",
       "    }\n",
       "</style>\n",
       "<table border=\"1\" class=\"dataframe\">\n",
       "  <thead>\n",
       "    <tr style=\"text-align: right;\">\n",
       "      <th></th>\n",
       "      <th>Accuracy</th>\n",
       "      <th>F score</th>\n",
       "      <th>AUC</th>\n",
       "      <th>LogLoss</th>\n",
       "    </tr>\n",
       "  </thead>\n",
       "  <tbody>\n",
       "    <tr>\n",
       "      <th>DummyClassifierStratified</th>\n",
       "      <td>0.518</td>\n",
       "      <td>0.446</td>\n",
       "      <td>0.5100</td>\n",
       "      <td>16.636</td>\n",
       "    </tr>\n",
       "    <tr>\n",
       "      <th>DummyClassifierMostFrequent</th>\n",
       "      <td>0.557</td>\n",
       "      <td>0.000</td>\n",
       "      <td>0.5000</td>\n",
       "      <td>15.289</td>\n",
       "    </tr>\n",
       "    <tr>\n",
       "      <th>LogisticRegression</th>\n",
       "      <td>0.876</td>\n",
       "      <td>0.858</td>\n",
       "      <td>0.9270</td>\n",
       "      <td>0.335</td>\n",
       "    </tr>\n",
       "    <tr>\n",
       "      <th>RegularizedLogit</th>\n",
       "      <td>0.876</td>\n",
       "      <td>0.858</td>\n",
       "      <td>0.9270</td>\n",
       "      <td>0.335</td>\n",
       "    </tr>\n",
       "    <tr>\n",
       "      <th>KNN</th>\n",
       "      <td>0.896</td>\n",
       "      <td>0.877</td>\n",
       "      <td>0.9630</td>\n",
       "      <td>0.248</td>\n",
       "    </tr>\n",
       "    <tr>\n",
       "      <th>RadiusNN</th>\n",
       "      <td>0.857</td>\n",
       "      <td>0.837</td>\n",
       "      <td>0.9232</td>\n",
       "      <td>0.382</td>\n",
       "    </tr>\n",
       "    <tr>\n",
       "      <th>SVCLinear</th>\n",
       "      <td>0.880</td>\n",
       "      <td>0.860</td>\n",
       "      <td>0.9280</td>\n",
       "      <td>0.335</td>\n",
       "    </tr>\n",
       "    <tr>\n",
       "      <th>SVCPolynomial</th>\n",
       "      <td>0.934</td>\n",
       "      <td>0.924</td>\n",
       "      <td>0.9727</td>\n",
       "      <td>0.216</td>\n",
       "    </tr>\n",
       "  </tbody>\n",
       "</table>\n",
       "</div>"
      ],
      "text/plain": [
       "                             Accuracy  F score     AUC  LogLoss\n",
       "DummyClassifierStratified       0.518    0.446  0.5100   16.636\n",
       "DummyClassifierMostFrequent     0.557    0.000  0.5000   15.289\n",
       "LogisticRegression              0.876    0.858  0.9270    0.335\n",
       "RegularizedLogit                0.876    0.858  0.9270    0.335\n",
       "KNN                             0.896    0.877  0.9630    0.248\n",
       "RadiusNN                        0.857    0.837  0.9232    0.382\n",
       "SVCLinear                       0.880    0.860  0.9280    0.335\n",
       "SVCPolynomial                   0.934    0.924  0.9727    0.216"
      ]
     },
     "execution_count": 646,
     "metadata": {},
     "output_type": "execute_result"
    }
   ],
   "source": [
    "model_comparison = pd.concat([model_comparison, svcpoly], 0)\n",
    "model_comparison"
   ]
  },
  {
   "cell_type": "markdown",
   "metadata": {},
   "source": [
    "#### 3. Radial Basis Function kernel"
   ]
  },
  {
   "cell_type": "code",
   "execution_count": 647,
   "metadata": {},
   "outputs": [
    {
     "data": {
      "text/plain": [
       "GridSearchCV(cv=3, error_score=nan,\n",
       "             estimator=SVC(C=1.0, break_ties=False, cache_size=200,\n",
       "                           class_weight=None, coef0=0.0,\n",
       "                           decision_function_shape='ovr', degree=3,\n",
       "                           gamma='scale', kernel='rbf', max_iter=-1,\n",
       "                           probability=True, random_state=None, shrinking=True,\n",
       "                           tol=0.001, verbose=False),\n",
       "             iid='deprecated', n_jobs=-1,\n",
       "             param_grid={'C': [10], 'gamma': [0.025]}, pre_dispatch='2*n_jobs',\n",
       "             refit=True, return_train_score=False, scoring='roc_auc',\n",
       "             verbose=0)"
      ]
     },
     "execution_count": 647,
     "metadata": {},
     "output_type": "execute_result"
    }
   ],
   "source": [
    "svc_rbf_params = {'C' : [10],\n",
    "                  'gamma' : [0.025]}\n",
    "\n",
    "svc = SVC(kernel = 'rbf', probability = True)\n",
    "\n",
    "GRID_SVC = GridSearchCV(svc, param_grid = svc_rbf_params, cv = 3, scoring = 'roc_auc', n_jobs = -1)\n",
    "\n",
    "GRID_SVC.fit(X_train_scaled, y_train)"
   ]
  },
  {
   "cell_type": "code",
   "execution_count": 648,
   "metadata": {},
   "outputs": [
    {
     "data": {
      "text/plain": [
       "{'C': 10, 'gamma': 0.025}"
      ]
     },
     "execution_count": 648,
     "metadata": {},
     "output_type": "execute_result"
    }
   ],
   "source": [
    "GRID_SVC.best_params_"
   ]
  },
  {
   "cell_type": "code",
   "execution_count": 649,
   "metadata": {},
   "outputs": [
    {
     "name": "stdout",
     "output_type": "stream",
     "text": [
      "Accuracy for SVCRadialBasis : 0.941\n",
      "F score for SVCRadialBasis : 0.933\n",
      "AUC for SVCRadialBasis : 0.9853\n",
      "LogLoss for SVCRadialBasis : 0.150\n"
     ]
    }
   ],
   "source": [
    "svcrbf = evaluate_model('SVCRadialBasis', GRID_SVC.best_estimator_, X_test_scaled, y_test)"
   ]
  },
  {
   "cell_type": "code",
   "execution_count": 650,
   "metadata": {},
   "outputs": [
    {
     "data": {
      "text/html": [
       "<div>\n",
       "<style scoped>\n",
       "    .dataframe tbody tr th:only-of-type {\n",
       "        vertical-align: middle;\n",
       "    }\n",
       "\n",
       "    .dataframe tbody tr th {\n",
       "        vertical-align: top;\n",
       "    }\n",
       "\n",
       "    .dataframe thead th {\n",
       "        text-align: right;\n",
       "    }\n",
       "</style>\n",
       "<table border=\"1\" class=\"dataframe\">\n",
       "  <thead>\n",
       "    <tr style=\"text-align: right;\">\n",
       "      <th></th>\n",
       "      <th>Accuracy</th>\n",
       "      <th>F score</th>\n",
       "      <th>AUC</th>\n",
       "      <th>LogLoss</th>\n",
       "    </tr>\n",
       "  </thead>\n",
       "  <tbody>\n",
       "    <tr>\n",
       "      <th>DummyClassifierStratified</th>\n",
       "      <td>0.518</td>\n",
       "      <td>0.446</td>\n",
       "      <td>0.5100</td>\n",
       "      <td>16.636</td>\n",
       "    </tr>\n",
       "    <tr>\n",
       "      <th>DummyClassifierMostFrequent</th>\n",
       "      <td>0.557</td>\n",
       "      <td>0.000</td>\n",
       "      <td>0.5000</td>\n",
       "      <td>15.289</td>\n",
       "    </tr>\n",
       "    <tr>\n",
       "      <th>LogisticRegression</th>\n",
       "      <td>0.876</td>\n",
       "      <td>0.858</td>\n",
       "      <td>0.9270</td>\n",
       "      <td>0.335</td>\n",
       "    </tr>\n",
       "    <tr>\n",
       "      <th>RegularizedLogit</th>\n",
       "      <td>0.876</td>\n",
       "      <td>0.858</td>\n",
       "      <td>0.9270</td>\n",
       "      <td>0.335</td>\n",
       "    </tr>\n",
       "    <tr>\n",
       "      <th>KNN</th>\n",
       "      <td>0.896</td>\n",
       "      <td>0.877</td>\n",
       "      <td>0.9630</td>\n",
       "      <td>0.248</td>\n",
       "    </tr>\n",
       "    <tr>\n",
       "      <th>RadiusNN</th>\n",
       "      <td>0.857</td>\n",
       "      <td>0.837</td>\n",
       "      <td>0.9232</td>\n",
       "      <td>0.382</td>\n",
       "    </tr>\n",
       "    <tr>\n",
       "      <th>SVCLinear</th>\n",
       "      <td>0.880</td>\n",
       "      <td>0.860</td>\n",
       "      <td>0.9280</td>\n",
       "      <td>0.335</td>\n",
       "    </tr>\n",
       "    <tr>\n",
       "      <th>SVCPolynomial</th>\n",
       "      <td>0.934</td>\n",
       "      <td>0.924</td>\n",
       "      <td>0.9727</td>\n",
       "      <td>0.216</td>\n",
       "    </tr>\n",
       "    <tr>\n",
       "      <th>SVCRadialBasis</th>\n",
       "      <td>0.941</td>\n",
       "      <td>0.933</td>\n",
       "      <td>0.9853</td>\n",
       "      <td>0.150</td>\n",
       "    </tr>\n",
       "  </tbody>\n",
       "</table>\n",
       "</div>"
      ],
      "text/plain": [
       "                             Accuracy  F score     AUC  LogLoss\n",
       "DummyClassifierStratified       0.518    0.446  0.5100   16.636\n",
       "DummyClassifierMostFrequent     0.557    0.000  0.5000   15.289\n",
       "LogisticRegression              0.876    0.858  0.9270    0.335\n",
       "RegularizedLogit                0.876    0.858  0.9270    0.335\n",
       "KNN                             0.896    0.877  0.9630    0.248\n",
       "RadiusNN                        0.857    0.837  0.9232    0.382\n",
       "SVCLinear                       0.880    0.860  0.9280    0.335\n",
       "SVCPolynomial                   0.934    0.924  0.9727    0.216\n",
       "SVCRadialBasis                  0.941    0.933  0.9853    0.150"
      ]
     },
     "execution_count": 650,
     "metadata": {},
     "output_type": "execute_result"
    }
   ],
   "source": [
    "model_comparison = pd.concat([model_comparison, svcrbf], 0)\n",
    "model_comparison"
   ]
  },
  {
   "cell_type": "code",
   "execution_count": null,
   "metadata": {},
   "outputs": [],
   "source": []
  },
  {
   "cell_type": "markdown",
   "metadata": {},
   "source": [
    "### 6. Decision Tree"
   ]
  },
  {
   "cell_type": "code",
   "execution_count": 651,
   "metadata": {},
   "outputs": [
    {
     "data": {
      "text/plain": [
       "GridSearchCV(cv=3, error_score=nan,\n",
       "             estimator=DecisionTreeClassifier(ccp_alpha=0.0, class_weight=None,\n",
       "                                              criterion='gini', max_depth=None,\n",
       "                                              max_features=None,\n",
       "                                              max_leaf_nodes=None,\n",
       "                                              min_impurity_decrease=0.0,\n",
       "                                              min_impurity_split=None,\n",
       "                                              min_samples_leaf=1,\n",
       "                                              min_samples_split=2,\n",
       "                                              min_weight_fraction_leaf=0.0,\n",
       "                                              presort='deprecated',\n",
       "                                              random_state=20202020,\n",
       "                                              splitter='best'),\n",
       "             iid='deprecated', n_jobs=-1,\n",
       "             param_grid={'criterion': ['gini', 'entropy'],\n",
       "                         'max_depth': [9, 11, 13],\n",
       "                         'max_features': [0.5, 0.3333333333333333,\n",
       "                                          0.6666666666666666],\n",
       "                         'min_samples_leaf': [5, 7, 9],\n",
       "                         'min_samples_split': [7, 9, 11]},\n",
       "             pre_dispatch='2*n_jobs', refit=True, return_train_score=False,\n",
       "             scoring='roc_auc', verbose=0)"
      ]
     },
     "execution_count": 651,
     "metadata": {},
     "output_type": "execute_result"
    }
   ],
   "source": [
    "DT_params = {'criterion' : ['gini', 'entropy'], \n",
    "             'max_depth' : [9, 11, 13],\n",
    "             'min_samples_split' : [7, 9, 11],\n",
    "             'min_samples_leaf' : [5, 7, 9],\n",
    "             'max_features' : [1/2, 1/3, 2/3]}\n",
    "\n",
    "DT = DecisionTreeClassifier(random_state = 20202020)\n",
    "\n",
    "GRID_DT = GridSearchCV(DT, param_grid = DT_params, cv = 3, scoring = 'roc_auc', n_jobs = -1)\n",
    "\n",
    "GRID_DT.fit(X_train, y_train)"
   ]
  },
  {
   "cell_type": "code",
   "execution_count": 652,
   "metadata": {},
   "outputs": [
    {
     "data": {
      "text/plain": [
       "{'criterion': 'entropy',\n",
       " 'max_depth': 11,\n",
       " 'max_features': 0.5,\n",
       " 'min_samples_leaf': 7,\n",
       " 'min_samples_split': 7}"
      ]
     },
     "execution_count": 652,
     "metadata": {},
     "output_type": "execute_result"
    }
   ],
   "source": [
    "GRID_DT.best_params_"
   ]
  },
  {
   "cell_type": "code",
   "execution_count": 653,
   "metadata": {},
   "outputs": [
    {
     "name": "stdout",
     "output_type": "stream",
     "text": [
      "Accuracy for DecisionTree : 0.943\n",
      "F score for DecisionTree : 0.935\n",
      "AUC for DecisionTree : 0.9810\n",
      "LogLoss for DecisionTree : 0.425\n"
     ]
    }
   ],
   "source": [
    "dt = evaluate_model('DecisionTree', GRID_DT.best_estimator_, X_test, y_test)"
   ]
  },
  {
   "cell_type": "code",
   "execution_count": 654,
   "metadata": {},
   "outputs": [
    {
     "data": {
      "text/html": [
       "<div>\n",
       "<style scoped>\n",
       "    .dataframe tbody tr th:only-of-type {\n",
       "        vertical-align: middle;\n",
       "    }\n",
       "\n",
       "    .dataframe tbody tr th {\n",
       "        vertical-align: top;\n",
       "    }\n",
       "\n",
       "    .dataframe thead th {\n",
       "        text-align: right;\n",
       "    }\n",
       "</style>\n",
       "<table border=\"1\" class=\"dataframe\">\n",
       "  <thead>\n",
       "    <tr style=\"text-align: right;\">\n",
       "      <th></th>\n",
       "      <th>Accuracy</th>\n",
       "      <th>F score</th>\n",
       "      <th>AUC</th>\n",
       "      <th>LogLoss</th>\n",
       "    </tr>\n",
       "  </thead>\n",
       "  <tbody>\n",
       "    <tr>\n",
       "      <th>DummyClassifierStratified</th>\n",
       "      <td>0.518</td>\n",
       "      <td>0.446</td>\n",
       "      <td>0.5100</td>\n",
       "      <td>16.636</td>\n",
       "    </tr>\n",
       "    <tr>\n",
       "      <th>DummyClassifierMostFrequent</th>\n",
       "      <td>0.557</td>\n",
       "      <td>0.000</td>\n",
       "      <td>0.5000</td>\n",
       "      <td>15.289</td>\n",
       "    </tr>\n",
       "    <tr>\n",
       "      <th>LogisticRegression</th>\n",
       "      <td>0.876</td>\n",
       "      <td>0.858</td>\n",
       "      <td>0.9270</td>\n",
       "      <td>0.335</td>\n",
       "    </tr>\n",
       "    <tr>\n",
       "      <th>RegularizedLogit</th>\n",
       "      <td>0.876</td>\n",
       "      <td>0.858</td>\n",
       "      <td>0.9270</td>\n",
       "      <td>0.335</td>\n",
       "    </tr>\n",
       "    <tr>\n",
       "      <th>KNN</th>\n",
       "      <td>0.896</td>\n",
       "      <td>0.877</td>\n",
       "      <td>0.9630</td>\n",
       "      <td>0.248</td>\n",
       "    </tr>\n",
       "    <tr>\n",
       "      <th>RadiusNN</th>\n",
       "      <td>0.857</td>\n",
       "      <td>0.837</td>\n",
       "      <td>0.9232</td>\n",
       "      <td>0.382</td>\n",
       "    </tr>\n",
       "    <tr>\n",
       "      <th>SVCLinear</th>\n",
       "      <td>0.880</td>\n",
       "      <td>0.860</td>\n",
       "      <td>0.9280</td>\n",
       "      <td>0.335</td>\n",
       "    </tr>\n",
       "    <tr>\n",
       "      <th>SVCPolynomial</th>\n",
       "      <td>0.934</td>\n",
       "      <td>0.924</td>\n",
       "      <td>0.9727</td>\n",
       "      <td>0.216</td>\n",
       "    </tr>\n",
       "    <tr>\n",
       "      <th>SVCRadialBasis</th>\n",
       "      <td>0.941</td>\n",
       "      <td>0.933</td>\n",
       "      <td>0.9853</td>\n",
       "      <td>0.150</td>\n",
       "    </tr>\n",
       "    <tr>\n",
       "      <th>DecisionTree</th>\n",
       "      <td>0.943</td>\n",
       "      <td>0.935</td>\n",
       "      <td>0.9810</td>\n",
       "      <td>0.425</td>\n",
       "    </tr>\n",
       "  </tbody>\n",
       "</table>\n",
       "</div>"
      ],
      "text/plain": [
       "                             Accuracy  F score     AUC  LogLoss\n",
       "DummyClassifierStratified       0.518    0.446  0.5100   16.636\n",
       "DummyClassifierMostFrequent     0.557    0.000  0.5000   15.289\n",
       "LogisticRegression              0.876    0.858  0.9270    0.335\n",
       "RegularizedLogit                0.876    0.858  0.9270    0.335\n",
       "KNN                             0.896    0.877  0.9630    0.248\n",
       "RadiusNN                        0.857    0.837  0.9232    0.382\n",
       "SVCLinear                       0.880    0.860  0.9280    0.335\n",
       "SVCPolynomial                   0.934    0.924  0.9727    0.216\n",
       "SVCRadialBasis                  0.941    0.933  0.9853    0.150\n",
       "DecisionTree                    0.943    0.935  0.9810    0.425"
      ]
     },
     "execution_count": 654,
     "metadata": {},
     "output_type": "execute_result"
    }
   ],
   "source": [
    "model_comparison = pd.concat([model_comparison, dt], 0)\n",
    "model_comparison"
   ]
  },
  {
   "cell_type": "markdown",
   "metadata": {},
   "source": [
    "We can actually visualize our decision tree"
   ]
  },
  {
   "cell_type": "code",
   "execution_count": 655,
   "metadata": {},
   "outputs": [
    {
     "data": {
      "image/png": "[encoded data removed]",
      "text/plain": [
       "<Figure size 1440x864 with 1 Axes>"
      ]
     },
     "metadata": {
      "needs_background": "light"
     },
     "output_type": "display_data"
    }
   ],
   "source": [
    "plt.figure(figsize = (20, 12))\n",
    "plot_tree(GRID_DT.best_estimator_, feature_names = X_train.columns, class_names = ['not satisfied', 'satisfied'],\n",
    "          filled = True, fontsize = 10, max_depth = 2)\n",
    "plt.show()"
   ]
  },
  {
   "cell_type": "raw",
   "metadata": {},
   "source": [
    "Business travelers are the ones usually satisfied :)"
   ]
  },
  {
   "cell_type": "code",
   "execution_count": null,
   "metadata": {},
   "outputs": [],
   "source": []
  },
  {
   "cell_type": "markdown",
   "metadata": {},
   "source": [
    "### 7. Simple Trees Ensembles"
   ]
  },
  {
   "cell_type": "markdown",
   "metadata": {},
   "source": [
    "#### 1. Random Forest"
   ]
  },
  {
   "cell_type": "code",
   "execution_count": 656,
   "metadata": {},
   "outputs": [
    {
     "name": "stdout",
     "output_type": "stream",
     "text": [
      "Started at Mon Dec  7 09:54:47 2020\n",
      "Ended at Mon Dec  7 09:54:50 2020\n",
      "2.334688186645508\n"
     ]
    }
   ],
   "source": [
    "start = time.time()\n",
    "print(\"Started at\", str(time.ctime(int(start))))\n",
    "\n",
    "RF_params = {'criterion' : ['entropy'],\n",
    "             'max_depth' : [15],\n",
    "             'min_samples_split' : [3],\n",
    "             'min_samples_leaf' : [1],\n",
    "             'max_features' : [1/2],\n",
    "             'n_estimators' : [50]}\n",
    "\n",
    "RF = RandomForestClassifier(random_state = 20202020)\n",
    "\n",
    "GRID_RF = GridSearchCV(RF, param_grid = RF_params, cv = 3, scoring = 'roc_auc', n_jobs = -1)\n",
    "\n",
    "GRID_RF.fit(X_train, y_train)\n",
    "\n",
    "print(\"Ended at\", str(time.ctime(int(time.time()))))\n",
    "print(time.time() - start)"
   ]
  },
  {
   "cell_type": "code",
   "execution_count": 657,
   "metadata": {},
   "outputs": [
    {
     "data": {
      "text/plain": [
       "{'criterion': 'entropy',\n",
       " 'max_depth': 15,\n",
       " 'max_features': 0.5,\n",
       " 'min_samples_leaf': 1,\n",
       " 'min_samples_split': 3,\n",
       " 'n_estimators': 50}"
      ]
     },
     "execution_count": 657,
     "metadata": {},
     "output_type": "execute_result"
    }
   ],
   "source": [
    "GRID_RF.best_params_"
   ]
  },
  {
   "cell_type": "code",
   "execution_count": 658,
   "metadata": {},
   "outputs": [
    {
     "name": "stdout",
     "output_type": "stream",
     "text": [
      "Accuracy for RandomForest : 0.955\n",
      "F score for RandomForest : 0.948\n",
      "AUC for RandomForest : 0.9926\n",
      "LogLoss for RandomForest : 0.111\n"
     ]
    }
   ],
   "source": [
    "rfreg = evaluate_model('RandomForest', GRID_RF.best_estimator_, X_test, y_test)"
   ]
  },
  {
   "cell_type": "code",
   "execution_count": 659,
   "metadata": {},
   "outputs": [
    {
     "data": {
      "text/html": [
       "<div>\n",
       "<style scoped>\n",
       "    .dataframe tbody tr th:only-of-type {\n",
       "        vertical-align: middle;\n",
       "    }\n",
       "\n",
       "    .dataframe tbody tr th {\n",
       "        vertical-align: top;\n",
       "    }\n",
       "\n",
       "    .dataframe thead th {\n",
       "        text-align: right;\n",
       "    }\n",
       "</style>\n",
       "<table border=\"1\" class=\"dataframe\">\n",
       "  <thead>\n",
       "    <tr style=\"text-align: right;\">\n",
       "      <th></th>\n",
       "      <th>Accuracy</th>\n",
       "      <th>F score</th>\n",
       "      <th>AUC</th>\n",
       "      <th>LogLoss</th>\n",
       "    </tr>\n",
       "  </thead>\n",
       "  <tbody>\n",
       "    <tr>\n",
       "      <th>DummyClassifierStratified</th>\n",
       "      <td>0.518</td>\n",
       "      <td>0.446</td>\n",
       "      <td>0.5100</td>\n",
       "      <td>16.636</td>\n",
       "    </tr>\n",
       "    <tr>\n",
       "      <th>DummyClassifierMostFrequent</th>\n",
       "      <td>0.557</td>\n",
       "      <td>0.000</td>\n",
       "      <td>0.5000</td>\n",
       "      <td>15.289</td>\n",
       "    </tr>\n",
       "    <tr>\n",
       "      <th>LogisticRegression</th>\n",
       "      <td>0.876</td>\n",
       "      <td>0.858</td>\n",
       "      <td>0.9270</td>\n",
       "      <td>0.335</td>\n",
       "    </tr>\n",
       "    <tr>\n",
       "      <th>RegularizedLogit</th>\n",
       "      <td>0.876</td>\n",
       "      <td>0.858</td>\n",
       "      <td>0.9270</td>\n",
       "      <td>0.335</td>\n",
       "    </tr>\n",
       "    <tr>\n",
       "      <th>KNN</th>\n",
       "      <td>0.896</td>\n",
       "      <td>0.877</td>\n",
       "      <td>0.9630</td>\n",
       "      <td>0.248</td>\n",
       "    </tr>\n",
       "    <tr>\n",
       "      <th>RadiusNN</th>\n",
       "      <td>0.857</td>\n",
       "      <td>0.837</td>\n",
       "      <td>0.9232</td>\n",
       "      <td>0.382</td>\n",
       "    </tr>\n",
       "    <tr>\n",
       "      <th>SVCLinear</th>\n",
       "      <td>0.880</td>\n",
       "      <td>0.860</td>\n",
       "      <td>0.9280</td>\n",
       "      <td>0.335</td>\n",
       "    </tr>\n",
       "    <tr>\n",
       "      <th>SVCPolynomial</th>\n",
       "      <td>0.934</td>\n",
       "      <td>0.924</td>\n",
       "      <td>0.9727</td>\n",
       "      <td>0.216</td>\n",
       "    </tr>\n",
       "    <tr>\n",
       "      <th>SVCRadialBasis</th>\n",
       "      <td>0.941</td>\n",
       "      <td>0.933</td>\n",
       "      <td>0.9853</td>\n",
       "      <td>0.150</td>\n",
       "    </tr>\n",
       "    <tr>\n",
       "      <th>DecisionTree</th>\n",
       "      <td>0.943</td>\n",
       "      <td>0.935</td>\n",
       "      <td>0.9810</td>\n",
       "      <td>0.425</td>\n",
       "    </tr>\n",
       "    <tr>\n",
       "      <th>RandomForest</th>\n",
       "      <td>0.955</td>\n",
       "      <td>0.948</td>\n",
       "      <td>0.9926</td>\n",
       "      <td>0.111</td>\n",
       "    </tr>\n",
       "  </tbody>\n",
       "</table>\n",
       "</div>"
      ],
      "text/plain": [
       "                             Accuracy  F score     AUC  LogLoss\n",
       "DummyClassifierStratified       0.518    0.446  0.5100   16.636\n",
       "DummyClassifierMostFrequent     0.557    0.000  0.5000   15.289\n",
       "LogisticRegression              0.876    0.858  0.9270    0.335\n",
       "RegularizedLogit                0.876    0.858  0.9270    0.335\n",
       "KNN                             0.896    0.877  0.9630    0.248\n",
       "RadiusNN                        0.857    0.837  0.9232    0.382\n",
       "SVCLinear                       0.880    0.860  0.9280    0.335\n",
       "SVCPolynomial                   0.934    0.924  0.9727    0.216\n",
       "SVCRadialBasis                  0.941    0.933  0.9853    0.150\n",
       "DecisionTree                    0.943    0.935  0.9810    0.425\n",
       "RandomForest                    0.955    0.948  0.9926    0.111"
      ]
     },
     "execution_count": 659,
     "metadata": {},
     "output_type": "execute_result"
    }
   ],
   "source": [
    "model_comparison = pd.concat([model_comparison, rfreg], 0)\n",
    "model_comparison"
   ]
  },
  {
   "cell_type": "code",
   "execution_count": null,
   "metadata": {},
   "outputs": [],
   "source": []
  },
  {
   "cell_type": "markdown",
   "metadata": {},
   "source": [
    "#### 2. AdaBoost"
   ]
  },
  {
   "cell_type": "code",
   "execution_count": 660,
   "metadata": {},
   "outputs": [
    {
     "data": {
      "text/plain": [
       "GridSearchCV(cv=3, error_score=nan,\n",
       "             estimator=AdaBoostClassifier(algorithm='SAMME.R',\n",
       "                                          base_estimator=None,\n",
       "                                          learning_rate=1.0, n_estimators=50,\n",
       "                                          random_state=20202020),\n",
       "             iid='deprecated', n_jobs=-1,\n",
       "             param_grid={'learning_rate': [0.5], 'n_estimators': [250]},\n",
       "             pre_dispatch='2*n_jobs', refit=True, return_train_score=False,\n",
       "             scoring='roc_auc', verbose=0)"
      ]
     },
     "execution_count": 660,
     "metadata": {},
     "output_type": "execute_result"
    }
   ],
   "source": [
    "Ada_params = {'learning_rate' : [0.5],\n",
    "              'n_estimators' : [250]}\n",
    "\n",
    "Ada = AdaBoostClassifier(random_state = 20202020)\n",
    "\n",
    "GRID_Ada = GridSearchCV(Ada, param_grid = Ada_params, cv = 3, scoring = 'roc_auc', n_jobs = -1)\n",
    "\n",
    "GRID_Ada.fit(X_train, y_train)"
   ]
  },
  {
   "cell_type": "code",
   "execution_count": 661,
   "metadata": {},
   "outputs": [
    {
     "data": {
      "text/plain": [
       "{'learning_rate': 0.5, 'n_estimators': 250}"
      ]
     },
     "execution_count": 661,
     "metadata": {},
     "output_type": "execute_result"
    }
   ],
   "source": [
    "GRID_Ada.best_params_"
   ]
  },
  {
   "cell_type": "code",
   "execution_count": 662,
   "metadata": {},
   "outputs": [
    {
     "name": "stdout",
     "output_type": "stream",
     "text": [
      "Accuracy for AdaBoost : 0.926\n",
      "F score for AdaBoost : 0.916\n",
      "AUC for AdaBoost : 0.9775\n",
      "LogLoss for AdaBoost : 0.676\n"
     ]
    }
   ],
   "source": [
    "adaboost = evaluate_model('AdaBoost', GRID_Ada.best_estimator_, X_test, y_test)"
   ]
  },
  {
   "cell_type": "code",
   "execution_count": 663,
   "metadata": {},
   "outputs": [
    {
     "data": {
      "text/html": [
       "<div>\n",
       "<style scoped>\n",
       "    .dataframe tbody tr th:only-of-type {\n",
       "        vertical-align: middle;\n",
       "    }\n",
       "\n",
       "    .dataframe tbody tr th {\n",
       "        vertical-align: top;\n",
       "    }\n",
       "\n",
       "    .dataframe thead th {\n",
       "        text-align: right;\n",
       "    }\n",
       "</style>\n",
       "<table border=\"1\" class=\"dataframe\">\n",
       "  <thead>\n",
       "    <tr style=\"text-align: right;\">\n",
       "      <th></th>\n",
       "      <th>Accuracy</th>\n",
       "      <th>F score</th>\n",
       "      <th>AUC</th>\n",
       "      <th>LogLoss</th>\n",
       "    </tr>\n",
       "  </thead>\n",
       "  <tbody>\n",
       "    <tr>\n",
       "      <th>DummyClassifierStratified</th>\n",
       "      <td>0.518</td>\n",
       "      <td>0.446</td>\n",
       "      <td>0.5100</td>\n",
       "      <td>16.636</td>\n",
       "    </tr>\n",
       "    <tr>\n",
       "      <th>DummyClassifierMostFrequent</th>\n",
       "      <td>0.557</td>\n",
       "      <td>0.000</td>\n",
       "      <td>0.5000</td>\n",
       "      <td>15.289</td>\n",
       "    </tr>\n",
       "    <tr>\n",
       "      <th>LogisticRegression</th>\n",
       "      <td>0.876</td>\n",
       "      <td>0.858</td>\n",
       "      <td>0.9270</td>\n",
       "      <td>0.335</td>\n",
       "    </tr>\n",
       "    <tr>\n",
       "      <th>RegularizedLogit</th>\n",
       "      <td>0.876</td>\n",
       "      <td>0.858</td>\n",
       "      <td>0.9270</td>\n",
       "      <td>0.335</td>\n",
       "    </tr>\n",
       "    <tr>\n",
       "      <th>KNN</th>\n",
       "      <td>0.896</td>\n",
       "      <td>0.877</td>\n",
       "      <td>0.9630</td>\n",
       "      <td>0.248</td>\n",
       "    </tr>\n",
       "    <tr>\n",
       "      <th>RadiusNN</th>\n",
       "      <td>0.857</td>\n",
       "      <td>0.837</td>\n",
       "      <td>0.9232</td>\n",
       "      <td>0.382</td>\n",
       "    </tr>\n",
       "    <tr>\n",
       "      <th>SVCLinear</th>\n",
       "      <td>0.880</td>\n",
       "      <td>0.860</td>\n",
       "      <td>0.9280</td>\n",
       "      <td>0.335</td>\n",
       "    </tr>\n",
       "    <tr>\n",
       "      <th>SVCPolynomial</th>\n",
       "      <td>0.934</td>\n",
       "      <td>0.924</td>\n",
       "      <td>0.9727</td>\n",
       "      <td>0.216</td>\n",
       "    </tr>\n",
       "    <tr>\n",
       "      <th>SVCRadialBasis</th>\n",
       "      <td>0.941</td>\n",
       "      <td>0.933</td>\n",
       "      <td>0.9853</td>\n",
       "      <td>0.150</td>\n",
       "    </tr>\n",
       "    <tr>\n",
       "      <th>DecisionTree</th>\n",
       "      <td>0.943</td>\n",
       "      <td>0.935</td>\n",
       "      <td>0.9810</td>\n",
       "      <td>0.425</td>\n",
       "    </tr>\n",
       "    <tr>\n",
       "      <th>RandomForest</th>\n",
       "      <td>0.955</td>\n",
       "      <td>0.948</td>\n",
       "      <td>0.9926</td>\n",
       "      <td>0.111</td>\n",
       "    </tr>\n",
       "    <tr>\n",
       "      <th>AdaBoost</th>\n",
       "      <td>0.926</td>\n",
       "      <td>0.916</td>\n",
       "      <td>0.9775</td>\n",
       "      <td>0.676</td>\n",
       "    </tr>\n",
       "  </tbody>\n",
       "</table>\n",
       "</div>"
      ],
      "text/plain": [
       "                             Accuracy  F score     AUC  LogLoss\n",
       "DummyClassifierStratified       0.518    0.446  0.5100   16.636\n",
       "DummyClassifierMostFrequent     0.557    0.000  0.5000   15.289\n",
       "LogisticRegression              0.876    0.858  0.9270    0.335\n",
       "RegularizedLogit                0.876    0.858  0.9270    0.335\n",
       "KNN                             0.896    0.877  0.9630    0.248\n",
       "RadiusNN                        0.857    0.837  0.9232    0.382\n",
       "SVCLinear                       0.880    0.860  0.9280    0.335\n",
       "SVCPolynomial                   0.934    0.924  0.9727    0.216\n",
       "SVCRadialBasis                  0.941    0.933  0.9853    0.150\n",
       "DecisionTree                    0.943    0.935  0.9810    0.425\n",
       "RandomForest                    0.955    0.948  0.9926    0.111\n",
       "AdaBoost                        0.926    0.916  0.9775    0.676"
      ]
     },
     "execution_count": 663,
     "metadata": {},
     "output_type": "execute_result"
    }
   ],
   "source": [
    "model_comparison = pd.concat([model_comparison, adaboost], 0)\n",
    "model_comparison"
   ]
  },
  {
   "cell_type": "code",
   "execution_count": null,
   "metadata": {},
   "outputs": [],
   "source": []
  },
  {
   "cell_type": "markdown",
   "metadata": {},
   "source": [
    "#### 3. Gradient Boosting Machine"
   ]
  },
  {
   "cell_type": "code",
   "execution_count": 664,
   "metadata": {},
   "outputs": [
    {
     "name": "stdout",
     "output_type": "stream",
     "text": [
      "Started at Mon Dec  7 09:54:56 2020\n",
      "Ended at Mon Dec  7 09:55:11 2020\n",
      "14.900511026382446\n"
     ]
    }
   ],
   "source": [
    "start = time.time()\n",
    "print(\"Started at\", str(time.ctime(int(start))))\n",
    "\n",
    "GBM_params = {'loss' : ['deviance'],\n",
    "              'learning_rate' : [0.125],\n",
    "              'subsample' : [1],\n",
    "              'max_features' : [2/3],\n",
    "              'max_depth' : [9],\n",
    "              'min_samples_split' : [3],\n",
    "              'min_samples_leaf' : [30],\n",
    "              'n_estimators' : [200]}\n",
    "\n",
    "GBM = GradientBoostingClassifier(random_state = 20202020)\n",
    "\n",
    "GRID_GBM = GridSearchCV(GBM, param_grid = GBM_params, cv = 3, scoring = 'roc_auc', n_jobs = -1)\n",
    "\n",
    "GRID_GBM.fit(X_train, y_train)\n",
    "\n",
    "print(\"Ended at\", str(time.ctime(int(time.time()))))\n",
    "print(time.time() - start)"
   ]
  },
  {
   "cell_type": "code",
   "execution_count": 665,
   "metadata": {},
   "outputs": [
    {
     "data": {
      "text/plain": [
       "{'learning_rate': 0.125,\n",
       " 'loss': 'deviance',\n",
       " 'max_depth': 9,\n",
       " 'max_features': 0.6666666666666666,\n",
       " 'min_samples_leaf': 30,\n",
       " 'min_samples_split': 3,\n",
       " 'n_estimators': 200,\n",
       " 'subsample': 1}"
      ]
     },
     "execution_count": 665,
     "metadata": {},
     "output_type": "execute_result"
    }
   ],
   "source": [
    "GRID_GBM.best_params_"
   ]
  },
  {
   "cell_type": "code",
   "execution_count": 666,
   "metadata": {},
   "outputs": [
    {
     "name": "stdout",
     "output_type": "stream",
     "text": [
      "Accuracy for GradientBoosting : 0.957\n",
      "F score for GradientBoosting : 0.951\n",
      "AUC for GradientBoosting : 0.9936\n",
      "LogLoss for GradientBoosting : 0.117\n"
     ]
    }
   ],
   "source": [
    "gradboost = evaluate_model('GradientBoosting', GRID_GBM.best_estimator_, X_test, y_test)"
   ]
  },
  {
   "cell_type": "code",
   "execution_count": 667,
   "metadata": {},
   "outputs": [
    {
     "data": {
      "text/html": [
       "<div>\n",
       "<style scoped>\n",
       "    .dataframe tbody tr th:only-of-type {\n",
       "        vertical-align: middle;\n",
       "    }\n",
       "\n",
       "    .dataframe tbody tr th {\n",
       "        vertical-align: top;\n",
       "    }\n",
       "\n",
       "    .dataframe thead th {\n",
       "        text-align: right;\n",
       "    }\n",
       "</style>\n",
       "<table border=\"1\" class=\"dataframe\">\n",
       "  <thead>\n",
       "    <tr style=\"text-align: right;\">\n",
       "      <th></th>\n",
       "      <th>Accuracy</th>\n",
       "      <th>F score</th>\n",
       "      <th>AUC</th>\n",
       "      <th>LogLoss</th>\n",
       "    </tr>\n",
       "  </thead>\n",
       "  <tbody>\n",
       "    <tr>\n",
       "      <th>DummyClassifierStratified</th>\n",
       "      <td>0.518</td>\n",
       "      <td>0.446</td>\n",
       "      <td>0.5100</td>\n",
       "      <td>16.636</td>\n",
       "    </tr>\n",
       "    <tr>\n",
       "      <th>DummyClassifierMostFrequent</th>\n",
       "      <td>0.557</td>\n",
       "      <td>0.000</td>\n",
       "      <td>0.5000</td>\n",
       "      <td>15.289</td>\n",
       "    </tr>\n",
       "    <tr>\n",
       "      <th>LogisticRegression</th>\n",
       "      <td>0.876</td>\n",
       "      <td>0.858</td>\n",
       "      <td>0.9270</td>\n",
       "      <td>0.335</td>\n",
       "    </tr>\n",
       "    <tr>\n",
       "      <th>RegularizedLogit</th>\n",
       "      <td>0.876</td>\n",
       "      <td>0.858</td>\n",
       "      <td>0.9270</td>\n",
       "      <td>0.335</td>\n",
       "    </tr>\n",
       "    <tr>\n",
       "      <th>KNN</th>\n",
       "      <td>0.896</td>\n",
       "      <td>0.877</td>\n",
       "      <td>0.9630</td>\n",
       "      <td>0.248</td>\n",
       "    </tr>\n",
       "    <tr>\n",
       "      <th>RadiusNN</th>\n",
       "      <td>0.857</td>\n",
       "      <td>0.837</td>\n",
       "      <td>0.9232</td>\n",
       "      <td>0.382</td>\n",
       "    </tr>\n",
       "    <tr>\n",
       "      <th>SVCLinear</th>\n",
       "      <td>0.880</td>\n",
       "      <td>0.860</td>\n",
       "      <td>0.9280</td>\n",
       "      <td>0.335</td>\n",
       "    </tr>\n",
       "    <tr>\n",
       "      <th>SVCPolynomial</th>\n",
       "      <td>0.934</td>\n",
       "      <td>0.924</td>\n",
       "      <td>0.9727</td>\n",
       "      <td>0.216</td>\n",
       "    </tr>\n",
       "    <tr>\n",
       "      <th>SVCRadialBasis</th>\n",
       "      <td>0.941</td>\n",
       "      <td>0.933</td>\n",
       "      <td>0.9853</td>\n",
       "      <td>0.150</td>\n",
       "    </tr>\n",
       "    <tr>\n",
       "      <th>DecisionTree</th>\n",
       "      <td>0.943</td>\n",
       "      <td>0.935</td>\n",
       "      <td>0.9810</td>\n",
       "      <td>0.425</td>\n",
       "    </tr>\n",
       "    <tr>\n",
       "      <th>RandomForest</th>\n",
       "      <td>0.955</td>\n",
       "      <td>0.948</td>\n",
       "      <td>0.9926</td>\n",
       "      <td>0.111</td>\n",
       "    </tr>\n",
       "    <tr>\n",
       "      <th>AdaBoost</th>\n",
       "      <td>0.926</td>\n",
       "      <td>0.916</td>\n",
       "      <td>0.9775</td>\n",
       "      <td>0.676</td>\n",
       "    </tr>\n",
       "    <tr>\n",
       "      <th>GradientBoosting</th>\n",
       "      <td>0.957</td>\n",
       "      <td>0.951</td>\n",
       "      <td>0.9936</td>\n",
       "      <td>0.117</td>\n",
       "    </tr>\n",
       "  </tbody>\n",
       "</table>\n",
       "</div>"
      ],
      "text/plain": [
       "                             Accuracy  F score     AUC  LogLoss\n",
       "DummyClassifierStratified       0.518    0.446  0.5100   16.636\n",
       "DummyClassifierMostFrequent     0.557    0.000  0.5000   15.289\n",
       "LogisticRegression              0.876    0.858  0.9270    0.335\n",
       "RegularizedLogit                0.876    0.858  0.9270    0.335\n",
       "KNN                             0.896    0.877  0.9630    0.248\n",
       "RadiusNN                        0.857    0.837  0.9232    0.382\n",
       "SVCLinear                       0.880    0.860  0.9280    0.335\n",
       "SVCPolynomial                   0.934    0.924  0.9727    0.216\n",
       "SVCRadialBasis                  0.941    0.933  0.9853    0.150\n",
       "DecisionTree                    0.943    0.935  0.9810    0.425\n",
       "RandomForest                    0.955    0.948  0.9926    0.111\n",
       "AdaBoost                        0.926    0.916  0.9775    0.676\n",
       "GradientBoosting                0.957    0.951  0.9936    0.117"
      ]
     },
     "execution_count": 667,
     "metadata": {},
     "output_type": "execute_result"
    }
   ],
   "source": [
    "model_comparison = pd.concat([model_comparison, gradboost], 0)\n",
    "model_comparison"
   ]
  },
  {
   "cell_type": "markdown",
   "metadata": {},
   "source": [
    "### 8. eXtreme Gradient Boosting Machine"
   ]
  },
  {
   "cell_type": "code",
   "execution_count": 668,
   "metadata": {},
   "outputs": [
    {
     "name": "stdout",
     "output_type": "stream",
     "text": [
      "Started at Mon Dec  7 09:54:56 2020\n",
      "Ended at Mon Dec  7 09:55:17 2020\n",
      "20.88806939125061\n"
     ]
    }
   ],
   "source": [
    "##### start = time.time()\n",
    "print(\"Started at\", str(time.ctime(int(start))))\n",
    "\n",
    "XGB_params = {'eta' : [0.175],\n",
    "              'gamma' : [0.6],\n",
    "              'subsample' : [1],\n",
    "              'colsample_bytree' : [2/3],\n",
    "              'colsample_bynode' : [2/3],\n",
    "              'max_depth' : [17],\n",
    "              'min_child_weight' : [1],\n",
    "              'n_estimators' : [100]}\n",
    "\n",
    "XGB = xgb.XGBClassifier(random_state = 20202020, verbosity = 0,\n",
    "                       objective = 'binary:logistic', eval_metric = 'auc')\n",
    "\n",
    "GRID_XGB = GridSearchCV(XGB, param_grid = XGB_params, cv = 3, scoring = 'roc_auc')\n",
    "\n",
    "GRID_XGB.fit(X_train, y_train)\n",
    "\n",
    "print(\"Ended at\", str(time.ctime(int(time.time()))))\n",
    "print(time.time() - start)"
   ]
  },
  {
   "cell_type": "code",
   "execution_count": 669,
   "metadata": {},
   "outputs": [
    {
     "data": {
      "text/plain": [
       "{'colsample_bynode': 0.6666666666666666,\n",
       " 'colsample_bytree': 0.6666666666666666,\n",
       " 'eta': 0.175,\n",
       " 'gamma': 0.6,\n",
       " 'max_depth': 17,\n",
       " 'min_child_weight': 1,\n",
       " 'n_estimators': 100,\n",
       " 'subsample': 1}"
      ]
     },
     "execution_count": 669,
     "metadata": {},
     "output_type": "execute_result"
    }
   ],
   "source": [
    "GRID_XGB.best_params_"
   ]
  },
  {
   "cell_type": "code",
   "execution_count": 670,
   "metadata": {},
   "outputs": [
    {
     "name": "stdout",
     "output_type": "stream",
     "text": [
      "Accuracy for xgBoost : 0.961\n",
      "F score for xgBoost : 0.955\n",
      "AUC for xgBoost : 0.9937\n",
      "LogLoss for xgBoost : 0.101\n"
     ]
    }
   ],
   "source": [
    "xgboost = evaluate_model('xgBoost', GRID_XGB.best_estimator_, X_test, y_test)"
   ]
  },
  {
   "cell_type": "code",
   "execution_count": 671,
   "metadata": {},
   "outputs": [
    {
     "data": {
      "text/html": [
       "<div>\n",
       "<style scoped>\n",
       "    .dataframe tbody tr th:only-of-type {\n",
       "        vertical-align: middle;\n",
       "    }\n",
       "\n",
       "    .dataframe tbody tr th {\n",
       "        vertical-align: top;\n",
       "    }\n",
       "\n",
       "    .dataframe thead th {\n",
       "        text-align: right;\n",
       "    }\n",
       "</style>\n",
       "<table border=\"1\" class=\"dataframe\">\n",
       "  <thead>\n",
       "    <tr style=\"text-align: right;\">\n",
       "      <th></th>\n",
       "      <th>Accuracy</th>\n",
       "      <th>F score</th>\n",
       "      <th>AUC</th>\n",
       "      <th>LogLoss</th>\n",
       "    </tr>\n",
       "  </thead>\n",
       "  <tbody>\n",
       "    <tr>\n",
       "      <th>DummyClassifierStratified</th>\n",
       "      <td>0.518</td>\n",
       "      <td>0.446</td>\n",
       "      <td>0.5100</td>\n",
       "      <td>16.636</td>\n",
       "    </tr>\n",
       "    <tr>\n",
       "      <th>DummyClassifierMostFrequent</th>\n",
       "      <td>0.557</td>\n",
       "      <td>0.000</td>\n",
       "      <td>0.5000</td>\n",
       "      <td>15.289</td>\n",
       "    </tr>\n",
       "    <tr>\n",
       "      <th>LogisticRegression</th>\n",
       "      <td>0.876</td>\n",
       "      <td>0.858</td>\n",
       "      <td>0.9270</td>\n",
       "      <td>0.335</td>\n",
       "    </tr>\n",
       "    <tr>\n",
       "      <th>RegularizedLogit</th>\n",
       "      <td>0.876</td>\n",
       "      <td>0.858</td>\n",
       "      <td>0.9270</td>\n",
       "      <td>0.335</td>\n",
       "    </tr>\n",
       "    <tr>\n",
       "      <th>KNN</th>\n",
       "      <td>0.896</td>\n",
       "      <td>0.877</td>\n",
       "      <td>0.9630</td>\n",
       "      <td>0.248</td>\n",
       "    </tr>\n",
       "    <tr>\n",
       "      <th>RadiusNN</th>\n",
       "      <td>0.857</td>\n",
       "      <td>0.837</td>\n",
       "      <td>0.9232</td>\n",
       "      <td>0.382</td>\n",
       "    </tr>\n",
       "    <tr>\n",
       "      <th>SVCLinear</th>\n",
       "      <td>0.880</td>\n",
       "      <td>0.860</td>\n",
       "      <td>0.9280</td>\n",
       "      <td>0.335</td>\n",
       "    </tr>\n",
       "    <tr>\n",
       "      <th>SVCPolynomial</th>\n",
       "      <td>0.934</td>\n",
       "      <td>0.924</td>\n",
       "      <td>0.9727</td>\n",
       "      <td>0.216</td>\n",
       "    </tr>\n",
       "    <tr>\n",
       "      <th>SVCRadialBasis</th>\n",
       "      <td>0.941</td>\n",
       "      <td>0.933</td>\n",
       "      <td>0.9853</td>\n",
       "      <td>0.150</td>\n",
       "    </tr>\n",
       "    <tr>\n",
       "      <th>DecisionTree</th>\n",
       "      <td>0.943</td>\n",
       "      <td>0.935</td>\n",
       "      <td>0.9810</td>\n",
       "      <td>0.425</td>\n",
       "    </tr>\n",
       "    <tr>\n",
       "      <th>RandomForest</th>\n",
       "      <td>0.955</td>\n",
       "      <td>0.948</td>\n",
       "      <td>0.9926</td>\n",
       "      <td>0.111</td>\n",
       "    </tr>\n",
       "    <tr>\n",
       "      <th>AdaBoost</th>\n",
       "      <td>0.926</td>\n",
       "      <td>0.916</td>\n",
       "      <td>0.9775</td>\n",
       "      <td>0.676</td>\n",
       "    </tr>\n",
       "    <tr>\n",
       "      <th>GradientBoosting</th>\n",
       "      <td>0.957</td>\n",
       "      <td>0.951</td>\n",
       "      <td>0.9936</td>\n",
       "      <td>0.117</td>\n",
       "    </tr>\n",
       "    <tr>\n",
       "      <th>xgBoost</th>\n",
       "      <td>0.961</td>\n",
       "      <td>0.955</td>\n",
       "      <td>0.9937</td>\n",
       "      <td>0.101</td>\n",
       "    </tr>\n",
       "  </tbody>\n",
       "</table>\n",
       "</div>"
      ],
      "text/plain": [
       "                             Accuracy  F score     AUC  LogLoss\n",
       "DummyClassifierStratified       0.518    0.446  0.5100   16.636\n",
       "DummyClassifierMostFrequent     0.557    0.000  0.5000   15.289\n",
       "LogisticRegression              0.876    0.858  0.9270    0.335\n",
       "RegularizedLogit                0.876    0.858  0.9270    0.335\n",
       "KNN                             0.896    0.877  0.9630    0.248\n",
       "RadiusNN                        0.857    0.837  0.9232    0.382\n",
       "SVCLinear                       0.880    0.860  0.9280    0.335\n",
       "SVCPolynomial                   0.934    0.924  0.9727    0.216\n",
       "SVCRadialBasis                  0.941    0.933  0.9853    0.150\n",
       "DecisionTree                    0.943    0.935  0.9810    0.425\n",
       "RandomForest                    0.955    0.948  0.9926    0.111\n",
       "AdaBoost                        0.926    0.916  0.9775    0.676\n",
       "GradientBoosting                0.957    0.951  0.9936    0.117\n",
       "xgBoost                         0.961    0.955  0.9937    0.101"
      ]
     },
     "execution_count": 671,
     "metadata": {},
     "output_type": "execute_result"
    }
   ],
   "source": [
    "model_comparison = pd.concat([model_comparison, xgboost], 0)\n",
    "model_comparison"
   ]
  },
  {
   "cell_type": "markdown",
   "metadata": {},
   "source": [
    "### 9. Light Gradient Boosting Machine\n",
    "\n",
    "https://lightgbm.readthedocs.io/en/latest/pythonapi/lightgbm.LGBMRegressor.html#lightgbm.LGBMRegressor"
   ]
  },
  {
   "cell_type": "code",
   "execution_count": 672,
   "metadata": {},
   "outputs": [
    {
     "name": "stdout",
     "output_type": "stream",
     "text": [
      "Started at Mon Dec  7 09:55:17 2020\n",
      "Ended at Mon Dec  7 09:55:35 2020\n",
      "17.933016538619995\n"
     ]
    }
   ],
   "source": [
    "start = time.time()\n",
    "print(\"Started at\", str(time.ctime(int(start))))\n",
    "\n",
    "LGB_params = {'boosting_type' : ['dart'], # 'gbdt', 'goss', 'rf'\n",
    "              'learning_rate' : [0.15],\n",
    "              'num_leaves' : [50],\n",
    "              'min_child_samples' : [1],\n",
    "              'max_depth' : [17],\n",
    "              'subsample' : [1],\n",
    "              'colsample_bytree' : [0.8],\n",
    "              'n_estimators' : [500]}\n",
    "\n",
    "LGB = lgb.LGBMClassifier(random_state = 20202020,\n",
    "                        objective = 'binary', metric = 'auc')\n",
    "\n",
    "GRID_LGB = GridSearchCV(LGB, param_grid = LGB_params, cv = 3, scoring = 'roc_auc', n_jobs = -1)\n",
    "\n",
    "GRID_LGB.fit(X_train, y_train)\n",
    "\n",
    "print(\"Ended at\", str(time.ctime(int(time.time()))))\n",
    "print(time.time() - start)"
   ]
  },
  {
   "cell_type": "code",
   "execution_count": 673,
   "metadata": {},
   "outputs": [
    {
     "data": {
      "text/plain": [
       "{'boosting_type': 'dart',\n",
       " 'colsample_bytree': 0.8,\n",
       " 'learning_rate': 0.15,\n",
       " 'max_depth': 17,\n",
       " 'min_child_samples': 1,\n",
       " 'n_estimators': 500,\n",
       " 'num_leaves': 50,\n",
       " 'subsample': 1}"
      ]
     },
     "execution_count": 673,
     "metadata": {},
     "output_type": "execute_result"
    }
   ],
   "source": [
    "GRID_LGB.best_params_"
   ]
  },
  {
   "cell_type": "code",
   "execution_count": 674,
   "metadata": {},
   "outputs": [
    {
     "name": "stdout",
     "output_type": "stream",
     "text": [
      "Accuracy for LightGBM : 0.961\n",
      "F score for LightGBM : 0.956\n",
      "AUC for LightGBM : 0.9941\n",
      "LogLoss for LightGBM : 0.102\n"
     ]
    }
   ],
   "source": [
    "lightgbm = evaluate_model('LightGBM', GRID_LGB.best_estimator_, X_test, y_test)"
   ]
  },
  {
   "cell_type": "code",
   "execution_count": 675,
   "metadata": {},
   "outputs": [
    {
     "data": {
      "text/html": [
       "<div>\n",
       "<style scoped>\n",
       "    .dataframe tbody tr th:only-of-type {\n",
       "        vertical-align: middle;\n",
       "    }\n",
       "\n",
       "    .dataframe tbody tr th {\n",
       "        vertical-align: top;\n",
       "    }\n",
       "\n",
       "    .dataframe thead th {\n",
       "        text-align: right;\n",
       "    }\n",
       "</style>\n",
       "<table border=\"1\" class=\"dataframe\">\n",
       "  <thead>\n",
       "    <tr style=\"text-align: right;\">\n",
       "      <th></th>\n",
       "      <th>Accuracy</th>\n",
       "      <th>F score</th>\n",
       "      <th>AUC</th>\n",
       "      <th>LogLoss</th>\n",
       "    </tr>\n",
       "  </thead>\n",
       "  <tbody>\n",
       "    <tr>\n",
       "      <th>DummyClassifierStratified</th>\n",
       "      <td>0.518</td>\n",
       "      <td>0.446</td>\n",
       "      <td>0.5100</td>\n",
       "      <td>16.636</td>\n",
       "    </tr>\n",
       "    <tr>\n",
       "      <th>DummyClassifierMostFrequent</th>\n",
       "      <td>0.557</td>\n",
       "      <td>0.000</td>\n",
       "      <td>0.5000</td>\n",
       "      <td>15.289</td>\n",
       "    </tr>\n",
       "    <tr>\n",
       "      <th>LogisticRegression</th>\n",
       "      <td>0.876</td>\n",
       "      <td>0.858</td>\n",
       "      <td>0.9270</td>\n",
       "      <td>0.335</td>\n",
       "    </tr>\n",
       "    <tr>\n",
       "      <th>RegularizedLogit</th>\n",
       "      <td>0.876</td>\n",
       "      <td>0.858</td>\n",
       "      <td>0.9270</td>\n",
       "      <td>0.335</td>\n",
       "    </tr>\n",
       "    <tr>\n",
       "      <th>KNN</th>\n",
       "      <td>0.896</td>\n",
       "      <td>0.877</td>\n",
       "      <td>0.9630</td>\n",
       "      <td>0.248</td>\n",
       "    </tr>\n",
       "    <tr>\n",
       "      <th>RadiusNN</th>\n",
       "      <td>0.857</td>\n",
       "      <td>0.837</td>\n",
       "      <td>0.9232</td>\n",
       "      <td>0.382</td>\n",
       "    </tr>\n",
       "    <tr>\n",
       "      <th>SVCLinear</th>\n",
       "      <td>0.880</td>\n",
       "      <td>0.860</td>\n",
       "      <td>0.9280</td>\n",
       "      <td>0.335</td>\n",
       "    </tr>\n",
       "    <tr>\n",
       "      <th>SVCPolynomial</th>\n",
       "      <td>0.934</td>\n",
       "      <td>0.924</td>\n",
       "      <td>0.9727</td>\n",
       "      <td>0.216</td>\n",
       "    </tr>\n",
       "    <tr>\n",
       "      <th>SVCRadialBasis</th>\n",
       "      <td>0.941</td>\n",
       "      <td>0.933</td>\n",
       "      <td>0.9853</td>\n",
       "      <td>0.150</td>\n",
       "    </tr>\n",
       "    <tr>\n",
       "      <th>DecisionTree</th>\n",
       "      <td>0.943</td>\n",
       "      <td>0.935</td>\n",
       "      <td>0.9810</td>\n",
       "      <td>0.425</td>\n",
       "    </tr>\n",
       "    <tr>\n",
       "      <th>RandomForest</th>\n",
       "      <td>0.955</td>\n",
       "      <td>0.948</td>\n",
       "      <td>0.9926</td>\n",
       "      <td>0.111</td>\n",
       "    </tr>\n",
       "    <tr>\n",
       "      <th>AdaBoost</th>\n",
       "      <td>0.926</td>\n",
       "      <td>0.916</td>\n",
       "      <td>0.9775</td>\n",
       "      <td>0.676</td>\n",
       "    </tr>\n",
       "    <tr>\n",
       "      <th>GradientBoosting</th>\n",
       "      <td>0.957</td>\n",
       "      <td>0.951</td>\n",
       "      <td>0.9936</td>\n",
       "      <td>0.117</td>\n",
       "    </tr>\n",
       "    <tr>\n",
       "      <th>xgBoost</th>\n",
       "      <td>0.961</td>\n",
       "      <td>0.955</td>\n",
       "      <td>0.9937</td>\n",
       "      <td>0.101</td>\n",
       "    </tr>\n",
       "    <tr>\n",
       "      <th>LightGBM</th>\n",
       "      <td>0.961</td>\n",
       "      <td>0.956</td>\n",
       "      <td>0.9941</td>\n",
       "      <td>0.102</td>\n",
       "    </tr>\n",
       "  </tbody>\n",
       "</table>\n",
       "</div>"
      ],
      "text/plain": [
       "                             Accuracy  F score     AUC  LogLoss\n",
       "DummyClassifierStratified       0.518    0.446  0.5100   16.636\n",
       "DummyClassifierMostFrequent     0.557    0.000  0.5000   15.289\n",
       "LogisticRegression              0.876    0.858  0.9270    0.335\n",
       "RegularizedLogit                0.876    0.858  0.9270    0.335\n",
       "KNN                             0.896    0.877  0.9630    0.248\n",
       "RadiusNN                        0.857    0.837  0.9232    0.382\n",
       "SVCLinear                       0.880    0.860  0.9280    0.335\n",
       "SVCPolynomial                   0.934    0.924  0.9727    0.216\n",
       "SVCRadialBasis                  0.941    0.933  0.9853    0.150\n",
       "DecisionTree                    0.943    0.935  0.9810    0.425\n",
       "RandomForest                    0.955    0.948  0.9926    0.111\n",
       "AdaBoost                        0.926    0.916  0.9775    0.676\n",
       "GradientBoosting                0.957    0.951  0.9936    0.117\n",
       "xgBoost                         0.961    0.955  0.9937    0.101\n",
       "LightGBM                        0.961    0.956  0.9941    0.102"
      ]
     },
     "execution_count": 675,
     "metadata": {},
     "output_type": "execute_result"
    }
   ],
   "source": [
    "model_comparison = pd.concat([model_comparison, lightgbm], 0)\n",
    "model_comparison"
   ]
  },
  {
   "cell_type": "markdown",
   "metadata": {},
   "source": [
    "### 10. CatBoost - Categorical Boosting Machine\n",
    "\n",
    "https://catboost.ai/docs/concepts/python-reference_parameters-list.html"
   ]
  },
  {
   "cell_type": "code",
   "execution_count": 676,
   "metadata": {},
   "outputs": [
    {
     "name": "stdout",
     "output_type": "stream",
     "text": [
      "Started at Mon Dec  7 09:55:36 2020\n",
      "Ended at Mon Dec  7 09:55:43 2020\n",
      "7.430158615112305\n"
     ]
    }
   ],
   "source": [
    "start = time.time()\n",
    "print(\"Started at\", str(time.ctime(int(start))))\n",
    "\n",
    "cat_params = {'learning_rate': [0.1],\n",
    "              'l2_leaf_reg': [0.5],\n",
    "              'subsample': [0.75],\n",
    "              'rsm' : [3/4],\n",
    "              'max_depth': [9], # up to 16 (8 on gpu)\n",
    "              'grow_policy': ['Lossguide'], #'Depthwise', 'SymmetricTree'\n",
    "              'min_data_in_leaf' : [21], \n",
    "              'max_leaves' : [19],\n",
    "              #'bagging_temperature' : [0],\n",
    "              'iterations' : [160]} \n",
    "\n",
    "cat = CatBoostClassifier(random_state = 20202020, verbose = 0,\n",
    "                         eval_metric = 'AUC:hints=skip_train~false', objective = 'Logloss',\n",
    "                         cat_features = ['class'])\n",
    "\n",
    "GRID_cat = GridSearchCV(cat, param_grid = cat_params, cv = 3, scoring = 'roc_auc', n_jobs = -1)\n",
    "\n",
    "GRID_cat.fit(X_train_original, y_train)\n",
    "\n",
    "print(\"Ended at\", str(time.ctime(int(time.time()))))\n",
    "print(time.time() - start)"
   ]
  },
  {
   "cell_type": "code",
   "execution_count": 677,
   "metadata": {},
   "outputs": [
    {
     "data": {
      "text/plain": [
       "{'grow_policy': 'Lossguide',\n",
       " 'iterations': 160,\n",
       " 'l2_leaf_reg': 0.5,\n",
       " 'learning_rate': 0.1,\n",
       " 'max_depth': 9,\n",
       " 'max_leaves': 19,\n",
       " 'min_data_in_leaf': 21,\n",
       " 'rsm': 0.75,\n",
       " 'subsample': 0.75}"
      ]
     },
     "execution_count": 677,
     "metadata": {},
     "output_type": "execute_result"
    }
   ],
   "source": [
    "GRID_cat.best_params_"
   ]
  },
  {
   "cell_type": "code",
   "execution_count": 678,
   "metadata": {},
   "outputs": [
    {
     "name": "stdout",
     "output_type": "stream",
     "text": [
      "Accuracy for CatBoost : 0.960\n",
      "F score for CatBoost : 0.954\n",
      "AUC for CatBoost : 0.9931\n",
      "LogLoss for CatBoost : 0.104\n"
     ]
    }
   ],
   "source": [
    "catboost = evaluate_model('CatBoost', GRID_cat.best_estimator_, X_test_original, y_test)"
   ]
  },
  {
   "cell_type": "code",
   "execution_count": 679,
   "metadata": {},
   "outputs": [
    {
     "data": {
      "text/html": [
       "<div>\n",
       "<style scoped>\n",
       "    .dataframe tbody tr th:only-of-type {\n",
       "        vertical-align: middle;\n",
       "    }\n",
       "\n",
       "    .dataframe tbody tr th {\n",
       "        vertical-align: top;\n",
       "    }\n",
       "\n",
       "    .dataframe thead th {\n",
       "        text-align: right;\n",
       "    }\n",
       "</style>\n",
       "<table border=\"1\" class=\"dataframe\">\n",
       "  <thead>\n",
       "    <tr style=\"text-align: right;\">\n",
       "      <th></th>\n",
       "      <th>Accuracy</th>\n",
       "      <th>F score</th>\n",
       "      <th>AUC</th>\n",
       "      <th>LogLoss</th>\n",
       "    </tr>\n",
       "  </thead>\n",
       "  <tbody>\n",
       "    <tr>\n",
       "      <th>DummyClassifierStratified</th>\n",
       "      <td>0.518</td>\n",
       "      <td>0.446</td>\n",
       "      <td>0.5100</td>\n",
       "      <td>16.636</td>\n",
       "    </tr>\n",
       "    <tr>\n",
       "      <th>DummyClassifierMostFrequent</th>\n",
       "      <td>0.557</td>\n",
       "      <td>0.000</td>\n",
       "      <td>0.5000</td>\n",
       "      <td>15.289</td>\n",
       "    </tr>\n",
       "    <tr>\n",
       "      <th>LogisticRegression</th>\n",
       "      <td>0.876</td>\n",
       "      <td>0.858</td>\n",
       "      <td>0.9270</td>\n",
       "      <td>0.335</td>\n",
       "    </tr>\n",
       "    <tr>\n",
       "      <th>RegularizedLogit</th>\n",
       "      <td>0.876</td>\n",
       "      <td>0.858</td>\n",
       "      <td>0.9270</td>\n",
       "      <td>0.335</td>\n",
       "    </tr>\n",
       "    <tr>\n",
       "      <th>KNN</th>\n",
       "      <td>0.896</td>\n",
       "      <td>0.877</td>\n",
       "      <td>0.9630</td>\n",
       "      <td>0.248</td>\n",
       "    </tr>\n",
       "    <tr>\n",
       "      <th>RadiusNN</th>\n",
       "      <td>0.857</td>\n",
       "      <td>0.837</td>\n",
       "      <td>0.9232</td>\n",
       "      <td>0.382</td>\n",
       "    </tr>\n",
       "    <tr>\n",
       "      <th>SVCLinear</th>\n",
       "      <td>0.880</td>\n",
       "      <td>0.860</td>\n",
       "      <td>0.9280</td>\n",
       "      <td>0.335</td>\n",
       "    </tr>\n",
       "    <tr>\n",
       "      <th>SVCPolynomial</th>\n",
       "      <td>0.934</td>\n",
       "      <td>0.924</td>\n",
       "      <td>0.9727</td>\n",
       "      <td>0.216</td>\n",
       "    </tr>\n",
       "    <tr>\n",
       "      <th>SVCRadialBasis</th>\n",
       "      <td>0.941</td>\n",
       "      <td>0.933</td>\n",
       "      <td>0.9853</td>\n",
       "      <td>0.150</td>\n",
       "    </tr>\n",
       "    <tr>\n",
       "      <th>DecisionTree</th>\n",
       "      <td>0.943</td>\n",
       "      <td>0.935</td>\n",
       "      <td>0.9810</td>\n",
       "      <td>0.425</td>\n",
       "    </tr>\n",
       "    <tr>\n",
       "      <th>RandomForest</th>\n",
       "      <td>0.955</td>\n",
       "      <td>0.948</td>\n",
       "      <td>0.9926</td>\n",
       "      <td>0.111</td>\n",
       "    </tr>\n",
       "    <tr>\n",
       "      <th>AdaBoost</th>\n",
       "      <td>0.926</td>\n",
       "      <td>0.916</td>\n",
       "      <td>0.9775</td>\n",
       "      <td>0.676</td>\n",
       "    </tr>\n",
       "    <tr>\n",
       "      <th>GradientBoosting</th>\n",
       "      <td>0.957</td>\n",
       "      <td>0.951</td>\n",
       "      <td>0.9936</td>\n",
       "      <td>0.117</td>\n",
       "    </tr>\n",
       "    <tr>\n",
       "      <th>xgBoost</th>\n",
       "      <td>0.961</td>\n",
       "      <td>0.955</td>\n",
       "      <td>0.9937</td>\n",
       "      <td>0.101</td>\n",
       "    </tr>\n",
       "    <tr>\n",
       "      <th>LightGBM</th>\n",
       "      <td>0.961</td>\n",
       "      <td>0.956</td>\n",
       "      <td>0.9941</td>\n",
       "      <td>0.102</td>\n",
       "    </tr>\n",
       "    <tr>\n",
       "      <th>CatBoost</th>\n",
       "      <td>0.960</td>\n",
       "      <td>0.954</td>\n",
       "      <td>0.9931</td>\n",
       "      <td>0.104</td>\n",
       "    </tr>\n",
       "  </tbody>\n",
       "</table>\n",
       "</div>"
      ],
      "text/plain": [
       "                             Accuracy  F score     AUC  LogLoss\n",
       "DummyClassifierStratified       0.518    0.446  0.5100   16.636\n",
       "DummyClassifierMostFrequent     0.557    0.000  0.5000   15.289\n",
       "LogisticRegression              0.876    0.858  0.9270    0.335\n",
       "RegularizedLogit                0.876    0.858  0.9270    0.335\n",
       "KNN                             0.896    0.877  0.9630    0.248\n",
       "RadiusNN                        0.857    0.837  0.9232    0.382\n",
       "SVCLinear                       0.880    0.860  0.9280    0.335\n",
       "SVCPolynomial                   0.934    0.924  0.9727    0.216\n",
       "SVCRadialBasis                  0.941    0.933  0.9853    0.150\n",
       "DecisionTree                    0.943    0.935  0.9810    0.425\n",
       "RandomForest                    0.955    0.948  0.9926    0.111\n",
       "AdaBoost                        0.926    0.916  0.9775    0.676\n",
       "GradientBoosting                0.957    0.951  0.9936    0.117\n",
       "xgBoost                         0.961    0.955  0.9937    0.101\n",
       "LightGBM                        0.961    0.956  0.9941    0.102\n",
       "CatBoost                        0.960    0.954  0.9931    0.104"
      ]
     },
     "execution_count": 679,
     "metadata": {},
     "output_type": "execute_result"
    }
   ],
   "source": [
    "model_comparison = pd.concat([model_comparison, catboost], 0)\n",
    "model_comparison"
   ]
  },
  {
   "cell_type": "code",
   "execution_count": null,
   "metadata": {},
   "outputs": [],
   "source": []
  },
  {
   "cell_type": "code",
   "execution_count": 680,
   "metadata": {},
   "outputs": [],
   "source": [
    "pkl_filename = \"LightGBM.pkl\"\n",
    "\n",
    "with open(pkl_filename, 'wb') as file:\n",
    "    pickle.dump(GRID_LGB.best_estimator_, file)"
   ]
  },
  {
   "cell_type": "code",
   "execution_count": null,
   "metadata": {},
   "outputs": [],
   "source": []
  },
  {
   "cell_type": "markdown",
   "metadata": {},
   "source": [
    "### Save datasets for evaluation"
   ]
  },
  {
   "cell_type": "code",
   "execution_count": 681,
   "metadata": {},
   "outputs": [],
   "source": [
    "X_train_original.to_csv('../../data/airlines/X_train_original.csv', index = False)\n",
    "X_test_original.to_csv('../../data/airlines/X_test_original.csv', index = False)\n",
    "X_train.to_csv('../../data/airlines/X_train.csv', index = False)\n",
    "X_test.to_csv('../../data/airlines/X_test.csv', index = False)\n",
    "y_train.to_csv('../../data/airlines/y_train.csv', index = False)\n",
    "y_test.to_csv('../../data/airlines/y_test.csv', index = False)"
   ]
  },
  {
   "cell_type": "code",
   "execution_count": 682,
   "metadata": {},
   "outputs": [],
   "source": [
    "#model_comparison = pd.read_csv('../../data/laptops/model_comparison.csv', index_col=0)\n",
    "model_comparison.to_csv('../../data/airlines/model_comparison.csv')"
   ]
  },
  {
   "cell_type": "code",
   "execution_count": null,
   "metadata": {},
   "outputs": [],
   "source": []
  }
 ],
 "metadata": {
  "kernelspec": {
   "display_name": "Python 3",
   "language": "python",
   "name": "python3"
  },
  "language_info": {
   "codemirror_mode": {
    "name": "ipython",
    "version": 3
   },
   "file_extension": ".py",
   "mimetype": "text/x-python",
   "name": "python",
   "nbconvert_exporter": "python",
   "pygments_lexer": "ipython3",
   "version": "3.7.3"
  }
 },
 "nbformat": 4,
 "nbformat_minor": 4
}
