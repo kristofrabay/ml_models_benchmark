{
 "cells": [
  {
   "cell_type": "code",
   "execution_count": 41,
   "metadata": {},
   "outputs": [],
   "source": [
    "import pandas as pd\n",
    "import numpy as np\n",
    "\n",
    "import matplotlib.pyplot as plt\n",
    "from mpl_toolkits.mplot3d import Axes3D\n",
    "import seaborn as sns\n",
    "\n",
    "from sklearn.model_selection import train_test_split, GridSearchCV\n",
    "from sklearn.metrics import mean_absolute_error, mean_squared_error\n",
    "from sklearn.dummy import DummyRegressor\n",
    "from sklearn.linear_model import LinearRegression, Lasso, Ridge, ElasticNet\n",
    "from sklearn.neighbors import KNeighborsRegressor, RadiusNeighborsRegressor\n",
    "from sklearn.svm import SVR\n",
    "from sklearn.tree import DecisionTreeRegressor, plot_tree\n",
    "from sklearn.ensemble import AdaBoostRegressor, GradientBoostingRegressor, RandomForestRegressor\n",
    "\n",
    "import xgboost as xgb\n",
    "import lightgbm as lgb\n",
    "from catboost import CatBoostRegressor\n",
    "\n",
    "import warnings\n",
    "warnings.filterwarnings('ignore')"
   ]
  },
  {
   "cell_type": "code",
   "execution_count": 94,
   "metadata": {},
   "outputs": [],
   "source": [
    "def mean_absolute_percentage_error(actual, pred): \n",
    "    return np.mean(np.abs((actual - pred) / actual)) * 100\n",
    "\n",
    "def evaluate_model(model_name, model, X, y):\n",
    "    \n",
    "    predictions = model.predict(X)\n",
    "\n",
    "    MAE = mean_absolute_error(y, predictions)\n",
    "    MAPE = mean_absolute_percentage_error(y, predictions)\n",
    "    RMSE = mean_squared_error(y, predictions, squared = False)\n",
    "\n",
    "    print('MAE for', model_name, ': %1.3f' % MAE)\n",
    "    print('MAPE for', model_name, ': %1.3f' % MAPE)\n",
    "    print('RMSE for', model_name, ': %1.3f' % RMSE)\n",
    "\n",
    "    metrics_table = pd.DataFrame({'MAE' : [round(MAE, 3)], 'MAPE' : [round(MAPE, 3)], 'RMSE' : [round(RMSE, 3)]}, index = [model_name])\n",
    "    \n",
    "    return metrics_table"
   ]
  },
  {
   "cell_type": "markdown",
   "metadata": {},
   "source": [
    "### Read in the data"
   ]
  },
  {
   "cell_type": "code",
   "execution_count": 3,
   "metadata": {},
   "outputs": [
    {
     "data": {
      "text/html": [
       "<div>\n",
       "<style scoped>\n",
       "    .dataframe tbody tr th:only-of-type {\n",
       "        vertical-align: middle;\n",
       "    }\n",
       "\n",
       "    .dataframe tbody tr th {\n",
       "        vertical-align: top;\n",
       "    }\n",
       "\n",
       "    .dataframe thead th {\n",
       "        text-align: right;\n",
       "    }\n",
       "</style>\n",
       "<table border=\"1\" class=\"dataframe\">\n",
       "  <thead>\n",
       "    <tr style=\"text-align: right;\">\n",
       "      <th></th>\n",
       "      <th>carat</th>\n",
       "      <th>cut</th>\n",
       "      <th>color</th>\n",
       "      <th>clarity</th>\n",
       "      <th>depth</th>\n",
       "      <th>table</th>\n",
       "      <th>price</th>\n",
       "    </tr>\n",
       "  </thead>\n",
       "  <tbody>\n",
       "    <tr>\n",
       "      <th>0</th>\n",
       "      <td>0.23</td>\n",
       "      <td>Ideal</td>\n",
       "      <td>E</td>\n",
       "      <td>SI2</td>\n",
       "      <td>61.5</td>\n",
       "      <td>55.0</td>\n",
       "      <td>326</td>\n",
       "    </tr>\n",
       "    <tr>\n",
       "      <th>1</th>\n",
       "      <td>0.21</td>\n",
       "      <td>Premium</td>\n",
       "      <td>E</td>\n",
       "      <td>SI1</td>\n",
       "      <td>59.8</td>\n",
       "      <td>61.0</td>\n",
       "      <td>326</td>\n",
       "    </tr>\n",
       "    <tr>\n",
       "      <th>2</th>\n",
       "      <td>0.23</td>\n",
       "      <td>Good</td>\n",
       "      <td>E</td>\n",
       "      <td>VS1</td>\n",
       "      <td>56.9</td>\n",
       "      <td>65.0</td>\n",
       "      <td>327</td>\n",
       "    </tr>\n",
       "    <tr>\n",
       "      <th>3</th>\n",
       "      <td>0.29</td>\n",
       "      <td>Premium</td>\n",
       "      <td>I</td>\n",
       "      <td>VS2</td>\n",
       "      <td>62.4</td>\n",
       "      <td>58.0</td>\n",
       "      <td>334</td>\n",
       "    </tr>\n",
       "    <tr>\n",
       "      <th>4</th>\n",
       "      <td>0.31</td>\n",
       "      <td>Good</td>\n",
       "      <td>J</td>\n",
       "      <td>SI2</td>\n",
       "      <td>63.3</td>\n",
       "      <td>58.0</td>\n",
       "      <td>335</td>\n",
       "    </tr>\n",
       "  </tbody>\n",
       "</table>\n",
       "</div>"
      ],
      "text/plain": [
       "   carat      cut color clarity  depth  table  price\n",
       "0   0.23    Ideal     E     SI2   61.5   55.0    326\n",
       "1   0.21  Premium     E     SI1   59.8   61.0    326\n",
       "2   0.23     Good     E     VS1   56.9   65.0    327\n",
       "3   0.29  Premium     I     VS2   62.4   58.0    334\n",
       "4   0.31     Good     J     SI2   63.3   58.0    335"
      ]
     },
     "execution_count": 3,
     "metadata": {},
     "output_type": "execute_result"
    }
   ],
   "source": [
    "data = pd.read_csv('../data/diamonds_cleaned.csv')\n",
    "data.head()"
   ]
  },
  {
   "cell_type": "markdown",
   "metadata": {},
   "source": [
    "### Dealing with input types\n",
    "\n",
    "CatBoost can take categorical features as is, so I won't one-hot encode the data yet, instead, for most models I will separately one-hot encode the train and test sets, for CatBoost I'll just give the Regressor the features as string"
   ]
  },
  {
   "cell_type": "code",
   "execution_count": 4,
   "metadata": {},
   "outputs": [
    {
     "name": "stdout",
     "output_type": "stream",
     "text": [
      "Shape of original data: (53770, 7)\n",
      "Shape of y: (53770,)\n",
      "Shape of X: (53770, 6)\n"
     ]
    }
   ],
   "source": [
    "y = data['price'].copy()\n",
    "X = data.drop('price', 1).copy()\n",
    "\n",
    "print('Shape of original data:', data.shape)\n",
    "print('Shape of y:', y.shape)\n",
    "print('Shape of X:', X.shape)"
   ]
  },
  {
   "cell_type": "markdown",
   "metadata": {},
   "source": [
    "### Train - Test split"
   ]
  },
  {
   "cell_type": "code",
   "execution_count": 17,
   "metadata": {},
   "outputs": [
    {
     "name": "stdout",
     "output_type": "stream",
     "text": [
      "Shape of X train: (40327, 6)\n",
      "Shape of X test: (13443, 6)\n",
      "Shape of y train: (40327,)\n",
      "Shape of y test: (13443,)\n"
     ]
    }
   ],
   "source": [
    "X_train, X_test, y_train, y_test = train_test_split(X, y, train_size = 0.75, random_state = 20202020)\n",
    "\n",
    "print('Shape of X train:', X_train.shape)\n",
    "print('Shape of X test:', X_test.shape)\n",
    "print('Shape of y train:', y_train.shape)\n",
    "print('Shape of y test:', y_test.shape)"
   ]
  },
  {
   "cell_type": "markdown",
   "metadata": {},
   "source": [
    "### One-hot encode categoricals"
   ]
  },
  {
   "cell_type": "code",
   "execution_count": 19,
   "metadata": {},
   "outputs": [],
   "source": [
    "# Need original data for CatBoost\n",
    "\n",
    "X_train_original = X_train.copy()\n",
    "X_test_original = X_test.copy()\n",
    "\n",
    "# One hot encode for other models\n",
    "\n",
    "X_train = pd.get_dummies(X_train, columns = ['cut', 'color', 'clarity'], prefix_sep = ' = ')\n",
    "X_test = pd.get_dummies(X_test, columns = ['cut', 'color', 'clarity'], prefix_sep = ' = ')"
   ]
  },
  {
   "cell_type": "code",
   "execution_count": 23,
   "metadata": {},
   "outputs": [
    {
     "name": "stdout",
     "output_type": "stream",
     "text": [
      "Original amount of Xs: 6\n",
      "Column # with one-hot encoding: 23\n"
     ]
    }
   ],
   "source": [
    "print('Original amount of Xs:', X_train_original.shape[1])\n",
    "print('Column # with one-hot encoding:', X_train.shape[1])"
   ]
  },
  {
   "cell_type": "markdown",
   "metadata": {},
   "source": [
    "# Applying the different ML models"
   ]
  },
  {
   "cell_type": "markdown",
   "metadata": {},
   "source": [
    "### 1. DummyRegressor to compare results against"
   ]
  },
  {
   "cell_type": "markdown",
   "metadata": {},
   "source": [
    "Predicting the median"
   ]
  },
  {
   "cell_type": "code",
   "execution_count": 113,
   "metadata": {},
   "outputs": [
    {
     "data": {
      "text/plain": [
       "DummyRegressor(constant=None, quantile=None, strategy='median')"
      ]
     },
     "execution_count": 113,
     "metadata": {},
     "output_type": "execute_result"
    }
   ],
   "source": [
    "dummy = DummyRegressor(strategy = 'median')\n",
    "dummy.fit(X_train, y_train)"
   ]
  },
  {
   "cell_type": "code",
   "execution_count": 114,
   "metadata": {},
   "outputs": [
    {
     "name": "stdout",
     "output_type": "stream",
     "text": [
      "MAE for DummyRegressorMedian : 2806.394\n",
      "MAPE for DummyRegressorMedian : 110.422\n",
      "RMSE for DummyRegressorMedian : 4258.833\n"
     ]
    }
   ],
   "source": [
    "dummy_median = evaluate_model('DummyRegressorMedian', dummy, X_test, y_test)"
   ]
  },
  {
   "cell_type": "markdown",
   "metadata": {},
   "source": [
    "Predicting the 25% percentile"
   ]
  },
  {
   "cell_type": "code",
   "execution_count": 124,
   "metadata": {},
   "outputs": [
    {
     "data": {
      "text/plain": [
       "DummyRegressor(constant=None, quantile=0.25, strategy='quantile')"
      ]
     },
     "execution_count": 124,
     "metadata": {},
     "output_type": "execute_result"
    }
   ],
   "source": [
    "dummy = DummyRegressor(strategy = 'quantile', quantile = 0.25)\n",
    "dummy.fit(X_train, y_train)"
   ]
  },
  {
   "cell_type": "code",
   "execution_count": 125,
   "metadata": {},
   "outputs": [
    {
     "name": "stdout",
     "output_type": "stream",
     "text": [
      "MAE for DummyRegressorQuantile : 3105.765\n",
      "MAPE for DummyRegressorQuantile : 60.473\n",
      "RMSE for DummyRegressorQuantile : 4964.068\n"
     ]
    }
   ],
   "source": [
    "dummy_quantile = evaluate_model('DummyRegressorQuantile', dummy, X_test, y_test)"
   ]
  },
  {
   "cell_type": "markdown",
   "metadata": {},
   "source": [
    "Concat results"
   ]
  },
  {
   "cell_type": "code",
   "execution_count": 126,
   "metadata": {},
   "outputs": [
    {
     "data": {
      "text/html": [
       "<div>\n",
       "<style scoped>\n",
       "    .dataframe tbody tr th:only-of-type {\n",
       "        vertical-align: middle;\n",
       "    }\n",
       "\n",
       "    .dataframe tbody tr th {\n",
       "        vertical-align: top;\n",
       "    }\n",
       "\n",
       "    .dataframe thead th {\n",
       "        text-align: right;\n",
       "    }\n",
       "</style>\n",
       "<table border=\"1\" class=\"dataframe\">\n",
       "  <thead>\n",
       "    <tr style=\"text-align: right;\">\n",
       "      <th></th>\n",
       "      <th>MAE</th>\n",
       "      <th>MAPE</th>\n",
       "      <th>RMSE</th>\n",
       "    </tr>\n",
       "  </thead>\n",
       "  <tbody>\n",
       "    <tr>\n",
       "      <th>DummyRegressorMedian</th>\n",
       "      <td>2806.394</td>\n",
       "      <td>110.422</td>\n",
       "      <td>4258.833</td>\n",
       "    </tr>\n",
       "    <tr>\n",
       "      <th>DummyRegressorQuantile</th>\n",
       "      <td>3105.765</td>\n",
       "      <td>60.473</td>\n",
       "      <td>4964.068</td>\n",
       "    </tr>\n",
       "  </tbody>\n",
       "</table>\n",
       "</div>"
      ],
      "text/plain": [
       "                             MAE     MAPE      RMSE\n",
       "DummyRegressorMedian    2806.394  110.422  4258.833\n",
       "DummyRegressorQuantile  3105.765   60.473  4964.068"
      ]
     },
     "execution_count": 126,
     "metadata": {},
     "output_type": "execute_result"
    }
   ],
   "source": [
    "model_comparison = pd.concat([dummy_median, dummy_quantile], 0)\n",
    "model_comparison.head()"
   ]
  },
  {
   "cell_type": "markdown",
   "metadata": {},
   "source": [
    "### 2. Simple linear regression"
   ]
  },
  {
   "cell_type": "code",
   "execution_count": 127,
   "metadata": {},
   "outputs": [
    {
     "data": {
      "text/plain": [
       "LinearRegression(copy_X=True, fit_intercept=True, n_jobs=None, normalize=False)"
      ]
     },
     "execution_count": 127,
     "metadata": {},
     "output_type": "execute_result"
    }
   ],
   "source": [
    "lr = LinearRegression()\n",
    "lr.fit(X_train, y_train)"
   ]
  },
  {
   "cell_type": "code",
   "execution_count": 128,
   "metadata": {},
   "outputs": [
    {
     "name": "stdout",
     "output_type": "stream",
     "text": [
      "MAE for LinearRegression : 803.143\n",
      "MAPE for LinearRegression : 45.210\n",
      "RMSE for LinearRegression : 1143.740\n"
     ]
    }
   ],
   "source": [
    "linreg = evaluate_model('LinearRegression', lr, X_test, y_test)"
   ]
  },
  {
   "cell_type": "code",
   "execution_count": 129,
   "metadata": {},
   "outputs": [
    {
     "data": {
      "text/html": [
       "<div>\n",
       "<style scoped>\n",
       "    .dataframe tbody tr th:only-of-type {\n",
       "        vertical-align: middle;\n",
       "    }\n",
       "\n",
       "    .dataframe tbody tr th {\n",
       "        vertical-align: top;\n",
       "    }\n",
       "\n",
       "    .dataframe thead th {\n",
       "        text-align: right;\n",
       "    }\n",
       "</style>\n",
       "<table border=\"1\" class=\"dataframe\">\n",
       "  <thead>\n",
       "    <tr style=\"text-align: right;\">\n",
       "      <th></th>\n",
       "      <th>MAE</th>\n",
       "      <th>MAPE</th>\n",
       "      <th>RMSE</th>\n",
       "    </tr>\n",
       "  </thead>\n",
       "  <tbody>\n",
       "    <tr>\n",
       "      <th>DummyRegressorMedian</th>\n",
       "      <td>2806.394</td>\n",
       "      <td>110.422</td>\n",
       "      <td>4258.833</td>\n",
       "    </tr>\n",
       "    <tr>\n",
       "      <th>DummyRegressorQuantile</th>\n",
       "      <td>3105.765</td>\n",
       "      <td>60.473</td>\n",
       "      <td>4964.068</td>\n",
       "    </tr>\n",
       "    <tr>\n",
       "      <th>LinearRegression</th>\n",
       "      <td>803.143</td>\n",
       "      <td>45.210</td>\n",
       "      <td>1143.740</td>\n",
       "    </tr>\n",
       "  </tbody>\n",
       "</table>\n",
       "</div>"
      ],
      "text/plain": [
       "                             MAE     MAPE      RMSE\n",
       "DummyRegressorMedian    2806.394  110.422  4258.833\n",
       "DummyRegressorQuantile  3105.765   60.473  4964.068\n",
       "LinearRegression         803.143   45.210  1143.740"
      ]
     },
     "execution_count": 129,
     "metadata": {},
     "output_type": "execute_result"
    }
   ],
   "source": [
    "model_comparison = pd.concat([model_comparison, linreg], 0)\n",
    "model_comparison.head()"
   ]
  },
  {
   "cell_type": "markdown",
   "metadata": {},
   "source": [
    "### Penalized regressions\n",
    "#### 1. Ridge Regression"
   ]
  },
  {
   "cell_type": "code",
   "execution_count": 155,
   "metadata": {},
   "outputs": [
    {
     "data": {
      "text/plain": [
       "GridSearchCV(cv=5, error_score=nan,\n",
       "             estimator=Ridge(alpha=1.0, copy_X=True, fit_intercept=True,\n",
       "                             max_iter=None, normalize=False,\n",
       "                             random_state=20202020, solver='auto', tol=0.001),\n",
       "             iid='deprecated', n_jobs=-1,\n",
       "             param_grid={'alpha': array([0.2       , 0.21666667, 0.23333333, 0.25      , 0.26666667,\n",
       "       0.28333333, 0.3       , 0.31666667, 0.33333333, 0.35      ,\n",
       "       0.36666667, 0.38333333, 0.4       , 0.41666667, 0.43333333,\n",
       "       0.45      , 0.46666667, 0.48333333, 0.5       , 0.51666667,\n",
       "       0.53333333, 0.55      , 0.56666667, 0.58333333, 0.6       ])},\n",
       "             pre_dispatch='2*n_jobs', refit=True, return_train_score=False,\n",
       "             scoring='neg_root_mean_squared_error', verbose=0)"
      ]
     },
     "execution_count": 155,
     "metadata": {},
     "output_type": "execute_result"
    }
   ],
   "source": [
    "ridge_params = {'alpha' : np.linspace(0.2, 0.6, 25)}\n",
    "\n",
    "ridge = Ridge(random_state = 20202020)\n",
    "\n",
    "GRID_RIDGE = GridSearchCV(ridge, param_grid = ridge_params, cv = 5, scoring = 'neg_root_mean_squared_error', n_jobs = -1)\n",
    "\n",
    "GRID_RIDGE.fit(X_train, y_train)"
   ]
  },
  {
   "cell_type": "code",
   "execution_count": 156,
   "metadata": {},
   "outputs": [
    {
     "data": {
      "text/plain": [
       "{'alpha': 0.43333333333333335}"
      ]
     },
     "execution_count": 156,
     "metadata": {},
     "output_type": "execute_result"
    }
   ],
   "source": [
    "GRID_RIDGE.best_params_"
   ]
  },
  {
   "cell_type": "code",
   "execution_count": 157,
   "metadata": {},
   "outputs": [
    {
     "name": "stdout",
     "output_type": "stream",
     "text": [
      "MAE for RidgeRegression : 803.074\n",
      "MAPE for RidgeRegression : 45.196\n",
      "RMSE for RidgeRegression : 1143.750\n"
     ]
    }
   ],
   "source": [
    "ridgereg = evaluate_model('RidgeRegression', GRID_RIDGE.best_estimator_, X_test, y_test)"
   ]
  },
  {
   "cell_type": "code",
   "execution_count": 150,
   "metadata": {},
   "outputs": [
    {
     "data": {
      "text/html": [
       "<div>\n",
       "<style scoped>\n",
       "    .dataframe tbody tr th:only-of-type {\n",
       "        vertical-align: middle;\n",
       "    }\n",
       "\n",
       "    .dataframe tbody tr th {\n",
       "        vertical-align: top;\n",
       "    }\n",
       "\n",
       "    .dataframe thead th {\n",
       "        text-align: right;\n",
       "    }\n",
       "</style>\n",
       "<table border=\"1\" class=\"dataframe\">\n",
       "  <thead>\n",
       "    <tr style=\"text-align: right;\">\n",
       "      <th></th>\n",
       "      <th>MAE</th>\n",
       "      <th>MAPE</th>\n",
       "      <th>RMSE</th>\n",
       "    </tr>\n",
       "  </thead>\n",
       "  <tbody>\n",
       "    <tr>\n",
       "      <th>DummyRegressorMedian</th>\n",
       "      <td>2806.394</td>\n",
       "      <td>110.422</td>\n",
       "      <td>4258.833</td>\n",
       "    </tr>\n",
       "    <tr>\n",
       "      <th>DummyRegressorQuantile</th>\n",
       "      <td>3105.765</td>\n",
       "      <td>60.473</td>\n",
       "      <td>4964.068</td>\n",
       "    </tr>\n",
       "    <tr>\n",
       "      <th>LinearRegression</th>\n",
       "      <td>803.143</td>\n",
       "      <td>45.210</td>\n",
       "      <td>1143.740</td>\n",
       "    </tr>\n",
       "    <tr>\n",
       "      <th>RidgeRegression</th>\n",
       "      <td>803.074</td>\n",
       "      <td>45.196</td>\n",
       "      <td>1143.750</td>\n",
       "    </tr>\n",
       "  </tbody>\n",
       "</table>\n",
       "</div>"
      ],
      "text/plain": [
       "                             MAE     MAPE      RMSE\n",
       "DummyRegressorMedian    2806.394  110.422  4258.833\n",
       "DummyRegressorQuantile  3105.765   60.473  4964.068\n",
       "LinearRegression         803.143   45.210  1143.740\n",
       "RidgeRegression          803.074   45.196  1143.750"
      ]
     },
     "execution_count": 150,
     "metadata": {},
     "output_type": "execute_result"
    }
   ],
   "source": [
    "model_comparison = pd.concat([model_comparison, ridgereg], 0)\n",
    "model_comparison.head()"
   ]
  },
  {
   "cell_type": "markdown",
   "metadata": {},
   "source": [
    "#### 2. LASSO Regression"
   ]
  },
  {
   "cell_type": "code",
   "execution_count": 167,
   "metadata": {},
   "outputs": [
    {
     "data": {
      "text/plain": [
       "GridSearchCV(cv=5, error_score=nan,\n",
       "             estimator=Lasso(alpha=1.0, copy_X=True, fit_intercept=True,\n",
       "                             max_iter=1000, normalize=False, positive=False,\n",
       "                             precompute=False, random_state=20202020,\n",
       "                             selection='cyclic', tol=0.0001, warm_start=False),\n",
       "             iid='deprecated', n_jobs=-1,\n",
       "             param_grid={'alpha': array([0.        , 0.00333333, 0.00666667, 0.01      , 0.01333333,\n",
       "       0.01666667, 0.02      , 0.02333333, 0.02666667, 0.03      ])},\n",
       "             pre_dispatch='2*n_jobs', refit=True, return_train_score=False,\n",
       "             scoring='neg_root_mean_squared_error', verbose=0)"
      ]
     },
     "execution_count": 167,
     "metadata": {},
     "output_type": "execute_result"
    }
   ],
   "source": [
    "LASSO_params = {'alpha' : np.linspace(0, 0.03, 10)}\n",
    "\n",
    "lasso = Lasso(random_state = 20202020)\n",
    "\n",
    "GRID_LASSO = GridSearchCV(lasso, param_grid = LASSO_params, cv = 5, scoring = 'neg_root_mean_squared_error', n_jobs = -1)\n",
    "\n",
    "GRID_LASSO.fit(X_train, y_train)"
   ]
  },
  {
   "cell_type": "code",
   "execution_count": 168,
   "metadata": {},
   "outputs": [
    {
     "data": {
      "text/plain": [
       "{'alpha': 0.006666666666666666}"
      ]
     },
     "execution_count": 168,
     "metadata": {},
     "output_type": "execute_result"
    }
   ],
   "source": [
    "GRID_LASSO.best_params_"
   ]
  },
  {
   "cell_type": "code",
   "execution_count": 169,
   "metadata": {},
   "outputs": [
    {
     "name": "stdout",
     "output_type": "stream",
     "text": [
      "MAE for LassoRegression : 803.126\n",
      "MAPE for LassoRegression : 45.207\n",
      "RMSE for LassoRegression : 1143.741\n"
     ]
    }
   ],
   "source": [
    "lassoreg = evaluate_model('LassoRegression', GRID_LASSO.best_estimator_, X_test, y_test)"
   ]
  },
  {
   "cell_type": "code",
   "execution_count": 170,
   "metadata": {},
   "outputs": [
    {
     "data": {
      "text/html": [
       "<div>\n",
       "<style scoped>\n",
       "    .dataframe tbody tr th:only-of-type {\n",
       "        vertical-align: middle;\n",
       "    }\n",
       "\n",
       "    .dataframe tbody tr th {\n",
       "        vertical-align: top;\n",
       "    }\n",
       "\n",
       "    .dataframe thead th {\n",
       "        text-align: right;\n",
       "    }\n",
       "</style>\n",
       "<table border=\"1\" class=\"dataframe\">\n",
       "  <thead>\n",
       "    <tr style=\"text-align: right;\">\n",
       "      <th></th>\n",
       "      <th>MAE</th>\n",
       "      <th>MAPE</th>\n",
       "      <th>RMSE</th>\n",
       "    </tr>\n",
       "  </thead>\n",
       "  <tbody>\n",
       "    <tr>\n",
       "      <th>DummyRegressorMedian</th>\n",
       "      <td>2806.394</td>\n",
       "      <td>110.422</td>\n",
       "      <td>4258.833</td>\n",
       "    </tr>\n",
       "    <tr>\n",
       "      <th>DummyRegressorQuantile</th>\n",
       "      <td>3105.765</td>\n",
       "      <td>60.473</td>\n",
       "      <td>4964.068</td>\n",
       "    </tr>\n",
       "    <tr>\n",
       "      <th>LinearRegression</th>\n",
       "      <td>803.143</td>\n",
       "      <td>45.210</td>\n",
       "      <td>1143.740</td>\n",
       "    </tr>\n",
       "    <tr>\n",
       "      <th>RidgeRegression</th>\n",
       "      <td>803.074</td>\n",
       "      <td>45.196</td>\n",
       "      <td>1143.750</td>\n",
       "    </tr>\n",
       "    <tr>\n",
       "      <th>LassoRegression</th>\n",
       "      <td>803.126</td>\n",
       "      <td>45.207</td>\n",
       "      <td>1143.741</td>\n",
       "    </tr>\n",
       "  </tbody>\n",
       "</table>\n",
       "</div>"
      ],
      "text/plain": [
       "                             MAE     MAPE      RMSE\n",
       "DummyRegressorMedian    2806.394  110.422  4258.833\n",
       "DummyRegressorQuantile  3105.765   60.473  4964.068\n",
       "LinearRegression         803.143   45.210  1143.740\n",
       "RidgeRegression          803.074   45.196  1143.750\n",
       "LassoRegression          803.126   45.207  1143.741"
      ]
     },
     "execution_count": 170,
     "metadata": {},
     "output_type": "execute_result"
    }
   ],
   "source": [
    "model_comparison = pd.concat([model_comparison, lassoreg], 0)\n",
    "model_comparison.head()"
   ]
  },
  {
   "cell_type": "markdown",
   "metadata": {},
   "source": [
    "#### 3. Elastic Net Regression"
   ]
  },
  {
   "cell_type": "code",
   "execution_count": null,
   "metadata": {},
   "outputs": [],
   "source": [
    "ElasticNet_params = {'alpha' : np.linspace(0, 1, 11),\n",
    "                     'l1_ratio' : np.linspace(0, 1, 11)}\n",
    "\n",
    "elasticnet = ElasticNet(random_state = 20202020)\n",
    "\n",
    "GRID_EN = GridSearchCV(elasticnet, param_grid = ElasticNet_params, cv = 5, scoring = 'neg_root_mean_squared_error', n_jobs = -1)\n",
    "\n",
    "GRID_EN.fit(X_train, y_train)"
   ]
  },
  {
   "cell_type": "code",
   "execution_count": null,
   "metadata": {},
   "outputs": [],
   "source": [
    "GRID_EN.best_params_"
   ]
  },
  {
   "cell_type": "code",
   "execution_count": null,
   "metadata": {},
   "outputs": [],
   "source": [
    "elasticnetreg = evaluate_model('ElasticNetRegression', GRID_EN.best_estimator_, X_test, y_test)"
   ]
  }
 ],
 "metadata": {
  "kernelspec": {
   "display_name": "Python 3",
   "language": "python",
   "name": "python3"
  },
  "language_info": {
   "codemirror_mode": {
    "name": "ipython",
    "version": 3
   },
   "file_extension": ".py",
   "mimetype": "text/x-python",
   "name": "python",
   "nbconvert_exporter": "python",
   "pygments_lexer": "ipython3",
   "version": "3.7.3"
  }
 },
 "nbformat": 4,
 "nbformat_minor": 4
}
