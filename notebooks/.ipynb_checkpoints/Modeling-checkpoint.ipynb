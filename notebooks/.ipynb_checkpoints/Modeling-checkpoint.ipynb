{
 "cells": [
  {
   "cell_type": "code",
   "execution_count": 26,
   "metadata": {},
   "outputs": [],
   "source": [
    "import pandas as pd\n",
    "import numpy as np\n",
    "\n",
    "import matplotlib.pyplot as plt\n",
    "from mpl_toolkits.mplot3d import Axes3D\n",
    "import seaborn as sns\n",
    "\n",
    "from sklearn.model_selection import train_test_split, GridSearchCV\n",
    "from sklearn.metrics import mean_absolute_error, mean_squared_error\n",
    "from sklearn.preprocessing import StandardScaler\n",
    "\n",
    "from sklearn.dummy import DummyRegressor\n",
    "from sklearn.linear_model import LinearRegression, Lasso, Ridge, ElasticNet\n",
    "from sklearn.neighbors import KNeighborsRegressor, RadiusNeighborsRegressor\n",
    "from sklearn.svm import SVR\n",
    "from sklearn.tree import DecisionTreeRegressor, plot_tree\n",
    "from sklearn.ensemble import AdaBoostRegressor, GradientBoostingRegressor, RandomForestRegressor\n",
    "\n",
    "import xgboost as xgb\n",
    "import lightgbm as lgb\n",
    "from catboost import CatBoostRegressor\n",
    "\n",
    "import warnings\n",
    "warnings.filterwarnings('ignore')"
   ]
  },
  {
   "cell_type": "code",
   "execution_count": 2,
   "metadata": {},
   "outputs": [],
   "source": [
    "def mean_absolute_percentage_error(actual, pred): \n",
    "    return np.mean(np.abs((actual - pred) / actual)) * 100\n",
    "\n",
    "def evaluate_model(model_name, model, X, y):\n",
    "    \n",
    "    predictions = model.predict(X)\n",
    "\n",
    "    MAE = mean_absolute_error(y, predictions)\n",
    "    MAPE = mean_absolute_percentage_error(y, predictions)\n",
    "    RMSE = mean_squared_error(y, predictions, squared = False)\n",
    "\n",
    "    print('MAE for', model_name, ': %1.3f' % MAE)\n",
    "    print('MAPE for', model_name, ': %1.3f' % MAPE)\n",
    "    print('RMSE for', model_name, ': %1.3f' % RMSE)\n",
    "\n",
    "    metrics_table = pd.DataFrame({'MAE' : [round(MAE, 3)], 'MAPE' : [round(MAPE, 3)], 'RMSE' : [round(RMSE, 3)]}, index = [model_name])\n",
    "    \n",
    "    return metrics_table"
   ]
  },
  {
   "cell_type": "markdown",
   "metadata": {},
   "source": [
    "### Read in the data"
   ]
  },
  {
   "cell_type": "code",
   "execution_count": 3,
   "metadata": {},
   "outputs": [
    {
     "data": {
      "text/html": [
       "<div>\n",
       "<style scoped>\n",
       "    .dataframe tbody tr th:only-of-type {\n",
       "        vertical-align: middle;\n",
       "    }\n",
       "\n",
       "    .dataframe tbody tr th {\n",
       "        vertical-align: top;\n",
       "    }\n",
       "\n",
       "    .dataframe thead th {\n",
       "        text-align: right;\n",
       "    }\n",
       "</style>\n",
       "<table border=\"1\" class=\"dataframe\">\n",
       "  <thead>\n",
       "    <tr style=\"text-align: right;\">\n",
       "      <th></th>\n",
       "      <th>carat</th>\n",
       "      <th>cut</th>\n",
       "      <th>color</th>\n",
       "      <th>clarity</th>\n",
       "      <th>depth</th>\n",
       "      <th>table</th>\n",
       "      <th>price</th>\n",
       "    </tr>\n",
       "  </thead>\n",
       "  <tbody>\n",
       "    <tr>\n",
       "      <th>0</th>\n",
       "      <td>0.23</td>\n",
       "      <td>Ideal</td>\n",
       "      <td>E</td>\n",
       "      <td>SI2</td>\n",
       "      <td>61.5</td>\n",
       "      <td>55.0</td>\n",
       "      <td>326</td>\n",
       "    </tr>\n",
       "    <tr>\n",
       "      <th>1</th>\n",
       "      <td>0.21</td>\n",
       "      <td>Premium</td>\n",
       "      <td>E</td>\n",
       "      <td>SI1</td>\n",
       "      <td>59.8</td>\n",
       "      <td>61.0</td>\n",
       "      <td>326</td>\n",
       "    </tr>\n",
       "    <tr>\n",
       "      <th>2</th>\n",
       "      <td>0.23</td>\n",
       "      <td>Good</td>\n",
       "      <td>E</td>\n",
       "      <td>VS1</td>\n",
       "      <td>56.9</td>\n",
       "      <td>65.0</td>\n",
       "      <td>327</td>\n",
       "    </tr>\n",
       "    <tr>\n",
       "      <th>3</th>\n",
       "      <td>0.29</td>\n",
       "      <td>Premium</td>\n",
       "      <td>I</td>\n",
       "      <td>VS2</td>\n",
       "      <td>62.4</td>\n",
       "      <td>58.0</td>\n",
       "      <td>334</td>\n",
       "    </tr>\n",
       "    <tr>\n",
       "      <th>4</th>\n",
       "      <td>0.31</td>\n",
       "      <td>Good</td>\n",
       "      <td>J</td>\n",
       "      <td>SI2</td>\n",
       "      <td>63.3</td>\n",
       "      <td>58.0</td>\n",
       "      <td>335</td>\n",
       "    </tr>\n",
       "  </tbody>\n",
       "</table>\n",
       "</div>"
      ],
      "text/plain": [
       "   carat      cut color clarity  depth  table  price\n",
       "0   0.23    Ideal     E     SI2   61.5   55.0    326\n",
       "1   0.21  Premium     E     SI1   59.8   61.0    326\n",
       "2   0.23     Good     E     VS1   56.9   65.0    327\n",
       "3   0.29  Premium     I     VS2   62.4   58.0    334\n",
       "4   0.31     Good     J     SI2   63.3   58.0    335"
      ]
     },
     "execution_count": 3,
     "metadata": {},
     "output_type": "execute_result"
    }
   ],
   "source": [
    "data = pd.read_csv('../data/diamonds_cleaned.csv')\n",
    "data.head()"
   ]
  },
  {
   "cell_type": "markdown",
   "metadata": {},
   "source": [
    "### Dealing with input types\n",
    "\n",
    "CatBoost can take categorical features as is, so I won't one-hot encode the data yet, instead, for most models I will separately one-hot encode the train and test sets, for CatBoost I'll just give the Regressor the features as string"
   ]
  },
  {
   "cell_type": "code",
   "execution_count": 4,
   "metadata": {},
   "outputs": [
    {
     "name": "stdout",
     "output_type": "stream",
     "text": [
      "Shape of original data: (53770, 7)\n",
      "Shape of y: (53770,)\n",
      "Shape of X: (53770, 6)\n"
     ]
    }
   ],
   "source": [
    "y = data['price'].copy()\n",
    "X = data.drop('price', 1).copy()\n",
    "\n",
    "print('Shape of original data:', data.shape)\n",
    "print('Shape of y:', y.shape)\n",
    "print('Shape of X:', X.shape)"
   ]
  },
  {
   "cell_type": "markdown",
   "metadata": {},
   "source": [
    "### Train - Test split"
   ]
  },
  {
   "cell_type": "code",
   "execution_count": 5,
   "metadata": {},
   "outputs": [
    {
     "name": "stdout",
     "output_type": "stream",
     "text": [
      "Shape of X train: (40327, 6)\n",
      "Shape of X test: (13443, 6)\n",
      "Shape of y train: (40327,)\n",
      "Shape of y test: (13443,)\n"
     ]
    }
   ],
   "source": [
    "X_train, X_test, y_train, y_test = train_test_split(X, y, train_size = 0.75, random_state = 20202020)\n",
    "\n",
    "print('Shape of X train:', X_train.shape)\n",
    "print('Shape of X test:', X_test.shape)\n",
    "print('Shape of y train:', y_train.shape)\n",
    "print('Shape of y test:', y_test.shape)"
   ]
  },
  {
   "cell_type": "markdown",
   "metadata": {},
   "source": [
    "### One-hot encode categoricals"
   ]
  },
  {
   "cell_type": "code",
   "execution_count": 6,
   "metadata": {},
   "outputs": [],
   "source": [
    "# Need original data for CatBoost\n",
    "\n",
    "X_train_original = X_train.copy()\n",
    "X_test_original = X_test.copy()\n",
    "\n",
    "# One hot encode for other models\n",
    "\n",
    "X_train = pd.get_dummies(X_train, columns = ['cut', 'color', 'clarity'], prefix_sep = ' = ')\n",
    "X_test = pd.get_dummies(X_test, columns = ['cut', 'color', 'clarity'], prefix_sep = ' = ')"
   ]
  },
  {
   "cell_type": "code",
   "execution_count": 7,
   "metadata": {},
   "outputs": [
    {
     "name": "stdout",
     "output_type": "stream",
     "text": [
      "Original amount of Xs: 6\n",
      "Column # with one-hot encoding: 23\n"
     ]
    }
   ],
   "source": [
    "print('Original amount of Xs:', X_train_original.shape[1])\n",
    "print('Column # with one-hot encoding:', X_train.shape[1])"
   ]
  },
  {
   "cell_type": "markdown",
   "metadata": {},
   "source": [
    "### Scale X train and transform X test"
   ]
  },
  {
   "cell_type": "markdown",
   "metadata": {},
   "source": [
    "For distance-based ML models data should be scaled for faster convergence, therefore I will use the StandardScaler() function to transform my features into variables with E(x) = 0 and Std(x) = 1. This will also speed up linreg for example, but won't have an effect on performance"
   ]
  },
  {
   "cell_type": "code",
   "execution_count": 8,
   "metadata": {},
   "outputs": [],
   "source": [
    "SS = StandardScaler()\n",
    "\n",
    "X_train_scaled = SS.fit_transform(X_train)\n",
    "X_test_scaled = SS.transform(X_test)\n",
    "\n",
    "X_train_scaled = pd.DataFrame(X_train_scaled, columns = X_train.columns)\n",
    "X_test_scaled = pd.DataFrame(X_test_scaled, columns = X_test.columns)"
   ]
  },
  {
   "cell_type": "markdown",
   "metadata": {},
   "source": [
    "# Applying the different ML models"
   ]
  },
  {
   "cell_type": "markdown",
   "metadata": {},
   "source": [
    "### 1. DummyRegressor to compare results against"
   ]
  },
  {
   "cell_type": "markdown",
   "metadata": {},
   "source": [
    "Predicting the median"
   ]
  },
  {
   "cell_type": "code",
   "execution_count": 46,
   "metadata": {},
   "outputs": [
    {
     "data": {
      "text/plain": [
       "DummyRegressor(strategy='median')"
      ]
     },
     "execution_count": 46,
     "metadata": {},
     "output_type": "execute_result"
    }
   ],
   "source": [
    "dummy = DummyRegressor(strategy = 'median')\n",
    "dummy.fit(X_train_scaled, y_train)"
   ]
  },
  {
   "cell_type": "code",
   "execution_count": 47,
   "metadata": {},
   "outputs": [
    {
     "name": "stdout",
     "output_type": "stream",
     "text": [
      "MAE for DummyRegressorMedian : 2806.394\n",
      "MAPE for DummyRegressorMedian : 110.422\n",
      "RMSE for DummyRegressorMedian : 4258.833\n"
     ]
    }
   ],
   "source": [
    "dummy_median = evaluate_model('DummyRegressorMedian', dummy, X_test_scaled, y_test)"
   ]
  },
  {
   "cell_type": "markdown",
   "metadata": {},
   "source": [
    "Predicting the 25% percentile"
   ]
  },
  {
   "cell_type": "code",
   "execution_count": 48,
   "metadata": {},
   "outputs": [
    {
     "data": {
      "text/plain": [
       "DummyRegressor(quantile=0.25, strategy='quantile')"
      ]
     },
     "execution_count": 48,
     "metadata": {},
     "output_type": "execute_result"
    }
   ],
   "source": [
    "dummy = DummyRegressor(strategy = 'quantile', quantile = 0.25)\n",
    "dummy.fit(X_train_scaled, y_train)"
   ]
  },
  {
   "cell_type": "code",
   "execution_count": 49,
   "metadata": {},
   "outputs": [
    {
     "name": "stdout",
     "output_type": "stream",
     "text": [
      "MAE for DummyRegressorQuantile : 3105.765\n",
      "MAPE for DummyRegressorQuantile : 60.473\n",
      "RMSE for DummyRegressorQuantile : 4964.068\n"
     ]
    }
   ],
   "source": [
    "dummy_quantile = evaluate_model('DummyRegressorQuantile', dummy, X_test_scaled, y_test)"
   ]
  },
  {
   "cell_type": "markdown",
   "metadata": {},
   "source": [
    "Concat results"
   ]
  },
  {
   "cell_type": "code",
   "execution_count": 50,
   "metadata": {},
   "outputs": [
    {
     "data": {
      "text/html": [
       "<div>\n",
       "<style scoped>\n",
       "    .dataframe tbody tr th:only-of-type {\n",
       "        vertical-align: middle;\n",
       "    }\n",
       "\n",
       "    .dataframe tbody tr th {\n",
       "        vertical-align: top;\n",
       "    }\n",
       "\n",
       "    .dataframe thead th {\n",
       "        text-align: right;\n",
       "    }\n",
       "</style>\n",
       "<table border=\"1\" class=\"dataframe\">\n",
       "  <thead>\n",
       "    <tr style=\"text-align: right;\">\n",
       "      <th></th>\n",
       "      <th>MAE</th>\n",
       "      <th>MAPE</th>\n",
       "      <th>RMSE</th>\n",
       "    </tr>\n",
       "  </thead>\n",
       "  <tbody>\n",
       "    <tr>\n",
       "      <th>DummyRegressorMedian</th>\n",
       "      <td>2806.394</td>\n",
       "      <td>110.422</td>\n",
       "      <td>4258.833</td>\n",
       "    </tr>\n",
       "    <tr>\n",
       "      <th>DummyRegressorQuantile</th>\n",
       "      <td>3105.765</td>\n",
       "      <td>60.473</td>\n",
       "      <td>4964.068</td>\n",
       "    </tr>\n",
       "  </tbody>\n",
       "</table>\n",
       "</div>"
      ],
      "text/plain": [
       "                             MAE     MAPE      RMSE\n",
       "DummyRegressorMedian    2806.394  110.422  4258.833\n",
       "DummyRegressorQuantile  3105.765   60.473  4964.068"
      ]
     },
     "execution_count": 50,
     "metadata": {},
     "output_type": "execute_result"
    }
   ],
   "source": [
    "model_comparison = pd.concat([dummy_median, dummy_quantile], 0)\n",
    "model_comparison.head()"
   ]
  },
  {
   "cell_type": "markdown",
   "metadata": {},
   "source": [
    "### 2. Simple linear regression"
   ]
  },
  {
   "cell_type": "code",
   "execution_count": 51,
   "metadata": {},
   "outputs": [
    {
     "data": {
      "text/plain": [
       "LinearRegression()"
      ]
     },
     "execution_count": 51,
     "metadata": {},
     "output_type": "execute_result"
    }
   ],
   "source": [
    "lr = LinearRegression()\n",
    "lr.fit(X_train_scaled, y_train)"
   ]
  },
  {
   "cell_type": "code",
   "execution_count": 52,
   "metadata": {},
   "outputs": [
    {
     "name": "stdout",
     "output_type": "stream",
     "text": [
      "MAE for LinearRegression : 802.058\n",
      "MAPE for LinearRegression : 45.038\n",
      "RMSE for LinearRegression : 1143.712\n"
     ]
    }
   ],
   "source": [
    "linreg = evaluate_model('LinearRegression', lr, X_test_scaled, y_test)"
   ]
  },
  {
   "cell_type": "code",
   "execution_count": 53,
   "metadata": {},
   "outputs": [
    {
     "data": {
      "text/html": [
       "<div>\n",
       "<style scoped>\n",
       "    .dataframe tbody tr th:only-of-type {\n",
       "        vertical-align: middle;\n",
       "    }\n",
       "\n",
       "    .dataframe tbody tr th {\n",
       "        vertical-align: top;\n",
       "    }\n",
       "\n",
       "    .dataframe thead th {\n",
       "        text-align: right;\n",
       "    }\n",
       "</style>\n",
       "<table border=\"1\" class=\"dataframe\">\n",
       "  <thead>\n",
       "    <tr style=\"text-align: right;\">\n",
       "      <th></th>\n",
       "      <th>MAE</th>\n",
       "      <th>MAPE</th>\n",
       "      <th>RMSE</th>\n",
       "    </tr>\n",
       "  </thead>\n",
       "  <tbody>\n",
       "    <tr>\n",
       "      <th>DummyRegressorMedian</th>\n",
       "      <td>2806.394</td>\n",
       "      <td>110.422</td>\n",
       "      <td>4258.833</td>\n",
       "    </tr>\n",
       "    <tr>\n",
       "      <th>DummyRegressorQuantile</th>\n",
       "      <td>3105.765</td>\n",
       "      <td>60.473</td>\n",
       "      <td>4964.068</td>\n",
       "    </tr>\n",
       "    <tr>\n",
       "      <th>LinearRegression</th>\n",
       "      <td>802.058</td>\n",
       "      <td>45.038</td>\n",
       "      <td>1143.712</td>\n",
       "    </tr>\n",
       "  </tbody>\n",
       "</table>\n",
       "</div>"
      ],
      "text/plain": [
       "                             MAE     MAPE      RMSE\n",
       "DummyRegressorMedian    2806.394  110.422  4258.833\n",
       "DummyRegressorQuantile  3105.765   60.473  4964.068\n",
       "LinearRegression         802.058   45.038  1143.712"
      ]
     },
     "execution_count": 53,
     "metadata": {},
     "output_type": "execute_result"
    }
   ],
   "source": [
    "model_comparison = pd.concat([model_comparison, linreg], 0)\n",
    "model_comparison.head()"
   ]
  },
  {
   "cell_type": "markdown",
   "metadata": {},
   "source": [
    "### 3. Regularized / penalized regressions\n",
    "#### 1. Ridge Regression"
   ]
  },
  {
   "cell_type": "code",
   "execution_count": 63,
   "metadata": {},
   "outputs": [
    {
     "data": {
      "text/plain": [
       "GridSearchCV(cv=5, estimator=Ridge(random_state=20202020), n_jobs=-1,\n",
       "             param_grid={'alpha': array([1.7   , 1.7125, 1.725 , 1.7375, 1.75  , 1.7625, 1.775 , 1.7875,\n",
       "       1.8   , 1.8125, 1.825 , 1.8375, 1.85  , 1.8625, 1.875 , 1.8875,\n",
       "       1.9   , 1.9125, 1.925 , 1.9375, 1.95  , 1.9625, 1.975 , 1.9875,\n",
       "       2.    ])},\n",
       "             scoring='neg_root_mean_squared_error')"
      ]
     },
     "execution_count": 63,
     "metadata": {},
     "output_type": "execute_result"
    }
   ],
   "source": [
    "ridge_params = {'alpha' : np.linspace(1.7, 2, 25)}\n",
    "\n",
    "ridge = Ridge(random_state = 20202020)\n",
    "\n",
    "GRID_RIDGE = GridSearchCV(ridge, param_grid = ridge_params, cv = 5, scoring = 'neg_root_mean_squared_error', n_jobs = -1)\n",
    "\n",
    "GRID_RIDGE.fit(X_train_scaled, y_train)"
   ]
  },
  {
   "cell_type": "code",
   "execution_count": 64,
   "metadata": {},
   "outputs": [
    {
     "data": {
      "text/plain": [
       "{'alpha': 1.875}"
      ]
     },
     "execution_count": 64,
     "metadata": {},
     "output_type": "execute_result"
    }
   ],
   "source": [
    "GRID_RIDGE.best_params_"
   ]
  },
  {
   "cell_type": "code",
   "execution_count": 65,
   "metadata": {},
   "outputs": [
    {
     "name": "stdout",
     "output_type": "stream",
     "text": [
      "MAE for RidgeRegression : 803.104\n",
      "MAPE for RidgeRegression : 45.201\n",
      "RMSE for RidgeRegression : 1143.745\n"
     ]
    }
   ],
   "source": [
    "ridgereg = evaluate_model('RidgeRegression', GRID_RIDGE.best_estimator_, X_test_scaled, y_test)"
   ]
  },
  {
   "cell_type": "code",
   "execution_count": 66,
   "metadata": {},
   "outputs": [
    {
     "data": {
      "text/html": [
       "<div>\n",
       "<style scoped>\n",
       "    .dataframe tbody tr th:only-of-type {\n",
       "        vertical-align: middle;\n",
       "    }\n",
       "\n",
       "    .dataframe tbody tr th {\n",
       "        vertical-align: top;\n",
       "    }\n",
       "\n",
       "    .dataframe thead th {\n",
       "        text-align: right;\n",
       "    }\n",
       "</style>\n",
       "<table border=\"1\" class=\"dataframe\">\n",
       "  <thead>\n",
       "    <tr style=\"text-align: right;\">\n",
       "      <th></th>\n",
       "      <th>MAE</th>\n",
       "      <th>MAPE</th>\n",
       "      <th>RMSE</th>\n",
       "    </tr>\n",
       "  </thead>\n",
       "  <tbody>\n",
       "    <tr>\n",
       "      <th>DummyRegressorMedian</th>\n",
       "      <td>2806.394</td>\n",
       "      <td>110.422</td>\n",
       "      <td>4258.833</td>\n",
       "    </tr>\n",
       "    <tr>\n",
       "      <th>DummyRegressorQuantile</th>\n",
       "      <td>3105.765</td>\n",
       "      <td>60.473</td>\n",
       "      <td>4964.068</td>\n",
       "    </tr>\n",
       "    <tr>\n",
       "      <th>LinearRegression</th>\n",
       "      <td>802.058</td>\n",
       "      <td>45.038</td>\n",
       "      <td>1143.712</td>\n",
       "    </tr>\n",
       "    <tr>\n",
       "      <th>RidgeRegression</th>\n",
       "      <td>803.104</td>\n",
       "      <td>45.201</td>\n",
       "      <td>1143.745</td>\n",
       "    </tr>\n",
       "  </tbody>\n",
       "</table>\n",
       "</div>"
      ],
      "text/plain": [
       "                             MAE     MAPE      RMSE\n",
       "DummyRegressorMedian    2806.394  110.422  4258.833\n",
       "DummyRegressorQuantile  3105.765   60.473  4964.068\n",
       "LinearRegression         802.058   45.038  1143.712\n",
       "RidgeRegression          803.104   45.201  1143.745"
      ]
     },
     "execution_count": 66,
     "metadata": {},
     "output_type": "execute_result"
    }
   ],
   "source": [
    "model_comparison = pd.concat([model_comparison, ridgereg], 0)\n",
    "model_comparison.head()"
   ]
  },
  {
   "cell_type": "markdown",
   "metadata": {},
   "source": [
    "#### 2. LASSO Regression"
   ]
  },
  {
   "cell_type": "code",
   "execution_count": 80,
   "metadata": {},
   "outputs": [
    {
     "data": {
      "text/plain": [
       "GridSearchCV(cv=5, estimator=Lasso(random_state=20202020), n_jobs=-1,\n",
       "             param_grid={'alpha': array([0.07      , 0.07142857, 0.07285714, 0.07428571, 0.07571429,\n",
       "       0.07714286, 0.07857143, 0.08      , 0.08142857, 0.08285714,\n",
       "       0.08428571, 0.08571429, 0.08714286, 0.08857143, 0.09      ])},\n",
       "             scoring='neg_root_mean_squared_error')"
      ]
     },
     "execution_count": 80,
     "metadata": {},
     "output_type": "execute_result"
    }
   ],
   "source": [
    "LASSO_params = {'alpha' : np.linspace(0.07, 0.09, 15)}\n",
    "\n",
    "lasso = Lasso(random_state = 20202020)\n",
    "\n",
    "GRID_LASSO = GridSearchCV(lasso, param_grid = LASSO_params, cv = 5, scoring = 'neg_root_mean_squared_error', n_jobs = -1)\n",
    "\n",
    "GRID_LASSO.fit(X_train_scaled, y_train)"
   ]
  },
  {
   "cell_type": "code",
   "execution_count": 81,
   "metadata": {},
   "outputs": [
    {
     "data": {
      "text/plain": [
       "{'alpha': 0.08571428571428572}"
      ]
     },
     "execution_count": 81,
     "metadata": {},
     "output_type": "execute_result"
    }
   ],
   "source": [
    "GRID_LASSO.best_params_"
   ]
  },
  {
   "cell_type": "code",
   "execution_count": 82,
   "metadata": {},
   "outputs": [
    {
     "name": "stdout",
     "output_type": "stream",
     "text": [
      "MAE for LassoRegression : 803.087\n",
      "MAPE for LassoRegression : 45.197\n",
      "RMSE for LassoRegression : 1143.747\n"
     ]
    }
   ],
   "source": [
    "lassoreg = evaluate_model('LassoRegression', GRID_LASSO.best_estimator_, X_test_scaled, y_test)"
   ]
  },
  {
   "cell_type": "code",
   "execution_count": 83,
   "metadata": {},
   "outputs": [
    {
     "data": {
      "text/html": [
       "<div>\n",
       "<style scoped>\n",
       "    .dataframe tbody tr th:only-of-type {\n",
       "        vertical-align: middle;\n",
       "    }\n",
       "\n",
       "    .dataframe tbody tr th {\n",
       "        vertical-align: top;\n",
       "    }\n",
       "\n",
       "    .dataframe thead th {\n",
       "        text-align: right;\n",
       "    }\n",
       "</style>\n",
       "<table border=\"1\" class=\"dataframe\">\n",
       "  <thead>\n",
       "    <tr style=\"text-align: right;\">\n",
       "      <th></th>\n",
       "      <th>MAE</th>\n",
       "      <th>MAPE</th>\n",
       "      <th>RMSE</th>\n",
       "    </tr>\n",
       "  </thead>\n",
       "  <tbody>\n",
       "    <tr>\n",
       "      <th>DummyRegressorMedian</th>\n",
       "      <td>2806.394</td>\n",
       "      <td>110.422</td>\n",
       "      <td>4258.833</td>\n",
       "    </tr>\n",
       "    <tr>\n",
       "      <th>DummyRegressorQuantile</th>\n",
       "      <td>3105.765</td>\n",
       "      <td>60.473</td>\n",
       "      <td>4964.068</td>\n",
       "    </tr>\n",
       "    <tr>\n",
       "      <th>LinearRegression</th>\n",
       "      <td>802.058</td>\n",
       "      <td>45.038</td>\n",
       "      <td>1143.712</td>\n",
       "    </tr>\n",
       "    <tr>\n",
       "      <th>RidgeRegression</th>\n",
       "      <td>803.104</td>\n",
       "      <td>45.201</td>\n",
       "      <td>1143.745</td>\n",
       "    </tr>\n",
       "    <tr>\n",
       "      <th>LassoRegression</th>\n",
       "      <td>803.087</td>\n",
       "      <td>45.197</td>\n",
       "      <td>1143.747</td>\n",
       "    </tr>\n",
       "  </tbody>\n",
       "</table>\n",
       "</div>"
      ],
      "text/plain": [
       "                             MAE     MAPE      RMSE\n",
       "DummyRegressorMedian    2806.394  110.422  4258.833\n",
       "DummyRegressorQuantile  3105.765   60.473  4964.068\n",
       "LinearRegression         802.058   45.038  1143.712\n",
       "RidgeRegression          803.104   45.201  1143.745\n",
       "LassoRegression          803.087   45.197  1143.747"
      ]
     },
     "execution_count": 83,
     "metadata": {},
     "output_type": "execute_result"
    }
   ],
   "source": [
    "model_comparison = pd.concat([model_comparison, lassoreg], 0)\n",
    "model_comparison.head()"
   ]
  },
  {
   "cell_type": "markdown",
   "metadata": {},
   "source": [
    "#### 3. Elastic Net Regression"
   ]
  },
  {
   "cell_type": "code",
   "execution_count": 88,
   "metadata": {},
   "outputs": [
    {
     "data": {
      "text/plain": [
       "GridSearchCV(cv=5, estimator=ElasticNet(random_state=20202020), n_jobs=-1,\n",
       "             param_grid={'alpha': array([0.        , 0.00833333, 0.01666667, 0.025     , 0.03333333,\n",
       "       0.04166667, 0.05      , 0.05833333, 0.06666667, 0.075     ,\n",
       "       0.08333333, 0.09166667, 0.1       , 0.10833333, 0.11666667,\n",
       "       0.125     , 0.13333333, 0.14166667, 0.15      , 0.15833333,\n",
       "       0.16666667, 0.175     , 0.18333333, 0.19166667, 0.2       ]),\n",
       "                         'l1_ratio': array([0.8       , 0.80833333, 0.81666667, 0.825     , 0.83333333,\n",
       "       0.84166667, 0.85      , 0.85833333, 0.86666667, 0.875     ,\n",
       "       0.88333333, 0.89166667, 0.9       , 0.90833333, 0.91666667,\n",
       "       0.925     , 0.93333333, 0.94166667, 0.95      , 0.95833333,\n",
       "       0.96666667, 0.975     , 0.98333333, 0.99166667, 1.        ])},\n",
       "             scoring='neg_root_mean_squared_error')"
      ]
     },
     "execution_count": 88,
     "metadata": {},
     "output_type": "execute_result"
    }
   ],
   "source": [
    "ElasticNet_params = {'alpha' : np.linspace(0, 0.2, 25),\n",
    "                     'l1_ratio' : np.linspace(0.8, 1, 25)} \n",
    "\n",
    "elasticnet = ElasticNet(random_state = 20202020)\n",
    "\n",
    "GRID_EN = GridSearchCV(elasticnet, param_grid = ElasticNet_params, cv = 5, scoring = 'neg_root_mean_squared_error', n_jobs = -1)\n",
    "\n",
    "GRID_EN.fit(X_train_scaled, y_train)"
   ]
  },
  {
   "cell_type": "code",
   "execution_count": 89,
   "metadata": {},
   "outputs": [
    {
     "data": {
      "text/plain": [
       "{'alpha': 0.08333333333333333, 'l1_ratio': 1.0}"
      ]
     },
     "execution_count": 89,
     "metadata": {},
     "output_type": "execute_result"
    }
   ],
   "source": [
    "GRID_EN.best_params_"
   ]
  },
  {
   "cell_type": "code",
   "execution_count": 90,
   "metadata": {},
   "outputs": [
    {
     "name": "stdout",
     "output_type": "stream",
     "text": [
      "MAE for ElasticNetRegression : 803.089\n",
      "MAPE for ElasticNetRegression : 45.198\n",
      "RMSE for ElasticNetRegression : 1143.747\n"
     ]
    }
   ],
   "source": [
    "elasticnetreg = evaluate_model('ElasticNetRegression', GRID_EN.best_estimator_, X_test_scaled, y_test)"
   ]
  },
  {
   "cell_type": "code",
   "execution_count": 91,
   "metadata": {},
   "outputs": [
    {
     "data": {
      "text/html": [
       "<div>\n",
       "<style scoped>\n",
       "    .dataframe tbody tr th:only-of-type {\n",
       "        vertical-align: middle;\n",
       "    }\n",
       "\n",
       "    .dataframe tbody tr th {\n",
       "        vertical-align: top;\n",
       "    }\n",
       "\n",
       "    .dataframe thead th {\n",
       "        text-align: right;\n",
       "    }\n",
       "</style>\n",
       "<table border=\"1\" class=\"dataframe\">\n",
       "  <thead>\n",
       "    <tr style=\"text-align: right;\">\n",
       "      <th></th>\n",
       "      <th>MAE</th>\n",
       "      <th>MAPE</th>\n",
       "      <th>RMSE</th>\n",
       "    </tr>\n",
       "  </thead>\n",
       "  <tbody>\n",
       "    <tr>\n",
       "      <th>DummyRegressorMedian</th>\n",
       "      <td>2806.394</td>\n",
       "      <td>110.422</td>\n",
       "      <td>4258.833</td>\n",
       "    </tr>\n",
       "    <tr>\n",
       "      <th>DummyRegressorQuantile</th>\n",
       "      <td>3105.765</td>\n",
       "      <td>60.473</td>\n",
       "      <td>4964.068</td>\n",
       "    </tr>\n",
       "    <tr>\n",
       "      <th>LinearRegression</th>\n",
       "      <td>802.058</td>\n",
       "      <td>45.038</td>\n",
       "      <td>1143.712</td>\n",
       "    </tr>\n",
       "    <tr>\n",
       "      <th>RidgeRegression</th>\n",
       "      <td>803.104</td>\n",
       "      <td>45.201</td>\n",
       "      <td>1143.745</td>\n",
       "    </tr>\n",
       "    <tr>\n",
       "      <th>LassoRegression</th>\n",
       "      <td>803.087</td>\n",
       "      <td>45.197</td>\n",
       "      <td>1143.747</td>\n",
       "    </tr>\n",
       "    <tr>\n",
       "      <th>ElasticNetRegression</th>\n",
       "      <td>803.089</td>\n",
       "      <td>45.198</td>\n",
       "      <td>1143.747</td>\n",
       "    </tr>\n",
       "  </tbody>\n",
       "</table>\n",
       "</div>"
      ],
      "text/plain": [
       "                             MAE     MAPE      RMSE\n",
       "DummyRegressorMedian    2806.394  110.422  4258.833\n",
       "DummyRegressorQuantile  3105.765   60.473  4964.068\n",
       "LinearRegression         802.058   45.038  1143.712\n",
       "RidgeRegression          803.104   45.201  1143.745\n",
       "LassoRegression          803.087   45.197  1143.747\n",
       "ElasticNetRegression     803.089   45.198  1143.747"
      ]
     },
     "execution_count": 91,
     "metadata": {},
     "output_type": "execute_result"
    }
   ],
   "source": [
    "model_comparison = pd.concat([model_comparison, elasticnetreg], 0)\n",
    "model_comparison"
   ]
  },
  {
   "cell_type": "markdown",
   "metadata": {},
   "source": [
    "### 4. Nearest neighbors methods"
   ]
  },
  {
   "cell_type": "markdown",
   "metadata": {},
   "source": [
    "#### 1. k-nearest neighbors"
   ]
  },
  {
   "cell_type": "code",
   "execution_count": 92,
   "metadata": {},
   "outputs": [
    {
     "data": {
      "text/plain": [
       "GridSearchCV(cv=5, estimator=KNeighborsRegressor(), n_jobs=-1,\n",
       "             param_grid={'n_neighbors': [3, 4, 5, 6], 'p': [1, 2],\n",
       "                         'weights': ['uniform', 'distance']},\n",
       "             scoring='neg_root_mean_squared_error')"
      ]
     },
     "execution_count": 92,
     "metadata": {},
     "output_type": "execute_result"
    }
   ],
   "source": [
    "knn_params = {'p' : [1, 2], # manhattan / euclidean\n",
    "              'weights' : ['uniform', 'distance'],\n",
    "              'n_neighbors' : [3, 4, 5, 6]}\n",
    "\n",
    "KNN = KNeighborsRegressor()\n",
    "\n",
    "GRID_KNN = GridSearchCV(KNN, param_grid = knn_params, cv = 5, scoring = 'neg_root_mean_squared_error', n_jobs = -1)\n",
    "\n",
    "GRID_KNN.fit(X_train_scaled, y_train)"
   ]
  },
  {
   "cell_type": "code",
   "execution_count": 93,
   "metadata": {},
   "outputs": [
    {
     "data": {
      "text/plain": [
       "{'n_neighbors': 4, 'p': 2, 'weights': 'distance'}"
      ]
     },
     "execution_count": 93,
     "metadata": {},
     "output_type": "execute_result"
    }
   ],
   "source": [
    "GRID_KNN.best_params_"
   ]
  },
  {
   "cell_type": "code",
   "execution_count": 94,
   "metadata": {},
   "outputs": [
    {
     "name": "stdout",
     "output_type": "stream",
     "text": [
      "MAE for KNN : 482.132\n",
      "MAPE for KNN : 16.075\n",
      "RMSE for KNN : 956.333\n"
     ]
    }
   ],
   "source": [
    "knnreg = evaluate_model('KNN', GRID_KNN.best_estimator_, X_test_scaled, y_test)"
   ]
  },
  {
   "cell_type": "code",
   "execution_count": 95,
   "metadata": {},
   "outputs": [
    {
     "data": {
      "text/html": [
       "<div>\n",
       "<style scoped>\n",
       "    .dataframe tbody tr th:only-of-type {\n",
       "        vertical-align: middle;\n",
       "    }\n",
       "\n",
       "    .dataframe tbody tr th {\n",
       "        vertical-align: top;\n",
       "    }\n",
       "\n",
       "    .dataframe thead th {\n",
       "        text-align: right;\n",
       "    }\n",
       "</style>\n",
       "<table border=\"1\" class=\"dataframe\">\n",
       "  <thead>\n",
       "    <tr style=\"text-align: right;\">\n",
       "      <th></th>\n",
       "      <th>MAE</th>\n",
       "      <th>MAPE</th>\n",
       "      <th>RMSE</th>\n",
       "    </tr>\n",
       "  </thead>\n",
       "  <tbody>\n",
       "    <tr>\n",
       "      <th>DummyRegressorMedian</th>\n",
       "      <td>2806.394</td>\n",
       "      <td>110.422</td>\n",
       "      <td>4258.833</td>\n",
       "    </tr>\n",
       "    <tr>\n",
       "      <th>DummyRegressorQuantile</th>\n",
       "      <td>3105.765</td>\n",
       "      <td>60.473</td>\n",
       "      <td>4964.068</td>\n",
       "    </tr>\n",
       "    <tr>\n",
       "      <th>LinearRegression</th>\n",
       "      <td>802.058</td>\n",
       "      <td>45.038</td>\n",
       "      <td>1143.712</td>\n",
       "    </tr>\n",
       "    <tr>\n",
       "      <th>RidgeRegression</th>\n",
       "      <td>803.104</td>\n",
       "      <td>45.201</td>\n",
       "      <td>1143.745</td>\n",
       "    </tr>\n",
       "    <tr>\n",
       "      <th>LassoRegression</th>\n",
       "      <td>803.087</td>\n",
       "      <td>45.197</td>\n",
       "      <td>1143.747</td>\n",
       "    </tr>\n",
       "    <tr>\n",
       "      <th>ElasticNetRegression</th>\n",
       "      <td>803.089</td>\n",
       "      <td>45.198</td>\n",
       "      <td>1143.747</td>\n",
       "    </tr>\n",
       "    <tr>\n",
       "      <th>KNN</th>\n",
       "      <td>482.132</td>\n",
       "      <td>16.075</td>\n",
       "      <td>956.333</td>\n",
       "    </tr>\n",
       "  </tbody>\n",
       "</table>\n",
       "</div>"
      ],
      "text/plain": [
       "                             MAE     MAPE      RMSE\n",
       "DummyRegressorMedian    2806.394  110.422  4258.833\n",
       "DummyRegressorQuantile  3105.765   60.473  4964.068\n",
       "LinearRegression         802.058   45.038  1143.712\n",
       "RidgeRegression          803.104   45.201  1143.745\n",
       "LassoRegression          803.087   45.197  1143.747\n",
       "ElasticNetRegression     803.089   45.198  1143.747\n",
       "KNN                      482.132   16.075   956.333"
      ]
     },
     "execution_count": 95,
     "metadata": {},
     "output_type": "execute_result"
    }
   ],
   "source": [
    "model_comparison = pd.concat([model_comparison, knnreg], 0)\n",
    "model_comparison"
   ]
  },
  {
   "cell_type": "markdown",
   "metadata": {},
   "source": [
    "#### 2. Radius neighbors"
   ]
  },
  {
   "cell_type": "code",
   "execution_count": 16,
   "metadata": {
    "scrolled": true
   },
   "outputs": [
    {
     "data": {
      "text/plain": [
       "GridSearchCV(cv=5, estimator=RadiusNeighborsRegressor(), n_jobs=-1,\n",
       "             param_grid={'p': [2], 'radius': [4, 4.5, 5, 5.5, 6],\n",
       "                         'weights': ['distance']},\n",
       "             scoring='neg_root_mean_squared_error')"
      ]
     },
     "execution_count": 16,
     "metadata": {},
     "output_type": "execute_result"
    }
   ],
   "source": [
    "rnn_params = {'p' : [2], # manhattan / euclidean\n",
    "              'weights' : ['distance'], # uniform / distance\n",
    "              'radius' : [4, 4.5, 5, 5.5, 6]}\n",
    "\n",
    "RNN = RadiusNeighborsRegressor()\n",
    "\n",
    "GRID_RNN = GridSearchCV(RNN, param_grid = rnn_params, cv = 5, scoring = 'neg_root_mean_squared_error', n_jobs = -1)\n",
    "\n",
    "GRID_RNN.fit(X_train_scaled, y_train)"
   ]
  },
  {
   "cell_type": "code",
   "execution_count": 17,
   "metadata": {},
   "outputs": [
    {
     "data": {
      "text/plain": [
       "{'p': 2, 'radius': 5, 'weights': 'distance'}"
      ]
     },
     "execution_count": 17,
     "metadata": {},
     "output_type": "execute_result"
    }
   ],
   "source": [
    "GRID_RNN.best_params_"
   ]
  },
  {
   "cell_type": "code",
   "execution_count": 18,
   "metadata": {},
   "outputs": [
    {
     "name": "stdout",
     "output_type": "stream",
     "text": [
      "MAE for RadiusNN : 1735.694\n",
      "MAPE for RadiusNN : 85.742\n",
      "RMSE for RadiusNN : 2806.814\n"
     ]
    }
   ],
   "source": [
    "rnnreg = evaluate_model('RadiusNN', GRID_RNN.best_estimator_, X_test_scaled, y_test)"
   ]
  },
  {
   "cell_type": "code",
   "execution_count": 19,
   "metadata": {},
   "outputs": [
    {
     "data": {
      "text/html": [
       "<div>\n",
       "<style scoped>\n",
       "    .dataframe tbody tr th:only-of-type {\n",
       "        vertical-align: middle;\n",
       "    }\n",
       "\n",
       "    .dataframe tbody tr th {\n",
       "        vertical-align: top;\n",
       "    }\n",
       "\n",
       "    .dataframe thead th {\n",
       "        text-align: right;\n",
       "    }\n",
       "</style>\n",
       "<table border=\"1\" class=\"dataframe\">\n",
       "  <thead>\n",
       "    <tr style=\"text-align: right;\">\n",
       "      <th></th>\n",
       "      <th>MAE</th>\n",
       "      <th>MAPE</th>\n",
       "      <th>RMSE</th>\n",
       "    </tr>\n",
       "  </thead>\n",
       "  <tbody>\n",
       "    <tr>\n",
       "      <th>DummyRegressorMedian</th>\n",
       "      <td>2806.394</td>\n",
       "      <td>110.422</td>\n",
       "      <td>4258.833</td>\n",
       "    </tr>\n",
       "    <tr>\n",
       "      <th>DummyRegressorQuantile</th>\n",
       "      <td>3105.765</td>\n",
       "      <td>60.473</td>\n",
       "      <td>4964.068</td>\n",
       "    </tr>\n",
       "    <tr>\n",
       "      <th>LinearRegression</th>\n",
       "      <td>802.058</td>\n",
       "      <td>45.038</td>\n",
       "      <td>1143.712</td>\n",
       "    </tr>\n",
       "    <tr>\n",
       "      <th>RidgeRegression</th>\n",
       "      <td>803.104</td>\n",
       "      <td>45.201</td>\n",
       "      <td>1143.745</td>\n",
       "    </tr>\n",
       "    <tr>\n",
       "      <th>LassoRegression</th>\n",
       "      <td>803.087</td>\n",
       "      <td>45.197</td>\n",
       "      <td>1143.747</td>\n",
       "    </tr>\n",
       "    <tr>\n",
       "      <th>ElasticNetRegression</th>\n",
       "      <td>803.089</td>\n",
       "      <td>45.198</td>\n",
       "      <td>1143.747</td>\n",
       "    </tr>\n",
       "    <tr>\n",
       "      <th>KNN</th>\n",
       "      <td>482.132</td>\n",
       "      <td>16.075</td>\n",
       "      <td>956.333</td>\n",
       "    </tr>\n",
       "    <tr>\n",
       "      <th>RadiusNN</th>\n",
       "      <td>1735.694</td>\n",
       "      <td>85.742</td>\n",
       "      <td>2806.814</td>\n",
       "    </tr>\n",
       "  </tbody>\n",
       "</table>\n",
       "</div>"
      ],
      "text/plain": [
       "                             MAE     MAPE      RMSE\n",
       "DummyRegressorMedian    2806.394  110.422  4258.833\n",
       "DummyRegressorQuantile  3105.765   60.473  4964.068\n",
       "LinearRegression         802.058   45.038  1143.712\n",
       "RidgeRegression          803.104   45.201  1143.745\n",
       "LassoRegression          803.087   45.197  1143.747\n",
       "ElasticNetRegression     803.089   45.198  1143.747\n",
       "KNN                      482.132   16.075   956.333\n",
       "RadiusNN                1735.694   85.742  2806.814"
      ]
     },
     "execution_count": 19,
     "metadata": {},
     "output_type": "execute_result"
    }
   ],
   "source": [
    "model_comparison = pd.concat([model_comparison, rnnreg], 0)\n",
    "model_comparison"
   ]
  },
  {
   "cell_type": "markdown",
   "metadata": {},
   "source": [
    "### 5. Support Vector Machines"
   ]
  },
  {
   "cell_type": "markdown",
   "metadata": {},
   "source": [
    "#### 1. Linear kernel"
   ]
  },
  {
   "cell_type": "code",
   "execution_count": 39,
   "metadata": {},
   "outputs": [
    {
     "data": {
      "text/plain": [
       "GridSearchCV(cv=3, estimator=SVR(kernel='linear'), n_jobs=-1,\n",
       "             param_grid={'C': [60, 80]}, scoring='neg_root_mean_squared_error')"
      ]
     },
     "execution_count": 39,
     "metadata": {},
     "output_type": "execute_result"
    }
   ],
   "source": [
    "svr_lin_params = {'C' : [60, 80]}\n",
    "\n",
    "svr = SVR(kernel = 'linear')\n",
    "\n",
    "GRID_SVM = GridSearchCV(svr, param_grid = svr_lin_params, cv = 3, scoring = 'neg_root_mean_squared_error', n_jobs = -1)\n",
    "\n",
    "GRID_SVM.fit(X_train_scaled, y_train)"
   ]
  },
  {
   "cell_type": "code",
   "execution_count": 40,
   "metadata": {},
   "outputs": [
    {
     "data": {
      "text/plain": [
       "{'C': 80}"
      ]
     },
     "execution_count": 40,
     "metadata": {},
     "output_type": "execute_result"
    }
   ],
   "source": [
    "GRID_SVM.best_params_"
   ]
  },
  {
   "cell_type": "code",
   "execution_count": 41,
   "metadata": {},
   "outputs": [
    {
     "name": "stdout",
     "output_type": "stream",
     "text": [
      "MAE for SVMLinear : 740.714\n",
      "MAPE for SVMLinear : 32.558\n",
      "RMSE for SVMLinear : 1270.738\n"
     ]
    }
   ],
   "source": [
    "svmlin = evaluate_model('SVMLinear', GRID_SVM.best_estimator_, X_test_scaled, y_test)"
   ]
  },
  {
   "cell_type": "code",
   "execution_count": 42,
   "metadata": {},
   "outputs": [
    {
     "data": {
      "text/html": [
       "<div>\n",
       "<style scoped>\n",
       "    .dataframe tbody tr th:only-of-type {\n",
       "        vertical-align: middle;\n",
       "    }\n",
       "\n",
       "    .dataframe tbody tr th {\n",
       "        vertical-align: top;\n",
       "    }\n",
       "\n",
       "    .dataframe thead th {\n",
       "        text-align: right;\n",
       "    }\n",
       "</style>\n",
       "<table border=\"1\" class=\"dataframe\">\n",
       "  <thead>\n",
       "    <tr style=\"text-align: right;\">\n",
       "      <th></th>\n",
       "      <th>MAE</th>\n",
       "      <th>MAPE</th>\n",
       "      <th>RMSE</th>\n",
       "    </tr>\n",
       "  </thead>\n",
       "  <tbody>\n",
       "    <tr>\n",
       "      <th>DummyRegressorMedian</th>\n",
       "      <td>2806.394</td>\n",
       "      <td>110.422</td>\n",
       "      <td>4258.833</td>\n",
       "    </tr>\n",
       "    <tr>\n",
       "      <th>DummyRegressorQuantile</th>\n",
       "      <td>3105.765</td>\n",
       "      <td>60.473</td>\n",
       "      <td>4964.068</td>\n",
       "    </tr>\n",
       "    <tr>\n",
       "      <th>LinearRegression</th>\n",
       "      <td>802.058</td>\n",
       "      <td>45.038</td>\n",
       "      <td>1143.712</td>\n",
       "    </tr>\n",
       "    <tr>\n",
       "      <th>RidgeRegression</th>\n",
       "      <td>803.104</td>\n",
       "      <td>45.201</td>\n",
       "      <td>1143.745</td>\n",
       "    </tr>\n",
       "    <tr>\n",
       "      <th>LassoRegression</th>\n",
       "      <td>803.087</td>\n",
       "      <td>45.197</td>\n",
       "      <td>1143.747</td>\n",
       "    </tr>\n",
       "    <tr>\n",
       "      <th>ElasticNetRegression</th>\n",
       "      <td>803.089</td>\n",
       "      <td>45.198</td>\n",
       "      <td>1143.747</td>\n",
       "    </tr>\n",
       "    <tr>\n",
       "      <th>KNN</th>\n",
       "      <td>482.132</td>\n",
       "      <td>16.075</td>\n",
       "      <td>956.333</td>\n",
       "    </tr>\n",
       "    <tr>\n",
       "      <th>RadiusNN</th>\n",
       "      <td>1735.694</td>\n",
       "      <td>85.742</td>\n",
       "      <td>2806.814</td>\n",
       "    </tr>\n",
       "    <tr>\n",
       "      <th>SVMLinear</th>\n",
       "      <td>740.714</td>\n",
       "      <td>32.558</td>\n",
       "      <td>1270.738</td>\n",
       "    </tr>\n",
       "  </tbody>\n",
       "</table>\n",
       "</div>"
      ],
      "text/plain": [
       "                             MAE     MAPE      RMSE\n",
       "DummyRegressorMedian    2806.394  110.422  4258.833\n",
       "DummyRegressorQuantile  3105.765   60.473  4964.068\n",
       "LinearRegression         802.058   45.038  1143.712\n",
       "RidgeRegression          803.104   45.201  1143.745\n",
       "LassoRegression          803.087   45.197  1143.747\n",
       "ElasticNetRegression     803.089   45.198  1143.747\n",
       "KNN                      482.132   16.075   956.333\n",
       "RadiusNN                1735.694   85.742  2806.814\n",
       "SVMLinear                740.714   32.558  1270.738"
      ]
     },
     "execution_count": 42,
     "metadata": {},
     "output_type": "execute_result"
    }
   ],
   "source": [
    "# Increasing C from 60 to 80 only reduced RMSE by 1, so theres no point in further optimizing\n",
    "\n",
    "model_comparison = pd.concat([model_comparison, svmlin], 0)\n",
    "model_comparison"
   ]
  },
  {
   "cell_type": "markdown",
   "metadata": {},
   "source": [
    "#### 2. Polynomial kernel"
   ]
  },
  {
   "cell_type": "code",
   "execution_count": null,
   "metadata": {},
   "outputs": [],
   "source": [
    "svr_poly_params = {'C' : [1500, 2000, 3000],\n",
    "                   'degree' : [3, 4, 5, 6]}\n",
    "\n",
    "svr = SVR(kernel = 'poly')\n",
    "\n",
    "GRID_SVM = GridSearchCV(svr, param_grid = svr_poly_params, cv = 3, scoring = 'neg_root_mean_squared_error', n_jobs = -1)\n",
    "\n",
    "GRID_SVM.fit(X_train_scaled, y_train)"
   ]
  },
  {
   "cell_type": "code",
   "execution_count": 62,
   "metadata": {},
   "outputs": [
    {
     "data": {
      "text/plain": [
       "{'C': 1250, 'degree': 5}"
      ]
     },
     "execution_count": 62,
     "metadata": {},
     "output_type": "execute_result"
    }
   ],
   "source": [
    "GRID_SVM.best_params_"
   ]
  },
  {
   "cell_type": "code",
   "execution_count": 63,
   "metadata": {},
   "outputs": [
    {
     "name": "stdout",
     "output_type": "stream",
     "text": [
      "MAE for SVMPolynomial : 369.503\n",
      "MAPE for SVMPolynomial : 11.498\n",
      "RMSE for SVMPolynomial : 685.119\n"
     ]
    }
   ],
   "source": [
    "svmpoly = evaluate_model('SVMPolynomial', GRID_SVM.best_estimator_, X_test_scaled, y_test)"
   ]
  },
  {
   "cell_type": "code",
   "execution_count": null,
   "metadata": {},
   "outputs": [],
   "source": []
  },
  {
   "cell_type": "markdown",
   "metadata": {},
   "source": [
    "#### 3. Radial Basis Function kernel"
   ]
  },
  {
   "cell_type": "code",
   "execution_count": null,
   "metadata": {},
   "outputs": [],
   "source": [
    "svr_rbf_params = {'C' : [0.5, 1, 5],\n",
    "                  'gamma' : ['scale', 'auto', 0.1, 0.5, 1, 5]}\n",
    "\n",
    "svr = SVR(kernel = 'rbf')\n",
    "\n",
    "GRID_SVM = GridSearchCV(svr, param_grid = svr_rbf_params, cv = 3, scoring = 'neg_root_mean_squared_error', n_jobs = -1)\n",
    "\n",
    "GRID_SVM.fit(X_train_scaled, y_train)"
   ]
  },
  {
   "cell_type": "code",
   "execution_count": null,
   "metadata": {},
   "outputs": [],
   "source": [
    "GRID_SVM.best_params_"
   ]
  },
  {
   "cell_type": "code",
   "execution_count": null,
   "metadata": {},
   "outputs": [],
   "source": [
    "svmrbf = evaluate_model('SVMRadialBasis', GRID_SVM.best_estimator_, X_test_scaled, y_test)"
   ]
  },
  {
   "cell_type": "code",
   "execution_count": null,
   "metadata": {},
   "outputs": [],
   "source": []
  },
  {
   "cell_type": "code",
   "execution_count": null,
   "metadata": {},
   "outputs": [],
   "source": []
  },
  {
   "cell_type": "code",
   "execution_count": null,
   "metadata": {},
   "outputs": [],
   "source": []
  },
  {
   "cell_type": "code",
   "execution_count": null,
   "metadata": {},
   "outputs": [],
   "source": []
  },
  {
   "cell_type": "code",
   "execution_count": null,
   "metadata": {},
   "outputs": [],
   "source": []
  },
  {
   "cell_type": "code",
   "execution_count": null,
   "metadata": {},
   "outputs": [],
   "source": []
  },
  {
   "cell_type": "code",
   "execution_count": 20,
   "metadata": {},
   "outputs": [],
   "source": [
    "#pd.read_csv('../data/model_comparison.csv', index_col=0)\n",
    "#model_comparison.to_csv('../data/model_comparison.csv')"
   ]
  },
  {
   "cell_type": "code",
   "execution_count": 65,
   "metadata": {},
   "outputs": [],
   "source": [
    "model_comparison.to_csv('../data/model_comparison.csv')"
   ]
  },
  {
   "cell_type": "code",
   "execution_count": 64,
   "metadata": {},
   "outputs": [
    {
     "data": {
      "text/html": [
       "<div>\n",
       "<style scoped>\n",
       "    .dataframe tbody tr th:only-of-type {\n",
       "        vertical-align: middle;\n",
       "    }\n",
       "\n",
       "    .dataframe tbody tr th {\n",
       "        vertical-align: top;\n",
       "    }\n",
       "\n",
       "    .dataframe thead th {\n",
       "        text-align: right;\n",
       "    }\n",
       "</style>\n",
       "<table border=\"1\" class=\"dataframe\">\n",
       "  <thead>\n",
       "    <tr style=\"text-align: right;\">\n",
       "      <th></th>\n",
       "      <th>MAE</th>\n",
       "      <th>MAPE</th>\n",
       "      <th>RMSE</th>\n",
       "    </tr>\n",
       "  </thead>\n",
       "  <tbody>\n",
       "    <tr>\n",
       "      <th>DummyRegressorMedian</th>\n",
       "      <td>2806.394</td>\n",
       "      <td>110.422</td>\n",
       "      <td>4258.833</td>\n",
       "    </tr>\n",
       "    <tr>\n",
       "      <th>DummyRegressorQuantile</th>\n",
       "      <td>3105.765</td>\n",
       "      <td>60.473</td>\n",
       "      <td>4964.068</td>\n",
       "    </tr>\n",
       "    <tr>\n",
       "      <th>LinearRegression</th>\n",
       "      <td>802.058</td>\n",
       "      <td>45.038</td>\n",
       "      <td>1143.712</td>\n",
       "    </tr>\n",
       "    <tr>\n",
       "      <th>RidgeRegression</th>\n",
       "      <td>803.104</td>\n",
       "      <td>45.201</td>\n",
       "      <td>1143.745</td>\n",
       "    </tr>\n",
       "    <tr>\n",
       "      <th>LassoRegression</th>\n",
       "      <td>803.087</td>\n",
       "      <td>45.197</td>\n",
       "      <td>1143.747</td>\n",
       "    </tr>\n",
       "    <tr>\n",
       "      <th>ElasticNetRegression</th>\n",
       "      <td>803.089</td>\n",
       "      <td>45.198</td>\n",
       "      <td>1143.747</td>\n",
       "    </tr>\n",
       "    <tr>\n",
       "      <th>KNN</th>\n",
       "      <td>482.132</td>\n",
       "      <td>16.075</td>\n",
       "      <td>956.333</td>\n",
       "    </tr>\n",
       "    <tr>\n",
       "      <th>RadiusNN</th>\n",
       "      <td>1735.694</td>\n",
       "      <td>85.742</td>\n",
       "      <td>2806.814</td>\n",
       "    </tr>\n",
       "    <tr>\n",
       "      <th>SVMLinear</th>\n",
       "      <td>740.714</td>\n",
       "      <td>32.558</td>\n",
       "      <td>1270.738</td>\n",
       "    </tr>\n",
       "  </tbody>\n",
       "</table>\n",
       "</div>"
      ],
      "text/plain": [
       "                             MAE     MAPE      RMSE\n",
       "DummyRegressorMedian    2806.394  110.422  4258.833\n",
       "DummyRegressorQuantile  3105.765   60.473  4964.068\n",
       "LinearRegression         802.058   45.038  1143.712\n",
       "RidgeRegression          803.104   45.201  1143.745\n",
       "LassoRegression          803.087   45.197  1143.747\n",
       "ElasticNetRegression     803.089   45.198  1143.747\n",
       "KNN                      482.132   16.075   956.333\n",
       "RadiusNN                1735.694   85.742  2806.814\n",
       "SVMLinear                740.714   32.558  1270.738"
      ]
     },
     "execution_count": 64,
     "metadata": {},
     "output_type": "execute_result"
    }
   ],
   "source": [
    "model_comparison"
   ]
  },
  {
   "cell_type": "code",
   "execution_count": null,
   "metadata": {},
   "outputs": [],
   "source": []
  }
 ],
 "metadata": {
  "kernelspec": {
   "display_name": "Python 3",
   "language": "python",
   "name": "python3"
  },
  "language_info": {
   "codemirror_mode": {
    "name": "ipython",
    "version": 3
   },
   "file_extension": ".py",
   "mimetype": "text/x-python",
   "name": "python",
   "nbconvert_exporter": "python",
   "pygments_lexer": "ipython3",
   "version": "3.8.3"
  }
 },
 "nbformat": 4,
 "nbformat_minor": 4
}
