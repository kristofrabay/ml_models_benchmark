{
 "cells": [
  {
   "cell_type": "code",
   "execution_count": 39,
   "metadata": {},
   "outputs": [],
   "source": [
    "import pandas as pd\n",
    "import numpy as np\n",
    "\n",
    "import matplotlib.pyplot as plt\n",
    "from mpl_toolkits.mplot3d import Axes3D\n",
    "import seaborn as sns\n",
    "\n",
    "from sklearn.model_selection import train_test_split, GridSearchCV\n",
    "from sklearn.metrics import mean_absolute_error, mean_squared_error\n",
    "from sklearn.preprocessing import StandardScaler\n",
    "\n",
    "from sklearn.dummy import DummyRegressor\n",
    "from sklearn.linear_model import LinearRegression, Lasso, Ridge, ElasticNet\n",
    "from sklearn.neighbors import KNeighborsRegressor, RadiusNeighborsRegressor\n",
    "from sklearn.svm import SVR\n",
    "from sklearn.tree import DecisionTreeRegressor, plot_tree\n",
    "from sklearn.ensemble import AdaBoostRegressor, GradientBoostingRegressor, RandomForestRegressor\n",
    "\n",
    "import xgboost as xgb\n",
    "import lightgbm as lgb\n",
    "from catboost import CatBoostRegressor\n",
    "\n",
    "import pickle\n",
    "import time\n",
    "import warnings\n",
    "warnings.filterwarnings('ignore')"
   ]
  },
  {
   "cell_type": "code",
   "execution_count": 2,
   "metadata": {},
   "outputs": [],
   "source": [
    "def mean_absolute_percentage_error(actual, pred): \n",
    "    return np.mean(np.abs((actual - pred) / actual)) * 100\n",
    "\n",
    "def evaluate_model(model_name, model, X, y):\n",
    "    \n",
    "    predictions = model.predict(X)\n",
    "\n",
    "    MAE = mean_absolute_error(y, predictions)\n",
    "    MAPE = mean_absolute_percentage_error(y, predictions)\n",
    "    RMSE = mean_squared_error(y, predictions, squared = False)\n",
    "\n",
    "    print('MAE for', model_name, ': %1.3f' % MAE)\n",
    "    print('MAPE for', model_name, ': %1.3f' % MAPE)\n",
    "    print('RMSE for', model_name, ': %1.3f' % RMSE)\n",
    "\n",
    "    metrics_table = pd.DataFrame({'MAE' : [round(MAE, 3)], 'MAPE' : [round(MAPE, 3)], 'RMSE' : [round(RMSE, 3)]}, index = [model_name])\n",
    "    \n",
    "    return metrics_table"
   ]
  },
  {
   "cell_type": "markdown",
   "metadata": {},
   "source": [
    "### Read in the data"
   ]
  },
  {
   "cell_type": "code",
   "execution_count": 3,
   "metadata": {},
   "outputs": [
    {
     "data": {
      "text/html": [
       "<div>\n",
       "<style scoped>\n",
       "    .dataframe tbody tr th:only-of-type {\n",
       "        vertical-align: middle;\n",
       "    }\n",
       "\n",
       "    .dataframe tbody tr th {\n",
       "        vertical-align: top;\n",
       "    }\n",
       "\n",
       "    .dataframe thead th {\n",
       "        text-align: right;\n",
       "    }\n",
       "</style>\n",
       "<table border=\"1\" class=\"dataframe\">\n",
       "  <thead>\n",
       "    <tr style=\"text-align: right;\">\n",
       "      <th></th>\n",
       "      <th>carat</th>\n",
       "      <th>cut</th>\n",
       "      <th>color</th>\n",
       "      <th>clarity</th>\n",
       "      <th>depth</th>\n",
       "      <th>table</th>\n",
       "      <th>price</th>\n",
       "    </tr>\n",
       "  </thead>\n",
       "  <tbody>\n",
       "    <tr>\n",
       "      <th>0</th>\n",
       "      <td>0.23</td>\n",
       "      <td>Ideal</td>\n",
       "      <td>E</td>\n",
       "      <td>SI2</td>\n",
       "      <td>61.5</td>\n",
       "      <td>55.0</td>\n",
       "      <td>326</td>\n",
       "    </tr>\n",
       "    <tr>\n",
       "      <th>1</th>\n",
       "      <td>0.21</td>\n",
       "      <td>Premium</td>\n",
       "      <td>E</td>\n",
       "      <td>SI1</td>\n",
       "      <td>59.8</td>\n",
       "      <td>61.0</td>\n",
       "      <td>326</td>\n",
       "    </tr>\n",
       "    <tr>\n",
       "      <th>2</th>\n",
       "      <td>0.23</td>\n",
       "      <td>Good</td>\n",
       "      <td>E</td>\n",
       "      <td>VS1</td>\n",
       "      <td>56.9</td>\n",
       "      <td>65.0</td>\n",
       "      <td>327</td>\n",
       "    </tr>\n",
       "    <tr>\n",
       "      <th>3</th>\n",
       "      <td>0.29</td>\n",
       "      <td>Premium</td>\n",
       "      <td>I</td>\n",
       "      <td>VS2</td>\n",
       "      <td>62.4</td>\n",
       "      <td>58.0</td>\n",
       "      <td>334</td>\n",
       "    </tr>\n",
       "    <tr>\n",
       "      <th>4</th>\n",
       "      <td>0.31</td>\n",
       "      <td>Good</td>\n",
       "      <td>J</td>\n",
       "      <td>SI2</td>\n",
       "      <td>63.3</td>\n",
       "      <td>58.0</td>\n",
       "      <td>335</td>\n",
       "    </tr>\n",
       "  </tbody>\n",
       "</table>\n",
       "</div>"
      ],
      "text/plain": [
       "   carat      cut color clarity  depth  table  price\n",
       "0   0.23    Ideal     E     SI2   61.5   55.0    326\n",
       "1   0.21  Premium     E     SI1   59.8   61.0    326\n",
       "2   0.23     Good     E     VS1   56.9   65.0    327\n",
       "3   0.29  Premium     I     VS2   62.4   58.0    334\n",
       "4   0.31     Good     J     SI2   63.3   58.0    335"
      ]
     },
     "execution_count": 3,
     "metadata": {},
     "output_type": "execute_result"
    }
   ],
   "source": [
    "data = pd.read_csv('../data/diamonds_cleaned.csv')\n",
    "data.head()"
   ]
  },
  {
   "cell_type": "markdown",
   "metadata": {},
   "source": [
    "### Dealing with input types\n",
    "\n",
    "CatBoost can take categorical features as is, so I won't one-hot encode the data yet, instead, for most models I will separately one-hot encode the train and test sets, for CatBoost I'll just give the Regressor the features as string"
   ]
  },
  {
   "cell_type": "code",
   "execution_count": 4,
   "metadata": {},
   "outputs": [
    {
     "name": "stdout",
     "output_type": "stream",
     "text": [
      "Shape of original data: (53770, 7)\n",
      "Shape of y: (53770,)\n",
      "Shape of X: (53770, 6)\n"
     ]
    }
   ],
   "source": [
    "y = data['price'].copy()\n",
    "X = data.drop('price', 1).copy()\n",
    "\n",
    "print('Shape of original data:', data.shape)\n",
    "print('Shape of y:', y.shape)\n",
    "print('Shape of X:', X.shape)"
   ]
  },
  {
   "cell_type": "markdown",
   "metadata": {},
   "source": [
    "### Train - Test split"
   ]
  },
  {
   "cell_type": "code",
   "execution_count": 5,
   "metadata": {},
   "outputs": [
    {
     "name": "stdout",
     "output_type": "stream",
     "text": [
      "Shape of X train: (40327, 6)\n",
      "Shape of X test: (13443, 6)\n",
      "Shape of y train: (40327,)\n",
      "Shape of y test: (13443,)\n"
     ]
    }
   ],
   "source": [
    "X_train, X_test, y_train, y_test = train_test_split(X, y, train_size = 0.75, random_state = 20202020)\n",
    "\n",
    "print('Shape of X train:', X_train.shape)\n",
    "print('Shape of X test:', X_test.shape)\n",
    "print('Shape of y train:', y_train.shape)\n",
    "print('Shape of y test:', y_test.shape)"
   ]
  },
  {
   "cell_type": "markdown",
   "metadata": {},
   "source": [
    "### One-hot encode categoricals"
   ]
  },
  {
   "cell_type": "code",
   "execution_count": 6,
   "metadata": {},
   "outputs": [],
   "source": [
    "# Need original data for CatBoost\n",
    "\n",
    "X_train_original = X_train.copy()\n",
    "X_test_original = X_test.copy()\n",
    "\n",
    "# One hot encode for other models\n",
    "\n",
    "X_train = pd.get_dummies(X_train, columns = ['cut', 'color', 'clarity'], prefix_sep = ' = ')\n",
    "X_test = pd.get_dummies(X_test, columns = ['cut', 'color', 'clarity'], prefix_sep = ' = ')"
   ]
  },
  {
   "cell_type": "code",
   "execution_count": 7,
   "metadata": {},
   "outputs": [
    {
     "name": "stdout",
     "output_type": "stream",
     "text": [
      "Original amount of Xs: 6\n",
      "Column # with one-hot encoding: 23\n"
     ]
    }
   ],
   "source": [
    "print('Original amount of Xs:', X_train_original.shape[1])\n",
    "print('Column # with one-hot encoding:', X_train.shape[1])"
   ]
  },
  {
   "cell_type": "markdown",
   "metadata": {},
   "source": [
    "### Scale X train and transform X test"
   ]
  },
  {
   "cell_type": "markdown",
   "metadata": {},
   "source": [
    "For distance-based ML models data should be scaled for faster convergence, therefore I will use the StandardScaler() function to transform my features into variables with E(x) = 0 and Std(x) = 1. This will also speed up linreg for example, but won't have an effect on performance"
   ]
  },
  {
   "cell_type": "code",
   "execution_count": 8,
   "metadata": {},
   "outputs": [],
   "source": [
    "SS = StandardScaler()\n",
    "\n",
    "X_train_scaled = SS.fit_transform(X_train)\n",
    "X_test_scaled = SS.transform(X_test)\n",
    "\n",
    "X_train_scaled = pd.DataFrame(X_train_scaled, columns = X_train.columns)\n",
    "X_test_scaled = pd.DataFrame(X_test_scaled, columns = X_test.columns)"
   ]
  },
  {
   "cell_type": "markdown",
   "metadata": {},
   "source": [
    "# Applying the different ML models"
   ]
  },
  {
   "cell_type": "markdown",
   "metadata": {},
   "source": [
    "### 1. DummyRegressor to compare results against"
   ]
  },
  {
   "cell_type": "markdown",
   "metadata": {},
   "source": [
    "Predicting the median"
   ]
  },
  {
   "cell_type": "code",
   "execution_count": 46,
   "metadata": {},
   "outputs": [
    {
     "data": {
      "text/plain": [
       "DummyRegressor(strategy='median')"
      ]
     },
     "execution_count": 46,
     "metadata": {},
     "output_type": "execute_result"
    }
   ],
   "source": [
    "dummy = DummyRegressor(strategy = 'median')\n",
    "dummy.fit(X_train_scaled, y_train)"
   ]
  },
  {
   "cell_type": "code",
   "execution_count": 47,
   "metadata": {},
   "outputs": [
    {
     "name": "stdout",
     "output_type": "stream",
     "text": [
      "MAE for DummyRegressorMedian : 2806.394\n",
      "MAPE for DummyRegressorMedian : 110.422\n",
      "RMSE for DummyRegressorMedian : 4258.833\n"
     ]
    }
   ],
   "source": [
    "dummy_median = evaluate_model('DummyRegressorMedian', dummy, X_test_scaled, y_test)"
   ]
  },
  {
   "cell_type": "markdown",
   "metadata": {},
   "source": [
    "Predicting the 25% percentile"
   ]
  },
  {
   "cell_type": "code",
   "execution_count": 48,
   "metadata": {},
   "outputs": [
    {
     "data": {
      "text/plain": [
       "DummyRegressor(quantile=0.25, strategy='quantile')"
      ]
     },
     "execution_count": 48,
     "metadata": {},
     "output_type": "execute_result"
    }
   ],
   "source": [
    "dummy = DummyRegressor(strategy = 'quantile', quantile = 0.25)\n",
    "dummy.fit(X_train_scaled, y_train)"
   ]
  },
  {
   "cell_type": "code",
   "execution_count": 49,
   "metadata": {},
   "outputs": [
    {
     "name": "stdout",
     "output_type": "stream",
     "text": [
      "MAE for DummyRegressorQuantile : 3105.765\n",
      "MAPE for DummyRegressorQuantile : 60.473\n",
      "RMSE for DummyRegressorQuantile : 4964.068\n"
     ]
    }
   ],
   "source": [
    "dummy_quantile = evaluate_model('DummyRegressorQuantile', dummy, X_test_scaled, y_test)"
   ]
  },
  {
   "cell_type": "markdown",
   "metadata": {},
   "source": [
    "Concat results"
   ]
  },
  {
   "cell_type": "code",
   "execution_count": 50,
   "metadata": {},
   "outputs": [
    {
     "data": {
      "text/html": [
       "<div>\n",
       "<style scoped>\n",
       "    .dataframe tbody tr th:only-of-type {\n",
       "        vertical-align: middle;\n",
       "    }\n",
       "\n",
       "    .dataframe tbody tr th {\n",
       "        vertical-align: top;\n",
       "    }\n",
       "\n",
       "    .dataframe thead th {\n",
       "        text-align: right;\n",
       "    }\n",
       "</style>\n",
       "<table border=\"1\" class=\"dataframe\">\n",
       "  <thead>\n",
       "    <tr style=\"text-align: right;\">\n",
       "      <th></th>\n",
       "      <th>MAE</th>\n",
       "      <th>MAPE</th>\n",
       "      <th>RMSE</th>\n",
       "    </tr>\n",
       "  </thead>\n",
       "  <tbody>\n",
       "    <tr>\n",
       "      <th>DummyRegressorMedian</th>\n",
       "      <td>2806.394</td>\n",
       "      <td>110.422</td>\n",
       "      <td>4258.833</td>\n",
       "    </tr>\n",
       "    <tr>\n",
       "      <th>DummyRegressorQuantile</th>\n",
       "      <td>3105.765</td>\n",
       "      <td>60.473</td>\n",
       "      <td>4964.068</td>\n",
       "    </tr>\n",
       "  </tbody>\n",
       "</table>\n",
       "</div>"
      ],
      "text/plain": [
       "                             MAE     MAPE      RMSE\n",
       "DummyRegressorMedian    2806.394  110.422  4258.833\n",
       "DummyRegressorQuantile  3105.765   60.473  4964.068"
      ]
     },
     "execution_count": 50,
     "metadata": {},
     "output_type": "execute_result"
    }
   ],
   "source": [
    "model_comparison = pd.concat([dummy_median, dummy_quantile], 0)\n",
    "model_comparison.head()"
   ]
  },
  {
   "cell_type": "markdown",
   "metadata": {},
   "source": [
    "### 2. Simple linear regression"
   ]
  },
  {
   "cell_type": "code",
   "execution_count": 51,
   "metadata": {},
   "outputs": [
    {
     "data": {
      "text/plain": [
       "LinearRegression()"
      ]
     },
     "execution_count": 51,
     "metadata": {},
     "output_type": "execute_result"
    }
   ],
   "source": [
    "lr = LinearRegression()\n",
    "lr.fit(X_train_scaled, y_train)"
   ]
  },
  {
   "cell_type": "code",
   "execution_count": 52,
   "metadata": {},
   "outputs": [
    {
     "name": "stdout",
     "output_type": "stream",
     "text": [
      "MAE for LinearRegression : 802.058\n",
      "MAPE for LinearRegression : 45.038\n",
      "RMSE for LinearRegression : 1143.712\n"
     ]
    }
   ],
   "source": [
    "linreg = evaluate_model('LinearRegression', lr, X_test_scaled, y_test)"
   ]
  },
  {
   "cell_type": "code",
   "execution_count": 53,
   "metadata": {},
   "outputs": [
    {
     "data": {
      "text/html": [
       "<div>\n",
       "<style scoped>\n",
       "    .dataframe tbody tr th:only-of-type {\n",
       "        vertical-align: middle;\n",
       "    }\n",
       "\n",
       "    .dataframe tbody tr th {\n",
       "        vertical-align: top;\n",
       "    }\n",
       "\n",
       "    .dataframe thead th {\n",
       "        text-align: right;\n",
       "    }\n",
       "</style>\n",
       "<table border=\"1\" class=\"dataframe\">\n",
       "  <thead>\n",
       "    <tr style=\"text-align: right;\">\n",
       "      <th></th>\n",
       "      <th>MAE</th>\n",
       "      <th>MAPE</th>\n",
       "      <th>RMSE</th>\n",
       "    </tr>\n",
       "  </thead>\n",
       "  <tbody>\n",
       "    <tr>\n",
       "      <th>DummyRegressorMedian</th>\n",
       "      <td>2806.394</td>\n",
       "      <td>110.422</td>\n",
       "      <td>4258.833</td>\n",
       "    </tr>\n",
       "    <tr>\n",
       "      <th>DummyRegressorQuantile</th>\n",
       "      <td>3105.765</td>\n",
       "      <td>60.473</td>\n",
       "      <td>4964.068</td>\n",
       "    </tr>\n",
       "    <tr>\n",
       "      <th>LinearRegression</th>\n",
       "      <td>802.058</td>\n",
       "      <td>45.038</td>\n",
       "      <td>1143.712</td>\n",
       "    </tr>\n",
       "  </tbody>\n",
       "</table>\n",
       "</div>"
      ],
      "text/plain": [
       "                             MAE     MAPE      RMSE\n",
       "DummyRegressorMedian    2806.394  110.422  4258.833\n",
       "DummyRegressorQuantile  3105.765   60.473  4964.068\n",
       "LinearRegression         802.058   45.038  1143.712"
      ]
     },
     "execution_count": 53,
     "metadata": {},
     "output_type": "execute_result"
    }
   ],
   "source": [
    "model_comparison = pd.concat([model_comparison, linreg], 0)\n",
    "model_comparison.head()"
   ]
  },
  {
   "cell_type": "markdown",
   "metadata": {},
   "source": [
    "### 3. Regularized / penalized regressions\n",
    "#### 1. Ridge Regression"
   ]
  },
  {
   "cell_type": "code",
   "execution_count": 63,
   "metadata": {},
   "outputs": [
    {
     "data": {
      "text/plain": [
       "GridSearchCV(cv=5, estimator=Ridge(random_state=20202020), n_jobs=-1,\n",
       "             param_grid={'alpha': array([1.7   , 1.7125, 1.725 , 1.7375, 1.75  , 1.7625, 1.775 , 1.7875,\n",
       "       1.8   , 1.8125, 1.825 , 1.8375, 1.85  , 1.8625, 1.875 , 1.8875,\n",
       "       1.9   , 1.9125, 1.925 , 1.9375, 1.95  , 1.9625, 1.975 , 1.9875,\n",
       "       2.    ])},\n",
       "             scoring='neg_root_mean_squared_error')"
      ]
     },
     "execution_count": 63,
     "metadata": {},
     "output_type": "execute_result"
    }
   ],
   "source": [
    "ridge_params = {'alpha' : np.linspace(1.7, 2, 25)}\n",
    "\n",
    "ridge = Ridge(random_state = 20202020)\n",
    "\n",
    "GRID_RIDGE = GridSearchCV(ridge, param_grid = ridge_params, cv = 5, scoring = 'neg_root_mean_squared_error', n_jobs = -1)\n",
    "\n",
    "GRID_RIDGE.fit(X_train_scaled, y_train)"
   ]
  },
  {
   "cell_type": "code",
   "execution_count": 64,
   "metadata": {},
   "outputs": [
    {
     "data": {
      "text/plain": [
       "{'alpha': 1.875}"
      ]
     },
     "execution_count": 64,
     "metadata": {},
     "output_type": "execute_result"
    }
   ],
   "source": [
    "GRID_RIDGE.best_params_"
   ]
  },
  {
   "cell_type": "code",
   "execution_count": 65,
   "metadata": {},
   "outputs": [
    {
     "name": "stdout",
     "output_type": "stream",
     "text": [
      "MAE for RidgeRegression : 803.104\n",
      "MAPE for RidgeRegression : 45.201\n",
      "RMSE for RidgeRegression : 1143.745\n"
     ]
    }
   ],
   "source": [
    "ridgereg = evaluate_model('RidgeRegression', GRID_RIDGE.best_estimator_, X_test_scaled, y_test)"
   ]
  },
  {
   "cell_type": "code",
   "execution_count": 66,
   "metadata": {},
   "outputs": [
    {
     "data": {
      "text/html": [
       "<div>\n",
       "<style scoped>\n",
       "    .dataframe tbody tr th:only-of-type {\n",
       "        vertical-align: middle;\n",
       "    }\n",
       "\n",
       "    .dataframe tbody tr th {\n",
       "        vertical-align: top;\n",
       "    }\n",
       "\n",
       "    .dataframe thead th {\n",
       "        text-align: right;\n",
       "    }\n",
       "</style>\n",
       "<table border=\"1\" class=\"dataframe\">\n",
       "  <thead>\n",
       "    <tr style=\"text-align: right;\">\n",
       "      <th></th>\n",
       "      <th>MAE</th>\n",
       "      <th>MAPE</th>\n",
       "      <th>RMSE</th>\n",
       "    </tr>\n",
       "  </thead>\n",
       "  <tbody>\n",
       "    <tr>\n",
       "      <th>DummyRegressorMedian</th>\n",
       "      <td>2806.394</td>\n",
       "      <td>110.422</td>\n",
       "      <td>4258.833</td>\n",
       "    </tr>\n",
       "    <tr>\n",
       "      <th>DummyRegressorQuantile</th>\n",
       "      <td>3105.765</td>\n",
       "      <td>60.473</td>\n",
       "      <td>4964.068</td>\n",
       "    </tr>\n",
       "    <tr>\n",
       "      <th>LinearRegression</th>\n",
       "      <td>802.058</td>\n",
       "      <td>45.038</td>\n",
       "      <td>1143.712</td>\n",
       "    </tr>\n",
       "    <tr>\n",
       "      <th>RidgeRegression</th>\n",
       "      <td>803.104</td>\n",
       "      <td>45.201</td>\n",
       "      <td>1143.745</td>\n",
       "    </tr>\n",
       "  </tbody>\n",
       "</table>\n",
       "</div>"
      ],
      "text/plain": [
       "                             MAE     MAPE      RMSE\n",
       "DummyRegressorMedian    2806.394  110.422  4258.833\n",
       "DummyRegressorQuantile  3105.765   60.473  4964.068\n",
       "LinearRegression         802.058   45.038  1143.712\n",
       "RidgeRegression          803.104   45.201  1143.745"
      ]
     },
     "execution_count": 66,
     "metadata": {},
     "output_type": "execute_result"
    }
   ],
   "source": [
    "model_comparison = pd.concat([model_comparison, ridgereg], 0)\n",
    "model_comparison.head()"
   ]
  },
  {
   "cell_type": "markdown",
   "metadata": {},
   "source": [
    "#### 2. LASSO Regression"
   ]
  },
  {
   "cell_type": "code",
   "execution_count": 80,
   "metadata": {},
   "outputs": [
    {
     "data": {
      "text/plain": [
       "GridSearchCV(cv=5, estimator=Lasso(random_state=20202020), n_jobs=-1,\n",
       "             param_grid={'alpha': array([0.07      , 0.07142857, 0.07285714, 0.07428571, 0.07571429,\n",
       "       0.07714286, 0.07857143, 0.08      , 0.08142857, 0.08285714,\n",
       "       0.08428571, 0.08571429, 0.08714286, 0.08857143, 0.09      ])},\n",
       "             scoring='neg_root_mean_squared_error')"
      ]
     },
     "execution_count": 80,
     "metadata": {},
     "output_type": "execute_result"
    }
   ],
   "source": [
    "LASSO_params = {'alpha' : np.linspace(0.07, 0.09, 15)}\n",
    "\n",
    "lasso = Lasso(random_state = 20202020)\n",
    "\n",
    "GRID_LASSO = GridSearchCV(lasso, param_grid = LASSO_params, cv = 5, scoring = 'neg_root_mean_squared_error', n_jobs = -1)\n",
    "\n",
    "GRID_LASSO.fit(X_train_scaled, y_train)"
   ]
  },
  {
   "cell_type": "code",
   "execution_count": 81,
   "metadata": {},
   "outputs": [
    {
     "data": {
      "text/plain": [
       "{'alpha': 0.08571428571428572}"
      ]
     },
     "execution_count": 81,
     "metadata": {},
     "output_type": "execute_result"
    }
   ],
   "source": [
    "GRID_LASSO.best_params_"
   ]
  },
  {
   "cell_type": "code",
   "execution_count": 82,
   "metadata": {},
   "outputs": [
    {
     "name": "stdout",
     "output_type": "stream",
     "text": [
      "MAE for LassoRegression : 803.087\n",
      "MAPE for LassoRegression : 45.197\n",
      "RMSE for LassoRegression : 1143.747\n"
     ]
    }
   ],
   "source": [
    "lassoreg = evaluate_model('LassoRegression', GRID_LASSO.best_estimator_, X_test_scaled, y_test)"
   ]
  },
  {
   "cell_type": "code",
   "execution_count": 83,
   "metadata": {},
   "outputs": [
    {
     "data": {
      "text/html": [
       "<div>\n",
       "<style scoped>\n",
       "    .dataframe tbody tr th:only-of-type {\n",
       "        vertical-align: middle;\n",
       "    }\n",
       "\n",
       "    .dataframe tbody tr th {\n",
       "        vertical-align: top;\n",
       "    }\n",
       "\n",
       "    .dataframe thead th {\n",
       "        text-align: right;\n",
       "    }\n",
       "</style>\n",
       "<table border=\"1\" class=\"dataframe\">\n",
       "  <thead>\n",
       "    <tr style=\"text-align: right;\">\n",
       "      <th></th>\n",
       "      <th>MAE</th>\n",
       "      <th>MAPE</th>\n",
       "      <th>RMSE</th>\n",
       "    </tr>\n",
       "  </thead>\n",
       "  <tbody>\n",
       "    <tr>\n",
       "      <th>DummyRegressorMedian</th>\n",
       "      <td>2806.394</td>\n",
       "      <td>110.422</td>\n",
       "      <td>4258.833</td>\n",
       "    </tr>\n",
       "    <tr>\n",
       "      <th>DummyRegressorQuantile</th>\n",
       "      <td>3105.765</td>\n",
       "      <td>60.473</td>\n",
       "      <td>4964.068</td>\n",
       "    </tr>\n",
       "    <tr>\n",
       "      <th>LinearRegression</th>\n",
       "      <td>802.058</td>\n",
       "      <td>45.038</td>\n",
       "      <td>1143.712</td>\n",
       "    </tr>\n",
       "    <tr>\n",
       "      <th>RidgeRegression</th>\n",
       "      <td>803.104</td>\n",
       "      <td>45.201</td>\n",
       "      <td>1143.745</td>\n",
       "    </tr>\n",
       "    <tr>\n",
       "      <th>LassoRegression</th>\n",
       "      <td>803.087</td>\n",
       "      <td>45.197</td>\n",
       "      <td>1143.747</td>\n",
       "    </tr>\n",
       "  </tbody>\n",
       "</table>\n",
       "</div>"
      ],
      "text/plain": [
       "                             MAE     MAPE      RMSE\n",
       "DummyRegressorMedian    2806.394  110.422  4258.833\n",
       "DummyRegressorQuantile  3105.765   60.473  4964.068\n",
       "LinearRegression         802.058   45.038  1143.712\n",
       "RidgeRegression          803.104   45.201  1143.745\n",
       "LassoRegression          803.087   45.197  1143.747"
      ]
     },
     "execution_count": 83,
     "metadata": {},
     "output_type": "execute_result"
    }
   ],
   "source": [
    "model_comparison = pd.concat([model_comparison, lassoreg], 0)\n",
    "model_comparison.head()"
   ]
  },
  {
   "cell_type": "markdown",
   "metadata": {},
   "source": [
    "#### 3. Elastic Net Regression"
   ]
  },
  {
   "cell_type": "code",
   "execution_count": 88,
   "metadata": {},
   "outputs": [
    {
     "data": {
      "text/plain": [
       "GridSearchCV(cv=5, estimator=ElasticNet(random_state=20202020), n_jobs=-1,\n",
       "             param_grid={'alpha': array([0.        , 0.00833333, 0.01666667, 0.025     , 0.03333333,\n",
       "       0.04166667, 0.05      , 0.05833333, 0.06666667, 0.075     ,\n",
       "       0.08333333, 0.09166667, 0.1       , 0.10833333, 0.11666667,\n",
       "       0.125     , 0.13333333, 0.14166667, 0.15      , 0.15833333,\n",
       "       0.16666667, 0.175     , 0.18333333, 0.19166667, 0.2       ]),\n",
       "                         'l1_ratio': array([0.8       , 0.80833333, 0.81666667, 0.825     , 0.83333333,\n",
       "       0.84166667, 0.85      , 0.85833333, 0.86666667, 0.875     ,\n",
       "       0.88333333, 0.89166667, 0.9       , 0.90833333, 0.91666667,\n",
       "       0.925     , 0.93333333, 0.94166667, 0.95      , 0.95833333,\n",
       "       0.96666667, 0.975     , 0.98333333, 0.99166667, 1.        ])},\n",
       "             scoring='neg_root_mean_squared_error')"
      ]
     },
     "execution_count": 88,
     "metadata": {},
     "output_type": "execute_result"
    }
   ],
   "source": [
    "ElasticNet_params = {'alpha' : np.linspace(0, 0.2, 25),\n",
    "                     'l1_ratio' : np.linspace(0.8, 1, 25)} \n",
    "\n",
    "elasticnet = ElasticNet(random_state = 20202020)\n",
    "\n",
    "GRID_EN = GridSearchCV(elasticnet, param_grid = ElasticNet_params, cv = 5, scoring = 'neg_root_mean_squared_error', n_jobs = -1)\n",
    "\n",
    "GRID_EN.fit(X_train_scaled, y_train)"
   ]
  },
  {
   "cell_type": "code",
   "execution_count": 89,
   "metadata": {},
   "outputs": [
    {
     "data": {
      "text/plain": [
       "{'alpha': 0.08333333333333333, 'l1_ratio': 1.0}"
      ]
     },
     "execution_count": 89,
     "metadata": {},
     "output_type": "execute_result"
    }
   ],
   "source": [
    "GRID_EN.best_params_"
   ]
  },
  {
   "cell_type": "code",
   "execution_count": 90,
   "metadata": {},
   "outputs": [
    {
     "name": "stdout",
     "output_type": "stream",
     "text": [
      "MAE for ElasticNetRegression : 803.089\n",
      "MAPE for ElasticNetRegression : 45.198\n",
      "RMSE for ElasticNetRegression : 1143.747\n"
     ]
    }
   ],
   "source": [
    "elasticnetreg = evaluate_model('ElasticNetRegression', GRID_EN.best_estimator_, X_test_scaled, y_test)"
   ]
  },
  {
   "cell_type": "code",
   "execution_count": 91,
   "metadata": {},
   "outputs": [
    {
     "data": {
      "text/html": [
       "<div>\n",
       "<style scoped>\n",
       "    .dataframe tbody tr th:only-of-type {\n",
       "        vertical-align: middle;\n",
       "    }\n",
       "\n",
       "    .dataframe tbody tr th {\n",
       "        vertical-align: top;\n",
       "    }\n",
       "\n",
       "    .dataframe thead th {\n",
       "        text-align: right;\n",
       "    }\n",
       "</style>\n",
       "<table border=\"1\" class=\"dataframe\">\n",
       "  <thead>\n",
       "    <tr style=\"text-align: right;\">\n",
       "      <th></th>\n",
       "      <th>MAE</th>\n",
       "      <th>MAPE</th>\n",
       "      <th>RMSE</th>\n",
       "    </tr>\n",
       "  </thead>\n",
       "  <tbody>\n",
       "    <tr>\n",
       "      <th>DummyRegressorMedian</th>\n",
       "      <td>2806.394</td>\n",
       "      <td>110.422</td>\n",
       "      <td>4258.833</td>\n",
       "    </tr>\n",
       "    <tr>\n",
       "      <th>DummyRegressorQuantile</th>\n",
       "      <td>3105.765</td>\n",
       "      <td>60.473</td>\n",
       "      <td>4964.068</td>\n",
       "    </tr>\n",
       "    <tr>\n",
       "      <th>LinearRegression</th>\n",
       "      <td>802.058</td>\n",
       "      <td>45.038</td>\n",
       "      <td>1143.712</td>\n",
       "    </tr>\n",
       "    <tr>\n",
       "      <th>RidgeRegression</th>\n",
       "      <td>803.104</td>\n",
       "      <td>45.201</td>\n",
       "      <td>1143.745</td>\n",
       "    </tr>\n",
       "    <tr>\n",
       "      <th>LassoRegression</th>\n",
       "      <td>803.087</td>\n",
       "      <td>45.197</td>\n",
       "      <td>1143.747</td>\n",
       "    </tr>\n",
       "    <tr>\n",
       "      <th>ElasticNetRegression</th>\n",
       "      <td>803.089</td>\n",
       "      <td>45.198</td>\n",
       "      <td>1143.747</td>\n",
       "    </tr>\n",
       "  </tbody>\n",
       "</table>\n",
       "</div>"
      ],
      "text/plain": [
       "                             MAE     MAPE      RMSE\n",
       "DummyRegressorMedian    2806.394  110.422  4258.833\n",
       "DummyRegressorQuantile  3105.765   60.473  4964.068\n",
       "LinearRegression         802.058   45.038  1143.712\n",
       "RidgeRegression          803.104   45.201  1143.745\n",
       "LassoRegression          803.087   45.197  1143.747\n",
       "ElasticNetRegression     803.089   45.198  1143.747"
      ]
     },
     "execution_count": 91,
     "metadata": {},
     "output_type": "execute_result"
    }
   ],
   "source": [
    "model_comparison = pd.concat([model_comparison, elasticnetreg], 0)\n",
    "model_comparison"
   ]
  },
  {
   "cell_type": "markdown",
   "metadata": {},
   "source": [
    "### 4. Nearest neighbors methods"
   ]
  },
  {
   "cell_type": "markdown",
   "metadata": {},
   "source": [
    "#### 1. k-nearest neighbors"
   ]
  },
  {
   "cell_type": "code",
   "execution_count": 92,
   "metadata": {},
   "outputs": [
    {
     "data": {
      "text/plain": [
       "GridSearchCV(cv=5, estimator=KNeighborsRegressor(), n_jobs=-1,\n",
       "             param_grid={'n_neighbors': [3, 4, 5, 6], 'p': [1, 2],\n",
       "                         'weights': ['uniform', 'distance']},\n",
       "             scoring='neg_root_mean_squared_error')"
      ]
     },
     "execution_count": 92,
     "metadata": {},
     "output_type": "execute_result"
    }
   ],
   "source": [
    "knn_params = {'p' : [1, 2], # manhattan / euclidean\n",
    "              'weights' : ['uniform', 'distance'],\n",
    "              'n_neighbors' : [3, 4, 5, 6]}\n",
    "\n",
    "KNN = KNeighborsRegressor()\n",
    "\n",
    "GRID_KNN = GridSearchCV(KNN, param_grid = knn_params, cv = 5, scoring = 'neg_root_mean_squared_error', n_jobs = -1)\n",
    "\n",
    "GRID_KNN.fit(X_train_scaled, y_train)"
   ]
  },
  {
   "cell_type": "code",
   "execution_count": 93,
   "metadata": {},
   "outputs": [
    {
     "data": {
      "text/plain": [
       "{'n_neighbors': 4, 'p': 2, 'weights': 'distance'}"
      ]
     },
     "execution_count": 93,
     "metadata": {},
     "output_type": "execute_result"
    }
   ],
   "source": [
    "GRID_KNN.best_params_"
   ]
  },
  {
   "cell_type": "code",
   "execution_count": 94,
   "metadata": {},
   "outputs": [
    {
     "name": "stdout",
     "output_type": "stream",
     "text": [
      "MAE for KNN : 482.132\n",
      "MAPE for KNN : 16.075\n",
      "RMSE for KNN : 956.333\n"
     ]
    }
   ],
   "source": [
    "knnreg = evaluate_model('KNN', GRID_KNN.best_estimator_, X_test_scaled, y_test)"
   ]
  },
  {
   "cell_type": "code",
   "execution_count": 95,
   "metadata": {},
   "outputs": [
    {
     "data": {
      "text/html": [
       "<div>\n",
       "<style scoped>\n",
       "    .dataframe tbody tr th:only-of-type {\n",
       "        vertical-align: middle;\n",
       "    }\n",
       "\n",
       "    .dataframe tbody tr th {\n",
       "        vertical-align: top;\n",
       "    }\n",
       "\n",
       "    .dataframe thead th {\n",
       "        text-align: right;\n",
       "    }\n",
       "</style>\n",
       "<table border=\"1\" class=\"dataframe\">\n",
       "  <thead>\n",
       "    <tr style=\"text-align: right;\">\n",
       "      <th></th>\n",
       "      <th>MAE</th>\n",
       "      <th>MAPE</th>\n",
       "      <th>RMSE</th>\n",
       "    </tr>\n",
       "  </thead>\n",
       "  <tbody>\n",
       "    <tr>\n",
       "      <th>DummyRegressorMedian</th>\n",
       "      <td>2806.394</td>\n",
       "      <td>110.422</td>\n",
       "      <td>4258.833</td>\n",
       "    </tr>\n",
       "    <tr>\n",
       "      <th>DummyRegressorQuantile</th>\n",
       "      <td>3105.765</td>\n",
       "      <td>60.473</td>\n",
       "      <td>4964.068</td>\n",
       "    </tr>\n",
       "    <tr>\n",
       "      <th>LinearRegression</th>\n",
       "      <td>802.058</td>\n",
       "      <td>45.038</td>\n",
       "      <td>1143.712</td>\n",
       "    </tr>\n",
       "    <tr>\n",
       "      <th>RidgeRegression</th>\n",
       "      <td>803.104</td>\n",
       "      <td>45.201</td>\n",
       "      <td>1143.745</td>\n",
       "    </tr>\n",
       "    <tr>\n",
       "      <th>LassoRegression</th>\n",
       "      <td>803.087</td>\n",
       "      <td>45.197</td>\n",
       "      <td>1143.747</td>\n",
       "    </tr>\n",
       "    <tr>\n",
       "      <th>ElasticNetRegression</th>\n",
       "      <td>803.089</td>\n",
       "      <td>45.198</td>\n",
       "      <td>1143.747</td>\n",
       "    </tr>\n",
       "    <tr>\n",
       "      <th>KNN</th>\n",
       "      <td>482.132</td>\n",
       "      <td>16.075</td>\n",
       "      <td>956.333</td>\n",
       "    </tr>\n",
       "  </tbody>\n",
       "</table>\n",
       "</div>"
      ],
      "text/plain": [
       "                             MAE     MAPE      RMSE\n",
       "DummyRegressorMedian    2806.394  110.422  4258.833\n",
       "DummyRegressorQuantile  3105.765   60.473  4964.068\n",
       "LinearRegression         802.058   45.038  1143.712\n",
       "RidgeRegression          803.104   45.201  1143.745\n",
       "LassoRegression          803.087   45.197  1143.747\n",
       "ElasticNetRegression     803.089   45.198  1143.747\n",
       "KNN                      482.132   16.075   956.333"
      ]
     },
     "execution_count": 95,
     "metadata": {},
     "output_type": "execute_result"
    }
   ],
   "source": [
    "model_comparison = pd.concat([model_comparison, knnreg], 0)\n",
    "model_comparison"
   ]
  },
  {
   "cell_type": "markdown",
   "metadata": {},
   "source": [
    "#### 2. Radius neighbors"
   ]
  },
  {
   "cell_type": "code",
   "execution_count": 16,
   "metadata": {
    "scrolled": true
   },
   "outputs": [
    {
     "data": {
      "text/plain": [
       "GridSearchCV(cv=5, estimator=RadiusNeighborsRegressor(), n_jobs=-1,\n",
       "             param_grid={'p': [2], 'radius': [4, 4.5, 5, 5.5, 6],\n",
       "                         'weights': ['distance']},\n",
       "             scoring='neg_root_mean_squared_error')"
      ]
     },
     "execution_count": 16,
     "metadata": {},
     "output_type": "execute_result"
    }
   ],
   "source": [
    "rnn_params = {'p' : [2], # manhattan / euclidean\n",
    "              'weights' : ['distance'], # uniform / distance\n",
    "              'radius' : [4, 4.5, 5, 5.5, 6]}\n",
    "\n",
    "RNN = RadiusNeighborsRegressor()\n",
    "\n",
    "GRID_RNN = GridSearchCV(RNN, param_grid = rnn_params, cv = 5, scoring = 'neg_root_mean_squared_error', n_jobs = -1)\n",
    "\n",
    "GRID_RNN.fit(X_train_scaled, y_train)"
   ]
  },
  {
   "cell_type": "code",
   "execution_count": 17,
   "metadata": {},
   "outputs": [
    {
     "data": {
      "text/plain": [
       "{'p': 2, 'radius': 5, 'weights': 'distance'}"
      ]
     },
     "execution_count": 17,
     "metadata": {},
     "output_type": "execute_result"
    }
   ],
   "source": [
    "GRID_RNN.best_params_"
   ]
  },
  {
   "cell_type": "code",
   "execution_count": 18,
   "metadata": {},
   "outputs": [
    {
     "name": "stdout",
     "output_type": "stream",
     "text": [
      "MAE for RadiusNN : 1735.694\n",
      "MAPE for RadiusNN : 85.742\n",
      "RMSE for RadiusNN : 2806.814\n"
     ]
    }
   ],
   "source": [
    "rnnreg = evaluate_model('RadiusNN', GRID_RNN.best_estimator_, X_test_scaled, y_test)"
   ]
  },
  {
   "cell_type": "code",
   "execution_count": 19,
   "metadata": {},
   "outputs": [
    {
     "data": {
      "text/html": [
       "<div>\n",
       "<style scoped>\n",
       "    .dataframe tbody tr th:only-of-type {\n",
       "        vertical-align: middle;\n",
       "    }\n",
       "\n",
       "    .dataframe tbody tr th {\n",
       "        vertical-align: top;\n",
       "    }\n",
       "\n",
       "    .dataframe thead th {\n",
       "        text-align: right;\n",
       "    }\n",
       "</style>\n",
       "<table border=\"1\" class=\"dataframe\">\n",
       "  <thead>\n",
       "    <tr style=\"text-align: right;\">\n",
       "      <th></th>\n",
       "      <th>MAE</th>\n",
       "      <th>MAPE</th>\n",
       "      <th>RMSE</th>\n",
       "    </tr>\n",
       "  </thead>\n",
       "  <tbody>\n",
       "    <tr>\n",
       "      <th>DummyRegressorMedian</th>\n",
       "      <td>2806.394</td>\n",
       "      <td>110.422</td>\n",
       "      <td>4258.833</td>\n",
       "    </tr>\n",
       "    <tr>\n",
       "      <th>DummyRegressorQuantile</th>\n",
       "      <td>3105.765</td>\n",
       "      <td>60.473</td>\n",
       "      <td>4964.068</td>\n",
       "    </tr>\n",
       "    <tr>\n",
       "      <th>LinearRegression</th>\n",
       "      <td>802.058</td>\n",
       "      <td>45.038</td>\n",
       "      <td>1143.712</td>\n",
       "    </tr>\n",
       "    <tr>\n",
       "      <th>RidgeRegression</th>\n",
       "      <td>803.104</td>\n",
       "      <td>45.201</td>\n",
       "      <td>1143.745</td>\n",
       "    </tr>\n",
       "    <tr>\n",
       "      <th>LassoRegression</th>\n",
       "      <td>803.087</td>\n",
       "      <td>45.197</td>\n",
       "      <td>1143.747</td>\n",
       "    </tr>\n",
       "    <tr>\n",
       "      <th>ElasticNetRegression</th>\n",
       "      <td>803.089</td>\n",
       "      <td>45.198</td>\n",
       "      <td>1143.747</td>\n",
       "    </tr>\n",
       "    <tr>\n",
       "      <th>KNN</th>\n",
       "      <td>482.132</td>\n",
       "      <td>16.075</td>\n",
       "      <td>956.333</td>\n",
       "    </tr>\n",
       "    <tr>\n",
       "      <th>RadiusNN</th>\n",
       "      <td>1735.694</td>\n",
       "      <td>85.742</td>\n",
       "      <td>2806.814</td>\n",
       "    </tr>\n",
       "  </tbody>\n",
       "</table>\n",
       "</div>"
      ],
      "text/plain": [
       "                             MAE     MAPE      RMSE\n",
       "DummyRegressorMedian    2806.394  110.422  4258.833\n",
       "DummyRegressorQuantile  3105.765   60.473  4964.068\n",
       "LinearRegression         802.058   45.038  1143.712\n",
       "RidgeRegression          803.104   45.201  1143.745\n",
       "LassoRegression          803.087   45.197  1143.747\n",
       "ElasticNetRegression     803.089   45.198  1143.747\n",
       "KNN                      482.132   16.075   956.333\n",
       "RadiusNN                1735.694   85.742  2806.814"
      ]
     },
     "execution_count": 19,
     "metadata": {},
     "output_type": "execute_result"
    }
   ],
   "source": [
    "model_comparison = pd.concat([model_comparison, rnnreg], 0)\n",
    "model_comparison"
   ]
  },
  {
   "cell_type": "markdown",
   "metadata": {},
   "source": [
    "### 5. Support Vector Machines"
   ]
  },
  {
   "cell_type": "markdown",
   "metadata": {},
   "source": [
    "#### 1. Linear kernel"
   ]
  },
  {
   "cell_type": "code",
   "execution_count": 70,
   "metadata": {},
   "outputs": [
    {
     "data": {
      "text/plain": [
       "GridSearchCV(cv=3, estimator=SVR(kernel='linear'), n_jobs=-1,\n",
       "             param_grid={'C': [500, 1000, 2000]},\n",
       "             scoring='neg_root_mean_squared_error')"
      ]
     },
     "execution_count": 70,
     "metadata": {},
     "output_type": "execute_result"
    }
   ],
   "source": [
    "svr_lin_params = {'C' : [500, 1000, 2000]}\n",
    "\n",
    "svr = SVR(kernel = 'linear')\n",
    "\n",
    "GRID_SVM = GridSearchCV(svr, param_grid = svr_lin_params, cv = 3, scoring = 'neg_root_mean_squared_error', n_jobs = -1)\n",
    "\n",
    "GRID_SVM.fit(X_train_scaled, y_train)"
   ]
  },
  {
   "cell_type": "code",
   "execution_count": 71,
   "metadata": {},
   "outputs": [
    {
     "data": {
      "text/plain": [
       "{'C': 2000}"
      ]
     },
     "execution_count": 71,
     "metadata": {},
     "output_type": "execute_result"
    }
   ],
   "source": [
    "GRID_SVM.best_params_"
   ]
  },
  {
   "cell_type": "code",
   "execution_count": 72,
   "metadata": {},
   "outputs": [
    {
     "name": "stdout",
     "output_type": "stream",
     "text": [
      "MAE for SVMLinear : 740.706\n",
      "MAPE for SVMLinear : 32.642\n",
      "RMSE for SVMLinear : 1269.544\n"
     ]
    }
   ],
   "source": [
    "svmlin = evaluate_model('SVMLinear', GRID_SVM.best_estimator_, X_test_scaled, y_test)"
   ]
  },
  {
   "cell_type": "code",
   "execution_count": 77,
   "metadata": {},
   "outputs": [
    {
     "data": {
      "text/html": [
       "<div>\n",
       "<style scoped>\n",
       "    .dataframe tbody tr th:only-of-type {\n",
       "        vertical-align: middle;\n",
       "    }\n",
       "\n",
       "    .dataframe tbody tr th {\n",
       "        vertical-align: top;\n",
       "    }\n",
       "\n",
       "    .dataframe thead th {\n",
       "        text-align: right;\n",
       "    }\n",
       "</style>\n",
       "<table border=\"1\" class=\"dataframe\">\n",
       "  <thead>\n",
       "    <tr style=\"text-align: right;\">\n",
       "      <th></th>\n",
       "      <th>MAE</th>\n",
       "      <th>MAPE</th>\n",
       "      <th>RMSE</th>\n",
       "    </tr>\n",
       "  </thead>\n",
       "  <tbody>\n",
       "    <tr>\n",
       "      <th>DummyRegressorMedian</th>\n",
       "      <td>2806.394</td>\n",
       "      <td>110.422</td>\n",
       "      <td>4258.833</td>\n",
       "    </tr>\n",
       "    <tr>\n",
       "      <th>DummyRegressorQuantile</th>\n",
       "      <td>3105.765</td>\n",
       "      <td>60.473</td>\n",
       "      <td>4964.068</td>\n",
       "    </tr>\n",
       "    <tr>\n",
       "      <th>LinearRegression</th>\n",
       "      <td>802.058</td>\n",
       "      <td>45.038</td>\n",
       "      <td>1143.712</td>\n",
       "    </tr>\n",
       "    <tr>\n",
       "      <th>RidgeRegression</th>\n",
       "      <td>803.104</td>\n",
       "      <td>45.201</td>\n",
       "      <td>1143.745</td>\n",
       "    </tr>\n",
       "    <tr>\n",
       "      <th>LassoRegression</th>\n",
       "      <td>803.087</td>\n",
       "      <td>45.197</td>\n",
       "      <td>1143.747</td>\n",
       "    </tr>\n",
       "    <tr>\n",
       "      <th>ElasticNetRegression</th>\n",
       "      <td>803.089</td>\n",
       "      <td>45.198</td>\n",
       "      <td>1143.747</td>\n",
       "    </tr>\n",
       "    <tr>\n",
       "      <th>KNN</th>\n",
       "      <td>482.132</td>\n",
       "      <td>16.075</td>\n",
       "      <td>956.333</td>\n",
       "    </tr>\n",
       "    <tr>\n",
       "      <th>RadiusNN</th>\n",
       "      <td>1735.694</td>\n",
       "      <td>85.742</td>\n",
       "      <td>2806.814</td>\n",
       "    </tr>\n",
       "    <tr>\n",
       "      <th>SVMLinear</th>\n",
       "      <td>740.706</td>\n",
       "      <td>32.642</td>\n",
       "      <td>1269.544</td>\n",
       "    </tr>\n",
       "  </tbody>\n",
       "</table>\n",
       "</div>"
      ],
      "text/plain": [
       "                             MAE     MAPE      RMSE\n",
       "DummyRegressorMedian    2806.394  110.422  4258.833\n",
       "DummyRegressorQuantile  3105.765   60.473  4964.068\n",
       "LinearRegression         802.058   45.038  1143.712\n",
       "RidgeRegression          803.104   45.201  1143.745\n",
       "LassoRegression          803.087   45.197  1143.747\n",
       "ElasticNetRegression     803.089   45.198  1143.747\n",
       "KNN                      482.132   16.075   956.333\n",
       "RadiusNN                1735.694   85.742  2806.814\n",
       "SVMLinear                740.706   32.642  1269.544"
      ]
     },
     "execution_count": 77,
     "metadata": {},
     "output_type": "execute_result"
    }
   ],
   "source": [
    "# Increasing C from 80 to 2000 only reduced RMSE by 1, so theres no point in further optimizing\n",
    "\n",
    "model_comparison = pd.concat([model_comparison, svmlin], 0)\n",
    "model_comparison"
   ]
  },
  {
   "cell_type": "markdown",
   "metadata": {},
   "source": [
    "#### 2. Polynomial kernel"
   ]
  },
  {
   "cell_type": "code",
   "execution_count": 79,
   "metadata": {},
   "outputs": [
    {
     "data": {
      "text/plain": [
       "GridSearchCV(cv=3, estimator=SVR(kernel='poly'), n_jobs=-1,\n",
       "             param_grid={'C': [5000, 10000], 'degree': [3, 4, 5]},\n",
       "             scoring='neg_root_mean_squared_error')"
      ]
     },
     "execution_count": 79,
     "metadata": {},
     "output_type": "execute_result"
    }
   ],
   "source": [
    "svr_poly_params = {'C' : [5000, 10000],\n",
    "                   'degree' : [3, 4, 5]}\n",
    "\n",
    "svr = SVR(kernel = 'poly')\n",
    "\n",
    "GRID_SVM = GridSearchCV(svr, param_grid = svr_poly_params, cv = 3, scoring = 'neg_root_mean_squared_error', n_jobs = -1)\n",
    "\n",
    "GRID_SVM.fit(X_train_scaled, y_train)"
   ]
  },
  {
   "cell_type": "code",
   "execution_count": 80,
   "metadata": {},
   "outputs": [
    {
     "data": {
      "text/plain": [
       "{'C': 10000, 'degree': 4}"
      ]
     },
     "execution_count": 80,
     "metadata": {},
     "output_type": "execute_result"
    }
   ],
   "source": [
    "GRID_SVM.best_params_"
   ]
  },
  {
   "cell_type": "code",
   "execution_count": 81,
   "metadata": {},
   "outputs": [
    {
     "name": "stdout",
     "output_type": "stream",
     "text": [
      "MAE for SVMPolynomial : 321.621\n",
      "MAPE for SVMPolynomial : 9.542\n",
      "RMSE for SVMPolynomial : 597.217\n"
     ]
    }
   ],
   "source": [
    "svmpoly = evaluate_model('SVMPolynomial', GRID_SVM.best_estimator_, X_test_scaled, y_test)"
   ]
  },
  {
   "cell_type": "code",
   "execution_count": 83,
   "metadata": {},
   "outputs": [
    {
     "data": {
      "text/html": [
       "<div>\n",
       "<style scoped>\n",
       "    .dataframe tbody tr th:only-of-type {\n",
       "        vertical-align: middle;\n",
       "    }\n",
       "\n",
       "    .dataframe tbody tr th {\n",
       "        vertical-align: top;\n",
       "    }\n",
       "\n",
       "    .dataframe thead th {\n",
       "        text-align: right;\n",
       "    }\n",
       "</style>\n",
       "<table border=\"1\" class=\"dataframe\">\n",
       "  <thead>\n",
       "    <tr style=\"text-align: right;\">\n",
       "      <th></th>\n",
       "      <th>MAE</th>\n",
       "      <th>MAPE</th>\n",
       "      <th>RMSE</th>\n",
       "    </tr>\n",
       "  </thead>\n",
       "  <tbody>\n",
       "    <tr>\n",
       "      <th>DummyRegressorMedian</th>\n",
       "      <td>2806.394</td>\n",
       "      <td>110.422</td>\n",
       "      <td>4258.833</td>\n",
       "    </tr>\n",
       "    <tr>\n",
       "      <th>DummyRegressorQuantile</th>\n",
       "      <td>3105.765</td>\n",
       "      <td>60.473</td>\n",
       "      <td>4964.068</td>\n",
       "    </tr>\n",
       "    <tr>\n",
       "      <th>LinearRegression</th>\n",
       "      <td>802.058</td>\n",
       "      <td>45.038</td>\n",
       "      <td>1143.712</td>\n",
       "    </tr>\n",
       "    <tr>\n",
       "      <th>RidgeRegression</th>\n",
       "      <td>803.104</td>\n",
       "      <td>45.201</td>\n",
       "      <td>1143.745</td>\n",
       "    </tr>\n",
       "    <tr>\n",
       "      <th>LassoRegression</th>\n",
       "      <td>803.087</td>\n",
       "      <td>45.197</td>\n",
       "      <td>1143.747</td>\n",
       "    </tr>\n",
       "    <tr>\n",
       "      <th>ElasticNetRegression</th>\n",
       "      <td>803.089</td>\n",
       "      <td>45.198</td>\n",
       "      <td>1143.747</td>\n",
       "    </tr>\n",
       "    <tr>\n",
       "      <th>KNN</th>\n",
       "      <td>482.132</td>\n",
       "      <td>16.075</td>\n",
       "      <td>956.333</td>\n",
       "    </tr>\n",
       "    <tr>\n",
       "      <th>RadiusNN</th>\n",
       "      <td>1735.694</td>\n",
       "      <td>85.742</td>\n",
       "      <td>2806.814</td>\n",
       "    </tr>\n",
       "    <tr>\n",
       "      <th>SVMLinear</th>\n",
       "      <td>740.706</td>\n",
       "      <td>32.642</td>\n",
       "      <td>1269.544</td>\n",
       "    </tr>\n",
       "    <tr>\n",
       "      <th>SVMPolynomial</th>\n",
       "      <td>321.621</td>\n",
       "      <td>9.542</td>\n",
       "      <td>597.217</td>\n",
       "    </tr>\n",
       "  </tbody>\n",
       "</table>\n",
       "</div>"
      ],
      "text/plain": [
       "                             MAE     MAPE      RMSE\n",
       "DummyRegressorMedian    2806.394  110.422  4258.833\n",
       "DummyRegressorQuantile  3105.765   60.473  4964.068\n",
       "LinearRegression         802.058   45.038  1143.712\n",
       "RidgeRegression          803.104   45.201  1143.745\n",
       "LassoRegression          803.087   45.197  1143.747\n",
       "ElasticNetRegression     803.089   45.198  1143.747\n",
       "KNN                      482.132   16.075   956.333\n",
       "RadiusNN                1735.694   85.742  2806.814\n",
       "SVMLinear                740.706   32.642  1269.544\n",
       "SVMPolynomial            321.621    9.542   597.217"
      ]
     },
     "execution_count": 83,
     "metadata": {},
     "output_type": "execute_result"
    }
   ],
   "source": [
    "# Changing C from 4000 to 10000 only decreased RMSE by 5, so I wont further optimize it.\n",
    "\n",
    "model_comparison = pd.concat([model_comparison, svmpoly], 0)\n",
    "model_comparison"
   ]
  },
  {
   "cell_type": "markdown",
   "metadata": {},
   "source": [
    "Save this SVM model as this is far the best yet, and gridsearch took about 12 hours to train"
   ]
  },
  {
   "cell_type": "code",
   "execution_count": 89,
   "metadata": {},
   "outputs": [],
   "source": [
    "pkl_filename = \"SVM_polynomial.pkl\"\n",
    "\n",
    "with open(pkl_filename, 'wb') as file:\n",
    "    pickle.dump(GRID_SVM.best_estimator_, file)"
   ]
  },
  {
   "cell_type": "code",
   "execution_count": 92,
   "metadata": {},
   "outputs": [],
   "source": [
    "# how to read it back into python\n",
    "#with open(pkl_filename, 'rb') as file:\n",
    "#    pickle_model = pickle.load(file)\n",
    "#pickle_model.score(X_test_scaled, y_test, )"
   ]
  },
  {
   "cell_type": "markdown",
   "metadata": {},
   "source": [
    "#### 3. Radial Basis Function kernel"
   ]
  },
  {
   "cell_type": "code",
   "execution_count": 112,
   "metadata": {},
   "outputs": [
    {
     "data": {
      "text/plain": [
       "GridSearchCV(cv=3, estimator=SVR(), n_jobs=-1,\n",
       "             param_grid={'C': [50000], 'gamma': [0.03, 0.035]},\n",
       "             scoring='neg_root_mean_squared_error')"
      ]
     },
     "execution_count": 112,
     "metadata": {},
     "output_type": "execute_result"
    }
   ],
   "source": [
    "svr_rbf_params = {'C' : [50000],\n",
    "                  'gamma' : [0.03, 0.035]}\n",
    "\n",
    "svr = SVR(kernel = 'rbf')\n",
    "\n",
    "GRID_SVM = GridSearchCV(svr, param_grid = svr_rbf_params, cv = 3, scoring = 'neg_root_mean_squared_error', n_jobs = -1)\n",
    "\n",
    "GRID_SVM.fit(X_train_scaled, y_train)"
   ]
  },
  {
   "cell_type": "code",
   "execution_count": 113,
   "metadata": {},
   "outputs": [
    {
     "data": {
      "text/plain": [
       "{'C': 50000, 'gamma': 0.03}"
      ]
     },
     "execution_count": 113,
     "metadata": {},
     "output_type": "execute_result"
    }
   ],
   "source": [
    "GRID_SVM.best_params_"
   ]
  },
  {
   "cell_type": "code",
   "execution_count": 114,
   "metadata": {},
   "outputs": [
    {
     "name": "stdout",
     "output_type": "stream",
     "text": [
      "MAE for SVMRadialBasis : 314.482\n",
      "MAPE for SVMRadialBasis : 9.035\n",
      "RMSE for SVMRadialBasis : 584.013\n"
     ]
    }
   ],
   "source": [
    "svmrbf = evaluate_model('SVMRadialBasis', GRID_SVM.best_estimator_, X_test_scaled, y_test)"
   ]
  },
  {
   "cell_type": "code",
   "execution_count": 115,
   "metadata": {},
   "outputs": [
    {
     "data": {
      "text/html": [
       "<div>\n",
       "<style scoped>\n",
       "    .dataframe tbody tr th:only-of-type {\n",
       "        vertical-align: middle;\n",
       "    }\n",
       "\n",
       "    .dataframe tbody tr th {\n",
       "        vertical-align: top;\n",
       "    }\n",
       "\n",
       "    .dataframe thead th {\n",
       "        text-align: right;\n",
       "    }\n",
       "</style>\n",
       "<table border=\"1\" class=\"dataframe\">\n",
       "  <thead>\n",
       "    <tr style=\"text-align: right;\">\n",
       "      <th></th>\n",
       "      <th>MAE</th>\n",
       "      <th>MAPE</th>\n",
       "      <th>RMSE</th>\n",
       "    </tr>\n",
       "  </thead>\n",
       "  <tbody>\n",
       "    <tr>\n",
       "      <th>DummyRegressorMedian</th>\n",
       "      <td>2806.394</td>\n",
       "      <td>110.422</td>\n",
       "      <td>4258.833</td>\n",
       "    </tr>\n",
       "    <tr>\n",
       "      <th>DummyRegressorQuantile</th>\n",
       "      <td>3105.765</td>\n",
       "      <td>60.473</td>\n",
       "      <td>4964.068</td>\n",
       "    </tr>\n",
       "    <tr>\n",
       "      <th>LinearRegression</th>\n",
       "      <td>802.058</td>\n",
       "      <td>45.038</td>\n",
       "      <td>1143.712</td>\n",
       "    </tr>\n",
       "    <tr>\n",
       "      <th>RidgeRegression</th>\n",
       "      <td>803.104</td>\n",
       "      <td>45.201</td>\n",
       "      <td>1143.745</td>\n",
       "    </tr>\n",
       "    <tr>\n",
       "      <th>LassoRegression</th>\n",
       "      <td>803.087</td>\n",
       "      <td>45.197</td>\n",
       "      <td>1143.747</td>\n",
       "    </tr>\n",
       "    <tr>\n",
       "      <th>ElasticNetRegression</th>\n",
       "      <td>803.089</td>\n",
       "      <td>45.198</td>\n",
       "      <td>1143.747</td>\n",
       "    </tr>\n",
       "    <tr>\n",
       "      <th>KNN</th>\n",
       "      <td>482.132</td>\n",
       "      <td>16.075</td>\n",
       "      <td>956.333</td>\n",
       "    </tr>\n",
       "    <tr>\n",
       "      <th>RadiusNN</th>\n",
       "      <td>1735.694</td>\n",
       "      <td>85.742</td>\n",
       "      <td>2806.814</td>\n",
       "    </tr>\n",
       "    <tr>\n",
       "      <th>SVMLinear</th>\n",
       "      <td>740.706</td>\n",
       "      <td>32.642</td>\n",
       "      <td>1269.544</td>\n",
       "    </tr>\n",
       "    <tr>\n",
       "      <th>SVMPolynomial</th>\n",
       "      <td>321.621</td>\n",
       "      <td>9.542</td>\n",
       "      <td>597.217</td>\n",
       "    </tr>\n",
       "    <tr>\n",
       "      <th>SVMRadialBasis</th>\n",
       "      <td>314.482</td>\n",
       "      <td>9.035</td>\n",
       "      <td>584.013</td>\n",
       "    </tr>\n",
       "  </tbody>\n",
       "</table>\n",
       "</div>"
      ],
      "text/plain": [
       "                             MAE     MAPE      RMSE\n",
       "DummyRegressorMedian    2806.394  110.422  4258.833\n",
       "DummyRegressorQuantile  3105.765   60.473  4964.068\n",
       "LinearRegression         802.058   45.038  1143.712\n",
       "RidgeRegression          803.104   45.201  1143.745\n",
       "LassoRegression          803.087   45.197  1143.747\n",
       "ElasticNetRegression     803.089   45.198  1143.747\n",
       "KNN                      482.132   16.075   956.333\n",
       "RadiusNN                1735.694   85.742  2806.814\n",
       "SVMLinear                740.706   32.642  1269.544\n",
       "SVMPolynomial            321.621    9.542   597.217\n",
       "SVMRadialBasis           314.482    9.035   584.013"
      ]
     },
     "execution_count": 115,
     "metadata": {},
     "output_type": "execute_result"
    }
   ],
   "source": [
    "# c = 20000, gamma = 0.03, RMSE = 586\n",
    "\n",
    "model_comparison = pd.concat([model_comparison, svmrbf], 0)\n",
    "model_comparison"
   ]
  },
  {
   "cell_type": "code",
   "execution_count": 116,
   "metadata": {},
   "outputs": [],
   "source": [
    "pkl_filename = \"SVM_radialbasis.pkl\"\n",
    "\n",
    "with open(pkl_filename, 'wb') as file:\n",
    "    pickle.dump(GRID_SVM.best_estimator_, file)"
   ]
  },
  {
   "cell_type": "markdown",
   "metadata": {},
   "source": [
    "### 6. Decision Tree"
   ]
  },
  {
   "cell_type": "code",
   "execution_count": 139,
   "metadata": {},
   "outputs": [
    {
     "data": {
      "text/plain": [
       "GridSearchCV(cv=3, estimator=DecisionTreeRegressor(random_state=20202020),\n",
       "             n_jobs=-1,\n",
       "             param_grid={'max_depth': [15, 20],\n",
       "                         'max_features': [0.3333333333333333, 0.5,\n",
       "                                          0.6666666666666666, 1],\n",
       "                         'min_samples_leaf': [3, 5, 7],\n",
       "                         'min_samples_split': [100, 125]},\n",
       "             scoring='neg_root_mean_squared_error')"
      ]
     },
     "execution_count": 139,
     "metadata": {},
     "output_type": "execute_result"
    }
   ],
   "source": [
    "DT_params = {'max_depth' : [15, 20],\n",
    "             'min_samples_split' : [100, 125],\n",
    "             'min_samples_leaf' : [3, 5, 7],\n",
    "             'max_features' : [1/3, 1/2, 2/3, 1]}\n",
    "\n",
    "DT = DecisionTreeRegressor(random_state = 20202020)\n",
    "\n",
    "GRID_DT = GridSearchCV(DT, param_grid = DT_params, cv = 3, scoring = 'neg_root_mean_squared_error', n_jobs = -1)\n",
    "\n",
    "GRID_DT.fit(X_train, y_train)"
   ]
  },
  {
   "cell_type": "code",
   "execution_count": 140,
   "metadata": {},
   "outputs": [
    {
     "data": {
      "text/plain": [
       "{'max_depth': 15,\n",
       " 'max_features': 0.6666666666666666,\n",
       " 'min_samples_leaf': 5,\n",
       " 'min_samples_split': 100}"
      ]
     },
     "execution_count": 140,
     "metadata": {},
     "output_type": "execute_result"
    }
   ],
   "source": [
    "GRID_DT.best_params_"
   ]
  },
  {
   "cell_type": "code",
   "execution_count": 141,
   "metadata": {},
   "outputs": [
    {
     "name": "stdout",
     "output_type": "stream",
     "text": [
      "MAE for DecisionTree : 384.173\n",
      "MAPE for DecisionTree : 10.554\n",
      "RMSE for DecisionTree : 723.135\n"
     ]
    }
   ],
   "source": [
    "dtreg = evaluate_model('DecisionTree', GRID_DT.best_estimator_, X_test, y_test)"
   ]
  },
  {
   "cell_type": "code",
   "execution_count": 133,
   "metadata": {},
   "outputs": [
    {
     "data": {
      "text/html": [
       "<div>\n",
       "<style scoped>\n",
       "    .dataframe tbody tr th:only-of-type {\n",
       "        vertical-align: middle;\n",
       "    }\n",
       "\n",
       "    .dataframe tbody tr th {\n",
       "        vertical-align: top;\n",
       "    }\n",
       "\n",
       "    .dataframe thead th {\n",
       "        text-align: right;\n",
       "    }\n",
       "</style>\n",
       "<table border=\"1\" class=\"dataframe\">\n",
       "  <thead>\n",
       "    <tr style=\"text-align: right;\">\n",
       "      <th></th>\n",
       "      <th>MAE</th>\n",
       "      <th>MAPE</th>\n",
       "      <th>RMSE</th>\n",
       "    </tr>\n",
       "  </thead>\n",
       "  <tbody>\n",
       "    <tr>\n",
       "      <th>DummyRegressorMedian</th>\n",
       "      <td>2806.394</td>\n",
       "      <td>110.422</td>\n",
       "      <td>4258.833</td>\n",
       "    </tr>\n",
       "    <tr>\n",
       "      <th>DummyRegressorQuantile</th>\n",
       "      <td>3105.765</td>\n",
       "      <td>60.473</td>\n",
       "      <td>4964.068</td>\n",
       "    </tr>\n",
       "    <tr>\n",
       "      <th>LinearRegression</th>\n",
       "      <td>802.058</td>\n",
       "      <td>45.038</td>\n",
       "      <td>1143.712</td>\n",
       "    </tr>\n",
       "    <tr>\n",
       "      <th>RidgeRegression</th>\n",
       "      <td>803.104</td>\n",
       "      <td>45.201</td>\n",
       "      <td>1143.745</td>\n",
       "    </tr>\n",
       "    <tr>\n",
       "      <th>LassoRegression</th>\n",
       "      <td>803.087</td>\n",
       "      <td>45.197</td>\n",
       "      <td>1143.747</td>\n",
       "    </tr>\n",
       "    <tr>\n",
       "      <th>ElasticNetRegression</th>\n",
       "      <td>803.089</td>\n",
       "      <td>45.198</td>\n",
       "      <td>1143.747</td>\n",
       "    </tr>\n",
       "    <tr>\n",
       "      <th>KNN</th>\n",
       "      <td>482.132</td>\n",
       "      <td>16.075</td>\n",
       "      <td>956.333</td>\n",
       "    </tr>\n",
       "    <tr>\n",
       "      <th>RadiusNN</th>\n",
       "      <td>1735.694</td>\n",
       "      <td>85.742</td>\n",
       "      <td>2806.814</td>\n",
       "    </tr>\n",
       "    <tr>\n",
       "      <th>SVMLinear</th>\n",
       "      <td>740.706</td>\n",
       "      <td>32.642</td>\n",
       "      <td>1269.544</td>\n",
       "    </tr>\n",
       "    <tr>\n",
       "      <th>SVMPolynomial</th>\n",
       "      <td>321.621</td>\n",
       "      <td>9.542</td>\n",
       "      <td>597.217</td>\n",
       "    </tr>\n",
       "    <tr>\n",
       "      <th>SVMRadialBasis</th>\n",
       "      <td>314.482</td>\n",
       "      <td>9.035</td>\n",
       "      <td>584.013</td>\n",
       "    </tr>\n",
       "    <tr>\n",
       "      <th>DecisionTree</th>\n",
       "      <td>384.173</td>\n",
       "      <td>10.554</td>\n",
       "      <td>723.135</td>\n",
       "    </tr>\n",
       "  </tbody>\n",
       "</table>\n",
       "</div>"
      ],
      "text/plain": [
       "                             MAE     MAPE      RMSE\n",
       "DummyRegressorMedian    2806.394  110.422  4258.833\n",
       "DummyRegressorQuantile  3105.765   60.473  4964.068\n",
       "LinearRegression         802.058   45.038  1143.712\n",
       "RidgeRegression          803.104   45.201  1143.745\n",
       "LassoRegression          803.087   45.197  1143.747\n",
       "ElasticNetRegression     803.089   45.198  1143.747\n",
       "KNN                      482.132   16.075   956.333\n",
       "RadiusNN                1735.694   85.742  2806.814\n",
       "SVMLinear                740.706   32.642  1269.544\n",
       "SVMPolynomial            321.621    9.542   597.217\n",
       "SVMRadialBasis           314.482    9.035   584.013\n",
       "DecisionTree             384.173   10.554   723.135"
      ]
     },
     "execution_count": 133,
     "metadata": {},
     "output_type": "execute_result"
    }
   ],
   "source": [
    "model_comparison = pd.concat([model_comparison, dtreg], 0)\n",
    "model_comparison"
   ]
  },
  {
   "cell_type": "markdown",
   "metadata": {},
   "source": [
    "We can actually visualize our decision tree"
   ]
  },
  {
   "cell_type": "code",
   "execution_count": 142,
   "metadata": {},
   "outputs": [
    {
     "data": {
      "image/png": "[encoded data removed]",
      "text/plain": [
       "<Figure size 1440x864 with 1 Axes>"
      ]
     },
     "metadata": {
      "needs_background": "light"
     },
     "output_type": "display_data"
    }
   ],
   "source": [
    "plt.figure(figsize = (20, 12))\n",
    "plot_tree(GRID_DT.best_estimator_, feature_names = X_train_scaled.columns, \n",
    "          filled = True, fontsize = 10, max_depth = 3)\n",
    "plt.show()"
   ]
  },
  {
   "cell_type": "markdown",
   "metadata": {},
   "source": [
    "### 7. Simple Trees Ensembles"
   ]
  },
  {
   "cell_type": "markdown",
   "metadata": {},
   "source": [
    "#### 1. Random Forest"
   ]
  },
  {
   "cell_type": "code",
   "execution_count": 93,
   "metadata": {},
   "outputs": [
    {
     "data": {
      "text/plain": [
       "GridSearchCV(cv=3, estimator=RandomForestRegressor(random_state=20202020),\n",
       "             n_jobs=-1,\n",
       "             param_grid={'max_depth': [19], 'max_features': [0.8],\n",
       "                         'min_samples_leaf': [1], 'min_samples_split': [11],\n",
       "                         'n_estimators': [100, 150, 200, 250]},\n",
       "             scoring='neg_root_mean_squared_error')"
      ]
     },
     "execution_count": 93,
     "metadata": {},
     "output_type": "execute_result"
    }
   ],
   "source": [
    "RF_params = {'max_depth' : [19],\n",
    "             'min_samples_split' : [11],\n",
    "             'min_samples_leaf' : [1],\n",
    "             'max_features' : [0.8],\n",
    "             'n_estimators' : [100, 150, 200, 250]}\n",
    "\n",
    "RF = RandomForestRegressor(random_state = 20202020)\n",
    "\n",
    "GRID_RF = GridSearchCV(RF, param_grid = RF_params, cv = 3, scoring = 'neg_root_mean_squared_error', n_jobs = -1)\n",
    "\n",
    "GRID_RF.fit(X_train, y_train)"
   ]
  },
  {
   "cell_type": "code",
   "execution_count": 94,
   "metadata": {},
   "outputs": [
    {
     "data": {
      "text/plain": [
       "{'max_depth': 19,\n",
       " 'max_features': 0.8,\n",
       " 'min_samples_leaf': 1,\n",
       " 'min_samples_split': 11,\n",
       " 'n_estimators': 250}"
      ]
     },
     "execution_count": 94,
     "metadata": {},
     "output_type": "execute_result"
    }
   ],
   "source": [
    "GRID_RF.best_params_"
   ]
  },
  {
   "cell_type": "code",
   "execution_count": 95,
   "metadata": {},
   "outputs": [
    {
     "name": "stdout",
     "output_type": "stream",
     "text": [
      "MAE for RandomForest : 277.616\n",
      "MAPE for RandomForest : 7.809\n",
      "RMSE for RandomForest : 534.131\n"
     ]
    }
   ],
   "source": [
    "rfreg = evaluate_model('RandomForest', GRID_RF.best_estimator_, X_test, y_test)"
   ]
  },
  {
   "cell_type": "code",
   "execution_count": 97,
   "metadata": {},
   "outputs": [
    {
     "data": {
      "text/html": [
       "<div>\n",
       "<style scoped>\n",
       "    .dataframe tbody tr th:only-of-type {\n",
       "        vertical-align: middle;\n",
       "    }\n",
       "\n",
       "    .dataframe tbody tr th {\n",
       "        vertical-align: top;\n",
       "    }\n",
       "\n",
       "    .dataframe thead th {\n",
       "        text-align: right;\n",
       "    }\n",
       "</style>\n",
       "<table border=\"1\" class=\"dataframe\">\n",
       "  <thead>\n",
       "    <tr style=\"text-align: right;\">\n",
       "      <th></th>\n",
       "      <th>MAE</th>\n",
       "      <th>MAPE</th>\n",
       "      <th>RMSE</th>\n",
       "    </tr>\n",
       "  </thead>\n",
       "  <tbody>\n",
       "    <tr>\n",
       "      <th>DummyRegressorMedian</th>\n",
       "      <td>2806.394</td>\n",
       "      <td>110.422</td>\n",
       "      <td>4258.833</td>\n",
       "    </tr>\n",
       "    <tr>\n",
       "      <th>DummyRegressorQuantile</th>\n",
       "      <td>3105.765</td>\n",
       "      <td>60.473</td>\n",
       "      <td>4964.068</td>\n",
       "    </tr>\n",
       "    <tr>\n",
       "      <th>LinearRegression</th>\n",
       "      <td>802.058</td>\n",
       "      <td>45.038</td>\n",
       "      <td>1143.712</td>\n",
       "    </tr>\n",
       "    <tr>\n",
       "      <th>RidgeRegression</th>\n",
       "      <td>803.104</td>\n",
       "      <td>45.201</td>\n",
       "      <td>1143.745</td>\n",
       "    </tr>\n",
       "    <tr>\n",
       "      <th>LassoRegression</th>\n",
       "      <td>803.087</td>\n",
       "      <td>45.197</td>\n",
       "      <td>1143.747</td>\n",
       "    </tr>\n",
       "    <tr>\n",
       "      <th>ElasticNetRegression</th>\n",
       "      <td>803.089</td>\n",
       "      <td>45.198</td>\n",
       "      <td>1143.747</td>\n",
       "    </tr>\n",
       "    <tr>\n",
       "      <th>KNN</th>\n",
       "      <td>482.132</td>\n",
       "      <td>16.075</td>\n",
       "      <td>956.333</td>\n",
       "    </tr>\n",
       "    <tr>\n",
       "      <th>RadiusNN</th>\n",
       "      <td>1735.694</td>\n",
       "      <td>85.742</td>\n",
       "      <td>2806.814</td>\n",
       "    </tr>\n",
       "    <tr>\n",
       "      <th>SVMLinear</th>\n",
       "      <td>740.706</td>\n",
       "      <td>32.642</td>\n",
       "      <td>1269.544</td>\n",
       "    </tr>\n",
       "    <tr>\n",
       "      <th>SVMPolynomial</th>\n",
       "      <td>321.621</td>\n",
       "      <td>9.542</td>\n",
       "      <td>597.217</td>\n",
       "    </tr>\n",
       "    <tr>\n",
       "      <th>SVMRadialBasis</th>\n",
       "      <td>314.482</td>\n",
       "      <td>9.035</td>\n",
       "      <td>584.013</td>\n",
       "    </tr>\n",
       "    <tr>\n",
       "      <th>DecisionTree</th>\n",
       "      <td>384.173</td>\n",
       "      <td>10.554</td>\n",
       "      <td>723.135</td>\n",
       "    </tr>\n",
       "    <tr>\n",
       "      <th>RandomForest</th>\n",
       "      <td>277.616</td>\n",
       "      <td>7.809</td>\n",
       "      <td>534.131</td>\n",
       "    </tr>\n",
       "  </tbody>\n",
       "</table>\n",
       "</div>"
      ],
      "text/plain": [
       "                             MAE     MAPE      RMSE\n",
       "DummyRegressorMedian    2806.394  110.422  4258.833\n",
       "DummyRegressorQuantile  3105.765   60.473  4964.068\n",
       "LinearRegression         802.058   45.038  1143.712\n",
       "RidgeRegression          803.104   45.201  1143.745\n",
       "LassoRegression          803.087   45.197  1143.747\n",
       "ElasticNetRegression     803.089   45.198  1143.747\n",
       "KNN                      482.132   16.075   956.333\n",
       "RadiusNN                1735.694   85.742  2806.814\n",
       "SVMLinear                740.706   32.642  1269.544\n",
       "SVMPolynomial            321.621    9.542   597.217\n",
       "SVMRadialBasis           314.482    9.035   584.013\n",
       "DecisionTree             384.173   10.554   723.135\n",
       "RandomForest             277.616    7.809   534.131"
      ]
     },
     "execution_count": 97,
     "metadata": {},
     "output_type": "execute_result"
    }
   ],
   "source": [
    "# 19, 0.8, 1, 11 --> RMSE 534\n",
    "\n",
    "model_comparison = pd.concat([model_comparison, rfreg], 0)\n",
    "model_comparison"
   ]
  },
  {
   "cell_type": "code",
   "execution_count": null,
   "metadata": {},
   "outputs": [],
   "source": []
  },
  {
   "cell_type": "markdown",
   "metadata": {},
   "source": [
    "#### 2. AdaBoost"
   ]
  },
  {
   "cell_type": "code",
   "execution_count": 98,
   "metadata": {},
   "outputs": [
    {
     "data": {
      "text/plain": [
       "GridSearchCV(cv=3, estimator=AdaBoostRegressor(random_state=20202020),\n",
       "             n_jobs=-1,\n",
       "             param_grid={'learning_rate': [1.5], 'loss': ['square'],\n",
       "                         'n_estimators': [50, 75, 100]},\n",
       "             scoring='neg_root_mean_squared_error')"
      ]
     },
     "execution_count": 98,
     "metadata": {},
     "output_type": "execute_result"
    }
   ],
   "source": [
    "Ada_params = {'learning_rate' : [1.5],\n",
    "              'loss' : ['square'], #'linear'\n",
    "              'n_estimators' : [50, 75, 100]}\n",
    "\n",
    "Ada = AdaBoostRegressor(random_state = 20202020)\n",
    "\n",
    "GRID_Ada = GridSearchCV(Ada, param_grid = Ada_params, cv = 3, scoring = 'neg_root_mean_squared_error', n_jobs = -1)\n",
    "\n",
    "GRID_Ada.fit(X_train, y_train)"
   ]
  },
  {
   "cell_type": "code",
   "execution_count": 99,
   "metadata": {},
   "outputs": [
    {
     "data": {
      "text/plain": [
       "{'learning_rate': 1.5, 'loss': 'square', 'n_estimators': 100}"
      ]
     },
     "execution_count": 99,
     "metadata": {},
     "output_type": "execute_result"
    }
   ],
   "source": [
    "GRID_Ada.best_params_"
   ]
  },
  {
   "cell_type": "code",
   "execution_count": 100,
   "metadata": {},
   "outputs": [
    {
     "name": "stdout",
     "output_type": "stream",
     "text": [
      "MAE for AdaBoost : 1044.361\n",
      "MAPE for AdaBoost : 45.476\n",
      "RMSE for AdaBoost : 1355.758\n"
     ]
    }
   ],
   "source": [
    "adaboost = evaluate_model('AdaBoost', GRID_Ada.best_estimator_, X_test, y_test)"
   ]
  },
  {
   "cell_type": "code",
   "execution_count": 101,
   "metadata": {},
   "outputs": [
    {
     "data": {
      "text/html": [
       "<div>\n",
       "<style scoped>\n",
       "    .dataframe tbody tr th:only-of-type {\n",
       "        vertical-align: middle;\n",
       "    }\n",
       "\n",
       "    .dataframe tbody tr th {\n",
       "        vertical-align: top;\n",
       "    }\n",
       "\n",
       "    .dataframe thead th {\n",
       "        text-align: right;\n",
       "    }\n",
       "</style>\n",
       "<table border=\"1\" class=\"dataframe\">\n",
       "  <thead>\n",
       "    <tr style=\"text-align: right;\">\n",
       "      <th></th>\n",
       "      <th>MAE</th>\n",
       "      <th>MAPE</th>\n",
       "      <th>RMSE</th>\n",
       "    </tr>\n",
       "  </thead>\n",
       "  <tbody>\n",
       "    <tr>\n",
       "      <th>DummyRegressorMedian</th>\n",
       "      <td>2806.394</td>\n",
       "      <td>110.422</td>\n",
       "      <td>4258.833</td>\n",
       "    </tr>\n",
       "    <tr>\n",
       "      <th>DummyRegressorQuantile</th>\n",
       "      <td>3105.765</td>\n",
       "      <td>60.473</td>\n",
       "      <td>4964.068</td>\n",
       "    </tr>\n",
       "    <tr>\n",
       "      <th>LinearRegression</th>\n",
       "      <td>802.058</td>\n",
       "      <td>45.038</td>\n",
       "      <td>1143.712</td>\n",
       "    </tr>\n",
       "    <tr>\n",
       "      <th>RidgeRegression</th>\n",
       "      <td>803.104</td>\n",
       "      <td>45.201</td>\n",
       "      <td>1143.745</td>\n",
       "    </tr>\n",
       "    <tr>\n",
       "      <th>LassoRegression</th>\n",
       "      <td>803.087</td>\n",
       "      <td>45.197</td>\n",
       "      <td>1143.747</td>\n",
       "    </tr>\n",
       "    <tr>\n",
       "      <th>ElasticNetRegression</th>\n",
       "      <td>803.089</td>\n",
       "      <td>45.198</td>\n",
       "      <td>1143.747</td>\n",
       "    </tr>\n",
       "    <tr>\n",
       "      <th>KNN</th>\n",
       "      <td>482.132</td>\n",
       "      <td>16.075</td>\n",
       "      <td>956.333</td>\n",
       "    </tr>\n",
       "    <tr>\n",
       "      <th>RadiusNN</th>\n",
       "      <td>1735.694</td>\n",
       "      <td>85.742</td>\n",
       "      <td>2806.814</td>\n",
       "    </tr>\n",
       "    <tr>\n",
       "      <th>SVMLinear</th>\n",
       "      <td>740.706</td>\n",
       "      <td>32.642</td>\n",
       "      <td>1269.544</td>\n",
       "    </tr>\n",
       "    <tr>\n",
       "      <th>SVMPolynomial</th>\n",
       "      <td>321.621</td>\n",
       "      <td>9.542</td>\n",
       "      <td>597.217</td>\n",
       "    </tr>\n",
       "    <tr>\n",
       "      <th>SVMRadialBasis</th>\n",
       "      <td>314.482</td>\n",
       "      <td>9.035</td>\n",
       "      <td>584.013</td>\n",
       "    </tr>\n",
       "    <tr>\n",
       "      <th>DecisionTree</th>\n",
       "      <td>384.173</td>\n",
       "      <td>10.554</td>\n",
       "      <td>723.135</td>\n",
       "    </tr>\n",
       "    <tr>\n",
       "      <th>RandomForest</th>\n",
       "      <td>277.616</td>\n",
       "      <td>7.809</td>\n",
       "      <td>534.131</td>\n",
       "    </tr>\n",
       "    <tr>\n",
       "      <th>AdaBoost</th>\n",
       "      <td>1044.361</td>\n",
       "      <td>45.476</td>\n",
       "      <td>1355.758</td>\n",
       "    </tr>\n",
       "  </tbody>\n",
       "</table>\n",
       "</div>"
      ],
      "text/plain": [
       "                             MAE     MAPE      RMSE\n",
       "DummyRegressorMedian    2806.394  110.422  4258.833\n",
       "DummyRegressorQuantile  3105.765   60.473  4964.068\n",
       "LinearRegression         802.058   45.038  1143.712\n",
       "RidgeRegression          803.104   45.201  1143.745\n",
       "LassoRegression          803.087   45.197  1143.747\n",
       "ElasticNetRegression     803.089   45.198  1143.747\n",
       "KNN                      482.132   16.075   956.333\n",
       "RadiusNN                1735.694   85.742  2806.814\n",
       "SVMLinear                740.706   32.642  1269.544\n",
       "SVMPolynomial            321.621    9.542   597.217\n",
       "SVMRadialBasis           314.482    9.035   584.013\n",
       "DecisionTree             384.173   10.554   723.135\n",
       "RandomForest             277.616    7.809   534.131\n",
       "AdaBoost                1044.361   45.476  1355.758"
      ]
     },
     "execution_count": 101,
     "metadata": {},
     "output_type": "execute_result"
    }
   ],
   "source": [
    "model_comparison = pd.concat([model_comparison, adaboost], 0)\n",
    "model_comparison"
   ]
  },
  {
   "cell_type": "code",
   "execution_count": null,
   "metadata": {},
   "outputs": [],
   "source": []
  },
  {
   "cell_type": "markdown",
   "metadata": {},
   "source": [
    "#### 3. Gradient Boosting Machine"
   ]
  },
  {
   "cell_type": "code",
   "execution_count": 83,
   "metadata": {},
   "outputs": [
    {
     "data": {
      "text/plain": [
       "GridSearchCV(cv=3, estimator=GradientBoostingRegressor(random_state=20202020),\n",
       "             n_jobs=-1,\n",
       "             param_grid={'learning_rate': [0.05], 'max_depth': [11],\n",
       "                         'max_features': [0.6666666666666666],\n",
       "                         'min_samples_leaf': [7], 'min_samples_split': [25],\n",
       "                         'n_estimators': [100, 150, 200, 250],\n",
       "                         'subsample': [0.8]},\n",
       "             scoring='neg_root_mean_squared_error')"
      ]
     },
     "execution_count": 83,
     "metadata": {},
     "output_type": "execute_result"
    }
   ],
   "source": [
    "GBM_params = {'learning_rate' : [0.05],\n",
    "              'subsample' : [0.8],\n",
    "              'max_features' : [2/3],\n",
    "              'max_depth' : [11],\n",
    "              'min_samples_split' : [25],\n",
    "              'min_samples_leaf' : [7],\n",
    "              'n_estimators' : [100, 150, 200, 250]}\n",
    "\n",
    "GBM = GradientBoostingRegressor(random_state = 20202020)\n",
    "\n",
    "GRID_GBM = GridSearchCV(GBM, param_grid = GBM_params, cv = 3, scoring = 'neg_root_mean_squared_error', n_jobs = -1)\n",
    "\n",
    "GRID_GBM.fit(X_train, y_train)"
   ]
  },
  {
   "cell_type": "code",
   "execution_count": 84,
   "metadata": {},
   "outputs": [
    {
     "data": {
      "text/plain": [
       "{'learning_rate': 0.05,\n",
       " 'max_depth': 11,\n",
       " 'max_features': 0.6666666666666666,\n",
       " 'min_samples_leaf': 7,\n",
       " 'min_samples_split': 25,\n",
       " 'n_estimators': 150,\n",
       " 'subsample': 0.8}"
      ]
     },
     "execution_count": 84,
     "metadata": {},
     "output_type": "execute_result"
    }
   ],
   "source": [
    "GRID_GBM.best_params_"
   ]
  },
  {
   "cell_type": "code",
   "execution_count": 85,
   "metadata": {},
   "outputs": [
    {
     "name": "stdout",
     "output_type": "stream",
     "text": [
      "MAE for GradientBoosting : 270.413\n",
      "MAPE for GradientBoosting : 7.443\n",
      "RMSE for GradientBoosting : 521.643\n"
     ]
    }
   ],
   "source": [
    "gradboost = evaluate_model('GradientBoosting', GRID_GBM.best_estimator_, X_test, y_test)"
   ]
  },
  {
   "cell_type": "code",
   "execution_count": 102,
   "metadata": {},
   "outputs": [
    {
     "data": {
      "text/html": [
       "<div>\n",
       "<style scoped>\n",
       "    .dataframe tbody tr th:only-of-type {\n",
       "        vertical-align: middle;\n",
       "    }\n",
       "\n",
       "    .dataframe tbody tr th {\n",
       "        vertical-align: top;\n",
       "    }\n",
       "\n",
       "    .dataframe thead th {\n",
       "        text-align: right;\n",
       "    }\n",
       "</style>\n",
       "<table border=\"1\" class=\"dataframe\">\n",
       "  <thead>\n",
       "    <tr style=\"text-align: right;\">\n",
       "      <th></th>\n",
       "      <th>MAE</th>\n",
       "      <th>MAPE</th>\n",
       "      <th>RMSE</th>\n",
       "    </tr>\n",
       "  </thead>\n",
       "  <tbody>\n",
       "    <tr>\n",
       "      <th>DummyRegressorMedian</th>\n",
       "      <td>2806.394</td>\n",
       "      <td>110.422</td>\n",
       "      <td>4258.833</td>\n",
       "    </tr>\n",
       "    <tr>\n",
       "      <th>DummyRegressorQuantile</th>\n",
       "      <td>3105.765</td>\n",
       "      <td>60.473</td>\n",
       "      <td>4964.068</td>\n",
       "    </tr>\n",
       "    <tr>\n",
       "      <th>LinearRegression</th>\n",
       "      <td>802.058</td>\n",
       "      <td>45.038</td>\n",
       "      <td>1143.712</td>\n",
       "    </tr>\n",
       "    <tr>\n",
       "      <th>RidgeRegression</th>\n",
       "      <td>803.104</td>\n",
       "      <td>45.201</td>\n",
       "      <td>1143.745</td>\n",
       "    </tr>\n",
       "    <tr>\n",
       "      <th>LassoRegression</th>\n",
       "      <td>803.087</td>\n",
       "      <td>45.197</td>\n",
       "      <td>1143.747</td>\n",
       "    </tr>\n",
       "    <tr>\n",
       "      <th>ElasticNetRegression</th>\n",
       "      <td>803.089</td>\n",
       "      <td>45.198</td>\n",
       "      <td>1143.747</td>\n",
       "    </tr>\n",
       "    <tr>\n",
       "      <th>KNN</th>\n",
       "      <td>482.132</td>\n",
       "      <td>16.075</td>\n",
       "      <td>956.333</td>\n",
       "    </tr>\n",
       "    <tr>\n",
       "      <th>RadiusNN</th>\n",
       "      <td>1735.694</td>\n",
       "      <td>85.742</td>\n",
       "      <td>2806.814</td>\n",
       "    </tr>\n",
       "    <tr>\n",
       "      <th>SVMLinear</th>\n",
       "      <td>740.706</td>\n",
       "      <td>32.642</td>\n",
       "      <td>1269.544</td>\n",
       "    </tr>\n",
       "    <tr>\n",
       "      <th>SVMPolynomial</th>\n",
       "      <td>321.621</td>\n",
       "      <td>9.542</td>\n",
       "      <td>597.217</td>\n",
       "    </tr>\n",
       "    <tr>\n",
       "      <th>SVMRadialBasis</th>\n",
       "      <td>314.482</td>\n",
       "      <td>9.035</td>\n",
       "      <td>584.013</td>\n",
       "    </tr>\n",
       "    <tr>\n",
       "      <th>DecisionTree</th>\n",
       "      <td>384.173</td>\n",
       "      <td>10.554</td>\n",
       "      <td>723.135</td>\n",
       "    </tr>\n",
       "    <tr>\n",
       "      <th>RandomForest</th>\n",
       "      <td>277.616</td>\n",
       "      <td>7.809</td>\n",
       "      <td>534.131</td>\n",
       "    </tr>\n",
       "    <tr>\n",
       "      <th>AdaBoost</th>\n",
       "      <td>1044.361</td>\n",
       "      <td>45.476</td>\n",
       "      <td>1355.758</td>\n",
       "    </tr>\n",
       "    <tr>\n",
       "      <th>GradientBoosting</th>\n",
       "      <td>270.413</td>\n",
       "      <td>7.443</td>\n",
       "      <td>521.643</td>\n",
       "    </tr>\n",
       "  </tbody>\n",
       "</table>\n",
       "</div>"
      ],
      "text/plain": [
       "                             MAE     MAPE      RMSE\n",
       "DummyRegressorMedian    2806.394  110.422  4258.833\n",
       "DummyRegressorQuantile  3105.765   60.473  4964.068\n",
       "LinearRegression         802.058   45.038  1143.712\n",
       "RidgeRegression          803.104   45.201  1143.745\n",
       "LassoRegression          803.087   45.197  1143.747\n",
       "ElasticNetRegression     803.089   45.198  1143.747\n",
       "KNN                      482.132   16.075   956.333\n",
       "RadiusNN                1735.694   85.742  2806.814\n",
       "SVMLinear                740.706   32.642  1269.544\n",
       "SVMPolynomial            321.621    9.542   597.217\n",
       "SVMRadialBasis           314.482    9.035   584.013\n",
       "DecisionTree             384.173   10.554   723.135\n",
       "RandomForest             277.616    7.809   534.131\n",
       "AdaBoost                1044.361   45.476  1355.758\n",
       "GradientBoosting         270.413    7.443   521.643"
      ]
     },
     "execution_count": 102,
     "metadata": {},
     "output_type": "execute_result"
    }
   ],
   "source": [
    "model_comparison = pd.concat([model_comparison, gradboost], 0)\n",
    "model_comparison"
   ]
  },
  {
   "cell_type": "code",
   "execution_count": 70,
   "metadata": {},
   "outputs": [],
   "source": [
    "pkl_filename = \"SimpleGBM.pkl\"\n",
    "\n",
    "with open(pkl_filename, 'wb') as file:\n",
    "    pickle.dump(GRID_GBM.best_estimator_, file)"
   ]
  },
  {
   "cell_type": "markdown",
   "metadata": {},
   "source": [
    "### 8. eXtreme Gradient Boosting Machine"
   ]
  },
  {
   "cell_type": "code",
   "execution_count": 79,
   "metadata": {},
   "outputs": [
    {
     "name": "stdout",
     "output_type": "stream",
     "text": [
      "70.79944610595703\n"
     ]
    }
   ],
   "source": [
    "start = time.time()\n",
    "\n",
    "XGB_params = {'eta' : [0.075],\n",
    "              'gamma' : [0.9],\n",
    "              'subsample' : [3/4],\n",
    "              'colsample_bytree' : [3/4],\n",
    "              'colsample_bynode' : [1],\n",
    "              'max_depth' : [8],\n",
    "              'min_child_weight' : [3],\n",
    "              'n_estimators' : [150]}\n",
    "\n",
    "XGB = xgb.XGBRegressor(random_state = 20202020, verbosity = 0,\n",
    "                       objective = 'reg:squarederror', eval_metric = 'rmse')\n",
    "\n",
    "GRID_XGB = GridSearchCV(XGB, param_grid = XGB_params, cv = 3, scoring = 'neg_root_mean_squared_error')\n",
    "\n",
    "GRID_XGB.fit(X_train, y_train)\n",
    "\n",
    "print(time.time() - start)"
   ]
  },
  {
   "cell_type": "code",
   "execution_count": 80,
   "metadata": {},
   "outputs": [
    {
     "data": {
      "text/plain": [
       "{'colsample_bynode': 1,\n",
       " 'colsample_bytree': 0.75,\n",
       " 'eta': 0.075,\n",
       " 'gamma': 0.9,\n",
       " 'max_depth': 8,\n",
       " 'min_child_weight': 3,\n",
       " 'n_estimators': 150,\n",
       " 'subsample': 0.75}"
      ]
     },
     "execution_count": 80,
     "metadata": {},
     "output_type": "execute_result"
    }
   ],
   "source": [
    "GRID_XGB.best_params_"
   ]
  },
  {
   "cell_type": "code",
   "execution_count": 81,
   "metadata": {},
   "outputs": [
    {
     "name": "stdout",
     "output_type": "stream",
     "text": [
      "MAE for xgBoost : 281.573\n",
      "MAPE for xgBoost : 8.268\n",
      "RMSE for xgBoost : 532.469\n"
     ]
    }
   ],
   "source": [
    "xgboost = evaluate_model('xgBoost', GRID_XGB.best_estimator_, X_test, y_test)"
   ]
  },
  {
   "cell_type": "code",
   "execution_count": 103,
   "metadata": {},
   "outputs": [
    {
     "data": {
      "text/html": [
       "<div>\n",
       "<style scoped>\n",
       "    .dataframe tbody tr th:only-of-type {\n",
       "        vertical-align: middle;\n",
       "    }\n",
       "\n",
       "    .dataframe tbody tr th {\n",
       "        vertical-align: top;\n",
       "    }\n",
       "\n",
       "    .dataframe thead th {\n",
       "        text-align: right;\n",
       "    }\n",
       "</style>\n",
       "<table border=\"1\" class=\"dataframe\">\n",
       "  <thead>\n",
       "    <tr style=\"text-align: right;\">\n",
       "      <th></th>\n",
       "      <th>MAE</th>\n",
       "      <th>MAPE</th>\n",
       "      <th>RMSE</th>\n",
       "    </tr>\n",
       "  </thead>\n",
       "  <tbody>\n",
       "    <tr>\n",
       "      <th>DummyRegressorMedian</th>\n",
       "      <td>2806.394</td>\n",
       "      <td>110.422</td>\n",
       "      <td>4258.833</td>\n",
       "    </tr>\n",
       "    <tr>\n",
       "      <th>DummyRegressorQuantile</th>\n",
       "      <td>3105.765</td>\n",
       "      <td>60.473</td>\n",
       "      <td>4964.068</td>\n",
       "    </tr>\n",
       "    <tr>\n",
       "      <th>LinearRegression</th>\n",
       "      <td>802.058</td>\n",
       "      <td>45.038</td>\n",
       "      <td>1143.712</td>\n",
       "    </tr>\n",
       "    <tr>\n",
       "      <th>RidgeRegression</th>\n",
       "      <td>803.104</td>\n",
       "      <td>45.201</td>\n",
       "      <td>1143.745</td>\n",
       "    </tr>\n",
       "    <tr>\n",
       "      <th>LassoRegression</th>\n",
       "      <td>803.087</td>\n",
       "      <td>45.197</td>\n",
       "      <td>1143.747</td>\n",
       "    </tr>\n",
       "    <tr>\n",
       "      <th>ElasticNetRegression</th>\n",
       "      <td>803.089</td>\n",
       "      <td>45.198</td>\n",
       "      <td>1143.747</td>\n",
       "    </tr>\n",
       "    <tr>\n",
       "      <th>KNN</th>\n",
       "      <td>482.132</td>\n",
       "      <td>16.075</td>\n",
       "      <td>956.333</td>\n",
       "    </tr>\n",
       "    <tr>\n",
       "      <th>RadiusNN</th>\n",
       "      <td>1735.694</td>\n",
       "      <td>85.742</td>\n",
       "      <td>2806.814</td>\n",
       "    </tr>\n",
       "    <tr>\n",
       "      <th>SVMLinear</th>\n",
       "      <td>740.706</td>\n",
       "      <td>32.642</td>\n",
       "      <td>1269.544</td>\n",
       "    </tr>\n",
       "    <tr>\n",
       "      <th>SVMPolynomial</th>\n",
       "      <td>321.621</td>\n",
       "      <td>9.542</td>\n",
       "      <td>597.217</td>\n",
       "    </tr>\n",
       "    <tr>\n",
       "      <th>SVMRadialBasis</th>\n",
       "      <td>314.482</td>\n",
       "      <td>9.035</td>\n",
       "      <td>584.013</td>\n",
       "    </tr>\n",
       "    <tr>\n",
       "      <th>DecisionTree</th>\n",
       "      <td>384.173</td>\n",
       "      <td>10.554</td>\n",
       "      <td>723.135</td>\n",
       "    </tr>\n",
       "    <tr>\n",
       "      <th>RandomForest</th>\n",
       "      <td>277.616</td>\n",
       "      <td>7.809</td>\n",
       "      <td>534.131</td>\n",
       "    </tr>\n",
       "    <tr>\n",
       "      <th>AdaBoost</th>\n",
       "      <td>1044.361</td>\n",
       "      <td>45.476</td>\n",
       "      <td>1355.758</td>\n",
       "    </tr>\n",
       "    <tr>\n",
       "      <th>GradientBoosting</th>\n",
       "      <td>270.413</td>\n",
       "      <td>7.443</td>\n",
       "      <td>521.643</td>\n",
       "    </tr>\n",
       "    <tr>\n",
       "      <th>xgBoost</th>\n",
       "      <td>281.573</td>\n",
       "      <td>8.268</td>\n",
       "      <td>532.469</td>\n",
       "    </tr>\n",
       "  </tbody>\n",
       "</table>\n",
       "</div>"
      ],
      "text/plain": [
       "                             MAE     MAPE      RMSE\n",
       "DummyRegressorMedian    2806.394  110.422  4258.833\n",
       "DummyRegressorQuantile  3105.765   60.473  4964.068\n",
       "LinearRegression         802.058   45.038  1143.712\n",
       "RidgeRegression          803.104   45.201  1143.745\n",
       "LassoRegression          803.087   45.197  1143.747\n",
       "ElasticNetRegression     803.089   45.198  1143.747\n",
       "KNN                      482.132   16.075   956.333\n",
       "RadiusNN                1735.694   85.742  2806.814\n",
       "SVMLinear                740.706   32.642  1269.544\n",
       "SVMPolynomial            321.621    9.542   597.217\n",
       "SVMRadialBasis           314.482    9.035   584.013\n",
       "DecisionTree             384.173   10.554   723.135\n",
       "RandomForest             277.616    7.809   534.131\n",
       "AdaBoost                1044.361   45.476  1355.758\n",
       "GradientBoosting         270.413    7.443   521.643\n",
       "xgBoost                  281.573    8.268   532.469"
      ]
     },
     "execution_count": 103,
     "metadata": {},
     "output_type": "execute_result"
    }
   ],
   "source": [
    "model_comparison = pd.concat([model_comparison, xgboost], 0)\n",
    "model_comparison"
   ]
  },
  {
   "cell_type": "code",
   "execution_count": null,
   "metadata": {},
   "outputs": [],
   "source": []
  },
  {
   "cell_type": "markdown",
   "metadata": {},
   "source": [
    "### 9. Light Gradient Boosting Machine\n",
    "\n",
    "https://lightgbm.readthedocs.io/en/latest/pythonapi/lightgbm.LGBMRegressor.html#lightgbm.LGBMRegressor"
   ]
  },
  {
   "cell_type": "code",
   "execution_count": 140,
   "metadata": {},
   "outputs": [
    {
     "name": "stdout",
     "output_type": "stream",
     "text": [
      "Started at Sun Nov 29 20:04:51 2020\n",
      "Ended at Sun Nov 29 20:05:19 2020\n",
      "28.27601981163025\n"
     ]
    }
   ],
   "source": [
    "start = time.time()\n",
    "print(\"Started at\", str(time.ctime(int(start))))\n",
    "\n",
    "LGB_params = {'boosting_type' : ['goss'],\n",
    "              'learning_rate' : [0.075],\n",
    "              'num_leaves' : [40, 45],\n",
    "              'min_child_samples' : [5],\n",
    "              'max_depth' : [-1],\n",
    "              'subsample' : [0.4, 0.5],\n",
    "              'colsample_bytree' : [0.9],\n",
    "              'n_estimators' : [125, 135, 145, 155, 165, 175]}\n",
    "\n",
    "LGB = lgb.LGBMRegressor(random_state = 20202020,\n",
    "                        objective = 'regression', application = 'root_mean_squared_error', metric = 'rmse')\n",
    "\n",
    "GRID_LGB = GridSearchCV(LGB, param_grid = LGB_params, cv = 3, scoring = 'neg_root_mean_squared_error', n_jobs = -1)\n",
    "\n",
    "GRID_LGB.fit(X_train, y_train)\n",
    "\n",
    "print(\"Ended at\", str(time.ctime(int(time.time()))))\n",
    "print(time.time() - start)"
   ]
  },
  {
   "cell_type": "code",
   "execution_count": 141,
   "metadata": {},
   "outputs": [
    {
     "data": {
      "text/plain": [
       "{'boosting_type': 'goss',\n",
       " 'colsample_bytree': 0.9,\n",
       " 'learning_rate': 0.075,\n",
       " 'max_depth': -1,\n",
       " 'min_child_samples': 5,\n",
       " 'n_estimators': 165,\n",
       " 'num_leaves': 45,\n",
       " 'subsample': 0.4}"
      ]
     },
     "execution_count": 141,
     "metadata": {},
     "output_type": "execute_result"
    }
   ],
   "source": [
    "GRID_LGB.best_params_"
   ]
  },
  {
   "cell_type": "code",
   "execution_count": 142,
   "metadata": {},
   "outputs": [
    {
     "name": "stdout",
     "output_type": "stream",
     "text": [
      "MAE for LightGBM : 279.798\n",
      "MAPE for LightGBM : 8.182\n",
      "RMSE for LightGBM : 524.610\n"
     ]
    }
   ],
   "source": [
    "lightgbm = evaluate_model('LightGBM', GRID_LGB.best_estimator_, X_test, y_test)"
   ]
  },
  {
   "cell_type": "code",
   "execution_count": 143,
   "metadata": {},
   "outputs": [
    {
     "data": {
      "text/html": [
       "<div>\n",
       "<style scoped>\n",
       "    .dataframe tbody tr th:only-of-type {\n",
       "        vertical-align: middle;\n",
       "    }\n",
       "\n",
       "    .dataframe tbody tr th {\n",
       "        vertical-align: top;\n",
       "    }\n",
       "\n",
       "    .dataframe thead th {\n",
       "        text-align: right;\n",
       "    }\n",
       "</style>\n",
       "<table border=\"1\" class=\"dataframe\">\n",
       "  <thead>\n",
       "    <tr style=\"text-align: right;\">\n",
       "      <th></th>\n",
       "      <th>MAE</th>\n",
       "      <th>MAPE</th>\n",
       "      <th>RMSE</th>\n",
       "    </tr>\n",
       "  </thead>\n",
       "  <tbody>\n",
       "    <tr>\n",
       "      <th>DummyRegressorMedian</th>\n",
       "      <td>2806.394</td>\n",
       "      <td>110.422</td>\n",
       "      <td>4258.833</td>\n",
       "    </tr>\n",
       "    <tr>\n",
       "      <th>DummyRegressorQuantile</th>\n",
       "      <td>3105.765</td>\n",
       "      <td>60.473</td>\n",
       "      <td>4964.068</td>\n",
       "    </tr>\n",
       "    <tr>\n",
       "      <th>LinearRegression</th>\n",
       "      <td>802.058</td>\n",
       "      <td>45.038</td>\n",
       "      <td>1143.712</td>\n",
       "    </tr>\n",
       "    <tr>\n",
       "      <th>RidgeRegression</th>\n",
       "      <td>803.104</td>\n",
       "      <td>45.201</td>\n",
       "      <td>1143.745</td>\n",
       "    </tr>\n",
       "    <tr>\n",
       "      <th>LassoRegression</th>\n",
       "      <td>803.087</td>\n",
       "      <td>45.197</td>\n",
       "      <td>1143.747</td>\n",
       "    </tr>\n",
       "    <tr>\n",
       "      <th>ElasticNetRegression</th>\n",
       "      <td>803.089</td>\n",
       "      <td>45.198</td>\n",
       "      <td>1143.747</td>\n",
       "    </tr>\n",
       "    <tr>\n",
       "      <th>KNN</th>\n",
       "      <td>482.132</td>\n",
       "      <td>16.075</td>\n",
       "      <td>956.333</td>\n",
       "    </tr>\n",
       "    <tr>\n",
       "      <th>RadiusNN</th>\n",
       "      <td>1735.694</td>\n",
       "      <td>85.742</td>\n",
       "      <td>2806.814</td>\n",
       "    </tr>\n",
       "    <tr>\n",
       "      <th>SVMLinear</th>\n",
       "      <td>740.706</td>\n",
       "      <td>32.642</td>\n",
       "      <td>1269.544</td>\n",
       "    </tr>\n",
       "    <tr>\n",
       "      <th>SVMPolynomial</th>\n",
       "      <td>321.621</td>\n",
       "      <td>9.542</td>\n",
       "      <td>597.217</td>\n",
       "    </tr>\n",
       "    <tr>\n",
       "      <th>SVMRadialBasis</th>\n",
       "      <td>314.482</td>\n",
       "      <td>9.035</td>\n",
       "      <td>584.013</td>\n",
       "    </tr>\n",
       "    <tr>\n",
       "      <th>DecisionTree</th>\n",
       "      <td>384.173</td>\n",
       "      <td>10.554</td>\n",
       "      <td>723.135</td>\n",
       "    </tr>\n",
       "    <tr>\n",
       "      <th>RandomForest</th>\n",
       "      <td>277.616</td>\n",
       "      <td>7.809</td>\n",
       "      <td>534.131</td>\n",
       "    </tr>\n",
       "    <tr>\n",
       "      <th>AdaBoost</th>\n",
       "      <td>1044.361</td>\n",
       "      <td>45.476</td>\n",
       "      <td>1355.758</td>\n",
       "    </tr>\n",
       "    <tr>\n",
       "      <th>GradientBoosting</th>\n",
       "      <td>270.413</td>\n",
       "      <td>7.443</td>\n",
       "      <td>521.643</td>\n",
       "    </tr>\n",
       "    <tr>\n",
       "      <th>xgBoost</th>\n",
       "      <td>281.573</td>\n",
       "      <td>8.268</td>\n",
       "      <td>532.469</td>\n",
       "    </tr>\n",
       "    <tr>\n",
       "      <th>LightGBM</th>\n",
       "      <td>279.798</td>\n",
       "      <td>8.182</td>\n",
       "      <td>524.610</td>\n",
       "    </tr>\n",
       "  </tbody>\n",
       "</table>\n",
       "</div>"
      ],
      "text/plain": [
       "                             MAE     MAPE      RMSE\n",
       "DummyRegressorMedian    2806.394  110.422  4258.833\n",
       "DummyRegressorQuantile  3105.765   60.473  4964.068\n",
       "LinearRegression         802.058   45.038  1143.712\n",
       "RidgeRegression          803.104   45.201  1143.745\n",
       "LassoRegression          803.087   45.197  1143.747\n",
       "ElasticNetRegression     803.089   45.198  1143.747\n",
       "KNN                      482.132   16.075   956.333\n",
       "RadiusNN                1735.694   85.742  2806.814\n",
       "SVMLinear                740.706   32.642  1269.544\n",
       "SVMPolynomial            321.621    9.542   597.217\n",
       "SVMRadialBasis           314.482    9.035   584.013\n",
       "DecisionTree             384.173   10.554   723.135\n",
       "RandomForest             277.616    7.809   534.131\n",
       "AdaBoost                1044.361   45.476  1355.758\n",
       "GradientBoosting         270.413    7.443   521.643\n",
       "xgBoost                  281.573    8.268   532.469\n",
       "LightGBM                 279.798    8.182   524.610"
      ]
     },
     "execution_count": 143,
     "metadata": {},
     "output_type": "execute_result"
    }
   ],
   "source": [
    "model_comparison = pd.concat([model_comparison, lightgbm], 0)\n",
    "model_comparison"
   ]
  },
  {
   "cell_type": "code",
   "execution_count": null,
   "metadata": {},
   "outputs": [],
   "source": []
  },
  {
   "cell_type": "markdown",
   "metadata": {},
   "source": [
    "### 10. CatBoost - Categorical Boosting Machine\n",
    "\n",
    "https://catboost.ai/docs/concepts/python-reference_parameters-list.html"
   ]
  },
  {
   "cell_type": "code",
   "execution_count": null,
   "metadata": {},
   "outputs": [
    {
     "name": "stdout",
     "output_type": "stream",
     "text": [
      "Started at Mon Nov 30 01:40:44 2020\n"
     ]
    }
   ],
   "source": [
    "start = time.time()\n",
    "print(\"Started at\", str(time.ctime(int(start))))\n",
    "\n",
    "cat_params = {'learning_rate': [0.06, 0.07, 0.08],\n",
    "              'l2_leaf_reg': [0.125, 0.15, 0.175],\n",
    "              'subsample': [0.75],\n",
    "              'rsm' : [0.85],\n",
    "              'depth': [14, 15, 16],\n",
    "              'grow_policy': ['Lossguide'], #'SymmetricTree', 'Depthwise'\n",
    "              'min_data_in_leaf' : [1], \n",
    "              'max_leaves' : [35, 37, 39]}\n",
    "\n",
    "cat = CatBoostRegressor(random_state = 20202020, iterations = 100, verbose = 0,\n",
    "                        eval_metric = 'RMSE', custom_metric = 'RMSE', objective = 'RMSE',\n",
    "                        cat_features = ['cut', 'color', 'clarity'])\n",
    "\n",
    "GRID_cat = GridSearchCV(cat, param_grid = cat_params, cv = 3, scoring = 'neg_root_mean_squared_error', n_jobs = -1)\n",
    "\n",
    "GRID_cat.fit(X_train_original, y_train)\n",
    "\n",
    "print(\"Ended at\", str(time.ctime(int(time.time()))))\n",
    "print(time.time() - start)"
   ]
  },
  {
   "cell_type": "code",
   "execution_count": null,
   "metadata": {},
   "outputs": [],
   "source": [
    "GRID_cat.best_params_"
   ]
  },
  {
   "cell_type": "code",
   "execution_count": 153,
   "metadata": {},
   "outputs": [
    {
     "data": {
      "text/plain": [
       "{'depth': 15,\n",
       " 'grow_policy': 'Lossguide',\n",
       " 'l2_leaf_reg': 0.15,\n",
       " 'learning_rate': 0.075,\n",
       " 'max_leaves': 40,\n",
       " 'min_data_in_leaf': 1,\n",
       " 'rsm': 0.85,\n",
       " 'subsample': 0.75}"
      ]
     },
     "execution_count": 153,
     "metadata": {},
     "output_type": "execute_result"
    }
   ],
   "source": [
    "GRID_cat.best_params_"
   ]
  },
  {
   "cell_type": "code",
   "execution_count": 154,
   "metadata": {},
   "outputs": [
    {
     "name": "stdout",
     "output_type": "stream",
     "text": [
      "MAE for CatBoost : 290.318\n",
      "MAPE for CatBoost : 8.976\n",
      "RMSE for CatBoost : 540.839\n"
     ]
    }
   ],
   "source": [
    "catboost = evaluate_model('CatBoost', GRID_cat.best_estimator_, X_test_original, y_test)"
   ]
  },
  {
   "cell_type": "code",
   "execution_count": null,
   "metadata": {},
   "outputs": [],
   "source": [
    "model_comparison = pd.concat([model_comparison, catboost], 0)\n",
    "model_comparison"
   ]
  },
  {
   "cell_type": "code",
   "execution_count": null,
   "metadata": {},
   "outputs": [],
   "source": []
  },
  {
   "cell_type": "code",
   "execution_count": null,
   "metadata": {},
   "outputs": [],
   "source": []
  },
  {
   "cell_type": "code",
   "execution_count": null,
   "metadata": {},
   "outputs": [],
   "source": []
  },
  {
   "cell_type": "code",
   "execution_count": null,
   "metadata": {},
   "outputs": [],
   "source": []
  },
  {
   "cell_type": "code",
   "execution_count": 144,
   "metadata": {},
   "outputs": [],
   "source": [
    "#pd.read_csv('../data/model_comparison.csv', index_col=0)\n",
    "#model_comparison.to_csv('../data/model_comparison.csv')"
   ]
  }
 ],
 "metadata": {
  "kernelspec": {
   "display_name": "Python 3",
   "language": "python",
   "name": "python3"
  },
  "language_info": {
   "codemirror_mode": {
    "name": "ipython",
    "version": 3
   },
   "file_extension": ".py",
   "mimetype": "text/x-python",
   "name": "python",
   "nbconvert_exporter": "python",
   "pygments_lexer": "ipython3",
   "version": "3.8.3"
  }
 },
 "nbformat": 4,
 "nbformat_minor": 4
}
